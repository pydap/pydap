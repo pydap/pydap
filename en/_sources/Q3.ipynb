{
 "cells": [
  {
   "cell_type": "markdown",
   "id": "794b309e-f8be-4045-a2e2-bb1fb979bd97",
   "metadata": {},
   "source": [
    "## Is this a DAP2 or DAP4 URL?\n",
    "\n"
   ]
  },
  {
   "cell_type": "markdown",
   "id": "58e44640-5f97-4ef2-b2c1-4fbe42da0d44",
   "metadata": {},
   "source": [
    "Only two `OPeNDAP` servers broadly support `DAP4`: [Hyrax Data Server](https://www.opendap.org/software/hyrax-data-server/) (developed by [OPeNDAP Inc](https://www.opendap.org/), the original architects of `OPeNDAP`), and [Thredds Data Server](https://www.unidata.ucar.edu/software/tds/) (developed by [NSF Unidata](https://www.unidata.ucar.edu/)). `DAP4` was originally developed jointly by `OPeNDAP` and `Unidata` back in 2016 (see [the DAP4 specification](https://opendap.github.io/dap4-specification/DAP4.html)). Any `Hyrax` and `Thredds` servers that implements `DAP4` also implements the `DAP2`, and checking whether a URL is DAP4 or DAP2 is different with each of this servers.\n",
    "\n",
    "### <font size=\"5\"><span style='color:#0066cc'> **Hyrax Data Server**<font size=\"3\">\n",
    "With `Hyrax`, the easiest way to check if the url supports DAP4 or not, is to take the URL, append a `.dmr` (or `.dmr.html`), and past it onto a browser. For example, consider the following Hyrax opendap URL\n",
    "\n",
    "```python\n",
    "URL = http://test.opendap.org/opendap/data/nc/coads_climatology.nc\n",
    "```\n",
    "\n",
    "| **DAP2 Hyrax URL** | **DAP4 Hyrax URL** |\n",
    "| :- |  -: |  \n",
    "| http://test.opendap.org/opendap/data/nc/coads_climatology.nc.dds | http://test.opendap.org/opendap/data/nc/coads_climatology.nc.dmr\n",
    "| http://test.opendap.org/opendap/data/nc/coads_climatology.nc.html | http://test.opendap.org/opendap/data/nc/coads_climatology.nc.dmr.html\n",
    "| http://test.opendap.org/opendap/data/nc/coads_climatology.nc.das | http://test.opendap.org/opendap/data/nc/coads_climatology.nc.dmr.xml\n",
    "\n",
    "\n",
    "```{note}\n",
    "A Hyrax server that implements DAP4 should implement DAP2. In most Hyrax servers (version > 1.15) DAP4 is the default protocol implementation, and when a user requests a DAP2 response, the server first processes and then translates a DAP4 into a DAP2 response. This enables backwards compatibility with older clients that can only parse DAP2 responses, while supporting newer datasets. In the process of doing so, it is possible that the remote dataset cannot be translated into a DAP2 response in its entirety, and the Hyrax can return a 400 Error instead (<a href=\"Q4.html#a-word-of-caution\">see word of caution</a>)\n",
    "```\n",
    "\n",
    "```{warning}\n",
    "To see the latest official release of `Hyrax`, go to the [official OPeNDAP website](https://www.opendap.org/) and check `Latest Release` under `Software`.\n",
    "```\n",
    "\n",
    "\n",
    "\n",
    "### <font size=\"5\"><span style='color:#0066cc'> **Thredds Data Server**<font size=\"3\">\n",
    "\n",
    "With the `TDS`, a `DAP2` URL will have a `dodsC` on its URL. If you replace the `dodsC` with `dap4`, and past it onto a browser it should produce a produce a webpage that allows to download a DAP4 response. For example, consider the \n",
    "\n",
    "```python\n",
    "URL = https://thredds-test.unidata.ucar.edu/thredds/dodsC/testdods/coads_climatology.nc\n",
    "```\n",
    "\n",
    "\n",
    "| **DAP2 Thredds URL** | **DAP4 Thredds URL** |\n",
    "| :- |  -: | \n",
    "| https://thredds-test.unidata.ucar.edu/thredds/dodsC/testdods/coads_climatology.nc.html | https://thredds-test.unidata.ucar.edu/thredds/dap4/testdods/coads_climatology.nc.html\n",
    "| https://thredds-test.unidata.ucar.edu/thredds/dodsC/testdods/coads_climatology.nc.dds | https://thredds-test.unidata.ucar.edu/thredds/dap4/testdods/coads_climatology.nc.dmr.xml |\n",
    "\n",
    "```{warning}\n",
    "A `Thredds` server that implements DAP2 may not implement DAP4. It is strongly recommended to check if a server is configure to offer the DAP4 endpoint.\n",
    "```\n",
    "\n",
    "\n",
    "```{note}\n",
    "To see the latest official release of `Thredds`, go to the [official Thredds page](https://www.unidata.ucar.edu/software/tds/).\n",
    "```\n",
    "\n",
    "\n",
    "\n"
   ]
  },
  {
   "cell_type": "code",
   "execution_count": null,
   "id": "9fd90e0b-0470-4989-b2aa-5ad791b83d9f",
   "metadata": {},
   "outputs": [],
   "source": []
  }
 ],
 "metadata": {
  "kernelspec": {
   "display_name": "Python 3 (ipykernel)",
   "language": "python",
   "name": "python3"
  },
  "language_info": {
   "codemirror_mode": {
    "name": "ipython",
    "version": 3
   },
   "file_extension": ".py",
   "mimetype": "text/x-python",
   "name": "python",
   "nbconvert_exporter": "python",
   "pygments_lexer": "ipython3",
   "version": "3.11.11"
  }
 },
 "nbformat": 4,
 "nbformat_minor": 5
}
