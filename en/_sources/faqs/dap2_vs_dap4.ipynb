{
 "cells": [
  {
   "cell_type": "markdown",
   "id": "16625088-5667-46c3-b08d-9e0ed191e6a5",
   "metadata": {},
   "source": [
    "## Is there any benefit between requesting data via DAP4 over DAP2?"
   ]
  },
  {
   "cell_type": "markdown",
   "id": "553dbb59-f56d-40d5-b0c9-745ad7c0e280",
   "metadata": {},
   "source": [
    "There are various differences between the DAP2 and the DAP4 protocol.\n",
    "\n",
    "### <font size=\"5\"><span style='color:#0066cc'> **The DAP4 is broader in scope**<font size=\"3\">\n",
    "\n",
    "\n",
    "| ![DAPvsP4](/images/DAP4vsDAP2.png) |\n",
    "|:--:| \n",
    "| *Figure 1. Comparison between DAP2 and DAP4 data models and responses.* |\n",
    "\n",
    "\n",
    "The OPeNDAP team strongly recommends to begin using DAP4. Despite the `Grid` no longer being part of the DAP4 data model, a `coverage` consisting of `Maps`, `dimensions` and `Array` provide the same functionality in `DAP4` that Grid did in `DAP2`. That said, `a dataset described by the DAP2 protocol is described by the DAP4`. \n",
    "\n",
    "```{warning}\n",
    "A `DAP4` OPeNDAP data server aims to provide backwards compatibility with `DAP2`. However, because there exists dataset data types that do not appear in the `DAP2` data model from 1993, DAP-backwards compatibility is not guaranteed.\n",
    "```\n",
    "\n",
    "\n",
    "### <font size=\"5\"><span style='color:#0066cc'> **DAP4 offers improved HTTP transport**<font size=\"3\">\n",
    "\n",
    "The `DAP2` protocol was first envisioned in [Cornillon, et al, 1993](https://zenodo.org/records/10610992) and described in [Gallagher J. and Flierl G., 1996](https://zenodo.org/records/10654616), thus predating the `HTTP/1.1` protocol. This means that in `DAP2` the binary data (`.dods`) is not chunked. Moreover, `DAP2` has no implementation for `checksums`, a standarized transfer practice nowadays. `DAP4`, in contrast, `dap` responses are chunked, embracing HTTP/1.1. Moreover, both `Hyrax` and `Thredds` implement `checksums`, with `checksums` being always implemented by `Hyrax` and only when requested (in the URL) by `Thredds`.\n",
    "\n",
    "\n",
    "#### <font size=\"5\"><span style='color:#ff6666'> **A word of caution**<font size=\"3\">\n",
    "\n",
    "When a Dataset possess variables or attributes of a type described in `DAP4` but not in `DAP2` (e.g. `int64` value), the DAP4 implementing server will return an error (see this dataset, and append a `.dds` to the Data URL):\n",
    "\n",
    "```\n",
    "Error { \n",
    "    code = 400;\n",
    "    message = \"Your request was for a response that uses the DAP2 data model. This dataset contains variables whose data type ( Int64 ) is not compatible with that data model, causing this request to FAIL. To access this dataset ask for the DAP4 binary response encoding.\";\n",
    "}\n",
    "```\n",
    "\n",
    "You can reproduce this error when attempting to inspect the DAP2 metadata (`dds`) for this [ATLAS03](http://test.opendap.org/opendap/atlas03/ATL03_20181228015957_13810110_003_01.h5.dmr.html) dataset. This is, replace the `dmr.html` with `.dds` .\n",
    "\n",
    "However, if the only `DAP4` type that appears on the dataset is a `Group`, which is a container type rather than a data type, a `Hyrax` `DAP4` server can return a `DAP2` response. It accomplishes this by `flattening` the dataset. You can inspect this by looking at the (flattened) metadata of this [SimpleGroup](http://test.opendap.org/opendap/dap4/SimpleGroup.nc4.h5.dmr.html) test file.\n",
    "\n",
    "### <font size=\"5\"><span style='color:#0066cc'> **DAP4 is the default**<font size=\"3\">\n",
    "\n",
    "In the case of `Hyrax` and NASA OPenDAP servers, `DAP4` is the default exposed DAP protocol. A `DAP2` generated metadata / response sent to the user is then first translated from a `DAP4` response, which can result in slower responses. This is significant for NASA Earthdata users.\n",
    "\n",
    "### <font size=\"5\"><span style='color:#0066cc'> **Final Recommendation**<font size=\"3\">\n",
    "\n",
    "\n",
    "The OPeNDAP team considers `DAP4` a much more modern, faster, safer, and broader DAP protocol, and strongly recommends data producers and users to migrate to `DAP4` servers.\n"
   ]
  },
  {
   "cell_type": "code",
   "execution_count": null,
   "id": "0268fee2-c966-4a99-86c1-5614d18d0a04",
   "metadata": {},
   "outputs": [],
   "source": []
  }
 ],
 "metadata": {
  "kernelspec": {
   "display_name": "Python 3 (ipykernel)",
   "language": "python",
   "name": "python3"
  },
  "language_info": {
   "codemirror_mode": {
    "name": "ipython",
    "version": 3
   },
   "file_extension": ".py",
   "mimetype": "text/x-python",
   "name": "python",
   "nbconvert_exporter": "python",
   "pygments_lexer": "ipython3",
   "version": "3.11.11"
  }
 },
 "nbformat": 4,
 "nbformat_minor": 5
}
