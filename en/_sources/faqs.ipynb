{
 "cells": [
  {
   "cell_type": "markdown",
   "id": "541b578d-c5a1-4f95-ad9d-9126fc1aae82",
   "metadata": {},
   "source": [
    "# FAQs\n",
    "\n",
    "\n",
    "\n"
   ]
  },
  {
   "cell_type": "markdown",
   "id": "3fa6032a-7556-498e-9cfc-8ba1ab2243e4",
   "metadata": {},
   "source": [
    "Welcome to `pydap`'s FAQ. You can inspect the current on the navegator on the left. If you don't see a question that you have, feel free to open an issue on the Github [issue tracker](https://github.com/pydap/pydap/issues).\n"
   ]
  },
  {
   "cell_type": "code",
   "execution_count": null,
   "id": "08375867-c98e-4d44-acca-07adcfd2049c",
   "metadata": {},
   "outputs": [],
   "source": []
  }
 ],
 "metadata": {
  "kernelspec": {
   "display_name": "Python 3 (ipykernel)",
   "language": "python",
   "name": "python3"
  },
  "language_info": {
   "codemirror_mode": {
    "name": "ipython",
    "version": 3
   },
   "file_extension": ".py",
   "mimetype": "text/x-python",
   "name": "python",
   "nbconvert_exporter": "python",
   "pygments_lexer": "ipython3",
   "version": "3.11.11"
  }
 },
 "nbformat": 4,
 "nbformat_minor": 5
}
