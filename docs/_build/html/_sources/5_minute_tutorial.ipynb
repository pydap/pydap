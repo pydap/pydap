{
 "cells": [
  {
   "cell_type": "markdown",
   "id": "3cdc24e9-f0de-4820-871e-cea5bdbb9a73",
   "metadata": {},
   "source": [
    "# 5 minute tutorial\n",
    "\n",
    "The easiest way to use `pydap` is to use it to access remote data hosted on [OPeNDAP](https://www.opendap.org/) servers. You can use `pydap`'s `open_url` directly, or better use `pydap` as an engine for `xarray`. Both ways are equivalent, but xarray allows for [OPeNDAP](https://www.opendap.org/) users to exploit many of [Pangeo](https://pangeo.io/)'s modern capabilities for scalable computing.\n",
    "\n",
    "\n",
    "## OPeNDAP - the vision\n",
    "The original vision of [OPeNDAP](https://www.opendap.org/) ([Cornillion, et al 1993](https://zenodo.org/records/10610992)) was to make the equivalency:\n",
    "\n",
    "$ \\;\\;\\;\\;\\;\\;\\;\\;\\;\\;\\;\\;\\;\\;\\;\\;\\;\\;\\;\\;\\;\\;\\;\\;\\;\\;\\;\\;\\;\\;\\;\\;\\;\\;\\;\\;\\; \\boxed{\\text{URL} \\approx \\text{Remote Dataset} }$\n",
    "\n",
    "\n",
    "Furthermore, \n",
    "\n",
    "$ \\;\\;\\;\\;\\;\\;\\;\\;\\;\\;\\;\\;\\;\\;\\;\\;\\;\\;\\; \\boxed{\\text{URL + Constraints} \\approx \\text{Subset of Remote Dataset}} $\n",
    "\n",
    "\n",
    "Here, we demonstrate this. For this short tutorial we will access a remote dataset hosted on [OPeNDAP's Hyrax server](https://www.opendap.org/software/hyrax-data-server/). For more information about [OPeNDAP](https://www.opendap.org/) and Hyrax you can go to the official [OPeNDAP documentation](https://opendap.github.io/documentation/UserGuideComprehensive.html).\n",
    "\n",
    "The remote dataset that will be used in this tutorial can be inspected via the browser [HERE](http://test.opendap.org:8080/opendap/tutorials/20220531090000-JPL-L4_GHRSST-SSTfnd-MUR-GLOB-v02.0-fv04.1.nc.dmr.html)\n"
   ]
  },
  {
   "cell_type": "code",
   "execution_count": null,
   "id": "d3db3dfb-0d2d-4bab-8b50-864bfc7602dc",
   "metadata": {},
   "outputs": [],
   "source": [
    "from pydap.client import open_url\n",
    "import xarray as xr\n",
    "import numpy as np"
   ]
  },
  {
   "cell_type": "markdown",
   "id": "5697eb49-ffdd-45b3-9825-f4b8b28fa7d3",
   "metadata": {},
   "source": [
    "We define a URL pointing to a remote dataset."
   ]
  },
  {
   "cell_type": "code",
   "execution_count": null,
   "id": "9eedc2d6-23de-42af-a6b4-5789244e8c06",
   "metadata": {},
   "outputs": [],
   "source": [
    "url = \"http://test.opendap.org:8080/opendap/tutorials/20220531090000-JPL-L4_GHRSST-SSTfnd-MUR-GLOB-v02.0-fv04.1.nc\""
   ]
  },
  {
   "cell_type": "markdown",
   "id": "be908ec8-d715-4a5c-89d5-71905e1ea57b",
   "metadata": {},
   "source": [
    "### pydap approach\n",
    "We access the remote dataset via pydap"
   ]
  },
  {
   "cell_type": "code",
   "execution_count": null,
   "id": "fe51afda-0757-4a46-9b11-9c0999640842",
   "metadata": {},
   "outputs": [],
   "source": [
    "pydap_ds = open_url(url, protocol='dap4')"
   ]
  },
  {
   "cell_type": "markdown",
   "id": "67c1e87c-d6fc-4229-a85d-1dbe02a19f2a",
   "metadata": {},
   "source": [
    "Note the extra argument `protocol='dap4'`. One could also pass `protocol='dap2'`. We can inspect the contents of the dataset as follows:"
   ]
  },
  {
   "cell_type": "code",
   "execution_count": null,
   "id": "50646388-a62a-4fc1-a832-3b5a863ccc4a",
   "metadata": {},
   "outputs": [],
   "source": [
    "pydap_ds.tree()"
   ]
  },
  {
   "cell_type": "code",
   "execution_count": null,
   "id": "d4647d21-834c-48ce-974e-a656345ef285",
   "metadata": {},
   "outputs": [],
   "source": [
    "pydap_ds.attributes"
   ]
  },
  {
   "cell_type": "markdown",
   "id": "5ab0d52d-7c64-4689-be0f-a8caf70e0cb4",
   "metadata": {},
   "source": [
    "```{node}\n",
    "\n",
    "No data has been downloaded yet. `PyDAP` reads the metadata of the URL to create the `Dataset`. \n",
    "```\n",
    "We can further inspect some of the variables attributes."
   ]
  },
  {
   "cell_type": "code",
   "execution_count": null,
   "id": "fa041cba-751a-4b3d-8d21-5757962b60a8",
   "metadata": {},
   "outputs": [],
   "source": [
    "pydap_ds['sst_anomaly'].shape"
   ]
  },
  {
   "cell_type": "code",
   "execution_count": null,
   "id": "8e4ae3a3-c4a2-49f4-80ac-211877f862f6",
   "metadata": {},
   "outputs": [],
   "source": [
    "print('This array occupies: ', pydap_ds['sst_anomaly'].nbytes/1e9, '[GBs] in memory')"
   ]
  },
  {
   "cell_type": "markdown",
   "id": "a5506f6d-8de8-40ba-b20e-1d9a8def20bc",
   "metadata": {},
   "source": [
    "Each variable contains `CF-compliant metadata` that can be recognized by various APIs, such as `scale_factor`, `offsets` and `_FillValue`. These parameters are necessary to mask over land areas, and scale values. Some APIs like xarray can recognize these, while for others a user must manually transform the data.\n",
    "\n"
   ]
  },
  {
   "cell_type": "code",
   "execution_count": null,
   "id": "1f1a8f28-47fa-492f-858c-5004e7c451b8",
   "metadata": {},
   "outputs": [],
   "source": [
    "pydap_ds['sst_anomaly'].attributes"
   ]
  },
  {
   "cell_type": "markdown",
   "id": "c15813d2-80e5-41c4-b8c1-ca1c5b24aace",
   "metadata": {},
   "source": [
    "You can read more about `NetCDF Climate and Forcasts (CF) Metadata Conventions` [HERE](https://cfconventions.org/cf-conventions/cf-conventions.html).\n"
   ]
  },
  {
   "cell_type": "markdown",
   "id": "12184166-a4d7-4d80-86fe-e0838c4c13c0",
   "metadata": {},
   "source": [
    "### **Downloading the Array**\n",
    "\n",
    "\n",
    "You can trigger a download on-the-fly as needed. **However** in almost all cases `only a subset of an entire dataset is needed`. You can download only the piece you want, by slicing the array as follows:"
   ]
  },
  {
   "cell_type": "code",
   "execution_count": null,
   "id": "215ef5ba-b1d4-4459-9f22-5b5dd027412b",
   "metadata": {},
   "outputs": [],
   "source": [
    "%%time\n",
    "array = pydap_ds['sst_anomaly'][0, 0:10, 0:10]"
   ]
  },
  {
   "cell_type": "code",
   "execution_count": null,
   "id": "a5ecc7c2-c907-4d6f-b4ea-90a8f5a38e48",
   "metadata": {},
   "outputs": [],
   "source": [
    "np.shape(array)"
   ]
  },
  {
   "cell_type": "markdown",
   "id": "7cd040f7-8fb1-4b51-9c07-ab5e201a9169",
   "metadata": {},
   "source": [
    "With the above command, all the data-array has been downloaded into memory and assigned to the variable `array`. However, the variable `array` is not a numpy array, but rather a `BaseType` of `pydap`'s model:"
   ]
  },
  {
   "cell_type": "code",
   "execution_count": null,
   "id": "a81fd0b9-9ecf-413f-9abe-e6f4d030990f",
   "metadata": {},
   "outputs": [],
   "source": [
    "type(array)"
   ]
  },
  {
   "cell_type": "markdown",
   "id": "b4ba5656-bdcf-4e03-84e0-f28c777064dc",
   "metadata": {},
   "source": [
    "To extract the numpy array from `pydap`'s `BaseType` do:"
   ]
  },
  {
   "cell_type": "code",
   "execution_count": null,
   "id": "bab91aab-0ece-43c4-ade1-1796f44a0aec",
   "metadata": {},
   "outputs": [],
   "source": [
    "data = array.data"
   ]
  },
  {
   "cell_type": "code",
   "execution_count": null,
   "id": "ddbfa280-b88f-4c53-816e-3ef912cb78e3",
   "metadata": {},
   "outputs": [],
   "source": [
    "type(data)"
   ]
  },
  {
   "cell_type": "markdown",
   "id": "b7946ea1-0357-4666-a575-c29044610092",
   "metadata": {},
   "source": [
    "### Using server-side processing\n",
    "\n",
    "Because data is hosted on Hyrax, you can exploit server-side processing that occurs local to the data to perform subsetting. [OPeNDAP](https://www.opendap.org/) servers support subsetting by adding `Constraint Expressions` to the `URL`.\n",
    "\n",
    "In this scenario were we want a subset of the variable `sst_anomaly`, we can request it directly to [OPeNDAP](https://www.opendap.org/)'s Hyrax server using the following syntax:\n",
    "\n",
    "\n",
    "\n",
    "```python\n",
    "<OPeNDAP_URL> + \"?dap4.ce=\\sst_anomaly[0][0:1:9][0:1:9]\"\n",
    "```\n"
   ]
  },
  {
   "cell_type": "code",
   "execution_count": null,
   "id": "2e3365f5-bafa-4e1e-b45f-e1f0713deb5b",
   "metadata": {},
   "outputs": [],
   "source": [
    "CE = \"?dap4.ce=/sst_anomaly[0][0:1:9][0:1:9]\""
   ]
  },
  {
   "cell_type": "code",
   "execution_count": null,
   "id": "1d83936f-af3a-4ff0-b572-92b8e88cdef7",
   "metadata": {},
   "outputs": [],
   "source": [
    "pydap_ds = open_url(url+CE, protocol='dap4')"
   ]
  },
  {
   "cell_type": "code",
   "execution_count": null,
   "id": "0be79148-59ac-4c5d-b146-cb3efae35474",
   "metadata": {},
   "outputs": [],
   "source": [
    "pydap_ds.tree()"
   ]
  },
  {
   "cell_type": "code",
   "execution_count": null,
   "id": "54392239-06e9-4994-8c65-72f26a12ae13",
   "metadata": {},
   "outputs": [],
   "source": [
    "pydap_ds['sst_anomaly'].shape"
   ]
  },
  {
   "cell_type": "markdown",
   "id": "807ba7fe-753d-4815-893a-5c2a344732fd",
   "metadata": {},
   "source": [
    "### xarray approach\n",
    "\n",
    "`pydap`'s `open_url` can be used internally within `xarray`, by defining as an extra parameter when creating an `xarray` Dataset. The extra parameter is:\n",
    "\n",
    "```python\n",
    "engine='pydap'\n",
    "```\n",
    "\n",
    "Moreoever, we can combine the `server-side` processing that occurs **local to the data on the OPeNDAP server**, with `xarray`.\n",
    "\n",
    "### DAP2 vs DAP4\n",
    "\n",
    "There are some differences between the `DAP2` and `DAP4` [OPeNDAP](https://www.opendap.org/) model that go beyond this 5 minute intro. We will simply restrict to say that `DAP4` is newer and that will be the focus of this short tutorial. `pydap` accepts a `protocol` argument which specifies `\"dap2\"` vs `\"dap4\"`. `xarray` however does not. \n",
    "\n",
    "We can specify `DAP4` as the protocol that the [OPeNDAP](https://www.opendap.org/) server will implement when requesting access and server-side processing to the data. We do this by passing a URL that begins with `dap4`. For example in this case the following URL can be passed within `xarray` and `pydap` will recognize the `DAP4` protocol specification:\n",
    "\n"
   ]
  },
  {
   "cell_type": "code",
   "execution_count": null,
   "id": "06289c68-364c-48a2-a201-75938a066671",
   "metadata": {},
   "outputs": [],
   "source": [
    "'dap4'+url[4:]"
   ]
  },
  {
   "cell_type": "code",
   "execution_count": null,
   "id": "bef6b080-799d-49bf-a3ae-05f519e72fc7",
   "metadata": {},
   "outputs": [],
   "source": [
    "dataset = xr.open_dataset('dap4'+url[4:], engine='pydap')\n",
    "dataset"
   ]
  },
  {
   "cell_type": "markdown",
   "id": "4391aaf2-565a-433e-b100-d93966bebeff",
   "metadata": {},
   "source": [
    "Lastly, we can also pass a URL with a `Constraint Expression` directly onto `xarray` directly as follows:"
   ]
  },
  {
   "cell_type": "code",
   "execution_count": null,
   "id": "418ee57e-e6d4-4546-9b5d-daf246acf419",
   "metadata": {},
   "outputs": [],
   "source": [
    "CE = \"?dap4.ce=/time;/lat;/lon;/sst_anomaly\""
   ]
  },
  {
   "cell_type": "code",
   "execution_count": null,
   "id": "e37348fd-7242-4064-ba73-198a0c07eef6",
   "metadata": {},
   "outputs": [],
   "source": [
    "dataset_ce = xr.open_dataset(url+CE, engine='pydap')\n",
    "dataset_ce"
   ]
  }
 ],
 "metadata": {
  "kernelspec": {
   "display_name": "Python 3 (ipykernel)",
   "language": "python",
   "name": "python3"
  },
  "language_info": {
   "codemirror_mode": {
    "name": "ipython",
    "version": 3
   },
   "file_extension": ".py",
   "mimetype": "text/x-python",
   "name": "python",
   "nbconvert_exporter": "python",
   "pygments_lexer": "ipython3",
   "version": "3.12.4"
  }
 },
 "nbformat": 4,
 "nbformat_minor": 5
}
