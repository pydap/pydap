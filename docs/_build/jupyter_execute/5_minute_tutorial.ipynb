{
 "cells": [
  {
   "cell_type": "markdown",
   "id": "3cdc24e9-f0de-4820-871e-cea5bdbb9a73",
   "metadata": {},
   "source": [
    "# 5 minute tutorial\n",
    "\n",
    "The easiest way to use `pydap` is to use it as a `client` to access remote data hosted on [OPeNDAP](https://www.opendap.org/) servers. You can use `pydap`'s `open_url` directly, or better use `pydap` [as an engine](https://docs.xarray.dev/en/stable/user-guide/io.html#opendap) for `xarray`. `xarray` allows for [OPeNDAP](https://www.opendap.org/) users to exploit many of [Pangeo](https://pangeo.io/)'s modern capabilities for scalable computing.\n",
    "\n",
    "\n",
    "## OPeNDAP - the vision\n",
    "The original vision of [OPeNDAP](https://www.opendap.org/) ([Cornillion, et al 1993](https://zenodo.org/records/10610992)) was to make the equivalency:\n",
    "\n",
    "$ \\;\\;\\;\\;\\;\\;\\;\\;\\;\\;\\;\\;\\;\\;\\;\\;\\;\\;\\;\\;\\;\\;\\;\\;\\;\\;\\;\\;\\;\\;\\;\\;\\;\\;\\;\\;\\; \\boxed{\\text{URL} \\approx \\text{Remote Dataset} }$\n",
    "\n",
    "\n",
    "Furthermore, \n",
    "\n",
    "$ \\;\\;\\;\\;\\;\\;\\;\\;\\;\\;\\;\\;\\;\\;\\;\\;\\;\\;\\; \\boxed{\\text{URL + Constraints} \\approx \\text{Subset of Remote Dataset}} $\n",
    "\n",
    "\n",
    "Here, we demonstrate this. For this short tutorial we will access a remote dataset hosted on [OPeNDAP's Hyrax server](https://www.opendap.org/software/hyrax-data-server/). For more information about [OPeNDAP](https://www.opendap.org/) and Hyrax you can go to the official [OPeNDAP documentation](https://opendap.github.io/documentation/UserGuideComprehensive.html).\n",
    "\n",
    "The remote dataset that will be used in this tutorial can be inspected via the browser [HERE](http://test.opendap.org:8080/opendap/tutorials/20220531090000-JPL-L4_GHRSST-SSTfnd-MUR-GLOB-v02.0-fv04.1.nc.dmr.html)\n"
   ]
  },
  {
   "cell_type": "code",
   "execution_count": 1,
   "id": "d3db3dfb-0d2d-4bab-8b50-864bfc7602dc",
   "metadata": {},
   "outputs": [],
   "source": [
    "from pydap.client import open_url\n",
    "import xarray as xr\n",
    "import numpy as np"
   ]
  },
  {
   "cell_type": "markdown",
   "id": "5697eb49-ffdd-45b3-9825-f4b8b28fa7d3",
   "metadata": {},
   "source": [
    "We define a URL pointing to a remote dataset."
   ]
  },
  {
   "cell_type": "code",
   "execution_count": 2,
   "id": "9eedc2d6-23de-42af-a6b4-5789244e8c06",
   "metadata": {},
   "outputs": [],
   "source": [
    "url = \"http://test.opendap.org:8080/opendap/tutorials/20220531090000-JPL-L4_GHRSST-SSTfnd-MUR-GLOB-v02.0-fv04.1.nc\""
   ]
  },
  {
   "cell_type": "markdown",
   "id": "be908ec8-d715-4a5c-89d5-71905e1ea57b",
   "metadata": {},
   "source": [
    "## pure `PyDAP`\n",
    "First, we demonstrate access to the remote dataset via `PyDAP`"
   ]
  },
  {
   "cell_type": "code",
   "execution_count": 3,
   "id": "fe51afda-0757-4a46-9b11-9c0999640842",
   "metadata": {},
   "outputs": [],
   "source": [
    "pydap_ds = open_url(url, protocol='dap4')"
   ]
  },
  {
   "cell_type": "markdown",
   "id": "67c1e87c-d6fc-4229-a85d-1dbe02a19f2a",
   "metadata": {},
   "source": [
    "Note the extra argument `protocol='dap4'`. One could also pass `protocol='dap2'`. \n",
    "\n",
    "We can inspect the contents of the dataset as follows:"
   ]
  },
  {
   "cell_type": "code",
   "execution_count": 4,
   "id": "50646388-a62a-4fc1-a832-3b5a863ccc4a",
   "metadata": {},
   "outputs": [
    {
     "name": "stdout",
     "output_type": "stream",
     "text": [
      ".20220531090000-JPL-L4_GHRSST-SSTfnd-MUR-GLOB-v02.0-fv04.1.nc\n",
      "├──time\n",
      "├──lat\n",
      "├──lon\n",
      "├──analysed_sst\n",
      "├──analysis_error\n",
      "├──mask\n",
      "├──sea_ice_fraction\n",
      "├──dt_1km_data\n",
      "└──sst_anomaly\n"
     ]
    }
   ],
   "source": [
    "pydap_ds.tree()"
   ]
  },
  {
   "cell_type": "code",
   "execution_count": 5,
   "id": "a89f30dc-00b2-4ff4-aca1-e57f984a23c2",
   "metadata": {},
   "outputs": [
    {
     "data": {
      "text/plain": [
       "(1, 17999, 36000)"
      ]
     },
     "execution_count": 5,
     "metadata": {},
     "output_type": "execute_result"
    }
   ],
   "source": [
    "pydap_ds['sst_anomaly'].shape"
   ]
  },
  {
   "cell_type": "code",
   "execution_count": 6,
   "id": "21ec4831-377b-4bb3-afdb-43564db1ad44",
   "metadata": {},
   "outputs": [
    {
     "name": "stdout",
     "output_type": "stream",
     "text": [
      "This array occupies:  1.295928 [GBs] in memory\n"
     ]
    }
   ],
   "source": [
    "print('This array occupies: ', pydap_ds['sst_anomaly'].nbytes/1e9, '[GBs] in memory')"
   ]
  },
  {
   "cell_type": "markdown",
   "id": "5ab0d52d-7c64-4689-be0f-a8caf70e0cb4",
   "metadata": {},
   "source": [
    "```{note}\n",
    "No data has been downloaded yet. `PyDAP` reads the metadata of the remote URL to create the `Dataset`. \n",
    "```"
   ]
  },
  {
   "cell_type": "markdown",
   "id": "a5506f6d-8de8-40ba-b20e-1d9a8def20bc",
   "metadata": {},
   "source": [
    "Each variable contains `CF-compliant metadata` that can be recognized by various APIs, such as `scale_factor`, `offsets` and `_FillValue`. These parameters are necessary to mask over land areas, and scale values. Some APIs like `xarray` can recognize these, while for others a user must manually transform the data.\n",
    "\n"
   ]
  },
  {
   "cell_type": "code",
   "execution_count": 7,
   "id": "1f1a8f28-47fa-492f-858c-5004e7c451b8",
   "metadata": {},
   "outputs": [
    {
     "data": {
      "text/plain": [
       "{'long_name': 'SST anomaly from a seasonal SST climatology based on the MUR data over 2003-2014 period',\n",
       " 'units': 'kelvin',\n",
       " '_FillValue': -32768,\n",
       " 'add_offset': 0.0,\n",
       " 'scale_factor': 0.001,\n",
       " 'valid_min': -32767,\n",
       " 'valid_max': 32767,\n",
       " 'comment': 'anomaly reference to the day-of-year average between 2003 and 2014',\n",
       " 'coordinates': 'lon lat'}"
      ]
     },
     "execution_count": 7,
     "metadata": {},
     "output_type": "execute_result"
    }
   ],
   "source": [
    "pydap_ds['sst_anomaly'].attributes"
   ]
  },
  {
   "cell_type": "markdown",
   "id": "c15813d2-80e5-41c4-b8c1-ca1c5b24aace",
   "metadata": {},
   "source": [
    "You can read more about `NetCDF Climate and Forcasts (CF) Metadata Conventions` [HERE](https://cfconventions.org/cf-conventions/cf-conventions.html).\n"
   ]
  },
  {
   "cell_type": "markdown",
   "id": "12184166-a4d7-4d80-86fe-e0838c4c13c0",
   "metadata": {},
   "source": [
    "### **Downloading the Array into memory**\n",
    "\n",
    "You can trigger a download on-the-fly as needed. **However** in almost all cases `only a subset of an entire dataset is needed`. You can download only the piece you want, by slicing the array as follows:"
   ]
  },
  {
   "cell_type": "code",
   "execution_count": 8,
   "id": "215ef5ba-b1d4-4459-9f22-5b5dd027412b",
   "metadata": {},
   "outputs": [
    {
     "ename": "HTTPError",
     "evalue": "500 Internal Server Error\n<?xml version=\"1.0\" encoding=\"UTF-8\"?>\r\n<dap4:Error xmlns:dap4=\"http://xml.opendap.org/ns/DAP/4.0#\" httpcode=\"500\">\r\n  <dap4:Message>libdap error transmitting DAP4Data: An internal error was encountered in D4Maps.cc at line 42:\r\nFailed to find an array at: \r\nPlease report this to support@opendap.org</dap4:Message>\r\n  <dap4:Context />\r\n  <dap4:OtherInformation />\r\n</dap4:Error>\r\n\r\n",
     "output_type": "error",
     "traceback": [
      "\u001b[0;31m---------------------------------------------------------------------------\u001b[0m",
      "\u001b[0;31mHTTPError\u001b[0m                                 Traceback (most recent call last)",
      "File \u001b[0;32m<timed exec>:1\u001b[0m\n",
      "File \u001b[0;32m~/mambaforge/envs/pydap_docs/lib/python3.12/site-packages/pydap/model.py:339\u001b[0m, in \u001b[0;36mBaseType.__getitem__\u001b[0;34m(self, index)\u001b[0m\n\u001b[1;32m    337\u001b[0m \u001b[38;5;28;01mdef\u001b[39;00m \u001b[38;5;21m__getitem__\u001b[39m(\u001b[38;5;28mself\u001b[39m, index):\n\u001b[1;32m    338\u001b[0m     out \u001b[38;5;241m=\u001b[39m copy\u001b[38;5;241m.\u001b[39mcopy(\u001b[38;5;28mself\u001b[39m)\n\u001b[0;32m--> 339\u001b[0m     out\u001b[38;5;241m.\u001b[39mdata \u001b[38;5;241m=\u001b[39m \u001b[38;5;28;43mself\u001b[39;49m\u001b[38;5;241;43m.\u001b[39;49m\u001b[43m_get_data_index\u001b[49m\u001b[43m(\u001b[49m\u001b[43mindex\u001b[49m\u001b[43m)\u001b[49m\n\u001b[1;32m    340\u001b[0m     \u001b[38;5;28;01mif\u001b[39;00m \u001b[38;5;28mtype\u001b[39m(\u001b[38;5;28mself\u001b[39m\u001b[38;5;241m.\u001b[39mdata)\u001b[38;5;241m.\u001b[39m\u001b[38;5;18m__name__\u001b[39m \u001b[38;5;241m==\u001b[39m \u001b[38;5;124m\"\u001b[39m\u001b[38;5;124mBaseProxyDap4\u001b[39m\u001b[38;5;124m\"\u001b[39m:\n\u001b[1;32m    341\u001b[0m         out\u001b[38;5;241m.\u001b[39mattributes[\u001b[38;5;124m\"\u001b[39m\u001b[38;5;124mchecksum\u001b[39m\u001b[38;5;124m\"\u001b[39m] \u001b[38;5;241m=\u001b[39m \u001b[38;5;28mself\u001b[39m\u001b[38;5;241m.\u001b[39mdata\u001b[38;5;241m.\u001b[39mchecksum\n",
      "File \u001b[0;32m~/mambaforge/envs/pydap_docs/lib/python3.12/site-packages/pydap/model.py:371\u001b[0m, in \u001b[0;36mBaseType._get_data_index\u001b[0;34m(self, index)\u001b[0m\n\u001b[1;32m    369\u001b[0m     \u001b[38;5;28;01mreturn\u001b[39;00m np\u001b[38;5;241m.\u001b[39mvectorize(decode_np_strings)(\u001b[38;5;28mself\u001b[39m\u001b[38;5;241m.\u001b[39m_data[index])\n\u001b[1;32m    370\u001b[0m \u001b[38;5;28;01melse\u001b[39;00m:\n\u001b[0;32m--> 371\u001b[0m     \u001b[38;5;28;01mreturn\u001b[39;00m \u001b[38;5;28;43mself\u001b[39;49m\u001b[38;5;241;43m.\u001b[39;49m\u001b[43m_data\u001b[49m\u001b[43m[\u001b[49m\u001b[43mindex\u001b[49m\u001b[43m]\u001b[49m\n",
      "File \u001b[0;32m~/mambaforge/envs/pydap_docs/lib/python3.12/site-packages/pydap/handlers/dap.py:485\u001b[0m, in \u001b[0;36mBaseProxyDap4.__getitem__\u001b[0;34m(self, index)\u001b[0m\n\u001b[1;32m    475\u001b[0m logger\u001b[38;5;241m.\u001b[39minfo(\u001b[38;5;124m\"\u001b[39m\u001b[38;5;124mFetching URL: \u001b[39m\u001b[38;5;132;01m%s\u001b[39;00m\u001b[38;5;124m\"\u001b[39m \u001b[38;5;241m%\u001b[39m url)\n\u001b[1;32m    477\u001b[0m r \u001b[38;5;241m=\u001b[39m pydap\u001b[38;5;241m.\u001b[39mnet\u001b[38;5;241m.\u001b[39mGET(\n\u001b[1;32m    478\u001b[0m     url,\n\u001b[1;32m    479\u001b[0m     \u001b[38;5;28mself\u001b[39m\u001b[38;5;241m.\u001b[39mapplication,\n\u001b[0;32m   (...)\u001b[0m\n\u001b[1;32m    482\u001b[0m     verify\u001b[38;5;241m=\u001b[39m\u001b[38;5;28mself\u001b[39m\u001b[38;5;241m.\u001b[39mverify,\n\u001b[1;32m    483\u001b[0m )\n\u001b[0;32m--> 485\u001b[0m \u001b[43mpydap\u001b[49m\u001b[38;5;241;43m.\u001b[39;49m\u001b[43mnet\u001b[49m\u001b[38;5;241;43m.\u001b[39;49m\u001b[43mraise_for_status\u001b[49m\u001b[43m(\u001b[49m\u001b[43mr\u001b[49m\u001b[43m)\u001b[49m\n\u001b[1;32m    486\u001b[0m dmr, data \u001b[38;5;241m=\u001b[39m safe_dmr_and_data(r, \u001b[38;5;28mself\u001b[39m\u001b[38;5;241m.\u001b[39muser_charset)\n\u001b[1;32m    488\u001b[0m \u001b[38;5;66;03m# Parse received dataset:\u001b[39;00m\n",
      "File \u001b[0;32m~/mambaforge/envs/pydap_docs/lib/python3.12/site-packages/pydap/net.py:37\u001b[0m, in \u001b[0;36mraise_for_status\u001b[0;34m(response)\u001b[0m\n\u001b[1;32m     34\u001b[0m \u001b[38;5;28;01mdef\u001b[39;00m \u001b[38;5;21mraise_for_status\u001b[39m(response):\n\u001b[1;32m     35\u001b[0m     \u001b[38;5;66;03m# Raise error if status is above 300:\u001b[39;00m\n\u001b[1;32m     36\u001b[0m     \u001b[38;5;28;01mif\u001b[39;00m response\u001b[38;5;241m.\u001b[39mstatus_code \u001b[38;5;241m>\u001b[39m\u001b[38;5;241m=\u001b[39m \u001b[38;5;241m400\u001b[39m:\n\u001b[0;32m---> 37\u001b[0m         \u001b[38;5;28;01mraise\u001b[39;00m HTTPError(\n\u001b[1;32m     38\u001b[0m             detail\u001b[38;5;241m=\u001b[39mresponse\u001b[38;5;241m.\u001b[39mstatus \u001b[38;5;241m+\u001b[39m \u001b[38;5;124m\"\u001b[39m\u001b[38;5;130;01m\\n\u001b[39;00m\u001b[38;5;124m\"\u001b[39m \u001b[38;5;241m+\u001b[39m response\u001b[38;5;241m.\u001b[39mtext,\n\u001b[1;32m     39\u001b[0m             headers\u001b[38;5;241m=\u001b[39mresponse\u001b[38;5;241m.\u001b[39mheaders,\n\u001b[1;32m     40\u001b[0m             comment\u001b[38;5;241m=\u001b[39mresponse\u001b[38;5;241m.\u001b[39mbody,\n\u001b[1;32m     41\u001b[0m         )\n\u001b[1;32m     42\u001b[0m     \u001b[38;5;28;01melif\u001b[39;00m response\u001b[38;5;241m.\u001b[39mstatus_code \u001b[38;5;241m>\u001b[39m\u001b[38;5;241m=\u001b[39m \u001b[38;5;241m300\u001b[39m:\n\u001b[1;32m     43\u001b[0m         \u001b[38;5;28;01mtry\u001b[39;00m:\n",
      "\u001b[0;31mHTTPError\u001b[0m: 500 Internal Server Error\n<?xml version=\"1.0\" encoding=\"UTF-8\"?>\r\n<dap4:Error xmlns:dap4=\"http://xml.opendap.org/ns/DAP/4.0#\" httpcode=\"500\">\r\n  <dap4:Message>libdap error transmitting DAP4Data: An internal error was encountered in D4Maps.cc at line 42:\r\nFailed to find an array at: \r\nPlease report this to support@opendap.org</dap4:Message>\r\n  <dap4:Context />\r\n  <dap4:OtherInformation />\r\n</dap4:Error>\r\n\r\n"
     ]
    }
   ],
   "source": [
    "%%time\n",
    "array = pydap_ds['sst_anomaly'][0, 0:10, 0:10]"
   ]
  },
  {
   "cell_type": "code",
   "execution_count": 9,
   "id": "a5ecc7c2-c907-4d6f-b4ea-90a8f5a38e48",
   "metadata": {},
   "outputs": [
    {
     "ename": "NameError",
     "evalue": "name 'array' is not defined",
     "output_type": "error",
     "traceback": [
      "\u001b[0;31m---------------------------------------------------------------------------\u001b[0m",
      "\u001b[0;31mNameError\u001b[0m                                 Traceback (most recent call last)",
      "Cell \u001b[0;32mIn[9], line 1\u001b[0m\n\u001b[0;32m----> 1\u001b[0m np\u001b[38;5;241m.\u001b[39mshape(\u001b[43marray\u001b[49m)\n",
      "\u001b[0;31mNameError\u001b[0m: name 'array' is not defined"
     ]
    }
   ],
   "source": [
    "np.shape(array)"
   ]
  },
  {
   "cell_type": "markdown",
   "id": "7cd040f7-8fb1-4b51-9c07-ab5e201a9169",
   "metadata": {},
   "source": [
    "With the above command, all the data-array has been downloaded into memory and assigned to the variable `array`. However, the variable `array` is not a numpy array, but rather a `BaseType` of `pydap`'s model:"
   ]
  },
  {
   "cell_type": "code",
   "execution_count": null,
   "id": "a81fd0b9-9ecf-413f-9abe-e6f4d030990f",
   "metadata": {},
   "outputs": [],
   "source": [
    "type(array)"
   ]
  },
  {
   "cell_type": "markdown",
   "id": "b4ba5656-bdcf-4e03-84e0-f28c777064dc",
   "metadata": {},
   "source": [
    "To extract the numpy array from `pydap`'s `BaseType` do:"
   ]
  },
  {
   "cell_type": "code",
   "execution_count": null,
   "id": "bab91aab-0ece-43c4-ade1-1796f44a0aec",
   "metadata": {},
   "outputs": [],
   "source": [
    "data = array.data"
   ]
  },
  {
   "cell_type": "code",
   "execution_count": null,
   "id": "ddbfa280-b88f-4c53-816e-3ef912cb78e3",
   "metadata": {},
   "outputs": [],
   "source": [
    "type(data)"
   ]
  },
  {
   "cell_type": "markdown",
   "id": "b7946ea1-0357-4666-a575-c29044610092",
   "metadata": {},
   "source": [
    "## Using server-side subsetting\n",
    "\n",
    "Because data is hosted on `Hyrax`, you can exploit server-side `subsetting local to the data`. [OPeNDAP](https://www.opendap.org/) servers support subsetting by adding `Constraint Expressions` to the `URL`.\n",
    "\n",
    "In this scenario were we want to subset the variable `sst_anomaly`, we can request it directly to [OPeNDAP](https://www.opendap.org/)'s Hyrax server using the following syntax:\n",
    "\n",
    "\n",
    "```python\n",
    "<OPeNDAP_URL> + \"?dap4.ce=\\sst_anomaly[0][0:1:9][0:1:9]\"\n",
    "```\n",
    "\n",
    "This means that from the `<OPeNDAP_URL>` associated with the complete dataset, we request to only select the variable `sst_anomaly`, and subset it as follows: `[0][0:1:9][0:1:9]`. This index-based subsetting implies:\n",
    "\n",
    "- A single (first) element  of the first (`time`) dimension,\n",
    "- `[0:1:9]` indicates the first `10` elements of the second (`lat`) dimension\n",
    "- `[0:1:9]` indicates the first `10` elements of the third (`lon`) dimension.\n",
    "\n"
   ]
  },
  {
   "cell_type": "code",
   "execution_count": null,
   "id": "2e3365f5-bafa-4e1e-b45f-e1f0713deb5b",
   "metadata": {},
   "outputs": [],
   "source": [
    "CE = \"?dap4.ce=/lat;/sst_anomaly[0][0:1:9][0:1:9]\""
   ]
  },
  {
   "cell_type": "code",
   "execution_count": null,
   "id": "1d83936f-af3a-4ff0-b572-92b8e88cdef7",
   "metadata": {},
   "outputs": [],
   "source": [
    "pydap_ds = open_url(url+CE, protocol='dap4')"
   ]
  },
  {
   "cell_type": "code",
   "execution_count": null,
   "id": "0be79148-59ac-4c5d-b146-cb3efae35474",
   "metadata": {},
   "outputs": [],
   "source": [
    "pydap_ds.tree()"
   ]
  },
  {
   "cell_type": "code",
   "execution_count": null,
   "id": "54392239-06e9-4994-8c65-72f26a12ae13",
   "metadata": {},
   "outputs": [],
   "source": [
    "pydap_ds['sst_anomaly'].shape"
   ]
  },
  {
   "cell_type": "code",
   "execution_count": null,
   "id": "656a3b36-000c-47ae-b217-6ed535bb494a",
   "metadata": {},
   "outputs": [],
   "source": [
    "pydap_ds['lat'].shape"
   ]
  },
  {
   "cell_type": "markdown",
   "id": "27f5ed6b-3d52-4d4b-bccf-b3da63754f30",
   "metadata": {},
   "source": [
    "```{note}\n",
    "`OPeNDAP` only applied the subset to the variable `sst_anomaly`, while `lat` (and any other) would retain the original size. One can use a different syntax of the Constraint Expression so that subsets along `shared dimensions` are applied across variables that share the dimension. For more, See below.\n",
    "```"
   ]
  },
  {
   "cell_type": "markdown",
   "id": "807ba7fe-753d-4815-893a-5c2a344732fd",
   "metadata": {},
   "source": [
    "# xarray approach\n",
    "\n",
    "`PyDAP`'s `open_url` can be used internally within `xarray`, by defining an extra parameter when creating an `xarray` Dataset. This extra parameter is:\n",
    "\n",
    "```python\n",
    "engine='pydap'\n",
    "```\n",
    "\n",
    "Moreoever, we can combine the `server-side` subsetting that occurs `local to the data` on the `OPeNDAP` server.\n",
    "```{note}\n",
    "There exists many many many servers, but only two DAP implementation: `DAP2` and `DAP4`. The differences between the two go beyond this 5 minute intro. We will simply restrict to say that `DAP4` is newer, that any server implementing `DAP4` can implement `DAP2`, and so will only focus on `DAP4` in this short tutorial. `PyDAP` accepts a `protocol` argument which specifies `\"dap2\"` vs `\"dap4\"`. `xarray` **does not**. \n",
    "```\n",
    "```{tip}\n",
    "Within `xarray` and when setting `pydap` as the engine, we can specify `DAP4` as the protocol by passing a URL with `dap4` replacing the `https`.\n",
    "```\n"
   ]
  },
  {
   "cell_type": "code",
   "execution_count": null,
   "id": "06289c68-364c-48a2-a201-75938a066671",
   "metadata": {},
   "outputs": [],
   "source": [
    "'dap4'+url[4:]"
   ]
  },
  {
   "cell_type": "code",
   "execution_count": null,
   "id": "bef6b080-799d-49bf-a3ae-05f519e72fc7",
   "metadata": {},
   "outputs": [],
   "source": [
    "dataset = xr.open_dataset('dap4'+url[4:], engine='pydap')\n",
    "dataset"
   ]
  },
  {
   "cell_type": "markdown",
   "id": "4391aaf2-565a-433e-b100-d93966bebeff",
   "metadata": {},
   "source": [
    "## Constraint Expression and `shared dimensions` within `xarray`\n",
    "\n",
    "Similarly as with pure `PyDAP`, can define a URL with a `Constraint Expression` (`CE`). Here we follow a more dynamic syntax using the concept of `shared dimensions`. We define the subset at the dimension level, and include in the URL all the variables (including the dimensions) that we want to have included in the resulting dataset (subset). \n",
    "\n",
    "For example, considering the shared dimensions `/dimension1` and `/dimension2`, we follow the syntax:\n",
    "\n",
    "\n",
    "```python\n",
    "<OPeNDAP_URL>?dap4.ce=/dimension1=[start:step:end];/dimension2=[start:step:end];/dimension1;/dimension2;/variable1;/variable2\n",
    "```\n",
    "```{note}\n",
    "In the `CE` above, if `step` is ommited then `step=1` by default.\n",
    "```\n",
    "\n",
    "where `variable1` and `variable2` are 2D variables so that `variable1[dimension1][dimension2]` and `variable2[dimension1][dimension2]`.\n"
   ]
  },
  {
   "cell_type": "code",
   "execution_count": null,
   "id": "418ee57e-e6d4-4546-9b5d-daf246acf419",
   "metadata": {},
   "outputs": [],
   "source": [
    "CE = \"?dap4.ce=/time=[0];/lat=[0:9];/lon=[0:9];/time;/lat;/lon;/sst_anomaly;/analysed_sst\"\n",
    "print(url+CE)"
   ]
  },
  {
   "cell_type": "code",
   "execution_count": null,
   "id": "e37348fd-7242-4064-ba73-198a0c07eef6",
   "metadata": {},
   "outputs": [],
   "source": [
    "dataset_ce = xr.open_dataset(url+CE, engine='pydap')\n",
    "dataset_ce"
   ]
  },
  {
   "cell_type": "code",
   "execution_count": null,
   "id": "2a61db0f-8b34-4e9c-91ed-b0b1eec51d2b",
   "metadata": {},
   "outputs": [],
   "source": []
  }
 ],
 "metadata": {
  "kernelspec": {
   "display_name": "Python 3 (ipykernel)",
   "language": "python",
   "name": "python3"
  },
  "language_info": {
   "codemirror_mode": {
    "name": "ipython",
    "version": 3
   },
   "file_extension": ".py",
   "mimetype": "text/x-python",
   "name": "python",
   "nbconvert_exporter": "python",
   "pygments_lexer": "ipython3",
   "version": "3.12.4"
  }
 },
 "nbformat": 4,
 "nbformat_minor": 5
}