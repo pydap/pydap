{
 "cells": [
  {
   "cell_type": "markdown",
   "id": "e612fee8-dd6b-4ebf-901b-05fca2caa453",
   "metadata": {},
   "source": [
    "# Autenticacion\n",
    "\n",
    "Muchas de las instituciones que utilizan servidores de `OPenDAP` para dar acceso abierto a sus productos cientificos, requieren alguna forma de autenticacion. [PyDAP](https://github.com/pydap/pydap) utiliza la libreria de Python llamada [requests](https://requests.readthedocs.io/en/latest/) para transmitir datos a traves del internet, y esta libreria facilita la autenticacion por medio de los metodos:\n",
    "\n",
    "1. `Nombre Usuario / Contraseña`.\n",
    "2. `tokens`\n",
    "\n",
    "## `.netrc` [Opcional]\n",
    "Un metodo estatico y seguro para almacenar el nombre de usuario y contraseña en la computadora personal, es el archivo `.netrc` en sistemas operativos de Linux o Mac (en `Windows` es llamado `_netrc`)\n",
    "\n",
    "```{note}\n",
    "En este tutorial, demostratemos el uso del `.netrc` en sistema Linux. \n",
    "```\n",
    "\n",
    "Al crear el documento `.netrc` y almacenar dentro de el nombre de usuario y contrasena creado para tener accesso a los datos de la Institucion Cientifica, `Pydap` puede \"descubrir\" de manera automatica las credenciales de autenticacion , siempre y cuando esten propiamente definidas \n",
    "\n",
    "El uso de `tokens` como forma de autenticacion depende de la institucion que proporciona las credenciales de autenticacion. En terminos de los servidores de OPeNDAP en la NASA, es posible usar `token`. El token es creado por medio del [EarthDataLogin](https://urs.earthdata.nasa.gov/).\n",
    "\n"
   ]
  },
  {
   "cell_type": "markdown",
   "id": "b9d68bf7-b458-405b-bad9-e19132450b99",
   "metadata": {},
   "source": []
  },
  {
   "cell_type": "markdown",
   "id": "30c907bb-0c67-4a08-9340-96389a7c47b5",
   "metadata": {},
   "source": [
    "## Comencemos accesando datos en la Nube de la NASA!\n",
    "\n",
    "Como demonstracion, accederemos a archivos remotos en la Nube, del proyecto ECCO\n",
    "\n"
   ]
  },
  {
   "cell_type": "code",
   "execution_count": null,
   "id": "8e679652-bb05-418d-96e8-423a7df0d849",
   "metadata": {},
   "outputs": [],
   "source": [
    "from pydap.client import open_url\n",
    "from pydap.net import create_session"
   ]
  },
  {
   "cell_type": "code",
   "execution_count": null,
   "id": "f83f7dd7-e316-411e-8ab8-2d73ec7b443c",
   "metadata": {},
   "outputs": [],
   "source": [
    "dataset_url = \"https://opendap.earthdata.nasa.gov/providers/POCLOUD/collections/ECCO%20Ocean%20Temperature%20and%20Salinity%20-%20Monthly%20Mean%200.5%20Degree%20(Version%204%20Release%204)/granules/OCEAN_TEMPERATURE_SALINITY_mon_mean_2017-12_ECCO_V4r4_latlon_0p50deg\""
   ]
  },
  {
   "cell_type": "markdown",
   "id": "a3ab19a7-461c-4432-9122-ac237b298ba4",
   "metadata": {},
   "source": [
    "### Metodo Nombre de Usuario / Contraseña\n",
    "\n",
    "Si ya cuenta aon las credenciales guardadas en el archivo `~/.netrc`, no es necesario tomar algun paso extra. Si todavia no ha creado el archivo `~/.netrc`, puede ver este tutorial de como crear y guardar credenciales de autenticacion.\n",
    "\n",
    "Teniengo ya su archivo `~/.netrc`, lo unico que tiene que hacer para poder acceder a archivos en servidores de OPeNDAP, es iniciar la session. \n"
   ]
  },
  {
   "cell_type": "code",
   "execution_count": null,
   "id": "cf72fd2f-8435-4974-80c4-903b5178bd85",
   "metadata": {},
   "outputs": [],
   "source": [
    "my_session = create_session() # default requests.session() object. \n",
    "print(my_session)"
   ]
  },
  {
   "cell_type": "markdown",
   "id": "1e344f3d-5ae7-4c73-84ff-1df528fbf56a",
   "metadata": {},
   "source": [
    "### Crea el objeto de Pydap\n",
    "\n",
    "Ahora, solo execute:\n",
    "\n",
    "```python\n",
    "ds = open_url(dataset_url, session=my_session, protocol=\"dap4\")\n",
    "```\n",
    "y esto creara el pydap dataset, que le dara accesso a todas las variables del archivo remoto.\n",
    "\n"
   ]
  },
  {
   "cell_type": "markdown",
   "id": "a1127207-b65f-4052-bdf4-959f810e84b5",
   "metadata": {},
   "source": [
    "### Metodo de Token\n",
    "\n",
    "Este es otro metodo que muchas instituciones soportan, y sera el metodo que se utilizara a lo largo de esta documentacion. Para poder utilizar `tokens` de autenticacion, debera contar con un `token` valido, o crear uno nuevo. Si desea crear un token nuevo para acceder a datos cientificos de la NASA a traves del EarthData Portal, puede acudir a este [recurso de autenticacion de EDL](https://opendap.github.io/documentation/tutorials/ClientAuthenticationWithEDLTokens.html). \n",
    "\n",
    "Para uso especifico de `pydap`. existe la funcion  `pydap.net.create_session` que facilita el uso de `tokens` de la siguiente manera\n",
    "\n"
   ]
  },
  {
   "cell_type": "code",
   "execution_count": null,
   "id": "f260427e-cdca-4fea-be60-e5984b13e0f6",
   "metadata": {},
   "outputs": [],
   "source": [
    "from pydap.net import create_session\n",
    "\n",
    "session_extra = {\"token\": \"YourToken\"}\n",
    "\n",
    "my_session = create_session(session_kwargs=session_extra)"
   ]
  },
  {
   "cell_type": "code",
   "execution_count": null,
   "id": "e0b7bc9c-db3d-4b4f-818a-ef64ed86b3b9",
   "metadata": {},
   "outputs": [],
   "source": [
    "ds = open_url(dataset_url, session=my_session, protocol='dap4')\n",
    "ds.tree()"
   ]
  },
  {
   "cell_type": "code",
   "execution_count": null,
   "id": "beaa7099-a8a3-496b-acff-ed20e7e89090",
   "metadata": {},
   "outputs": [],
   "source": []
  }
 ],
 "metadata": {
  "kernelspec": {
   "display_name": "Python 3 (ipykernel)",
   "language": "python",
   "name": "python3"
  },
  "language_info": {
   "codemirror_mode": {
    "name": "ipython",
    "version": 3
   },
   "file_extension": ".py",
   "mimetype": "text/x-python",
   "name": "python",
   "nbconvert_exporter": "python",
   "pygments_lexer": "ipython3",
   "version": "3.11.11"
  }
 },
 "nbformat": 4,
 "nbformat_minor": 5
}
