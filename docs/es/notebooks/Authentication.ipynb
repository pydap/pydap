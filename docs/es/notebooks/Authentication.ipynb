{
 "cells": [
  {
   "cell_type": "markdown",
   "id": "e612fee8-dd6b-4ebf-901b-05fca2caa453",
   "metadata": {},
   "source": [
    "# Autenticacion\n",
    "\n",
    "Muchas de las instituciones que utilizar servidores de `OPenDAP` para dar acceso abierto a sus productos cientificos, requieren alguna forma de autenticacion. [PyDAP](https://github.com/pydap/pydap) utiliza la libreria de Python llamada [requests](https://requests.readthedocs.io/en/latest/) para transmitir datos a traves del internet, y esta libraria facilita la autenticacion por medio de los metodos:\n",
    "\n",
    "1. `Nombre Usuario / Contrasena`.\n",
    "2. `tokens`\n",
    "\n",
    "## Requirements [Optional]\n",
    "Un metodo estatico para almacenar el nombre de usuario y contrasena en la computadora personal, es el archivo `.netrc` en sistemas operativos de Linux o Mac (en `Windows` es llamado `_netrc`)\n",
    "\n",
    "```{note}\n",
    "En este tutorial, demostratemos el uso del `.netrc` en sistema Linux. \n",
    "```\n",
    "\n",
    "Al crear el documento `.netrc` y almacenar dentro de el nombre de usuario y contrasena creado para tener accesso a los datos de la Institucion Cientifica, `Pydap` puede \"descubrir\" de manera automatica las credenciales de autenticacion , siempre y cuando esten propiamente definidas \n",
    "\n",
    "El uso de `tokens` como forma de autenticacion depende de la institucion que proporciona las credenciales de autenticacion. En terminos de los servidores de OPeNDAP en la NASA, es posible usar `token`. El token es creado por medio del [EarthDataLogin](https://urs.earthdata.nasa.gov/).\n",
    "\n"
   ]
  },
  {
   "cell_type": "markdown",
   "id": "b9d68bf7-b458-405b-bad9-e19132450b99",
   "metadata": {},
   "source": []
  },
  {
   "cell_type": "markdown",
   "id": "30c907bb-0c67-4a08-9340-96389a7c47b5",
   "metadata": {},
   "source": [
    "## Let's access some remote data!"
   ]
  },
  {
   "cell_type": "code",
   "execution_count": 2,
   "id": "8e679652-bb05-418d-96e8-423a7df0d849",
   "metadata": {},
   "outputs": [],
   "source": [
    "from pydap.client import open_url\n",
    "from pydap.net import create_session"
   ]
  },
  {
   "cell_type": "code",
   "execution_count": 7,
   "id": "f83f7dd7-e316-411e-8ab8-2d73ec7b443c",
   "metadata": {},
   "outputs": [],
   "source": [
    "dataset_url = \"https://opendap.earthdata.nasa.gov/providers/POCLOUD/collections/ECCO%20Ocean%20Temperature%20and%20Salinity%20-%20Monthly%20Mean%200.5%20Degree%20(Version%204%20Release%204)/granules/OCEAN_TEMPERATURE_SALINITY_mon_mean_2017-12_ECCO_V4r4_latlon_0p50deg\""
   ]
  },
  {
   "cell_type": "markdown",
   "id": "a3ab19a7-461c-4432-9122-ac237b298ba4",
   "metadata": {},
   "source": [
    "### username / password approach\n",
    "\n",
    "Nothing is needed, other than initiate a `requests.Session` object. `pydap.net` has a function that can initiate such a session along with some additional parameters. This is:\n"
   ]
  },
  {
   "cell_type": "code",
   "execution_count": 4,
   "id": "cf72fd2f-8435-4974-80c4-903b5178bd85",
   "metadata": {},
   "outputs": [
    {
     "name": "stdout",
     "output_type": "stream",
     "text": [
      "<requests.sessions.Session object at 0x10bd906d0>\n"
     ]
    }
   ],
   "source": [
    "my_session = create_session() # default requests.session() object. \n",
    "print(my_session)"
   ]
  },
  {
   "cell_type": "markdown",
   "id": "1e344f3d-5ae7-4c73-84ff-1df528fbf56a",
   "metadata": {},
   "source": [
    "### Now, we open the remote dataset\n",
    "\n",
    "Now, all that is needed is:\n",
    "\n",
    "```python\n",
    "ds = open_url(dataset_url, session=my_session, protocol=\"dap4\")\n",
    "```\n",
    "\n",
    "The (default) requests session will recover the .netrc credentials, and no additional information is needed.\n"
   ]
  },
  {
   "cell_type": "markdown",
   "id": "a1127207-b65f-4052-bdf4-959f810e84b5",
   "metadata": {},
   "source": [
    "### Token Approach\n",
    "\n",
    "This is another approach  that is supported by various institutions, and will be used throughout the documentation. To enable token authentication, you must first make sure you have a valid (unexpired) token, and if not create a new one. For example, see this [EDL resource](https://opendap.github.io/documentation/tutorials/ClientAuthenticationWithEDLTokens.html) that is specific to NASA. \n",
    "\n",
    "To improve the user experience, `pydap.net.create_session` can take extra session arguments, such as the `token` to:\n",
    "\n",
    "- Create a `requests.session` with token information on its headers.\n",
    "- Disable automatic discovery of the `.netrc` file.\n",
    "\n",
    "\n"
   ]
  },
  {
   "cell_type": "code",
   "execution_count": 9,
   "id": "f260427e-cdca-4fea-be60-e5984b13e0f6",
   "metadata": {},
   "outputs": [],
   "source": [
    "session_extra = {\"token\": \"<Token>\"}\n",
    "\n",
    "# initialize a requests.session object with the token headers. All handled by pydap.\n",
    "my_session = create_session(session_kwargs=session_extra)"
   ]
  },
  {
   "cell_type": "code",
   "execution_count": 8,
   "id": "e0b7bc9c-db3d-4b4f-818a-ef64ed86b3b9",
   "metadata": {},
   "outputs": [
    {
     "name": "stdout",
     "output_type": "stream",
     "text": [
      ".OCEAN_TEMPERATURE_SALINITY_mon_mean_2017-12_ECCO_V4r4_latlon_0p50deg.nc\n",
      "├──SALT\n",
      "├──THETA\n",
      "├──Z_bnds\n",
      "├──latitude_bnds\n",
      "├──time_bnds\n",
      "├──longitude_bnds\n",
      "├──Z\n",
      "├──latitude\n",
      "├──longitude\n",
      "├──nv\n",
      "└──time\n"
     ]
    }
   ],
   "source": [
    "ds = open_url(dataset_url, session=my_session, protocol='dap4')\n",
    "ds.tree()"
   ]
  },
  {
   "cell_type": "markdown",
   "id": "5b6bc081-75d2-4a33-ac0a-049b8ddbced4",
   "metadata": {},
   "source": [
    "```{note}\n",
    "At this point only the metadata has been downloaded to generate the pydap dataset, and references to each remove variable have been added\n",
    "```"
   ]
  },
  {
   "cell_type": "code",
   "execution_count": null,
   "id": "beaa7099-a8a3-496b-acff-ed20e7e89090",
   "metadata": {},
   "outputs": [],
   "source": []
  }
 ],
 "metadata": {
  "kernelspec": {
   "display_name": "Python 3 (ipykernel)",
   "language": "python",
   "name": "python3"
  },
  "language_info": {
   "codemirror_mode": {
    "name": "ipython",
    "version": 3
   },
   "file_extension": ".py",
   "mimetype": "text/x-python",
   "name": "python",
   "nbconvert_exporter": "python",
   "pygments_lexer": "ipython3",
   "version": "3.11.11"
  }
 },
 "nbformat": 4,
 "nbformat_minor": 5
}
