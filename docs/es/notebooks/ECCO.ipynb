{
 "cells": [
  {
   "cell_type": "markdown",
   "id": "cba3c59f-0eb1-41a1-a531-4cd99d05d8ce",
   "metadata": {},
   "source": [
    "# Acceso a ECCOv4 por medio de EarthData in the Cloud de la NASA\n",
    "\n",
    "Este tutorial demuestra acceso al producto [ECCOv4](https://ecco-group.org/) de un modelo numerico global. Para mayor informacion del producto de ECCO, puede ir [aqui](https://podaac.jpl.nasa.gov/cloud-datasets?view=list&ids=Projects&values=ECCO).\n",
    "\n",
    "**Requisitos**\n",
    "1. Tener una cuenta de Earth Data Login por medio de la NASA.\n",
    "2. Tener un Token valido.\n",
    "\n",
    "Tambien se puede utilizar el metodo de Nombre de Usuario / Contrasena descrito en el tutorial de [Autenticacion](Authentication)\n",
    "\n",
    "\n",
    "**Objectivos**\n",
    " \n",
    "Utilizar [pydap](https://pydap.github.io/pydap/) para demostrar\n",
    "\n",
    "- Acceso to archivos cientificos de la  NASA por medio del uso de `tokens` y [EarthData](https://www.earthdata.nasa.gov/) como metodo de autenticacion. \n",
    "\n",
    "\n",
    "Algunas variables de interes son:\n",
    "\n",
    "- [Native grid](https://podaac.jpl.nasa.gov/dataset/ECCO_L4_GEOMETRY_LLC0090GRID_V4R4)\n",
    "- [Temperature and Salinity](https://podaac.jpl.nasa.gov/dataset/ECCO_L4_TEMP_SALINITY_LLC0090GRID_MONTHLY_V4R4)\n",
    "\n",
    "\n",
    "\n",
    "`Autor`: Miguel Jimenez-Urias, '24"
   ]
  },
  {
   "cell_type": "code",
   "execution_count": null,
   "id": "dd69f13e-1576-46cc-88bf-8484bf53788f",
   "metadata": {},
   "outputs": [],
   "source": [
    "import matplotlib.pyplot as plt\n",
    "import numpy as np\n",
    "from pydap.net import create_session\n",
    "from pydap.client import open_url\n",
    "import xarray as xr\n",
    "import pydap\n"
   ]
  },
  {
   "cell_type": "code",
   "execution_count": null,
   "id": "6c735dbd-635a-4787-878b-99e54af1f9f8",
   "metadata": {},
   "outputs": [],
   "source": [
    "print(\"xarray version: \", xr.__version__)\n",
    "print(\"pydap version: \", pydap.__version__)"
   ]
  },
  {
   "cell_type": "markdown",
   "id": "4d19f749-cd0f-499b-abe7-ffe8139b5ca0",
   "metadata": {},
   "source": [
    "### Acceso a EARTHDATA\n",
    "\n",
    "El listado de las variables de este producto pueden encontrarse [aqui](https://podaac.jpl.nasa.gov/cloud-datasets?view=list&ids=Projects&values=ECCO). En este caso, accederemos a las variables en su malla original, el LL90."
   ]
  },
  {
   "cell_type": "code",
   "execution_count": null,
   "id": "592016ce-36cf-4298-b017-17fee64b5c19",
   "metadata": {},
   "outputs": [],
   "source": [
    "Grid_url = 'https://opendap.earthdata.nasa.gov/providers/POCLOUD/collections/ECCO%20Geometry%20Parameters%20for%20the%20Lat-Lon-Cap%2090%20(llc90)%20Native%20Model%20Grid%20(Version%204%20Release%204)/granules/GRID_GEOMETRY_ECCO_V4r4_native_llc0090'"
   ]
  },
  {
   "cell_type": "markdown",
   "id": "df65130f-8837-41d9-8d70-5342f55d94c8",
   "metadata": {},
   "source": [
    "### Autenticacion via `.netrc`\n",
    "\n",
    "Las credenciales son recuperadas automaticamente por `pydap`.\n"
   ]
  },
  {
   "cell_type": "code",
   "execution_count": null,
   "id": "5123aa6a-5c3d-465f-b758-179394069d6e",
   "metadata": {},
   "outputs": [],
   "source": [
    "my_session = create_session()"
   ]
  },
  {
   "cell_type": "markdown",
   "id": "a3ddd3ad-f0d1-4f7a-9f1e-bddb1a9dde4c",
   "metadata": {},
   "source": [
    "### Alternativa: El use the tokens\n",
    "```python\n",
    "session_extra = {\"token\": \"YourToken\"}\n",
    "\n",
    "# initialize a requests.session object with the token headers. All handled by pydap.\n",
    "my_session = create_session(session_kwargs=session_extra)\n",
    "```"
   ]
  },
  {
   "cell_type": "markdown",
   "id": "fa0042cb-053d-424b-971c-ed8b0d325725",
   "metadata": {},
   "source": [
    "### Accesso a los metadatos solamente, por medio de pydap\n",
    "\n",
    "`pydap` aprovecha el protocolo de OPeNDAP, el cual permite la separacion de los metadatos de los valores numericos. Esto permite una inspeccion remota de los datasets."
   ]
  },
  {
   "cell_type": "code",
   "execution_count": null,
   "id": "5ced1396-be08-4a0b-b487-c430781bd247",
   "metadata": {},
   "outputs": [],
   "source": [
    "ds_grid = open_url(Grid_url, session=my_session, protocol=\"dap4\")"
   ]
  },
  {
   "cell_type": "code",
   "execution_count": null,
   "id": "1bb158d1-7184-4d07-b152-bfb9f6300ffc",
   "metadata": {},
   "outputs": [],
   "source": [
    "ds_grid.tree()"
   ]
  },
  {
   "cell_type": "markdown",
   "id": "0c71e926-602f-4e56-a92f-2a89dbaf8bd4",
   "metadata": {},
   "source": [
    "```{note}\n",
    "PyDAP accesa solo a los metadatos de archivo en el servidor de OPeNDAP, y ningun arreglo numerico ha sido descargardo hasta este punto!\n",
    "```"
   ]
  },
  {
   "cell_type": "markdown",
   "id": "bdeafa57-cc97-4c6d-99f1-138ba7d5b432",
   "metadata": {},
   "source": [
    "**Para descargar los arreglos numericos hay que indexar la variable**\n",
    "\n",
    "Esto es, de la siguiente manera:\n",
    "\n",
    "```python\n",
    "# this fetches remote data into a pydap object container\n",
    "pydap_Array = dataset[<VarName>][:]\n",
    "```\n",
    "donde `<VarName>` es el nombre de una de las variables. El producto sera una representation \"en memoria\" de tipo `pydap.model.BaseType`, el cual permite el acceso a los arreglos de `numpy`. \n",
    "\n",
    "Para extraer los valores de la variable remota, hay que ejecutar el siguiente comando\n",
    "\n",
    "```python\n",
    "# The `.data` command allows direct access to the Numpy array (e.g. for manipulation)\n",
    "pydap_Array.data\n",
    "```\n",
    "\n"
   ]
  },
  {
   "cell_type": "code",
   "execution_count": null,
   "id": "6a987764-bd3c-4385-b52c-8bcbd41038f0",
   "metadata": {},
   "outputs": [],
   "source": [
    "# lets download some data\n",
    "Depth = ds_grid['Depth'][:]\n",
    "print(type(Depth))"
   ]
  },
  {
   "cell_type": "code",
   "execution_count": null,
   "id": "5789765b-3f19-4101-b337-6c405fc19009",
   "metadata": {},
   "outputs": [],
   "source": [
    "Depth.attributes"
   ]
  },
  {
   "cell_type": "code",
   "execution_count": null,
   "id": "f7689e38-b6c8-47eb-8bc8-f2b8c0251b50",
   "metadata": {},
   "outputs": [],
   "source": [
    "Depth.shape, Depth.dims"
   ]
  },
  {
   "cell_type": "markdown",
   "id": "aa7c1737-dad3-40ce-9418-c62bbd2d42bc",
   "metadata": {},
   "source": [
    "**Visualizando el fondo oceanico `Depth` en la malla original del modelo**\n",
    "\n",
    "En este caso, el producto `ECCO` esta definido en una malla con topologia de un `Cubo Esferico`. De esta manera, la malla horizontal contiene una dimension extra llamada: `tile` o `face`. A continuacion visualizamos la variable en su topologia original"
   ]
  },
  {
   "cell_type": "code",
   "execution_count": null,
   "id": "eafb837f-baa9-40a2-ba05-226bdff9ec98",
   "metadata": {},
   "outputs": [],
   "source": [
    "Variable = [Depth[i].data for i in range(13)]\n",
    "clevels =  np.linspace(0, 6000, 100)\n",
    "cMap = 'Greys_r'"
   ]
  },
  {
   "cell_type": "code",
   "execution_count": null,
   "id": "fd406c4b-39aa-4a5d-9fe4-9d769fd455c5",
   "metadata": {},
   "outputs": [],
   "source": [
    "fig, axes = plt.subplots(nrows=5, ncols=5, figsize=(8, 8), gridspec_kw={'hspace':0.01, 'wspace':0.01})\n",
    "AXES = [\n",
    "    axes[4, 0], axes[3, 0], axes[2, 0], axes[4, 1], axes[3, 1], axes[2, 1],\n",
    "    axes[1, 1], \n",
    "    axes[1, 2], axes[1, 3], axes[1, 4], axes[0, 2], axes[0, 3], axes[0, 4],\n",
    "]\n",
    "for i in range(len(AXES)):\n",
    "    AXES[i].contourf(Variable[i], clevels, cmap=cMap)\n",
    "\n",
    "for ax in np.ravel(axes):\n",
    "    ax.axis('off')\n",
    "    plt.setp(ax.get_xticklabels(), visible=False)\n",
    "    plt.setp(ax.get_yticklabels(), visible=False)\n",
    "\n",
    "plt.show()"
   ]
  },
  {
   "cell_type": "markdown",
   "id": "7149ebc8-726b-45e6-bb7a-875902ef24de",
   "metadata": {},
   "source": [
    "**Fig. 1.** La variable `Depth` visualizada en una malla horitonzal. `Tile`s con valores `0-5` tienen un ordenamiento de valores (indiciales) `C-ordering`, mientras que cualquier arreglo numerico `tile`s `7-13` siguen el `F-ordering`. Cualquier arreglo numerico en el `arctic cap`, tiene un comportamiento de una coordenada polar."
   ]
  },
  {
   "cell_type": "markdown",
   "id": "c0b48da6-c88a-40af-a8fb-e23b9d2bb3b0",
   "metadata": {},
   "source": [
    "**Visualizacion con topologia corregida**"
   ]
  },
  {
   "cell_type": "code",
   "execution_count": null,
   "id": "b0a9b1cf-76f9-457e-b1dc-0bcdabe19aae",
   "metadata": {},
   "outputs": [],
   "source": [
    "fig, axes = plt.subplots(nrows=4, ncols=4, figsize=(8, 8), gridspec_kw={'hspace':0.01, 'wspace':0.01})\n",
    "AXES_NR = [\n",
    "    axes[3, 0], axes[2, 0], axes[1, 0], axes[3, 1], axes[2, 1], axes[1, 1],\n",
    "]\n",
    "AXES_CAP = [axes[0, 0]]\n",
    "AXES_R = [\n",
    "    axes[1, 2], axes[2, 2], axes[3, 2], axes[1, 3], axes[2, 3], axes[3, 3],\n",
    "]\n",
    "for i in range(len(AXES_NR)):\n",
    "    AXES_NR[i].contourf(Variable[i], clevels, cmap=cMap)\n",
    "\n",
    "for i in range(len(AXES_CAP)):\n",
    "    AXES_CAP[i].contourf(Variable[6].transpose()[:, ::-1], clevels, cmap=cMap)\n",
    "\n",
    "for i in range(len(AXES_R)):\n",
    "    AXES_R[i].contourf(Variable[7+i].transpose()[::-1, :], clevels, cmap=cMap)\n",
    "\n",
    "for ax in np.ravel(axes):\n",
    "    ax.axis('off')\n",
    "    plt.setp(ax.get_xticklabels(), visible=False)\n",
    "    plt.setp(ax.get_yticklabels(), visible=False)\n",
    "\n",
    "plt.show()"
   ]
  },
  {
   "cell_type": "markdown",
   "id": "e360c07e-7345-4781-8733-bb71c177a4dc",
   "metadata": {},
   "source": [
    "**Fig. 2.** Visualizacion de la variable `Depth` en una malla horizontal que approxima una malla horizontal uniforme con ejes `lat-lon`. Sin embargo, cualquier arreglo numerico en el `arctic cap`, continua en una malla que approxima una malla en coordenadas polares"
   ]
  },
  {
   "cell_type": "markdown",
   "id": "19c89fce-81f2-4739-afc9-5f42c9b1b02b",
   "metadata": {},
   "source": [
    "### Utilizando `xarray`\n",
    "\n",
    "`pydap` se puede llamar dentro de `xarray` para acceder a los archivos expuestos mediante el servidor de OPeNDAP. En particular, `xarray` permite aggregar multiples archivos remotos de opendap. A continuacion demostramos un pequeno ejemplo.\n",
    "\n",
    "\n"
   ]
  },
  {
   "cell_type": "markdown",
   "id": "2e836c7e-82b5-4025-82cc-6c99af271f41",
   "metadata": {},
   "source": [
    "**Un URL individual --> un archivo remoto**\n",
    "\n",
    "Below we access remote Temperature and Salinity ECCO data with `xarray` via (internally) `pydap`.\n"
   ]
  },
  {
   "cell_type": "code",
   "execution_count": null,
   "id": "19bb0013-a927-436e-b1fb-52734eaae820",
   "metadata": {},
   "outputs": [],
   "source": [
    "baseURL = 'https://opendap.earthdata.nasa.gov/providers/POCLOUD/collections/'\n",
    "Temp_Salt = \"ECCO%20Ocean%20Temperature%20and%20Salinity%20-%20Monthly%20Mean%20llc90%20Grid%20(Version%204%20Release%204)/granules/OCEAN_TEMPERATURE_SALINITY_mon_mean_\"\n",
    "year = '2017-'\n",
    "month = '01'\n",
    "end_ = '_ECCO_V4r4_native_llc0090'\n",
    "Temp_2017 = baseURL + Temp_Salt +year  + month + end_\n",
    "\n",
    "# Convertimos el URL en un DAP4 opendap url\n",
    "Temp_2017 = Temp_2017.replace(\"https\", \"dap4\")\n",
    "Temp_2017"
   ]
  },
  {
   "cell_type": "code",
   "execution_count": null,
   "id": "d6939219-e8b6-442f-89f8-faea0f523e1c",
   "metadata": {},
   "outputs": [],
   "source": [
    "pyds = open_url(Temp_2017, session=my_session)\n",
    "pyds.tree()"
   ]
  },
  {
   "cell_type": "markdown",
   "id": "54419fe4-fdd3-494f-b873-d94889549fb0",
   "metadata": {},
   "source": [
    "Para evitar descargas variables que no sean necesariamente de interest, se le puede instruir al Servidor Hyrax que variables requiere uno.\n",
    "\n",
    "Para esto utilizaremos las `Expresiones de Restriccion` (CE, por sus siglas en ingles). Este metodo nos ayudara a construir datasets mucho mas simples, \n",
    "y evitar descargar N veces, informacion que no es requerida.\n",
    "\n",
    "A continuacion demostramos el caso de solo requerir la variable `THETA` y sus dimensiones.\n"
   ]
  },
  {
   "cell_type": "code",
   "execution_count": null,
   "id": "a3badf2b-36ca-421c-af7b-4f74d3b43c59",
   "metadata": {},
   "outputs": [],
   "source": [
    "dims = pyds['/THETA'].dims\n",
    "Vars = ['/THETA'] + dims\n",
    "\n",
    "# Below construct Contraint Expression\n",
    "CE = \"?dap4.ce=\"+(\";\").join(Vars)\n",
    "print(\"Constraint Expression: \", CE)"
   ]
  },
  {
   "cell_type": "code",
   "execution_count": null,
   "id": "4776525d-22c9-4391-9481-778b82607e3f",
   "metadata": {},
   "outputs": [],
   "source": [
    "Temp_2017 = baseURL + Temp_Salt +year  + month + end_ + CE\n",
    "Temp_2017"
   ]
  },
  {
   "cell_type": "markdown",
   "id": "f4cf8026-780b-4c6e-b2f3-58e83e9881d2",
   "metadata": {},
   "source": [
    "### Importante\n",
    "\n",
    "Ahora aplicamos la CE a todos los possibles URLs the nuestro dataset."
   ]
  },
  {
   "cell_type": "code",
   "execution_count": null,
   "id": "8f6598d3-4ef8-4588-8c3d-589499a9f7f7",
   "metadata": {},
   "outputs": [],
   "source": [
    "Temp_2017 = [baseURL.replace(\"https\", \"dap4\") + Temp_Salt + year + f'{i:02}' + end_ + CE for i in range(1, 13)]\n",
    "Temp_2017[:3]"
   ]
  },
  {
   "cell_type": "markdown",
   "id": "4b86fe72-bb33-4942-bb04-34765bb790f0",
   "metadata": {},
   "source": [
    "###\n",
    "\n",
    "Debajo inicializaremos una session que persista, cada vez que descargue datos de servidores de OPeNDAP. En este caso utilizaremost la libraria\n",
    "`requests_cache`. El comportamiento es casi identico excepto la siguiente celda:\n"
   ]
  },
  {
   "cell_type": "code",
   "execution_count": null,
   "id": "cfe2054f-bc11-4146-b7e5-e819984854c2",
   "metadata": {},
   "outputs": [],
   "source": [
    "cache_session = create_session(use_cache=True) # caching the session\n",
    "cache_session.cache.clear() # clear all cache to demonstrate the behavior"
   ]
  },
  {
   "cell_type": "markdown",
   "id": "bc515af6-4837-42fe-b817-c4bdb1aa1920",
   "metadata": {},
   "source": [
    "```{tip}\n",
    "Ahora se puede usar el metodo `consolidated_metadata` para que pydap descarge todos los metadatos, y reusarlos.\n",
    "Para usar `consolidated_metadata` se requiere installar una version de `pydap >= 3.5.5`.\n",
    "```\n",
    "\n"
   ]
  },
  {
   "cell_type": "code",
   "execution_count": null,
   "id": "4abdc43a-e9e0-4809-aa28-4cf43460d2ce",
   "metadata": {},
   "outputs": [],
   "source": [
    "from pydap.client import consolidate_metadata"
   ]
  },
  {
   "cell_type": "code",
   "execution_count": null,
   "id": "57367004-3141-4ffd-82ee-f9b890f63d4f",
   "metadata": {},
   "outputs": [],
   "source": [
    "%%time\n",
    "consolidate_metadata(Temp_2017, cache_session)"
   ]
  },
  {
   "cell_type": "code",
   "execution_count": null,
   "id": "2640c7df-848a-4057-917d-f4527b827039",
   "metadata": {},
   "outputs": [],
   "source": [
    "%%time\n",
    "theta_salt_ds = xr.open_mfdataset(\n",
    "    Temp_2017, \n",
    "    engine='pydap',\n",
    "    session=cache_session, \n",
    "    parallel=True, \n",
    "    combine='nested', \n",
    "    concat_dim='time',\n",
    "    decode_times=False\n",
    ")"
   ]
  },
  {
   "cell_type": "code",
   "execution_count": null,
   "id": "c0794de6-0531-4a40-b7ca-47db62a0d688",
   "metadata": {},
   "outputs": [],
   "source": [
    "theta_salt_ds"
   ]
  },
  {
   "cell_type": "markdown",
   "id": "72e6cb17-09ae-4b40-9df6-52111fa93f0d",
   "metadata": {},
   "source": [
    "### Finalmente, visualizamos `THETA`"
   ]
  },
  {
   "cell_type": "code",
   "execution_count": null,
   "id": "d6fc98b7-929b-4817-8a5b-de87e9411b9a",
   "metadata": {},
   "outputs": [],
   "source": [
    "Variable = [theta_salt_ds['THETA'][0, 0, i, :, :] for i in range(13)]\n",
    "clevels = np.linspace(-5, 30, 100)\n",
    "cMap='RdBu_r'"
   ]
  },
  {
   "cell_type": "code",
   "execution_count": null,
   "id": "decbc593-4a34-4a35-b411-1f320564b217",
   "metadata": {},
   "outputs": [],
   "source": [
    "fig, axes = plt.subplots(nrows=4, ncols=4, figsize=(8, 8), gridspec_kw={'hspace':0.01, 'wspace':0.01})\n",
    "AXES_NR = [\n",
    "    axes[3, 0], axes[2, 0], axes[1, 0], axes[3, 1], axes[2, 1], axes[1, 1],\n",
    "]\n",
    "AXES_CAP = [axes[0, 0]]\n",
    "AXES_R = [\n",
    "    axes[1, 2], axes[2, 2], axes[3, 2], axes[1, 3], axes[2, 3], axes[3, 3],\n",
    "]\n",
    "for i in range(len(AXES_NR)):\n",
    "    AXES_NR[i].contourf(Variable[i], clevels, cmap=cMap)\n",
    "\n",
    "for i in range(len(AXES_CAP)):\n",
    "    AXES_CAP[i].contourf(Variable[6].transpose()[:, ::-1], clevels, cmap=cMap)\n",
    "\n",
    "for i in range(len(AXES_R)):\n",
    "    AXES_R[i].contourf(Variable[7+i].transpose()[::-1, :], clevels, cmap=cMap)\n",
    "\n",
    "for ax in np.ravel(axes):\n",
    "    ax.axis('off')\n",
    "    plt.setp(ax.get_xticklabels(), visible=False)\n",
    "    plt.setp(ax.get_yticklabels(), visible=False)\n",
    "\n",
    "plt.show()"
   ]
  },
  {
   "cell_type": "markdown",
   "id": "96a83c6b-8e48-43b4-9b9e-f3d3896d9809",
   "metadata": {},
   "source": [
    "**Fig. 3.** Visualizacion de la variable `Surface temperature`, similar al metodo utilizado en la Figura 2."
   ]
  },
  {
   "cell_type": "code",
   "execution_count": null,
   "id": "82ec5f83-600f-48fc-968c-f44447f1a839",
   "metadata": {},
   "outputs": [],
   "source": []
  }
 ],
 "metadata": {
  "kernelspec": {
   "display_name": "Python 3 (ipykernel)",
   "language": "python",
   "name": "python3"
  },
  "language_info": {
   "codemirror_mode": {
    "name": "ipython",
    "version": 3
   },
   "file_extension": ".py",
   "mimetype": "text/x-python",
   "name": "python",
   "nbconvert_exporter": "python",
   "pygments_lexer": "ipython3",
   "version": "3.11.12"
  }
 },
 "nbformat": 4,
 "nbformat_minor": 5
}
