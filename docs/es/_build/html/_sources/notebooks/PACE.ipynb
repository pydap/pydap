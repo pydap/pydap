{
 "cells": [
  {
   "cell_type": "markdown",
   "id": "2ab1781b-9318-4fda-a523-71a60f87aa44",
   "metadata": {},
   "source": [
    "# PACE\n",
    "\n",
    "Este tutorial demuestra el acceso a los datos de color del océano de PACE. Se puede encontrar información general sobre el conjunto de datos en el sitio web de PACE (ver [aquí](https://oceandata.sci.gsfc.nasa.gov)).\n",
    "\n",
    "**Requisitos para este tutorial**\n",
    "1. Contar con una cuenta de Earth Data Login.\n",
    "2. Tener un EDL Token valido.\n",
    "\n",
    "Tambien se puede utilizar el metodo de Nombre de Usuario / Contrasena descrito en el tutorial de [Autenticacion](Authentication)\n",
    "\n",
    "**Objectivos**\n",
    " \n",
    "Utilizar [pydap](https://pydap.github.io/pydap/) para\n",
    "\n",
    "- Acceder a [EarthData in the cloud](https://www.earthdata.nasa.gov/) de la NASA mediante el uso de `tokens`.\n",
    "- Acceder/descargar datos cientificos del programa de `PACE` utilizando los servidores de `OPeNDAP`.\n",
    "\n",
    "`Autor`: Miguel Jimenez-Urias, '24"
   ]
  },
  {
   "cell_type": "code",
   "execution_count": null,
   "id": "0fa31dfb-2d83-4e74-b672-57a7c1da0f21",
   "metadata": {},
   "outputs": [],
   "source": [
    "import matplotlib.pyplot as plt\n",
    "import numpy as np\n",
    "from pydap.net import create_session\n",
    "from pydap.client import open_url\n",
    "import cartopy.crs as ccrs\n",
    "import xarray as xr"
   ]
  },
  {
   "cell_type": "markdown",
   "id": "c600be3d-cb1b-45e2-a3ee-19cffda4511e",
   "metadata": {},
   "source": [
    "### Accesso a EARTHDATA\n",
    "\n",
    "El catalogo de PACE mediante el servidor de OPeNDAP se puede accesar [aqui](https://oceandata.sci.gsfc.nasa.gov/opendap/PACE_OCI/L3SMI/2024/contents.html). Los datos empezaron a publicarse en 2024.\n"
   ]
  },
  {
   "cell_type": "code",
   "execution_count": null,
   "id": "ca9ed69f-d06a-4f77-a274-cfe8dcf260d3",
   "metadata": {},
   "outputs": [],
   "source": [
    "# slow download URL / higher resolution\n",
    "url_DAP4 = \"http://oceandata.sci.gsfc.nasa.gov/opendap/PACE_OCI/L3SMI/2024/0310/PACE_OCI.20240310.L3m.DAY.CHL.V2_0.chlor_a.4km.NRT.nc\""
   ]
  },
  {
   "cell_type": "markdown",
   "id": "ce21fee0-5d50-459e-930a-573af6488758",
   "metadata": {},
   "source": [
    "### Autenticacion via `.netrc`\n",
    "\n",
    "Las credenciales son recuperadas automaticamente por `pydap`.\n"
   ]
  },
  {
   "cell_type": "code",
   "execution_count": null,
   "id": "0234f8f0-5c22-44f7-97f2-01ed7a41f1b5",
   "metadata": {},
   "outputs": [],
   "source": []
  },
  {
   "cell_type": "code",
   "execution_count": null,
   "id": "3dc75b1f-ec11-4ae3-bd1d-9f4c5dc2939e",
   "metadata": {},
   "outputs": [],
   "source": [
    "\n",
    "\n",
    "session_extra = {\"token\": \"YourToken\"}\n",
    "\n",
    "my_session = create_session(session_kwargs=session_extra)"
   ]
  },
  {
   "cell_type": "code",
   "execution_count": null,
   "id": "9add5aa3-35b8-4c4b-9e12-7f5f84f5ce5a",
   "metadata": {},
   "outputs": [],
   "source": [
    "%%time\n",
    "ds_full = open_url(url_DAP4, session=my_session, protocol='dap4')"
   ]
  },
  {
   "cell_type": "code",
   "execution_count": null,
   "id": "ca03f8e2-9332-40ad-a8f7-6fee884f7763",
   "metadata": {},
   "outputs": [],
   "source": [
    "ds_full.tree()"
   ]
  },
  {
   "cell_type": "markdown",
   "id": "9edb0fdd-502a-4bc2-9589-f4a58a0ee1f9",
   "metadata": {},
   "source": [
    "```{note}\n",
    "PyDAP accesa a los metadatos solamente. Los valores/arreglos numericos no se an descargado and no data has been downloaded yet!\n",
    "```"
   ]
  },
  {
   "cell_type": "code",
   "execution_count": null,
   "id": "95b0f38f-5e59-469f-9476-e972d1448f1a",
   "metadata": {},
   "outputs": [],
   "source": [
    "ds_full['chlor_a'].attributes"
   ]
  },
  {
   "cell_type": "code",
   "execution_count": null,
   "id": "b98aaa22-b04f-4c81-844c-f143c714473a",
   "metadata": {},
   "outputs": [],
   "source": [
    "print('uncompressed dataset size [GBs]: ', ds_full.nbytes / 1e9)"
   ]
  },
  {
   "cell_type": "code",
   "execution_count": null,
   "id": "bdfc0282-0c00-4fa4-aa8d-b812c22f94e6",
   "metadata": {},
   "outputs": [],
   "source": [
    "ds_full['chlor_a'].shape"
   ]
  },
  {
   "cell_type": "code",
   "execution_count": null,
   "id": "8f6c49d0-a405-46a3-a6ed-b57eb4bd1750",
   "metadata": {},
   "outputs": [],
   "source": [
    "print('uncompressed dataset size [GBs]: ', ds_full['chlor_a'].nbytes / 1e9)"
   ]
  },
  {
   "cell_type": "markdown",
   "id": "711f5565-795f-43e7-9faa-3217379e00ac",
   "metadata": {},
   "source": [
    "### El arreglo numerico se descarga al indexar la variable pydap\n",
    "\n",
    "\n",
    "En este paso, descargamos y decodificamos todos los valores de `longitude` y `latitude`. Cada una de estas variables es un arreglo uni-dimensional, minimizando la cantidad que deseamos descargar.\n",
    "\n",
    "**Decodificando los valores del arreglo numerico:**\n",
    "Un paso muy importante es la decodification de los valores numericos del archivo. `pydap` no decodifica los valores numericos lo que significa que el usuario debe de hacerlo manualmente. Para hacerlo, el usuario tiene que estar un poco familiarizado con las convenciones de metadatos\n",
    "\n",
    "\n",
    "**CF - Conventions**\n",
    "Cada archivo cientifico accessible mediante servidores de OPeNDAP cuenta con metadatos que describen el contenido del archivo de manera global, y tambien describen los valores de cada variable. A estos metadatos de les llama atributos y los mas comunes (a nivel de variable) son:\n",
    "\n",
    "- `standard name`\n",
    "- `units`\n",
    "- `_FillValue`\n",
    "- `scale_factor`\n",
    "- `off_set`\n",
    "\n",
    "A continuacion demostramos una pequena function que utiliza los attributos de cada variable para decodificarla\n",
    "\n",
    "\n"
   ]
  },
  {
   "cell_type": "code",
   "execution_count": null,
   "id": "18dcc781-f79c-4ebd-9984-d3882598cd4c",
   "metadata": {},
   "outputs": [],
   "source": [
    "def decode(variable) -> np.ndarray:\n",
    "    \"\"\"Decodes the variable BaseType according with atributes:\n",
    "        _FillValue\n",
    "        scale_factor\n",
    "\n",
    "    Parameters:\n",
    "        variable: BaseType (pydap model)\n",
    "    \"\"\"\n",
    "    scale_factor = 1\n",
    "    _Fillvalue = None\n",
    "\n",
    "    if 'scale_factor' in variable.attributes:\n",
    "        scale_factor = variable.scale_factor\n",
    "    if '_FillValue' in variable.attributes:\n",
    "        data = np.where(variable.data == variable._FillValue, np.nan, variable.data)    \n",
    "    else:\n",
    "        data = variable.data\n",
    "    return scale_factor * data"
   ]
  },
  {
   "cell_type": "markdown",
   "id": "c137143b-c530-4ee9-9115-323b153e2fdf",
   "metadata": {},
   "source": [
    "### Ahora si, descargamos variables uni-dimensionales que definen la cobertura espacial del archivo"
   ]
  },
  {
   "cell_type": "code",
   "execution_count": null,
   "id": "a7aad364-ab08-406d-a3d5-0cbb1493324b",
   "metadata": {},
   "outputs": [],
   "source": [
    "lon = decode(ds_full['lon'][:])\n",
    "lat = decode(ds_full['lat'][:])"
   ]
  },
  {
   "cell_type": "code",
   "execution_count": null,
   "id": "cf9ed3dc-0a83-40f2-a75f-bbb2c8a37f8f",
   "metadata": {},
   "outputs": [],
   "source": [
    "print(\"tamano del arreglo de latitud: \", lat.shape)"
   ]
  },
  {
   "cell_type": "code",
   "execution_count": null,
   "id": "0eba9a29-bb5f-4aad-8617-1d3763e07392",
   "metadata": {},
   "outputs": [],
   "source": [
    "print(\"Rango de valores del arreglo de latitud: \", (lat.min(), lat.max()))"
   ]
  },
  {
   "cell_type": "code",
   "execution_count": null,
   "id": "a3b0c340-b8d5-4e47-bbae-eeaba3992ee4",
   "metadata": {},
   "outputs": [],
   "source": [
    "print(\"tamano del arreglo de longitud: \", lon.shape)"
   ]
  },
  {
   "cell_type": "code",
   "execution_count": null,
   "id": "c97ed0c1-58ee-45f0-8b63-84b676d9fda2",
   "metadata": {},
   "outputs": [],
   "source": [
    "print(\"Rango de valores del arreglo de longitud: \", (lon.min(), lon.max()))"
   ]
  },
  {
   "cell_type": "markdown",
   "id": "9210aa98-af27-40be-aa96-55d27a233422",
   "metadata": {},
   "source": [
    "```{warning}\n",
    "No todas las variables que definen los valores de los arreglos de latitud y longitud son monotonos. En este caso, el achivo describe informacion en el nivel de procesamiento L3 (`level 3` por sus siglas en ingles). En este caso, la mayoria de las variables estan mapeadas a una malla uniforma de longitude y latitude. Aun asi, se recomienda explorar detalladamente si las coordenadas de longitude y latitude estan definidas en una malla uniforme. \n",
    "```"
   ]
  },
  {
   "cell_type": "markdown",
   "id": "27b79bb3-1e8b-4983-b2ee-abecf080f059",
   "metadata": {},
   "source": [
    "### Definimos ahora la zona de interes\n",
    "\n",
    "Para reducir el tamano de la descarga del archivo remoto en el servidor de OPeNDAP, buscaremos los indices que definen una zona de interes. Ya teniendo los valores, podremos descargar las variables multidimensionales de interest.\n",
    "\n"
   ]
  },
  {
   "cell_type": "code",
   "execution_count": null,
   "id": "3fe73ecf-d67a-42b8-ac1f-12a73f087807",
   "metadata": {},
   "outputs": [],
   "source": [
    "minLon = -96 # longitud minima de interes\n",
    "maxLon = 10 # longitud maxima de interes"
   ]
  },
  {
   "cell_type": "code",
   "execution_count": null,
   "id": "0cb27d60-0ff6-4eb7-b8e1-f897a4e09b63",
   "metadata": {},
   "outputs": [],
   "source": [
    "minLat = 6 # longitude minima de interes\n",
    "maxLat = 70 # longitud maxima de interes"
   ]
  },
  {
   "cell_type": "code",
   "execution_count": null,
   "id": "4ba55175-a960-4b07-81e9-ceafc454e699",
   "metadata": {},
   "outputs": [],
   "source": [
    "iLon = np.where((lon>minLon)&(lon < maxLon))[0]\n",
    "iLat= np.where((lat>minLat)&(lat < maxLat))[0]"
   ]
  },
  {
   "cell_type": "markdown",
   "id": "f39eb184-c816-4772-86f2-9dda676a2d98",
   "metadata": {},
   "source": [
    "## Visualizacion\n",
    "Como buena practica, es recomendable revisar que los valores encontrados corresponden a los de interes."
   ]
  },
  {
   "cell_type": "code",
   "execution_count": null,
   "id": "5cb4062c-8287-4f94-8cf8-fd5ca65e6ec1",
   "metadata": {},
   "outputs": [],
   "source": [
    "plt.figure(figsize=(12,4))\n",
    "plt.subplot(121)\n",
    "plt.plot(lon, 'k--', alpha=0.75)\n",
    "plt.plot(iLon,lon[iLon], 'r', lw=6)\n",
    "plt.xlabel('x-indexes of original remote file')\n",
    "plt.ylabel(\"Longitudes\")\n",
    "plt.subplot(122)\n",
    "plt.plot(lat,'k--', alpha=0.75)\n",
    "plt.plot(iLat,lat[iLat], 'r', lw=6)\n",
    "plt.xlabel('y-indexes of original remote file')\n",
    "plt.ylabel(\"Latitude\")\n",
    "plt.show()"
   ]
  },
  {
   "cell_type": "markdown",
   "id": "0c220daa-072f-4073-8031-15de5d4567d9",
   "metadata": {},
   "source": [
    "## Descargamos la variable de interes\n"
   ]
  },
  {
   "cell_type": "code",
   "execution_count": null,
   "id": "047eb2d3-1f67-4f9c-8f27-91dd513e282d",
   "metadata": {},
   "outputs": [],
   "source": [
    "%%time\n",
    "CHLOR_A = decode(ds_full['chlor_a'][iLat[0]:iLat[-1],iLon[0]:iLon[-1]])"
   ]
  },
  {
   "cell_type": "code",
   "execution_count": null,
   "id": "a01625da-f6a0-4283-ac5e-bb4efa7ba5e9",
   "metadata": {},
   "outputs": [],
   "source": [
    "## Solo la region de interes fue descargada"
   ]
  },
  {
   "cell_type": "code",
   "execution_count": null,
   "id": "85ec90eb-77e2-48a6-8d7d-8907968f880c",
   "metadata": {},
   "outputs": [],
   "source": [
    "print(\"tamano original de archivo remoto: \", ds_full['chlor_a'].shape)"
   ]
  },
  {
   "cell_type": "code",
   "execution_count": null,
   "id": "2e60a111-a522-44eb-98c7-ad46da7f4f3e",
   "metadata": {},
   "outputs": [],
   "source": [
    "print(\"tamano del archivo que se descargo: \",CHLOR_A.shape)"
   ]
  },
  {
   "cell_type": "code",
   "execution_count": null,
   "id": "9ed9ae7a-f46e-48f0-af01-9c9129fec70d",
   "metadata": {},
   "outputs": [],
   "source": [
    "Lon, Lat = np.meshgrid(lon[iLon[0]:iLon[-1]], lat[iLat[0]:iLat[-1]])"
   ]
  },
  {
   "cell_type": "code",
   "execution_count": null,
   "id": "b82827b8-9317-429f-9511-0e3b99a78158",
   "metadata": {},
   "outputs": [],
   "source": [
    "plt.figure(figsize=(25, 8))\n",
    "ax = plt.axes(projection=ccrs.PlateCarree())\n",
    "ax.set_global()\n",
    "ax.coastlines()\n",
    "plt.contourf(Lon, Lat, np.log(CHLOR_A), 400, cmap='nipy_spectral')\n",
    "plt.colorbar().set_label(ds_full['chlor_a'].name + ' ['+ds_full['chlor_a'].units+']');"
   ]
  },
  {
   "cell_type": "markdown",
   "id": "b0d9d435-e619-47a2-81c0-30ff0d354d24",
   "metadata": {},
   "source": [
    "**Fig 2.** Visualizacion de la variable `Chlorophyll a` que se descargo de un servidor de OPeNDAP remoto. "
   ]
  },
  {
   "cell_type": "markdown",
   "id": "813f696b-51a7-4255-bf48-96333ab2ce3d",
   "metadata": {},
   "source": []
  },
  {
   "cell_type": "code",
   "execution_count": null,
   "id": "f4d5b4ad-19c3-4229-a437-7540e326a5cf",
   "metadata": {},
   "outputs": [],
   "source": [
    "plt.figure(figsize=(25, 8))\n",
    "ax = plt.axes(projection=ccrs.PlateCarree())\n",
    "ax.coastlines()\n",
    "plt.contourf(Lon, Lat, np.log(CHLOR_A), 400, cmap='nipy_spectral')\n",
    "plt.colorbar().set_label(ds_full['chlor_a'].name + ' ['+ds_full['chlor_a'].units+']')\n",
    "plt.show()"
   ]
  },
  {
   "cell_type": "markdown",
   "id": "450431ad-7ac3-4f41-b9d4-e9c6e530074a",
   "metadata": {},
   "source": [
    "**Fig 3.** Visualizacion de la variable `Chlorophyll a` que se descargo de un servidor de OPeNDAP remoto, pero ahora la grafica se enfoca la region que cubren los datos descargados"
   ]
  },
  {
   "cell_type": "code",
   "execution_count": null,
   "id": "506d464d-3acc-44a0-9b46-ce26e2b95e2c",
   "metadata": {},
   "outputs": [],
   "source": []
  }
 ],
 "metadata": {
  "kernelspec": {
   "display_name": "Python 3 (ipykernel)",
   "language": "python",
   "name": "python3"
  },
  "language_info": {
   "codemirror_mode": {
    "name": "ipython",
    "version": 3
   },
   "file_extension": ".py",
   "mimetype": "text/x-python",
   "name": "python",
   "nbconvert_exporter": "python",
   "pygments_lexer": "ipython3",
   "version": "3.11.11"
  }
 },
 "nbformat": 4,
 "nbformat_minor": 5
}
