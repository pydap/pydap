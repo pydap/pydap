{
 "cells": [
  {
   "cell_type": "markdown",
   "id": "3cdc24e9-f0de-4820-871e-cea5bdbb9a73",
   "metadata": {},
   "source": [
    "# Tutorial de 5 minutos\n",
    "\n",
    "La manera mas accesible de usar `pydap` es como `cliente` de acceso a datos cientificos en servidores de [OPeNDAP](https://www.opendap.org/). Para ello, puedes utilizar `pydap` de directamente por medio del metodo  `open_url`, or usa `pydap` como [engine](https://docs.xarray.dev/en/stable/user-guide/io.html#opendap) por medio de `xarray` directamente. `xarray` hace possible el uso de las herramientas del ecosistema de [Pangeo](https://pangeo.io/).\n",
    "\n",
    "## OPeNDAP - La vision original\n",
    "La vision original de [OPeNDAP](https://www.opendap.org/) ([Cornillion, et al 1993](https://zenodo.org/records/10610992)) fue el hacer la equivalencia:\n",
    "\n",
    "$ \\;\\;\\;\\;\\;\\;\\;\\;\\;\\;\\;\\;\\;\\;\\;\\;\\;\\;\\;\\;\\;\\;\\;\\;\\;\\;\\;\\;\\;\\;\\;\\;\\;\\;\\;\\;\\; \\boxed{\\text{URL} \\approx \\text{Dataset Remoto} }$\n",
    "\n",
    "\n",
    "Y ademas, \n",
    "\n",
    "$ \\;\\;\\;\\;\\;\\;\\;\\;\\;\\;\\;\\;\\;\\;\\;\\;\\;\\;\\; \\boxed{\\text{URL + Restricciones} \\approx \\text{Subregion de un Dataset Remoto}} $\n",
    "\n",
    "\n",
    "En este corto tutorial demostraremos el accesso a informacion cientifica en un servidor de OPeNDAP por medio de\n",
    "\n",
    "- `pydap`\n",
    "- `xarray`\n",
    "\n",
    "For more information about [OPeNDAP](https://www.opendap.org/) and Hyrax you can go to the official [OPeNDAP documentation](https://opendap.github.io/documentation/UserGuideComprehensive.html).\n",
    "\n",
    "El dataset remote que utilizaremos en este tutorial puede ser inspeccionado [aqui](http://test.opendap.org:8080/opendap/tutorials/20220531090000-JPL-L4_GHRSST-SSTfnd-MUR-GLOB-v02.0-fv04.1.nc.dmr.html)\n"
   ]
  },
  {
   "cell_type": "code",
   "execution_count": null,
   "id": "d3db3dfb-0d2d-4bab-8b50-864bfc7602dc",
   "metadata": {},
   "outputs": [],
   "source": [
    "from pydap.client import open_url\n",
    "import xarray as xr\n",
    "import numpy as np"
   ]
  },
  {
   "cell_type": "markdown",
   "id": "5697eb49-ffdd-45b3-9825-f4b8b28fa7d3",
   "metadata": {},
   "source": [
    "Ahora definimos el `URL` que apunta al dataset remoto en el servidor de `OPeNDAP`."
   ]
  },
  {
   "cell_type": "code",
   "execution_count": null,
   "id": "9eedc2d6-23de-42af-a6b4-5789244e8c06",
   "metadata": {},
   "outputs": [],
   "source": [
    "url = \"http://test.opendap.org:8080/opendap/tutorials/20220531090000-JPL-L4_GHRSST-SSTfnd-MUR-GLOB-v02.0-fv04.1.nc\""
   ]
  },
  {
   "cell_type": "markdown",
   "id": "be908ec8-d715-4a5c-89d5-71905e1ea57b",
   "metadata": {},
   "source": [
    "## `PyDAP`\n",
    "Empezamos primero el acceso al archivo usando solamente `Pydap`"
   ]
  },
  {
   "cell_type": "code",
   "execution_count": null,
   "id": "fe51afda-0757-4a46-9b11-9c0999640842",
   "metadata": {},
   "outputs": [],
   "source": [
    "pydap_ds = open_url(url, protocol='dap4')"
   ]
  },
  {
   "cell_type": "markdown",
   "id": "67c1e87c-d6fc-4229-a85d-1dbe02a19f2a",
   "metadata": {},
   "source": [
    "```{note}\n",
    "Ademas del argumento `url` que define al dataset, tambien definimos el argumento `protocol=\"dap4\"`. Esto hace referencia al Protocol de OPeNDAP. Otra opcion es:  `protocol='dap2'`. \n",
    "```\n",
    "\n",
    "```{note}\n",
    "Existen muchos servidores de OPeNDAP,pero solo 2 de ellos implementan el protocolo `DAP4`. Cualquier servidor que implemente `DAP4` tambien implementa `DAP2`. En este tutorial nos enfocaremos en `DAP4`. \n",
    "```\n",
    "\n",
    "\n",
    "`pydap` descarga del servidor OPeNDAP los metadatos, es decir, la informacion que describe los contenidos del archivo remote. Sin embargo, ningun dato numerico or binario a sido descargado hasta este momento. Para visualizar las variables que existen dentro del archivo, executamos el metodo `.tree()`:\n",
    "\n",
    "\n"
   ]
  },
  {
   "cell_type": "code",
   "execution_count": null,
   "id": "50646388-a62a-4fc1-a832-3b5a863ccc4a",
   "metadata": {},
   "outputs": [],
   "source": [
    "pydap_ds.tree()"
   ]
  },
  {
   "cell_type": "code",
   "execution_count": null,
   "id": "a89f30dc-00b2-4ff4-aca1-e57f984a23c2",
   "metadata": {},
   "outputs": [],
   "source": [
    "pydap_ds['sst_anomaly'].shape"
   ]
  },
  {
   "cell_type": "code",
   "execution_count": null,
   "id": "21ec4831-377b-4bb3-afdb-43564db1ad44",
   "metadata": {},
   "outputs": [],
   "source": [
    "print('La variable numerica `sst_anomaly` ocupa: ', pydap_ds['sst_anomaly'].nbytes/1e9, '[GBs] de memoria')"
   ]
  },
  {
   "cell_type": "markdown",
   "id": "5ab0d52d-7c64-4689-be0f-a8caf70e0cb4",
   "metadata": {},
   "source": [
    "```{note}\n",
    "Solo los metadatos han sido descargados. `PyDAP` processa estos metadatos del URL remoto para create el `Dataset` que hace referencia al contenido del archivo remoto. \n",
    "```"
   ]
  },
  {
   "cell_type": "markdown",
   "id": "a5506f6d-8de8-40ba-b20e-1d9a8def20bc",
   "metadata": {},
   "source": [
    "Cada variable contiene `atributos` que describen los valores, y algunas de las transformaciones que deben efectuarse para darle sentido fisico a las variables en si. Por ejemplo,  `scale_factor`, `offsets` and `_FillValue`.\n"
   ]
  },
  {
   "cell_type": "code",
   "execution_count": null,
   "id": "1f1a8f28-47fa-492f-858c-5004e7c451b8",
   "metadata": {},
   "outputs": [],
   "source": [
    "pydap_ds['sst_anomaly'].attributes"
   ]
  },
  {
   "cell_type": "markdown",
   "id": "c15813d2-80e5-41c4-b8c1-ca1c5b24aace",
   "metadata": {},
   "source": [
    "Los metadatos cientificos siguen las convenciones definidas en: [NetCDF Climate and Forcasts (CF) Metadata Conventions](https://cfconventions.org/cf-conventions/cf-conventions.html).\n"
   ]
  },
  {
   "cell_type": "markdown",
   "id": "12184166-a4d7-4d80-86fe-e0838c4c13c0",
   "metadata": {},
   "source": [
    "### **Como Descargar el Arreglo numerico de la variable remota**\n",
    "\n",
    "Como se menciono, `Pydap` no ha descargado ningun arreglo numerico. Para descargar los valores de digamos una vbariable de interes, uno debe de indexar la varible de `Pydap`. Por ejemplo, la variable\n",
    "\n",
    "```python\n",
    " pydap_ds['sst_anomaly']\n",
    "```\n",
    "tiene las siguientes dimensiones: `(1, 17999, 36000)`. Uno puede descarga una fraccion de la variable, por ejemplo el elemento `0` de la primera dimension, los primeros `10` elementos de la segunda dimension, y los primeros `10` de la tercera dimension, de la manera siguiente:"
   ]
  },
  {
   "cell_type": "code",
   "execution_count": null,
   "id": "215ef5ba-b1d4-4459-9f22-5b5dd027412b",
   "metadata": {},
   "outputs": [],
   "source": [
    "%%time\n",
    "array = pydap_ds['sst_anomaly'][0, 0:10, 0:10]"
   ]
  },
  {
   "cell_type": "code",
   "execution_count": null,
   "id": "a5ecc7c2-c907-4d6f-b4ea-90a8f5a38e48",
   "metadata": {},
   "outputs": [],
   "source": [
    "np.shape(array)"
   ]
  },
  {
   "cell_type": "markdown",
   "id": "7cd040f7-8fb1-4b51-9c07-ab5e201a9169",
   "metadata": {},
   "source": [
    "Como se demonstro, el nuevo tamano de la variable `array` es `(1, 10, 10)`. \n",
    "\n",
    "Al descargar la variable `sst_anomaly` y assignarla al objecto: `array`, este objeto no es todavia un arreglo NumPy, sino es un `BaseType` del model de `pydap`:"
   ]
  },
  {
   "cell_type": "code",
   "execution_count": null,
   "id": "a81fd0b9-9ecf-413f-9abe-e6f4d030990f",
   "metadata": {},
   "outputs": [],
   "source": [
    "type(array)"
   ]
  },
  {
   "cell_type": "markdown",
   "id": "b4ba5656-bdcf-4e03-84e0-f28c777064dc",
   "metadata": {},
   "source": [
    "Para extraer el arreglo NumPy de cada `BaseType`, uno tiene que executar la siguiente instruccion:"
   ]
  },
  {
   "cell_type": "code",
   "execution_count": null,
   "id": "bab91aab-0ece-43c4-ade1-1796f44a0aec",
   "metadata": {},
   "outputs": [],
   "source": [
    "data = array.data"
   ]
  },
  {
   "cell_type": "code",
   "execution_count": null,
   "id": "ddbfa280-b88f-4c53-816e-3ef912cb78e3",
   "metadata": {},
   "outputs": [],
   "source": [
    "type(data)"
   ]
  },
  {
   "cell_type": "markdown",
   "id": "b7946ea1-0357-4666-a575-c29044610092",
   "metadata": {},
   "source": [
    "## Utiliza el Servidor Remoto\n",
    "\n",
    "Cuando el usuario hace la siguiente operacion:\n",
    "\n",
    "```python\n",
    "pydap_ds['sst_anomaly'][0, 0:10, 0:10]\n",
    "``\n",
    "\n",
    "Lo que `Pydap` hace internamente es generar el URL con la Expression de Restriccion. EL Servidor de OPeNDAP reconoce este URL y manda la informacion numerica especificada en el resultante URL. Eso significa que el archivo completo nunca fue descargado! Solo parte espeficidada en el URL. En este caso, Pydap incluyo la siguiente informacion al URL:\n",
    "\n",
    "```python\n",
    "<OPeNDAP_URL> + \"?dap4.ce=\\sst_anomaly[0][0:1:9][0:1:9]\"\n",
    "```\n",
    "Un usuario puede realizar esta operacion manual, pero `pydap` facilita y automatiza este procedimiento. El URL de arriba implica que de todo el dataset original, solo la variable `sst_anomaly` es requerida, y de todo el dominio de la variable, solo la region especificada por las indexes `[0][0:1:9][0:1:9]` debe ser mandada por el servidor OPeNDAP. ENtonces, es el Servidor OPeNDAP remote el que realiza la operacion de abrir y mandar la informacion numerica al usuario. Lo indexes en el URL implican\n",
    "\n",
    "- El primer elemento dela primera dimension (en este caso, `time`).\n",
    "- `[0:1:9]` indica los primeros `10` elementos de la segunda dimension (llamada `lat`).\n",
    "- `[0:1:9]` indica los primeros `10` elementos de la tercera dimension (llamada `lon`).\n",
    "\n",
    "### \n",
    "\n",
    "A continuacion, utilizamos `pydap` con el URL que incluye la condicion de Restriccion (CE) para descargar las variables `lat` y `sst_anomaly`\n",
    "\n",
    "\n"
   ]
  },
  {
   "cell_type": "code",
   "execution_count": null,
   "id": "2e3365f5-bafa-4e1e-b45f-e1f0713deb5b",
   "metadata": {},
   "outputs": [],
   "source": [
    "CE = \"?dap4.ce=/lat;/sst_anomaly[0][0:1:9][0:1:9]\""
   ]
  },
  {
   "cell_type": "code",
   "execution_count": null,
   "id": "1d83936f-af3a-4ff0-b572-92b8e88cdef7",
   "metadata": {},
   "outputs": [],
   "source": [
    "pydap_ds = open_url(url+CE, protocol='dap4')"
   ]
  },
  {
   "cell_type": "code",
   "execution_count": null,
   "id": "0be79148-59ac-4c5d-b146-cb3efae35474",
   "metadata": {},
   "outputs": [],
   "source": [
    "pydap_ds.tree()"
   ]
  },
  {
   "cell_type": "code",
   "execution_count": null,
   "id": "54392239-06e9-4994-8c65-72f26a12ae13",
   "metadata": {},
   "outputs": [],
   "source": [
    "pydap_ds['sst_anomaly'].shape"
   ]
  },
  {
   "cell_type": "code",
   "execution_count": null,
   "id": "656a3b36-000c-47ae-b217-6ed535bb494a",
   "metadata": {},
   "outputs": [],
   "source": [
    "pydap_ds['lat'].shape"
   ]
  },
  {
   "cell_type": "markdown",
   "id": "27f5ed6b-3d52-4d4b-bccf-b3da63754f30",
   "metadata": {},
   "source": [
    "```{note}\n",
    "El servidor de `OPeNDAP` solo applico la restriccion espacial a la variable `sst_anomaly`, mientras que `lat` (y cualquier otra) mantuvo su tamano original. Para asegurar que tambien la variable `lat` mantenga el mismo tamano en la dimension compartida con `sst_anomaly`, uno puede especicar en el URL que `lat` tambien debe ser restringida espacialmente.\n",
    "```"
   ]
  },
  {
   "cell_type": "markdown",
   "id": "807ba7fe-753d-4815-893a-5c2a344732fd",
   "metadata": {},
   "source": [
    "# Xarray \n",
    "\n",
    "`PyDAP`se puede utilizar internamente desde `xarray`, al definir el parametro\n",
    "\n",
    "```python\n",
    "engine='pydap'\n",
    "```\n",
    "\n",
    "```{tip}\n",
    "Para especificar que protocolo `dap2` o `dap4` se debe usar en `xarray` cuando se especifica `engine=pydap`, hay que reemplazar el esquema del URL `https` con `dap2` o `dap4`. \n",
    "```\n"
   ]
  },
  {
   "cell_type": "code",
   "execution_count": null,
   "id": "06289c68-364c-48a2-a201-75938a066671",
   "metadata": {},
   "outputs": [],
   "source": [
    "'dap4'+url[4:]"
   ]
  },
  {
   "cell_type": "code",
   "execution_count": null,
   "id": "bef6b080-799d-49bf-a3ae-05f519e72fc7",
   "metadata": {},
   "outputs": [],
   "source": [
    "dataset = xr.open_dataset('dap4'+url[4:], engine='pydap')\n",
    "dataset"
   ]
  }
 ],
 "metadata": {
  "kernelspec": {
   "display_name": "Python 3 (ipykernel)",
   "language": "python",
   "name": "python3"
  },
  "language_info": {
   "codemirror_mode": {
    "name": "ipython",
    "version": 3
   },
   "file_extension": ".py",
   "mimetype": "text/x-python",
   "name": "python",
   "nbconvert_exporter": "python",
   "pygments_lexer": "ipython3",
   "version": "3.11.11"
  }
 },
 "nbformat": 4,
 "nbformat_minor": 5
}
