{
 "cells": [
  {
   "cell_type": "markdown",
   "id": "51e83944-0a85-499d-aa5e-241697cb1c2e",
   "metadata": {},
   "source": [
    "# CMIP6\n",
    "\n",
    "This notebook demonstrates access to **Coupled Model Intercomparison Project Phase** 6 (`CMIP6`) data. Broad information about the dataset can be found on the PACE website (see [here](https://oceandata.sci.gsfc.nasa.gov))\n",
    "\n",
    "**Requirements to run this notebook**\n",
    "1. None\n",
    "\n",
    "**Objectives**\n",
    " \n",
    "Use [pydap](https://pydap.github.io/pydap/)'s client API to demonstrate\n",
    "\n",
    "- To demonstrate remote access to CMIP data available through the **Earth System Grid Federation [ESGF](https://aims2.llnl.gov/search/cmip6/) Portal.\n",
    "- To access and subset remote data using the DAP2 Protocol.\n",
    "\n",
    "\n",
    "\n",
    "The **Earth System Grid Federation** [ESGF](https://aims2.llnl.gov/search/cmip6/) Contains a broad range of model output (e.g, CMIP3, CMIP5, [CMIP6](https://pcmdi.llnl.gov/CMIP6/), E3SM) from which you can obtain OPeNDAP URLs for data variables. To access the ESGF Node and browse data [click here](https://aims2.llnl.gov/search/cmip6/).\n",
    "\n",
    "\n",
    "\n",
    "`Author`: Miguel Jimenez-Urias, '24"
   ]
  },
  {
   "cell_type": "code",
   "execution_count": 1,
   "id": "dccc02e0-6ace-4c8d-a3bd-c0c48131219a",
   "metadata": {},
   "outputs": [],
   "source": [
    "import matplotlib.pyplot as plt\n",
    "import numpy as np\n",
    "from pydap.client import open_url\n",
    "import cartopy.crs as ccrs"
   ]
  },
  {
   "cell_type": "markdown",
   "id": "63e91536-e6d4-498e-8afd-3d29d97dcce8",
   "metadata": {},
   "source": [
    "**CMIP6 Access via OPeNDAP server**\n",
    "\n",
    "You can also directly inspect a THREDDS catalog for [CMIP6](https://crd-esgf-drc.ec.gc.ca/thredds/catalog/esgB_dataroot/AR6/CMIP6/catalog.html). For example, you can navigate to `CDRMIP/CCCma/CanESM5/esm-pi-cdr-pulse/r2i1p2f1/Eday/ts/gn/v20190429` and access [ts data](https://crd-esgf-drc.ec.gc.ca/thredds/dodsC/esgB_dataroot/AR6/CMIP6/CDRMIP/CCCma/CanESM5/esm-pi-cdr-pulse/r2i1p2f1/Eday/ts/gn/v20190429/ts_Eday_CanESM5_esm-pi-cdr-pulse_r2i1p2f1_gn_54510101-56501231.nc.html) via OPeNDAP DAP2 protocol.\n",
    "\n"
   ]
  },
  {
   "cell_type": "code",
   "execution_count": 2,
   "id": "b6a2ae7b-16cb-4133-bdb0-e34e95b0bd66",
   "metadata": {},
   "outputs": [],
   "source": [
    "url = \"https://crd-esgf-drc.ec.gc.ca/thredds/dodsC/esgB_dataroot/AR6/CMIP6/CDRMIP/CCCma/CanESM5/esm-pi-cdr-pulse/r2i1p2f1/Eday/ts/gn/v20190429/ts_Eday_CanESM5_esm-pi-cdr-pulse_r2i1p2f1_gn_54510101-56501231.nc\""
   ]
  },
  {
   "cell_type": "markdown",
   "id": "d1df9ddd-96a8-4b2c-be60-79dbc2ad4d71",
   "metadata": {},
   "source": [
    "**Create dataset access via pydap**\n",
    "\n",
    "By default `protocol='dap2'`, however the default behavior may change in the future.\n"
   ]
  },
  {
   "cell_type": "code",
   "execution_count": 3,
   "id": "064952fb-9d43-4bd2-8a6d-8b38ef529511",
   "metadata": {},
   "outputs": [
    {
     "name": "stdout",
     "output_type": "stream",
     "text": [
      "CPU times: user 11.1 ms, sys: 3.46 ms, total: 14.5 ms\n",
      "Wall time: 438 ms\n"
     ]
    }
   ],
   "source": [
    "%%time\n",
    "ds = open_url(url, protocol='dap2')"
   ]
  },
  {
   "cell_type": "code",
   "execution_count": 4,
   "id": "dc74b87b-e94f-4543-81ec-f305f661fc16",
   "metadata": {},
   "outputs": [
    {
     "name": "stdout",
     "output_type": "stream",
     "text": [
      ".esgB_dataroot/AR6/CMIP6/CDRMIP/CCCma/CanESM5/esm-pi-cdr-pulse/r2i1p2f1/Eday/ts/gn/v20190429/ts_Eday_CanESM5_esm-pi-cdr-pulse_r2i1p2f1_gn_54510101-56501231.nc\n",
      "├──time\n",
      "├──time_bnds\n",
      "├──lat\n",
      "├──lat_bnds\n",
      "├──lon\n",
      "├──lon_bnds\n",
      "└──ts\n",
      "   ├──ts\n",
      "   ├──time\n",
      "   ├──lat\n",
      "   └──lon\n"
     ]
    }
   ],
   "source": [
    "ds.tree()"
   ]
  },
  {
   "cell_type": "code",
   "execution_count": 5,
   "id": "ff509136-1522-44e9-9752-e469d18872b7",
   "metadata": {},
   "outputs": [
    {
     "name": "stdout",
     "output_type": "stream",
     "text": [
      "Dataset memory user [GBs, uncompressed]:  2.394406144\n"
     ]
    }
   ],
   "source": [
    "print('Dataset memory user [GBs, uncompressed]: ', ds.nbytes/1e9)"
   ]
  },
  {
   "cell_type": "markdown",
   "id": "50e281f6-48eb-42e3-9c93-a35dc61c8a18",
   "metadata": {},
   "source": [
    "**Inspect single variable**\n",
    "\n"
   ]
  },
  {
   "cell_type": "code",
   "execution_count": 6,
   "id": "7455c1d8-dd95-42d6-9f26-6421fb86f7fa",
   "metadata": {},
   "outputs": [
    {
     "data": {
      "text/plain": [
       "<GridType with array 'ts' and maps 'time', 'lat', 'lon'>"
      ]
     },
     "execution_count": 6,
     "metadata": {},
     "output_type": "execute_result"
    }
   ],
   "source": [
    "ts = ds['ts']\n",
    "ts"
   ]
  },
  {
   "cell_type": "markdown",
   "id": "47171575-5fd2-4605-8db4-f666d3ed1485",
   "metadata": {},
   "source": [
    "**Grid Arrays**\n",
    "\n",
    "- No longer implemented in `DAP4`. These carry copies of dimensions/coverage, and can be considered self-contained.\n",
    "- Attempting to download into memory `ts` also downloads `time`, `lat`, `lon`.\n",
    "- Attributes sit the `GridType` level. For example:\n",
    "\n",
    "```python\n",
    "ds['ts'].attributes\n",
    "```\n",
    "and\n",
    "```python\n",
    "ds['ts']['ts'].attributes\n",
    "```\n",
    "yield different results.\n"
   ]
  },
  {
   "cell_type": "code",
   "execution_count": 7,
   "id": "e82d129d-17fa-4927-a257-7390b10fcce6",
   "metadata": {},
   "outputs": [],
   "source": [
    "def decode(variable) -> np.ndarray:\n",
    "    \"\"\"Decodes the variable BaseType according with atributes:\n",
    "        _FillValue\n",
    "        scale_factor\n",
    "\n",
    "    Parameters:\n",
    "        variable: BaseType (pydap model)\n",
    "    \"\"\"\n",
    "    import pydap\n",
    "    scale_factor = 1\n",
    "    _Fillvalue = None\n",
    "\n",
    "    if 'scale_factor' in variable.attributes:\n",
    "        scale_factor = variable.scale_factor\n",
    "    if '_FillValue' in variable.attributes:\n",
    "        if isinstance(variable, pydap.model.GridType):\n",
    "            data = np.where(variable.array.data == variable._FillValue, np.nan, variable.array.data) \n",
    "        elif isinstance(variable, pydap.model.BaseType):\n",
    "            data = np.where(variable.data == variable._FillValue, np.nan, variable.data)    \n",
    "    else:\n",
    "        data = variable.data\n",
    "    return scale_factor * data"
   ]
  },
  {
   "cell_type": "code",
   "execution_count": 8,
   "id": "11806c16-6353-4a43-83f6-288a4eb40e90",
   "metadata": {},
   "outputs": [
    {
     "name": "stdout",
     "output_type": "stream",
     "text": [
      ".ts\n",
      "├──ts\n",
      "├──time\n",
      "├──lat\n",
      "└──lon\n"
     ]
    }
   ],
   "source": [
    "ts.tree()"
   ]
  },
  {
   "cell_type": "markdown",
   "id": "db899209-ae82-48e9-8a5f-c5706d6ea3ad",
   "metadata": {},
   "source": [
    "**Let's make some plots!**\n",
    "\n",
    "We will pick the Grid type `ts` at `time=0`. Will use `pydap`.\n",
    "\n",
    "\n",
    "**NOTE**: When making a plot, check for missing values, scale factors, units.\n"
   ]
  },
  {
   "cell_type": "code",
   "execution_count": 9,
   "id": "437d0a45-1209-4bb2-99b3-37b49f41bc30",
   "metadata": {},
   "outputs": [
    {
     "data": {
      "text/plain": [
       "(73000, 64, 128)"
      ]
     },
     "execution_count": 9,
     "metadata": {},
     "output_type": "execute_result"
    }
   ],
   "source": [
    "ds['ts'].shape"
   ]
  },
  {
   "cell_type": "code",
   "execution_count": 10,
   "id": "46d73e0e-7503-4c6e-9e2b-b9aae96333ae",
   "metadata": {},
   "outputs": [
    {
     "data": {
      "text/plain": [
       "<BaseType with data array([[[248.65997, 248.28497, 248.15997, ..., 249.53497, 249.65997,\n",
       "         249.15997],\n",
       "        [251.65997, 250.78497, 250.53497, ..., 252.65997, 252.40997,\n",
       "         251.65997],\n",
       "        [251.03497, 250.15997, 249.03497, ..., 255.03497, 253.53497,\n",
       "         253.03497],\n",
       "        ...,\n",
       "        [224.5918 , 224.67487, 225.22243, ..., 226.25885, 225.4502 ,\n",
       "         224.54295],\n",
       "        [219.77655, 220.37973, 221.11984, ..., 218.04332, 218.55197,\n",
       "         219.16682],\n",
       "        [220.43169, 220.94601, 221.48468, ..., 220.07048, 219.97438,\n",
       "         220.07361]]], shape=(1, 64, 128), dtype='>f4')>"
      ]
     },
     "execution_count": 10,
     "metadata": {},
     "output_type": "execute_result"
    }
   ],
   "source": [
    "# download the entire GridType, single snapshot\n",
    "GTS = ds['ts'][0, :, :]\n",
    "GTS"
   ]
  },
  {
   "cell_type": "code",
   "execution_count": 11,
   "id": "f35309dc-bf11-40de-b9be-cee969c97b11",
   "metadata": {},
   "outputs": [
    {
     "data": {
      "text/plain": [
       "{}"
      ]
     },
     "execution_count": 11,
     "metadata": {},
     "output_type": "execute_result"
    }
   ],
   "source": [
    "GTS.attributes"
   ]
  },
  {
   "cell_type": "code",
   "execution_count": 12,
   "id": "8069f326-aa19-432a-ba97-54f8edd0edf5",
   "metadata": {},
   "outputs": [
    {
     "data": {
      "text/plain": [
       "(1, 64, 128)"
      ]
     },
     "execution_count": 12,
     "metadata": {},
     "output_type": "execute_result"
    }
   ],
   "source": [
    "GTS.shape"
   ]
  },
  {
   "cell_type": "code",
   "execution_count": 13,
   "id": "9a0d7e8f-7d6c-4aed-94ab-dbb3ef7c775f",
   "metadata": {},
   "outputs": [
    {
     "data": {
      "text/plain": [
       "(1, numpy.ndarray)"
      ]
     },
     "execution_count": 13,
     "metadata": {},
     "output_type": "execute_result"
    }
   ],
   "source": [
    "len(GTS.data), type(GTS.data)"
   ]
  },
  {
   "cell_type": "markdown",
   "id": "3537914c-6259-44a4-bc73-f8ef3a6ffb3e",
   "metadata": {},
   "source": [
    "`NOTE`:\n",
    "```python\n",
    "# why are the two different?\n",
    "len(GTS.data) != GTS.shape \n",
    "```\n",
    "this is because downloading the Grid array downloads too its coordinate dimensions, resulting in a list!\n"
   ]
  },
  {
   "cell_type": "code",
   "execution_count": 14,
   "id": "e7fe0c9d-dcb9-4f65-ae09-387137d69200",
   "metadata": {},
   "outputs": [
    {
     "data": {
      "text/plain": [
       "<BaseType with data array([[[248.65997, 248.28497, 248.15997, ..., 249.53497, 249.65997,\n",
       "         249.15997],\n",
       "        [251.65997, 250.78497, 250.53497, ..., 252.65997, 252.40997,\n",
       "         251.65997],\n",
       "        [251.03497, 250.15997, 249.03497, ..., 255.03497, 253.53497,\n",
       "         253.03497],\n",
       "        ...,\n",
       "        [224.5918 , 224.67487, 225.22243, ..., 226.25885, 225.4502 ,\n",
       "         224.54295],\n",
       "        [219.77655, 220.37973, 221.11984, ..., 218.04332, 218.55197,\n",
       "         219.16682],\n",
       "        [220.43169, 220.94601, 221.48468, ..., 220.07048, 219.97438,\n",
       "         220.07361]]], shape=(1, 64, 128), dtype='>f4')>"
      ]
     },
     "execution_count": 14,
     "metadata": {},
     "output_type": "execute_result"
    }
   ],
   "source": [
    "# download the only Array, single snapshot\n",
    "TS = ds['ts']['ts'][0, :, :]\n",
    "TS"
   ]
  },
  {
   "cell_type": "code",
   "execution_count": 15,
   "id": "9ea189f7-df2c-4208-bb30-7422811d8044",
   "metadata": {},
   "outputs": [
    {
     "data": {
      "text/plain": [
       "{}"
      ]
     },
     "execution_count": 15,
     "metadata": {},
     "output_type": "execute_result"
    }
   ],
   "source": [
    "TS.attributes"
   ]
  },
  {
   "cell_type": "markdown",
   "id": "786dc6f6-018a-4ea1-b348-4c4909fde92c",
   "metadata": {},
   "source": [
    "```{note}\n",
    "Since the data is periodic in longitude, we need to append a copy to the array. We need to do this since cartopy interpolates data. If we don't, then there will be missing longitude band of missing data in for plot as shown below:\n",
    "```"
   ]
  },
  {
   "cell_type": "code",
   "execution_count": 16,
   "id": "042b04ca-0c4f-40cc-9fd4-82b6d14ba89b",
   "metadata": {},
   "outputs": [
    {
     "ename": "IndexError",
     "evalue": "only integers, slices (`:`), ellipsis (`...`), numpy.newaxis (`None`) and integer or boolean arrays are valid indices",
     "output_type": "error",
     "traceback": [
      "\u001b[31m---------------------------------------------------------------------------\u001b[39m",
      "\u001b[31mIndexError\u001b[39m                                Traceback (most recent call last)",
      "\u001b[36mCell\u001b[39m\u001b[36m \u001b[39m\u001b[32mIn[16]\u001b[39m\u001b[32m, line 1\u001b[39m\n\u001b[32m----> \u001b[39m\u001b[32m1\u001b[39m Lon, Lat = np.meshgrid(\u001b[43mGTS\u001b[49m\u001b[43m[\u001b[49m\u001b[33;43m'\u001b[39;49m\u001b[33;43mlon\u001b[39;49m\u001b[33;43m'\u001b[39;49m\u001b[43m]\u001b[49m.data, GTS[\u001b[33m'\u001b[39m\u001b[33mlat\u001b[39m\u001b[33m'\u001b[39m].data)\n",
      "\u001b[36mFile \u001b[39m\u001b[32m~/miniforge3/envs/pydap_docs/lib/python3.11/site-packages/pydap/model.py:349\u001b[39m, in \u001b[36mBaseType.__getitem__\u001b[39m\u001b[34m(self, index)\u001b[39m\n\u001b[32m    347\u001b[39m \u001b[38;5;28;01mdef\u001b[39;00m\u001b[38;5;250m \u001b[39m\u001b[34m__getitem__\u001b[39m(\u001b[38;5;28mself\u001b[39m, index):\n\u001b[32m    348\u001b[39m     out = copy.copy(\u001b[38;5;28mself\u001b[39m)\n\u001b[32m--> \u001b[39m\u001b[32m349\u001b[39m     out.data = \u001b[38;5;28;43mself\u001b[39;49m\u001b[43m.\u001b[49m\u001b[43m_get_data_index\u001b[49m\u001b[43m(\u001b[49m\u001b[43mindex\u001b[49m\u001b[43m)\u001b[49m\n\u001b[32m    350\u001b[39m     \u001b[38;5;28;01mif\u001b[39;00m \u001b[38;5;28mtype\u001b[39m(\u001b[38;5;28mself\u001b[39m.data).\u001b[34m__name__\u001b[39m == \u001b[33m\"\u001b[39m\u001b[33mBaseProxyDap4\u001b[39m\u001b[33m\"\u001b[39m:\n\u001b[32m    351\u001b[39m         out.attributes[\u001b[33m\"\u001b[39m\u001b[33mchecksum\u001b[39m\u001b[33m\"\u001b[39m] = \u001b[38;5;28mself\u001b[39m.data.checksum\n",
      "\u001b[36mFile \u001b[39m\u001b[32m~/miniforge3/envs/pydap_docs/lib/python3.11/site-packages/pydap/model.py:381\u001b[39m, in \u001b[36mBaseType._get_data_index\u001b[39m\u001b[34m(self, index)\u001b[39m\n\u001b[32m    379\u001b[39m     \u001b[38;5;28;01mreturn\u001b[39;00m np.vectorize(decode_np_strings)(\u001b[38;5;28mself\u001b[39m._data[index])\n\u001b[32m    380\u001b[39m \u001b[38;5;28;01melse\u001b[39;00m:\n\u001b[32m--> \u001b[39m\u001b[32m381\u001b[39m     \u001b[38;5;28;01mreturn\u001b[39;00m \u001b[38;5;28;43mself\u001b[39;49m\u001b[43m.\u001b[49m\u001b[43m_data\u001b[49m\u001b[43m[\u001b[49m\u001b[43mindex\u001b[49m\u001b[43m]\u001b[49m\n",
      "\u001b[31mIndexError\u001b[39m: only integers, slices (`:`), ellipsis (`...`), numpy.newaxis (`None`) and integer or boolean arrays are valid indices"
     ]
    }
   ],
   "source": [
    "Lon, Lat = np.meshgrid(GTS['lon'].data, GTS['lat'].data)"
   ]
  },
  {
   "cell_type": "code",
   "execution_count": null,
   "id": "836f8d0c-6578-4827-9b05-d414196db29d",
   "metadata": {},
   "outputs": [],
   "source": [
    "plt.figure(figsize=(15, 5))\n",
    "ax = plt.axes(projection=ccrs.Mollweide())\n",
    "ax.set_global()\n",
    "ax.coastlines()\n",
    "ax.contourf(Lon, Lat, np.squeeze(decode(GTS)), 200, transform=ccrs.PlateCarree(), cmap='jet')\n",
    "plt.show()"
   ]
  },
  {
   "cell_type": "markdown",
   "id": "75a08465-169e-40e1-a9bc-18ebe919e4ee",
   "metadata": {},
   "source": [
    "**Fig 1**. Global Near surface temperature on a (longitude)-periodic domain."
   ]
  }
 ],
 "metadata": {
  "kernelspec": {
   "display_name": "Python 3 (ipykernel)",
   "language": "python",
   "name": "python3"
  },
  "language_info": {
   "codemirror_mode": {
    "name": "ipython",
    "version": 3
   },
   "file_extension": ".py",
   "mimetype": "text/x-python",
   "name": "python",
   "nbconvert_exporter": "python",
   "pygments_lexer": "ipython3",
   "version": "3.11.11"
  }
 },
 "nbformat": 4,
 "nbformat_minor": 5
}
