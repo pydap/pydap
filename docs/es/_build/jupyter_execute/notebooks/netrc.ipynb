{
 "cells": [
  {
   "cell_type": "markdown",
   "id": "23295658-36b0-49ab-9164-4b29271c46c3",
   "metadata": {},
   "source": [
    "## Como crear el archivo .netrc\n",
    "\n",
    "The default location for this file is on the home directory so that you are the only one who can use it. This is:\n",
    "\n",
    "La ubicacion predeterminadata donde las librarias como `curl` y `pydap` buscar el archivo `netrc` dependen del sistema operativo del usuario. Es decir, en un sistema\n",
    "\n",
    "- LinuxOS / MacOS : `~/.netrc`. El simbolo `~` se refiere al directorio de inicio.\n",
    "- Windows: `C:\\Users\\<User-Name>/_netrc`.\n",
    "```{note}\n",
    "\n",
    "En el resto de este tutorial, asumiremos que el usuario posee una computadora con sistema operativo Linux/MacOS.\n",
    "\n",
    "```\n",
    "\n",
    "### Pasos.\n",
    "1. Crea el archivo en la ubicacion predeterminada.\n",
    "```\n",
    "touch ~/.netrc\n",
    "```\n",
    "2. Anade como contenido al archivo `.netrc` las credenciales de autenticacion. Por ejemplo, en el caso the Earth Data Login:\n",
    "\n",
    "```\n",
    "machine urs.earthdata.nasa.gov\n",
    "login <YourEDLUserName>\n",
    "password <YourEDLPassword>\n",
    "```\n",
    "\n",
    "o \n",
    "\n",
    "```\n",
    "machine urs.earthdata.nasa.gov login <YourEDLUserName> password <YourEDLUserName>\n",
    "```\n",
    "\n",
    "```{note}\n",
    "El archivo `.netrc` tambien puede contener credenciales de autenticacion. Por ejemplo en el caso de poseer una cuenta de `AVISO Altimetry`, puedes acceder a datos scientificos a traves de un Thredds Data Server TDS data. En este case, anades otra entrada al archivo `.netrc` siguendo el mismo formato: `machine tds.aviso.altimetry.fr login <AvisoUsername> password AvisoPassword>`\n",
    "```\n",
    "\n",
    "3. Asigna el permiso adecuado y seguro, para poder leer el archivo `.netrc`\n",
    "```\n",
    "chmod 600 ~/.netrc\n",
    "```\n",
    "4. [Opcional] Prueba que puedes acceder a un recurso associado alguna credencial del `.netrc`. Por ejemplo, en el caso de EarthDataLogin, ejecuta el siguiente comando en la terminal:\n",
    "\n",
    "```\n",
    "curl -L -n <OPeNDAP EarthData URL> \n",
    "```\n",
    "donde `-L` intruye a el comando `curl` que siga las redirecciones, y `-n` instruye a la libraria `curl` que recupere las credenciales de autenticacion del archivo `netrc` en la ubicacion pre-determinada."
   ]
  },
  {
   "cell_type": "code",
   "execution_count": null,
   "id": "1784bb71-2d23-44b5-8964-cdac005a1685",
   "metadata": {},
   "outputs": [],
   "source": []
  }
 ],
 "metadata": {
  "kernelspec": {
   "display_name": "Python 3 (ipykernel)",
   "language": "python",
   "name": "python3"
  },
  "language_info": {
   "codemirror_mode": {
    "name": "ipython",
    "version": 3
   },
   "file_extension": ".py",
   "mimetype": "text/x-python",
   "name": "python",
   "nbconvert_exporter": "python",
   "pygments_lexer": "ipython3",
   "version": "3.11.11"
  }
 },
 "nbformat": 4,
 "nbformat_minor": 5
}
