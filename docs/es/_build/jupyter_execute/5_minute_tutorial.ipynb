{
 "cells": [
  {
   "cell_type": "markdown",
   "id": "3cdc24e9-f0de-4820-871e-cea5bdbb9a73",
   "metadata": {},
   "source": [
    "# Tutorial de 5 minutos\n",
    "\n",
    "La manera mas accesible de usar `pydap` es como `cliente` de acceso a datos cientificos en servidores de [OPeNDAP](https://www.opendap.org/). Para ello, puedes utilizar `pydap` de directamente por medio del metodo  `open_url`, or usa `pydap` como [engine](https://docs.xarray.dev/en/stable/user-guide/io.html#opendap) por medio de `xarray` directamente. `xarray` hace possible el uso de las herramientas del ecosistema de [Pangeo](https://pangeo.io/).\n",
    "\n",
    "## OPeNDAP - La vision original\n",
    "La vision original de [OPeNDAP](https://www.opendap.org/) ([Cornillion, et al 1993](https://zenodo.org/records/10610992)) fue el hacer la equivalencia:\n",
    "\n",
    "$ \\;\\;\\;\\;\\;\\;\\;\\;\\;\\;\\;\\;\\;\\;\\;\\;\\;\\;\\;\\;\\;\\;\\;\\;\\;\\;\\;\\;\\;\\;\\;\\;\\;\\;\\;\\;\\; \\boxed{\\text{URL} \\approx \\text{Dataset Remoto} }$\n",
    "\n",
    "\n",
    "Y ademas, \n",
    "\n",
    "$ \\;\\;\\;\\;\\;\\;\\;\\;\\;\\;\\;\\;\\;\\;\\;\\;\\;\\;\\; \\boxed{\\text{URL + Restricciones} \\approx \\text{Subregion de un Dataset Remoto}} $\n",
    "\n",
    "\n",
    "En este corto tutorial demostraremos el accesso a informacion cientifica en un servidor de OPeNDAP por medio de\n",
    "\n",
    "- `pydap`\n",
    "- `xarray`\n",
    "\n",
    "For more information about [OPeNDAP](https://www.opendap.org/) and Hyrax you can go to the official [OPeNDAP documentation](https://opendap.github.io/documentation/UserGuideComprehensive.html).\n",
    "\n",
    "El dataset remote que utilizaremos en este tutorial puede ser inspeccionado [aqui](http://test.opendap.org:8080/opendap/tutorials/20220531090000-JPL-L4_GHRSST-SSTfnd-MUR-GLOB-v02.0-fv04.1.nc.dmr.html)\n"
   ]
  },
  {
   "cell_type": "code",
   "execution_count": 1,
   "id": "d3db3dfb-0d2d-4bab-8b50-864bfc7602dc",
   "metadata": {},
   "outputs": [],
   "source": [
    "from pydap.client import open_url\n",
    "import xarray as xr\n",
    "import numpy as np"
   ]
  },
  {
   "cell_type": "markdown",
   "id": "5697eb49-ffdd-45b3-9825-f4b8b28fa7d3",
   "metadata": {},
   "source": [
    "Ahora definimos el `URL` que apunta al dataset remoto en el servidor de `OPeNDAP`."
   ]
  },
  {
   "cell_type": "code",
   "execution_count": 2,
   "id": "9eedc2d6-23de-42af-a6b4-5789244e8c06",
   "metadata": {},
   "outputs": [],
   "source": [
    "url = \"http://test.opendap.org:8080/opendap/tutorials/20220531090000-JPL-L4_GHRSST-SSTfnd-MUR-GLOB-v02.0-fv04.1.nc\""
   ]
  },
  {
   "cell_type": "markdown",
   "id": "be908ec8-d715-4a5c-89d5-71905e1ea57b",
   "metadata": {},
   "source": [
    "## `PyDAP`\n",
    "Empezamos primero el acceso al archivo usando solamente `Pydap`"
   ]
  },
  {
   "cell_type": "code",
   "execution_count": 3,
   "id": "fe51afda-0757-4a46-9b11-9c0999640842",
   "metadata": {},
   "outputs": [],
   "source": [
    "pydap_ds = open_url(url, protocol='dap4')"
   ]
  },
  {
   "cell_type": "markdown",
   "id": "67c1e87c-d6fc-4229-a85d-1dbe02a19f2a",
   "metadata": {},
   "source": [
    "```{note}\n",
    "Ademas del argumento `url` que define al dataset, tambien definimos el argumento `protocol=\"dap4\"`. Esto hace referencia al Protocol de OPeNDAP. Otra opcion es:  `protocol='dap2'`. \n",
    "```\n",
    "\n",
    "```{note}\n",
    "Existen muchos servidores de OPeNDAP,pero solo 2 de ellos implementan el protocolo `DAP4`. Cualquier servidor que implemente `DAP4` tambien implementa `DAP2`. En este tutorial nos enfocaremos en `DAP4`. \n",
    "```\n",
    "\n",
    "\n",
    "`pydap` descarga del servidor OPeNDAP los metadatos, es decir, la informacion que describe los contenidos del archivo remote. Sin embargo, ningun dato numerico or binario a sido descargado hasta este momento. Para visualizar las variables que existen dentro del archivo, executamos el metodo `.tree()`:\n",
    "\n",
    "\n"
   ]
  },
  {
   "cell_type": "code",
   "execution_count": 4,
   "id": "50646388-a62a-4fc1-a832-3b5a863ccc4a",
   "metadata": {},
   "outputs": [
    {
     "name": "stdout",
     "output_type": "stream",
     "text": [
      ".20220531090000-JPL-L4_GHRSST-SSTfnd-MUR-GLOB-v02.0-fv04.1.nc\n",
      "├──time\n",
      "├──lat\n",
      "├──lon\n",
      "├──analysed_sst\n",
      "├──analysis_error\n",
      "├──mask\n",
      "├──sea_ice_fraction\n",
      "├──dt_1km_data\n",
      "└──sst_anomaly\n"
     ]
    }
   ],
   "source": [
    "pydap_ds.tree()"
   ]
  },
  {
   "cell_type": "code",
   "execution_count": 5,
   "id": "a89f30dc-00b2-4ff4-aca1-e57f984a23c2",
   "metadata": {},
   "outputs": [
    {
     "data": {
      "text/plain": [
       "(1, 17999, 36000)"
      ]
     },
     "execution_count": 5,
     "metadata": {},
     "output_type": "execute_result"
    }
   ],
   "source": [
    "pydap_ds['sst_anomaly'].shape"
   ]
  },
  {
   "cell_type": "code",
   "execution_count": 6,
   "id": "21ec4831-377b-4bb3-afdb-43564db1ad44",
   "metadata": {},
   "outputs": [
    {
     "name": "stdout",
     "output_type": "stream",
     "text": [
      "La variable numerica `sst_anomaly` ocupa:  1.295928 [GBs] de memoria\n"
     ]
    }
   ],
   "source": [
    "print('La variable numerica `sst_anomaly` ocupa: ', pydap_ds['sst_anomaly'].nbytes/1e9, '[GBs] de memoria')"
   ]
  },
  {
   "cell_type": "markdown",
   "id": "5ab0d52d-7c64-4689-be0f-a8caf70e0cb4",
   "metadata": {},
   "source": [
    "```{note}\n",
    "Solo los metadatos han sido descargados. `PyDAP` processa estos metadatos del URL remoto para create el `Dataset` que hace referencia al contenido del archivo remoto. \n",
    "```"
   ]
  },
  {
   "cell_type": "markdown",
   "id": "a5506f6d-8de8-40ba-b20e-1d9a8def20bc",
   "metadata": {},
   "source": [
    "Cada variable contiene `atributos` que describen los valores, y algunas de las transformaciones que deben efectuarse para darle sentido fisico a las variables en si. Por ejemplo,  `scale_factor`, `offsets` and `_FillValue`.\n"
   ]
  },
  {
   "cell_type": "code",
   "execution_count": 7,
   "id": "1f1a8f28-47fa-492f-858c-5004e7c451b8",
   "metadata": {},
   "outputs": [
    {
     "data": {
      "text/plain": [
       "{'long_name': 'SST anomaly from a seasonal SST climatology based on the MUR data over 2003-2014 period',\n",
       " 'units': 'kelvin',\n",
       " '_FillValue': -32768,\n",
       " 'add_offset': 0.0,\n",
       " 'scale_factor': 0.001,\n",
       " 'valid_min': -32767,\n",
       " 'valid_max': 32767,\n",
       " 'comment': 'anomaly reference to the day-of-year average between 2003 and 2014',\n",
       " 'coordinates': 'lon lat',\n",
       " 'dims': ['time', 'lat', 'lon'],\n",
       " 'Maps': ('/time', '/lat', '/lon')}"
      ]
     },
     "execution_count": 7,
     "metadata": {},
     "output_type": "execute_result"
    }
   ],
   "source": [
    "pydap_ds['sst_anomaly'].attributes"
   ]
  },
  {
   "cell_type": "markdown",
   "id": "c15813d2-80e5-41c4-b8c1-ca1c5b24aace",
   "metadata": {},
   "source": [
    "Los metadatos cientificos siguen las convenciones definidas en: [NetCDF Climate and Forcasts (CF) Metadata Conventions](https://cfconventions.org/cf-conventions/cf-conventions.html).\n"
   ]
  },
  {
   "cell_type": "markdown",
   "id": "12184166-a4d7-4d80-86fe-e0838c4c13c0",
   "metadata": {},
   "source": [
    "### **Como Descargar el Arreglo numerico de la variable remota**\n",
    "\n",
    "Como se menciono, `Pydap` no ha descargado ningun arreglo numerico. Para descargar los valores de digamos una vbariable de interes, uno debe de indexar la varible de `Pydap`. Por ejemplo, la variable\n",
    "\n",
    "```python\n",
    " pydap_ds['sst_anomaly']\n",
    "```\n",
    "tiene las siguientes dimensiones: `(1, 17999, 36000)`. Uno puede descarga una fraccion de la variable, por ejemplo el elemento `0` de la primera dimension, los primeros `10` elementos de la segunda dimension, y los primeros `10` de la tercera dimension, de la manera siguiente:"
   ]
  },
  {
   "cell_type": "code",
   "execution_count": 8,
   "id": "215ef5ba-b1d4-4459-9f22-5b5dd027412b",
   "metadata": {},
   "outputs": [
    {
     "name": "stdout",
     "output_type": "stream",
     "text": [
      "CPU times: user 29.9 ms, sys: 2.87 ms, total: 32.8 ms\n",
      "Wall time: 577 ms\n"
     ]
    }
   ],
   "source": [
    "%%time\n",
    "array = pydap_ds['sst_anomaly'][0, 0:10, 0:10]"
   ]
  },
  {
   "cell_type": "code",
   "execution_count": 9,
   "id": "a5ecc7c2-c907-4d6f-b4ea-90a8f5a38e48",
   "metadata": {},
   "outputs": [
    {
     "data": {
      "text/plain": [
       "(1, 10, 10)"
      ]
     },
     "execution_count": 9,
     "metadata": {},
     "output_type": "execute_result"
    }
   ],
   "source": [
    "np.shape(array)"
   ]
  },
  {
   "cell_type": "markdown",
   "id": "7cd040f7-8fb1-4b51-9c07-ab5e201a9169",
   "metadata": {},
   "source": [
    "Como se demonstro, el nuevo tamano de la variable `array` es `(1, 10, 10)`. \n",
    "\n",
    "Al descargar la variable `sst_anomaly` y assignarla al objecto: `array`, este objeto no es todavia un arreglo NumPy, sino es un `BaseType` del model de `pydap`:"
   ]
  },
  {
   "cell_type": "code",
   "execution_count": 10,
   "id": "a81fd0b9-9ecf-413f-9abe-e6f4d030990f",
   "metadata": {},
   "outputs": [
    {
     "data": {
      "text/plain": [
       "pydap.model.BaseType"
      ]
     },
     "execution_count": 10,
     "metadata": {},
     "output_type": "execute_result"
    }
   ],
   "source": [
    "type(array)"
   ]
  },
  {
   "cell_type": "markdown",
   "id": "b4ba5656-bdcf-4e03-84e0-f28c777064dc",
   "metadata": {},
   "source": [
    "Para extraer el arreglo NumPy de cada `BaseType`, uno tiene que executar la siguiente instruccion:"
   ]
  },
  {
   "cell_type": "code",
   "execution_count": 11,
   "id": "bab91aab-0ece-43c4-ade1-1796f44a0aec",
   "metadata": {},
   "outputs": [],
   "source": [
    "data = array.data"
   ]
  },
  {
   "cell_type": "code",
   "execution_count": 12,
   "id": "ddbfa280-b88f-4c53-816e-3ef912cb78e3",
   "metadata": {},
   "outputs": [
    {
     "data": {
      "text/plain": [
       "numpy.ndarray"
      ]
     },
     "execution_count": 12,
     "metadata": {},
     "output_type": "execute_result"
    }
   ],
   "source": [
    "type(data)"
   ]
  },
  {
   "cell_type": "markdown",
   "id": "b7946ea1-0357-4666-a575-c29044610092",
   "metadata": {},
   "source": [
    "## Utiliza el Servidor Remoto\n",
    "\n",
    "Cuando el usuario hace la siguiente operacion:\n",
    "\n",
    "```python\n",
    "pydap_ds['sst_anomaly'][0, 0:10, 0:10]\n",
    "``\n",
    "\n",
    "Lo que `Pydap` hace internamente es generar el URL con la Expression de Restriccion. EL Servidor de OPeNDAP reconoce este URL y manda la informacion numerica especificada en el resultante URL. Eso significa que el archivo completo nunca fue descargado! Solo parte espeficidada en el URL. En este caso, Pydap incluyo la siguiente informacion al URL:\n",
    "\n",
    "```python\n",
    "<OPeNDAP_URL> + \"?dap4.ce=\\sst_anomaly[0][0:1:9][0:1:9]\"\n",
    "```\n",
    "Un usuario puede realizar esta operacion manual, pero `pydap` facilita y automatiza este procedimiento. El URL de arriba implica que de todo el dataset original, solo la variable `sst_anomaly` es requerida, y de todo el dominio de la variable, solo la region especificada por las indexes `[0][0:1:9][0:1:9]` debe ser mandada por el servidor OPeNDAP. ENtonces, es el Servidor OPeNDAP remote el que realiza la operacion de abrir y mandar la informacion numerica al usuario. Lo indexes en el URL implican\n",
    "\n",
    "- El primer elemento dela primera dimension (en este caso, `time`).\n",
    "- `[0:1:9]` indica los primeros `10` elementos de la segunda dimension (llamada `lat`).\n",
    "- `[0:1:9]` indica los primeros `10` elementos de la tercera dimension (llamada `lon`).\n",
    "\n",
    "### \n",
    "\n",
    "A continuacion, utilizamos `pydap` con el URL que incluye la condicion de Restriccion (CE) para descargar las variables `lat` y `sst_anomaly`\n",
    "\n",
    "\n"
   ]
  },
  {
   "cell_type": "code",
   "execution_count": 13,
   "id": "2e3365f5-bafa-4e1e-b45f-e1f0713deb5b",
   "metadata": {},
   "outputs": [],
   "source": [
    "CE = \"?dap4.ce=/lat;/sst_anomaly[0][0:1:9][0:1:9]\""
   ]
  },
  {
   "cell_type": "code",
   "execution_count": 14,
   "id": "1d83936f-af3a-4ff0-b572-92b8e88cdef7",
   "metadata": {},
   "outputs": [],
   "source": [
    "pydap_ds = open_url(url+CE, protocol='dap4')"
   ]
  },
  {
   "cell_type": "code",
   "execution_count": 15,
   "id": "0be79148-59ac-4c5d-b146-cb3efae35474",
   "metadata": {},
   "outputs": [
    {
     "name": "stdout",
     "output_type": "stream",
     "text": [
      ".20220531090000-JPL-L4_GHRSST-SSTfnd-MUR-GLOB-v02.0-fv04.1.nc\n",
      "├──lat\n",
      "└──sst_anomaly\n"
     ]
    }
   ],
   "source": [
    "pydap_ds.tree()"
   ]
  },
  {
   "cell_type": "code",
   "execution_count": 16,
   "id": "54392239-06e9-4994-8c65-72f26a12ae13",
   "metadata": {},
   "outputs": [
    {
     "data": {
      "text/plain": [
       "(1, 10, 10)"
      ]
     },
     "execution_count": 16,
     "metadata": {},
     "output_type": "execute_result"
    }
   ],
   "source": [
    "pydap_ds['sst_anomaly'].shape"
   ]
  },
  {
   "cell_type": "code",
   "execution_count": 17,
   "id": "656a3b36-000c-47ae-b217-6ed535bb494a",
   "metadata": {},
   "outputs": [
    {
     "data": {
      "text/plain": [
       "(17999,)"
      ]
     },
     "execution_count": 17,
     "metadata": {},
     "output_type": "execute_result"
    }
   ],
   "source": [
    "pydap_ds['lat'].shape"
   ]
  },
  {
   "cell_type": "markdown",
   "id": "27f5ed6b-3d52-4d4b-bccf-b3da63754f30",
   "metadata": {},
   "source": [
    "```{note}\n",
    "El servidor de `OPeNDAP` solo applico la restriccion espacial a la variable `sst_anomaly`, mientras que `lat` (y cualquier otra) mantuvo su tamano original. Para asegurar que tambien la variable `lat` mantenga el mismo tamano en la dimension compartida con `sst_anomaly`, uno puede especicar en el URL que `lat` tambien debe ser restringida espacialmente.\n",
    "```"
   ]
  },
  {
   "cell_type": "markdown",
   "id": "807ba7fe-753d-4815-893a-5c2a344732fd",
   "metadata": {},
   "source": [
    "# Xarray \n",
    "\n",
    "`PyDAP`se puede utilizar internamente desde `xarray`, al definir el parametro\n",
    "\n",
    "```python\n",
    "engine='pydap'\n",
    "```\n",
    "\n",
    "```{tip}\n",
    "Para especificar que protocolo `dap2` o `dap4` se debe usar en `xarray` cuando se especifica `engine=pydap`, hay que reemplazar el esquema del URL `https` con `dap2` o `dap4`. \n",
    "```\n"
   ]
  },
  {
   "cell_type": "code",
   "execution_count": 18,
   "id": "06289c68-364c-48a2-a201-75938a066671",
   "metadata": {},
   "outputs": [
    {
     "data": {
      "text/plain": [
       "'dap4://test.opendap.org:8080/opendap/tutorials/20220531090000-JPL-L4_GHRSST-SSTfnd-MUR-GLOB-v02.0-fv04.1.nc'"
      ]
     },
     "execution_count": 18,
     "metadata": {},
     "output_type": "execute_result"
    }
   ],
   "source": [
    "'dap4'+url[4:]"
   ]
  },
  {
   "cell_type": "code",
   "execution_count": 19,
   "id": "bef6b080-799d-49bf-a3ae-05f519e72fc7",
   "metadata": {},
   "outputs": [
    {
     "name": "stderr",
     "output_type": "stream",
     "text": [
      "/var/folders/hc/tkfpclz952n091r0k5b2t9jr0000gn/T/ipykernel_65141/1410504452.py:1: FutureWarning: In a future version of xarray decode_timedelta will default to False rather than None. To silence this warning, set decode_timedelta to True, False, or a 'CFTimedeltaCoder' instance.\n",
      "  dataset = xr.open_dataset('dap4'+url[4:], engine='pydap')\n"
     ]
    },
    {
     "data": {
      "text/html": [
       "<div><svg style=\"position: absolute; width: 0; height: 0; overflow: hidden\">\n",
       "<defs>\n",
       "<symbol id=\"icon-database\" viewBox=\"0 0 32 32\">\n",
       "<path d=\"M16 0c-8.837 0-16 2.239-16 5v4c0 2.761 7.163 5 16 5s16-2.239 16-5v-4c0-2.761-7.163-5-16-5z\"></path>\n",
       "<path d=\"M16 17c-8.837 0-16-2.239-16-5v6c0 2.761 7.163 5 16 5s16-2.239 16-5v-6c0 2.761-7.163 5-16 5z\"></path>\n",
       "<path d=\"M16 26c-8.837 0-16-2.239-16-5v6c0 2.761 7.163 5 16 5s16-2.239 16-5v-6c0 2.761-7.163 5-16 5z\"></path>\n",
       "</symbol>\n",
       "<symbol id=\"icon-file-text2\" viewBox=\"0 0 32 32\">\n",
       "<path d=\"M28.681 7.159c-0.694-0.947-1.662-2.053-2.724-3.116s-2.169-2.030-3.116-2.724c-1.612-1.182-2.393-1.319-2.841-1.319h-15.5c-1.378 0-2.5 1.121-2.5 2.5v27c0 1.378 1.122 2.5 2.5 2.5h23c1.378 0 2.5-1.122 2.5-2.5v-19.5c0-0.448-0.137-1.23-1.319-2.841zM24.543 5.457c0.959 0.959 1.712 1.825 2.268 2.543h-4.811v-4.811c0.718 0.556 1.584 1.309 2.543 2.268zM28 29.5c0 0.271-0.229 0.5-0.5 0.5h-23c-0.271 0-0.5-0.229-0.5-0.5v-27c0-0.271 0.229-0.5 0.5-0.5 0 0 15.499-0 15.5 0v7c0 0.552 0.448 1 1 1h7v19.5z\"></path>\n",
       "<path d=\"M23 26h-14c-0.552 0-1-0.448-1-1s0.448-1 1-1h14c0.552 0 1 0.448 1 1s-0.448 1-1 1z\"></path>\n",
       "<path d=\"M23 22h-14c-0.552 0-1-0.448-1-1s0.448-1 1-1h14c0.552 0 1 0.448 1 1s-0.448 1-1 1z\"></path>\n",
       "<path d=\"M23 18h-14c-0.552 0-1-0.448-1-1s0.448-1 1-1h14c0.552 0 1 0.448 1 1s-0.448 1-1 1z\"></path>\n",
       "</symbol>\n",
       "</defs>\n",
       "</svg>\n",
       "<style>/* CSS stylesheet for displaying xarray objects in jupyterlab.\n",
       " *\n",
       " */\n",
       "\n",
       ":root {\n",
       "  --xr-font-color0: var(--jp-content-font-color0, rgba(0, 0, 0, 1));\n",
       "  --xr-font-color2: var(--jp-content-font-color2, rgba(0, 0, 0, 0.54));\n",
       "  --xr-font-color3: var(--jp-content-font-color3, rgba(0, 0, 0, 0.38));\n",
       "  --xr-border-color: var(--jp-border-color2, #e0e0e0);\n",
       "  --xr-disabled-color: var(--jp-layout-color3, #bdbdbd);\n",
       "  --xr-background-color: var(--jp-layout-color0, white);\n",
       "  --xr-background-color-row-even: var(--jp-layout-color1, white);\n",
       "  --xr-background-color-row-odd: var(--jp-layout-color2, #eeeeee);\n",
       "}\n",
       "\n",
       "html[theme=\"dark\"],\n",
       "html[data-theme=\"dark\"],\n",
       "body[data-theme=\"dark\"],\n",
       "body.vscode-dark {\n",
       "  --xr-font-color0: rgba(255, 255, 255, 1);\n",
       "  --xr-font-color2: rgba(255, 255, 255, 0.54);\n",
       "  --xr-font-color3: rgba(255, 255, 255, 0.38);\n",
       "  --xr-border-color: #1f1f1f;\n",
       "  --xr-disabled-color: #515151;\n",
       "  --xr-background-color: #111111;\n",
       "  --xr-background-color-row-even: #111111;\n",
       "  --xr-background-color-row-odd: #313131;\n",
       "}\n",
       "\n",
       ".xr-wrap {\n",
       "  display: block !important;\n",
       "  min-width: 300px;\n",
       "  max-width: 700px;\n",
       "}\n",
       "\n",
       ".xr-text-repr-fallback {\n",
       "  /* fallback to plain text repr when CSS is not injected (untrusted notebook) */\n",
       "  display: none;\n",
       "}\n",
       "\n",
       ".xr-header {\n",
       "  padding-top: 6px;\n",
       "  padding-bottom: 6px;\n",
       "  margin-bottom: 4px;\n",
       "  border-bottom: solid 1px var(--xr-border-color);\n",
       "}\n",
       "\n",
       ".xr-header > div,\n",
       ".xr-header > ul {\n",
       "  display: inline;\n",
       "  margin-top: 0;\n",
       "  margin-bottom: 0;\n",
       "}\n",
       "\n",
       ".xr-obj-type,\n",
       ".xr-array-name {\n",
       "  margin-left: 2px;\n",
       "  margin-right: 10px;\n",
       "}\n",
       "\n",
       ".xr-obj-type {\n",
       "  color: var(--xr-font-color2);\n",
       "}\n",
       "\n",
       ".xr-sections {\n",
       "  padding-left: 0 !important;\n",
       "  display: grid;\n",
       "  grid-template-columns: 150px auto auto 1fr 0 20px 0 20px;\n",
       "}\n",
       "\n",
       ".xr-section-item {\n",
       "  display: contents;\n",
       "}\n",
       "\n",
       ".xr-section-item input {\n",
       "  display: inline-block;\n",
       "  opacity: 0;\n",
       "  height: 0;\n",
       "}\n",
       "\n",
       ".xr-section-item input + label {\n",
       "  color: var(--xr-disabled-color);\n",
       "}\n",
       "\n",
       ".xr-section-item input:enabled + label {\n",
       "  cursor: pointer;\n",
       "  color: var(--xr-font-color2);\n",
       "}\n",
       "\n",
       ".xr-section-item input:focus + label {\n",
       "  border: 2px solid var(--xr-font-color0);\n",
       "}\n",
       "\n",
       ".xr-section-item input:enabled + label:hover {\n",
       "  color: var(--xr-font-color0);\n",
       "}\n",
       "\n",
       ".xr-section-summary {\n",
       "  grid-column: 1;\n",
       "  color: var(--xr-font-color2);\n",
       "  font-weight: 500;\n",
       "}\n",
       "\n",
       ".xr-section-summary > span {\n",
       "  display: inline-block;\n",
       "  padding-left: 0.5em;\n",
       "}\n",
       "\n",
       ".xr-section-summary-in:disabled + label {\n",
       "  color: var(--xr-font-color2);\n",
       "}\n",
       "\n",
       ".xr-section-summary-in + label:before {\n",
       "  display: inline-block;\n",
       "  content: \"►\";\n",
       "  font-size: 11px;\n",
       "  width: 15px;\n",
       "  text-align: center;\n",
       "}\n",
       "\n",
       ".xr-section-summary-in:disabled + label:before {\n",
       "  color: var(--xr-disabled-color);\n",
       "}\n",
       "\n",
       ".xr-section-summary-in:checked + label:before {\n",
       "  content: \"▼\";\n",
       "}\n",
       "\n",
       ".xr-section-summary-in:checked + label > span {\n",
       "  display: none;\n",
       "}\n",
       "\n",
       ".xr-section-summary,\n",
       ".xr-section-inline-details {\n",
       "  padding-top: 4px;\n",
       "  padding-bottom: 4px;\n",
       "}\n",
       "\n",
       ".xr-section-inline-details {\n",
       "  grid-column: 2 / -1;\n",
       "}\n",
       "\n",
       ".xr-section-details {\n",
       "  display: none;\n",
       "  grid-column: 1 / -1;\n",
       "  margin-bottom: 5px;\n",
       "}\n",
       "\n",
       ".xr-section-summary-in:checked ~ .xr-section-details {\n",
       "  display: contents;\n",
       "}\n",
       "\n",
       ".xr-array-wrap {\n",
       "  grid-column: 1 / -1;\n",
       "  display: grid;\n",
       "  grid-template-columns: 20px auto;\n",
       "}\n",
       "\n",
       ".xr-array-wrap > label {\n",
       "  grid-column: 1;\n",
       "  vertical-align: top;\n",
       "}\n",
       "\n",
       ".xr-preview {\n",
       "  color: var(--xr-font-color3);\n",
       "}\n",
       "\n",
       ".xr-array-preview,\n",
       ".xr-array-data {\n",
       "  padding: 0 5px !important;\n",
       "  grid-column: 2;\n",
       "}\n",
       "\n",
       ".xr-array-data,\n",
       ".xr-array-in:checked ~ .xr-array-preview {\n",
       "  display: none;\n",
       "}\n",
       "\n",
       ".xr-array-in:checked ~ .xr-array-data,\n",
       ".xr-array-preview {\n",
       "  display: inline-block;\n",
       "}\n",
       "\n",
       ".xr-dim-list {\n",
       "  display: inline-block !important;\n",
       "  list-style: none;\n",
       "  padding: 0 !important;\n",
       "  margin: 0;\n",
       "}\n",
       "\n",
       ".xr-dim-list li {\n",
       "  display: inline-block;\n",
       "  padding: 0;\n",
       "  margin: 0;\n",
       "}\n",
       "\n",
       ".xr-dim-list:before {\n",
       "  content: \"(\";\n",
       "}\n",
       "\n",
       ".xr-dim-list:after {\n",
       "  content: \")\";\n",
       "}\n",
       "\n",
       ".xr-dim-list li:not(:last-child):after {\n",
       "  content: \",\";\n",
       "  padding-right: 5px;\n",
       "}\n",
       "\n",
       ".xr-has-index {\n",
       "  font-weight: bold;\n",
       "}\n",
       "\n",
       ".xr-var-list,\n",
       ".xr-var-item {\n",
       "  display: contents;\n",
       "}\n",
       "\n",
       ".xr-var-item > div,\n",
       ".xr-var-item label,\n",
       ".xr-var-item > .xr-var-name span {\n",
       "  background-color: var(--xr-background-color-row-even);\n",
       "  margin-bottom: 0;\n",
       "}\n",
       "\n",
       ".xr-var-item > .xr-var-name:hover span {\n",
       "  padding-right: 5px;\n",
       "}\n",
       "\n",
       ".xr-var-list > li:nth-child(odd) > div,\n",
       ".xr-var-list > li:nth-child(odd) > label,\n",
       ".xr-var-list > li:nth-child(odd) > .xr-var-name span {\n",
       "  background-color: var(--xr-background-color-row-odd);\n",
       "}\n",
       "\n",
       ".xr-var-name {\n",
       "  grid-column: 1;\n",
       "}\n",
       "\n",
       ".xr-var-dims {\n",
       "  grid-column: 2;\n",
       "}\n",
       "\n",
       ".xr-var-dtype {\n",
       "  grid-column: 3;\n",
       "  text-align: right;\n",
       "  color: var(--xr-font-color2);\n",
       "}\n",
       "\n",
       ".xr-var-preview {\n",
       "  grid-column: 4;\n",
       "}\n",
       "\n",
       ".xr-index-preview {\n",
       "  grid-column: 2 / 5;\n",
       "  color: var(--xr-font-color2);\n",
       "}\n",
       "\n",
       ".xr-var-name,\n",
       ".xr-var-dims,\n",
       ".xr-var-dtype,\n",
       ".xr-preview,\n",
       ".xr-attrs dt {\n",
       "  white-space: nowrap;\n",
       "  overflow: hidden;\n",
       "  text-overflow: ellipsis;\n",
       "  padding-right: 10px;\n",
       "}\n",
       "\n",
       ".xr-var-name:hover,\n",
       ".xr-var-dims:hover,\n",
       ".xr-var-dtype:hover,\n",
       ".xr-attrs dt:hover {\n",
       "  overflow: visible;\n",
       "  width: auto;\n",
       "  z-index: 1;\n",
       "}\n",
       "\n",
       ".xr-var-attrs,\n",
       ".xr-var-data,\n",
       ".xr-index-data {\n",
       "  display: none;\n",
       "  background-color: var(--xr-background-color) !important;\n",
       "  padding-bottom: 5px !important;\n",
       "}\n",
       "\n",
       ".xr-var-attrs-in:checked ~ .xr-var-attrs,\n",
       ".xr-var-data-in:checked ~ .xr-var-data,\n",
       ".xr-index-data-in:checked ~ .xr-index-data {\n",
       "  display: block;\n",
       "}\n",
       "\n",
       ".xr-var-data > table {\n",
       "  float: right;\n",
       "}\n",
       "\n",
       ".xr-var-name span,\n",
       ".xr-var-data,\n",
       ".xr-index-name div,\n",
       ".xr-index-data,\n",
       ".xr-attrs {\n",
       "  padding-left: 25px !important;\n",
       "}\n",
       "\n",
       ".xr-attrs,\n",
       ".xr-var-attrs,\n",
       ".xr-var-data,\n",
       ".xr-index-data {\n",
       "  grid-column: 1 / -1;\n",
       "}\n",
       "\n",
       "dl.xr-attrs {\n",
       "  padding: 0;\n",
       "  margin: 0;\n",
       "  display: grid;\n",
       "  grid-template-columns: 125px auto;\n",
       "}\n",
       "\n",
       ".xr-attrs dt,\n",
       ".xr-attrs dd {\n",
       "  padding: 0;\n",
       "  margin: 0;\n",
       "  float: left;\n",
       "  padding-right: 10px;\n",
       "  width: auto;\n",
       "}\n",
       "\n",
       ".xr-attrs dt {\n",
       "  font-weight: normal;\n",
       "  grid-column: 1;\n",
       "}\n",
       "\n",
       ".xr-attrs dt:hover span {\n",
       "  display: inline-block;\n",
       "  background: var(--xr-background-color);\n",
       "  padding-right: 10px;\n",
       "}\n",
       "\n",
       ".xr-attrs dd {\n",
       "  grid-column: 2;\n",
       "  white-space: pre-wrap;\n",
       "  word-break: break-all;\n",
       "}\n",
       "\n",
       ".xr-icon-database,\n",
       ".xr-icon-file-text2,\n",
       ".xr-no-icon {\n",
       "  display: inline-block;\n",
       "  vertical-align: middle;\n",
       "  width: 1em;\n",
       "  height: 1.5em !important;\n",
       "  stroke-width: 0;\n",
       "  stroke: currentColor;\n",
       "  fill: currentColor;\n",
       "}\n",
       "</style><pre class='xr-text-repr-fallback'>&lt;xarray.Dataset&gt; Size: 29GB\n",
       "Dimensions:           (/time: 1, /lat: 17999, /lon: 36000)\n",
       "Coordinates:\n",
       "    lat               (/lat) float32 72kB ...\n",
       "    lon               (/lon) float32 144kB ...\n",
       "Dimensions without coordinates: /time, /lat, /lon\n",
       "Data variables:\n",
       "    time              (/time) datetime64[ns] 8B ...\n",
       "    analysed_sst      (/time, /lat, /lon) float64 5GB ...\n",
       "    analysis_error    (/time, /lat, /lon) float64 5GB ...\n",
       "    mask              (/time, /lat, /lon) float32 3GB ...\n",
       "    sea_ice_fraction  (/time, /lat, /lon) float64 5GB ...\n",
       "    dt_1km_data       (/time, /lat, /lon) timedelta64[ns] 5GB ...\n",
       "    sst_anomaly       (/time, /lat, /lon) float64 5GB ...\n",
       "Attributes: (12/47)\n",
       "    Conventions:                CF-1.7\n",
       "    title:                      Daily MUR SST, Final product\n",
       "    summary:                    A merged, multi-sensor L4 Foundation SST anal...\n",
       "    references:                 http://podaac.jpl.nasa.gov/Multi-scale_Ultra-...\n",
       "    institution:                Jet Propulsion Laboratory\n",
       "    history:                    created at nominal 4-day latency; replaced nr...\n",
       "    ...                         ...\n",
       "    project:                    NASA Making Earth Science Data Records for Us...\n",
       "    publisher_name:             GHRSST Project Office\n",
       "    publisher_url:              http://www.ghrsst.org\n",
       "    publisher_email:            ghrsst-po@nceo.ac.uk\n",
       "    processing_level:           L4\n",
       "    cdm_data_type:              grid</pre><div class='xr-wrap' style='display:none'><div class='xr-header'><div class='xr-obj-type'>xarray.Dataset</div></div><ul class='xr-sections'><li class='xr-section-item'><input id='section-ddfce85f-4d98-4593-8fac-7a4ae9d9e6f3' class='xr-section-summary-in' type='checkbox' disabled ><label for='section-ddfce85f-4d98-4593-8fac-7a4ae9d9e6f3' class='xr-section-summary'  title='Expand/collapse section'>Dimensions:</label><div class='xr-section-inline-details'><ul class='xr-dim-list'><li><span>/time</span>: 1</li><li><span>/lat</span>: 17999</li><li><span>/lon</span>: 36000</li></ul></div><div class='xr-section-details'></div></li><li class='xr-section-item'><input id='section-14596a1e-7e70-462f-bf78-6fb2577a748f' class='xr-section-summary-in' type='checkbox'  checked><label for='section-14596a1e-7e70-462f-bf78-6fb2577a748f' class='xr-section-summary' >Coordinates: <span>(2)</span></label><div class='xr-section-inline-details'></div><div class='xr-section-details'><ul class='xr-var-list'><li class='xr-var-item'><div class='xr-var-name'><span>lat</span></div><div class='xr-var-dims'>(/lat)</div><div class='xr-var-dtype'>float32</div><div class='xr-var-preview xr-preview'>...</div><input id='attrs-b0066434-68fb-4a8e-8661-38ab80dc93fa' class='xr-var-attrs-in' type='checkbox' ><label for='attrs-b0066434-68fb-4a8e-8661-38ab80dc93fa' title='Show/Hide attributes'><svg class='icon xr-icon-file-text2'><use xlink:href='#icon-file-text2'></use></svg></label><input id='data-c7fbdcc4-c480-444e-940b-876db5df9217' class='xr-var-data-in' type='checkbox'><label for='data-c7fbdcc4-c480-444e-940b-876db5df9217' title='Show/Hide data repr'><svg class='icon xr-icon-database'><use xlink:href='#icon-database'></use></svg></label><div class='xr-var-attrs'><dl class='xr-attrs'><dt><span>long_name :</span></dt><dd>latitude</dd><dt><span>standard_name :</span></dt><dd>latitude</dd><dt><span>axis :</span></dt><dd>Y</dd><dt><span>units :</span></dt><dd>degrees_north</dd><dt><span>valid_min :</span></dt><dd>-90.0</dd><dt><span>valid_max :</span></dt><dd>90.0</dd><dt><span>comment :</span></dt><dd>geolocations inherited from the input data without correction</dd><dt><span>dims :</span></dt><dd>[&#x27;lat&#x27;]</dd><dt><span>Maps :</span></dt><dd>()</dd></dl></div><div class='xr-var-data'><pre>[17999 values with dtype=float32]</pre></div></li><li class='xr-var-item'><div class='xr-var-name'><span>lon</span></div><div class='xr-var-dims'>(/lon)</div><div class='xr-var-dtype'>float32</div><div class='xr-var-preview xr-preview'>...</div><input id='attrs-8708da31-57d6-4dc0-bdb2-ba7e5c0592d6' class='xr-var-attrs-in' type='checkbox' ><label for='attrs-8708da31-57d6-4dc0-bdb2-ba7e5c0592d6' title='Show/Hide attributes'><svg class='icon xr-icon-file-text2'><use xlink:href='#icon-file-text2'></use></svg></label><input id='data-61c4a560-13c6-4854-845f-9f74093cef7f' class='xr-var-data-in' type='checkbox'><label for='data-61c4a560-13c6-4854-845f-9f74093cef7f' title='Show/Hide data repr'><svg class='icon xr-icon-database'><use xlink:href='#icon-database'></use></svg></label><div class='xr-var-attrs'><dl class='xr-attrs'><dt><span>long_name :</span></dt><dd>longitude</dd><dt><span>standard_name :</span></dt><dd>longitude</dd><dt><span>axis :</span></dt><dd>X</dd><dt><span>units :</span></dt><dd>degrees_east</dd><dt><span>valid_min :</span></dt><dd>-180.0</dd><dt><span>valid_max :</span></dt><dd>180.0</dd><dt><span>comment :</span></dt><dd>geolocations inherited from the input data without correction</dd><dt><span>dims :</span></dt><dd>[&#x27;lon&#x27;]</dd><dt><span>Maps :</span></dt><dd>()</dd></dl></div><div class='xr-var-data'><pre>[36000 values with dtype=float32]</pre></div></li></ul></div></li><li class='xr-section-item'><input id='section-35e7090e-3e6b-4f2b-8b4d-caa113ca71ac' class='xr-section-summary-in' type='checkbox'  checked><label for='section-35e7090e-3e6b-4f2b-8b4d-caa113ca71ac' class='xr-section-summary' >Data variables: <span>(7)</span></label><div class='xr-section-inline-details'></div><div class='xr-section-details'><ul class='xr-var-list'><li class='xr-var-item'><div class='xr-var-name'><span>time</span></div><div class='xr-var-dims'>(/time)</div><div class='xr-var-dtype'>datetime64[ns]</div><div class='xr-var-preview xr-preview'>...</div><input id='attrs-628b0c5f-741c-4762-8f2f-f7efd18a5887' class='xr-var-attrs-in' type='checkbox' ><label for='attrs-628b0c5f-741c-4762-8f2f-f7efd18a5887' title='Show/Hide attributes'><svg class='icon xr-icon-file-text2'><use xlink:href='#icon-file-text2'></use></svg></label><input id='data-35cdfb27-3ed1-40f1-bd38-70d8938a51a4' class='xr-var-data-in' type='checkbox'><label for='data-35cdfb27-3ed1-40f1-bd38-70d8938a51a4' title='Show/Hide data repr'><svg class='icon xr-icon-database'><use xlink:href='#icon-database'></use></svg></label><div class='xr-var-attrs'><dl class='xr-attrs'><dt><span>long_name :</span></dt><dd>reference time of sst field</dd><dt><span>standard_name :</span></dt><dd>time</dd><dt><span>axis :</span></dt><dd>T</dd><dt><span>comment :</span></dt><dd>Nominal time of analyzed fields</dd><dt><span>dims :</span></dt><dd>[&#x27;time&#x27;]</dd><dt><span>Maps :</span></dt><dd>()</dd></dl></div><div class='xr-var-data'><pre>[1 values with dtype=datetime64[ns]]</pre></div></li><li class='xr-var-item'><div class='xr-var-name'><span>analysed_sst</span></div><div class='xr-var-dims'>(/time, /lat, /lon)</div><div class='xr-var-dtype'>float64</div><div class='xr-var-preview xr-preview'>...</div><input id='attrs-de448ec0-4fee-4903-9d58-4755e315c977' class='xr-var-attrs-in' type='checkbox' ><label for='attrs-de448ec0-4fee-4903-9d58-4755e315c977' title='Show/Hide attributes'><svg class='icon xr-icon-file-text2'><use xlink:href='#icon-file-text2'></use></svg></label><input id='data-539f2819-2172-49c3-9a4e-a0a714590de5' class='xr-var-data-in' type='checkbox'><label for='data-539f2819-2172-49c3-9a4e-a0a714590de5' title='Show/Hide data repr'><svg class='icon xr-icon-database'><use xlink:href='#icon-database'></use></svg></label><div class='xr-var-attrs'><dl class='xr-attrs'><dt><span>long_name :</span></dt><dd>analysed sea surface temperature</dd><dt><span>standard_name :</span></dt><dd>sea_surface_foundation_temperature</dd><dt><span>units :</span></dt><dd>kelvin</dd><dt><span>valid_min :</span></dt><dd>-32767</dd><dt><span>valid_max :</span></dt><dd>32767</dd><dt><span>comment :</span></dt><dd>&quot;Final&quot; version using Multi-Resolution Variational Analysis (MRVA) method for interpolation</dd><dt><span>source :</span></dt><dd>MODIS_T-JPL, MODIS_A-JPL, AMSR2-REMSS, AVHRRMTB_G-NAVO, iQUAM-NOAA/NESDIS, Ice_Conc-OSISAF</dd><dt><span>dims :</span></dt><dd>[&#x27;time&#x27;, &#x27;lat&#x27;, &#x27;lon&#x27;]</dd><dt><span>Maps :</span></dt><dd>(&#x27;/time&#x27;, &#x27;/lat&#x27;, &#x27;/lon&#x27;)</dd></dl></div><div class='xr-var-data'><pre>[647964000 values with dtype=float64]</pre></div></li><li class='xr-var-item'><div class='xr-var-name'><span>analysis_error</span></div><div class='xr-var-dims'>(/time, /lat, /lon)</div><div class='xr-var-dtype'>float64</div><div class='xr-var-preview xr-preview'>...</div><input id='attrs-0755da31-2074-4f77-a9cb-369d5f355ddf' class='xr-var-attrs-in' type='checkbox' ><label for='attrs-0755da31-2074-4f77-a9cb-369d5f355ddf' title='Show/Hide attributes'><svg class='icon xr-icon-file-text2'><use xlink:href='#icon-file-text2'></use></svg></label><input id='data-965db486-1dfd-4677-9228-10353f6d6d8a' class='xr-var-data-in' type='checkbox'><label for='data-965db486-1dfd-4677-9228-10353f6d6d8a' title='Show/Hide data repr'><svg class='icon xr-icon-database'><use xlink:href='#icon-database'></use></svg></label><div class='xr-var-attrs'><dl class='xr-attrs'><dt><span>long_name :</span></dt><dd>estimated error standard deviation of analysed_sst</dd><dt><span>units :</span></dt><dd>kelvin</dd><dt><span>valid_min :</span></dt><dd>0</dd><dt><span>valid_max :</span></dt><dd>32767</dd><dt><span>comment :</span></dt><dd>uncertainty in &quot;analysed_sst&quot;</dd><dt><span>dims :</span></dt><dd>[&#x27;time&#x27;, &#x27;lat&#x27;, &#x27;lon&#x27;]</dd><dt><span>Maps :</span></dt><dd>(&#x27;/time&#x27;, &#x27;/lat&#x27;, &#x27;/lon&#x27;)</dd></dl></div><div class='xr-var-data'><pre>[647964000 values with dtype=float64]</pre></div></li><li class='xr-var-item'><div class='xr-var-name'><span>mask</span></div><div class='xr-var-dims'>(/time, /lat, /lon)</div><div class='xr-var-dtype'>float32</div><div class='xr-var-preview xr-preview'>...</div><input id='attrs-16189053-48d5-4ce4-a068-eb1f7cc89544' class='xr-var-attrs-in' type='checkbox' ><label for='attrs-16189053-48d5-4ce4-a068-eb1f7cc89544' title='Show/Hide attributes'><svg class='icon xr-icon-file-text2'><use xlink:href='#icon-file-text2'></use></svg></label><input id='data-e5fa92fc-3607-4b31-8810-29b5c7cf5874' class='xr-var-data-in' type='checkbox'><label for='data-e5fa92fc-3607-4b31-8810-29b5c7cf5874' title='Show/Hide data repr'><svg class='icon xr-icon-database'><use xlink:href='#icon-database'></use></svg></label><div class='xr-var-attrs'><dl class='xr-attrs'><dt><span>long_name :</span></dt><dd>sea/land field composite mask</dd><dt><span>valid_min :</span></dt><dd>1</dd><dt><span>valid_max :</span></dt><dd>31</dd><dt><span>flag_masks :</span></dt><dd>[1, 2, 4, 8, 16]</dd><dt><span>flag_meanings :</span></dt><dd>open_sea land open_lake open_sea_with_ice_in_the_grid open_lake_with_ice_in_the_grid</dd><dt><span>comment :</span></dt><dd>mask can be used to further filter the data.</dd><dt><span>source :</span></dt><dd>GMT &quot;grdlandmask&quot;, ice flag from sea_ice_fraction data</dd><dt><span>dims :</span></dt><dd>[&#x27;time&#x27;, &#x27;lat&#x27;, &#x27;lon&#x27;]</dd><dt><span>Maps :</span></dt><dd>(&#x27;/time&#x27;, &#x27;/lat&#x27;, &#x27;/lon&#x27;)</dd></dl></div><div class='xr-var-data'><pre>[647964000 values with dtype=float32]</pre></div></li><li class='xr-var-item'><div class='xr-var-name'><span>sea_ice_fraction</span></div><div class='xr-var-dims'>(/time, /lat, /lon)</div><div class='xr-var-dtype'>float64</div><div class='xr-var-preview xr-preview'>...</div><input id='attrs-e8052cda-7717-41c3-9dce-21a139b852d1' class='xr-var-attrs-in' type='checkbox' ><label for='attrs-e8052cda-7717-41c3-9dce-21a139b852d1' title='Show/Hide attributes'><svg class='icon xr-icon-file-text2'><use xlink:href='#icon-file-text2'></use></svg></label><input id='data-7be6c2f3-5efb-40f1-ba6a-7199190bdcb9' class='xr-var-data-in' type='checkbox'><label for='data-7be6c2f3-5efb-40f1-ba6a-7199190bdcb9' title='Show/Hide data repr'><svg class='icon xr-icon-database'><use xlink:href='#icon-database'></use></svg></label><div class='xr-var-attrs'><dl class='xr-attrs'><dt><span>long_name :</span></dt><dd>sea ice area fraction</dd><dt><span>standard_name :</span></dt><dd>sea_ice_area_fraction</dd><dt><span>valid_min :</span></dt><dd>0</dd><dt><span>valid_max :</span></dt><dd>100</dd><dt><span>source :</span></dt><dd>EUMETSAT OSI-SAF, copyright EUMETSAT</dd><dt><span>comment :</span></dt><dd>ice fraction is a dimensionless quantity between 0 and 1; it has been interpolated by a nearest neighbor approach.</dd><dt><span>dims :</span></dt><dd>[&#x27;time&#x27;, &#x27;lat&#x27;, &#x27;lon&#x27;]</dd><dt><span>Maps :</span></dt><dd>(&#x27;/time&#x27;, &#x27;/lat&#x27;, &#x27;/lon&#x27;)</dd></dl></div><div class='xr-var-data'><pre>[647964000 values with dtype=float64]</pre></div></li><li class='xr-var-item'><div class='xr-var-name'><span>dt_1km_data</span></div><div class='xr-var-dims'>(/time, /lat, /lon)</div><div class='xr-var-dtype'>timedelta64[ns]</div><div class='xr-var-preview xr-preview'>...</div><input id='attrs-ba77b1a1-4b82-42a8-8a34-00cd166eab64' class='xr-var-attrs-in' type='checkbox' ><label for='attrs-ba77b1a1-4b82-42a8-8a34-00cd166eab64' title='Show/Hide attributes'><svg class='icon xr-icon-file-text2'><use xlink:href='#icon-file-text2'></use></svg></label><input id='data-0e43cbd4-3c3e-4d5f-934d-9889a222fedd' class='xr-var-data-in' type='checkbox'><label for='data-0e43cbd4-3c3e-4d5f-934d-9889a222fedd' title='Show/Hide data repr'><svg class='icon xr-icon-database'><use xlink:href='#icon-database'></use></svg></label><div class='xr-var-attrs'><dl class='xr-attrs'><dt><span>long_name :</span></dt><dd>time to most recent 1km data</dd><dt><span>valid_min :</span></dt><dd>-127</dd><dt><span>valid_max :</span></dt><dd>127</dd><dt><span>source :</span></dt><dd>MODIS and VIIRS pixels ingested by MUR</dd><dt><span>comment :</span></dt><dd>The grid value is hours between the analysis time and the most recent MODIS or VIIRS 1km L2P datum within 0.01 degrees from the grid point.  &quot;Fill value&quot; indicates absence of such 1km data at the grid point.</dd><dt><span>dims :</span></dt><dd>[&#x27;time&#x27;, &#x27;lat&#x27;, &#x27;lon&#x27;]</dd><dt><span>Maps :</span></dt><dd>(&#x27;/time&#x27;, &#x27;/lat&#x27;, &#x27;/lon&#x27;)</dd></dl></div><div class='xr-var-data'><pre>[647964000 values with dtype=timedelta64[ns]]</pre></div></li><li class='xr-var-item'><div class='xr-var-name'><span>sst_anomaly</span></div><div class='xr-var-dims'>(/time, /lat, /lon)</div><div class='xr-var-dtype'>float64</div><div class='xr-var-preview xr-preview'>...</div><input id='attrs-1f7a937d-07b5-4035-b50c-67d237291bdf' class='xr-var-attrs-in' type='checkbox' ><label for='attrs-1f7a937d-07b5-4035-b50c-67d237291bdf' title='Show/Hide attributes'><svg class='icon xr-icon-file-text2'><use xlink:href='#icon-file-text2'></use></svg></label><input id='data-6e57512e-8568-4e15-9a84-4bf20858a173' class='xr-var-data-in' type='checkbox'><label for='data-6e57512e-8568-4e15-9a84-4bf20858a173' title='Show/Hide data repr'><svg class='icon xr-icon-database'><use xlink:href='#icon-database'></use></svg></label><div class='xr-var-attrs'><dl class='xr-attrs'><dt><span>long_name :</span></dt><dd>SST anomaly from a seasonal SST climatology based on the MUR data over 2003-2014 period</dd><dt><span>units :</span></dt><dd>kelvin</dd><dt><span>valid_min :</span></dt><dd>-32767</dd><dt><span>valid_max :</span></dt><dd>32767</dd><dt><span>comment :</span></dt><dd>anomaly reference to the day-of-year average between 2003 and 2014</dd><dt><span>dims :</span></dt><dd>[&#x27;time&#x27;, &#x27;lat&#x27;, &#x27;lon&#x27;]</dd><dt><span>Maps :</span></dt><dd>(&#x27;/time&#x27;, &#x27;/lat&#x27;, &#x27;/lon&#x27;)</dd></dl></div><div class='xr-var-data'><pre>[647964000 values with dtype=float64]</pre></div></li></ul></div></li><li class='xr-section-item'><input id='section-4be86400-f1fe-4e54-9f4d-bde28ac3238a' class='xr-section-summary-in' type='checkbox' disabled ><label for='section-4be86400-f1fe-4e54-9f4d-bde28ac3238a' class='xr-section-summary'  title='Expand/collapse section'>Indexes: <span>(0)</span></label><div class='xr-section-inline-details'></div><div class='xr-section-details'><ul class='xr-var-list'></ul></div></li><li class='xr-section-item'><input id='section-501b2719-094f-4819-8f1f-9ce97d7d169a' class='xr-section-summary-in' type='checkbox'  ><label for='section-501b2719-094f-4819-8f1f-9ce97d7d169a' class='xr-section-summary' >Attributes: <span>(47)</span></label><div class='xr-section-inline-details'></div><div class='xr-section-details'><dl class='xr-attrs'><dt><span>Conventions :</span></dt><dd>CF-1.7</dd><dt><span>title :</span></dt><dd>Daily MUR SST, Final product</dd><dt><span>summary :</span></dt><dd>A merged, multi-sensor L4 Foundation SST analysis product from JPL.</dd><dt><span>references :</span></dt><dd>http://podaac.jpl.nasa.gov/Multi-scale_Ultra-high_Resolution_MUR-SST</dd><dt><span>institution :</span></dt><dd>Jet Propulsion Laboratory</dd><dt><span>history :</span></dt><dd>created at nominal 4-day latency; replaced nrt (1-day latency) version.</dd><dt><span>comment :</span></dt><dd>MUR = &quot;Multi-scale Ultra-high Resolution&quot;</dd><dt><span>license :</span></dt><dd>These data are available free of charge under data policy of JPL PO.DAAC.</dd><dt><span>id :</span></dt><dd>MUR-JPL-L4-GLOB-v04.1</dd><dt><span>naming_authority :</span></dt><dd>org.ghrsst</dd><dt><span>product_version :</span></dt><dd>04.1</dd><dt><span>uuid :</span></dt><dd>27665bc0-d5fc-11e1-9b23-0800200c9a66</dd><dt><span>gds_version_id :</span></dt><dd>2.0</dd><dt><span>netcdf_version_id :</span></dt><dd>4.1</dd><dt><span>date_created :</span></dt><dd>20220609T072338Z</dd><dt><span>start_time :</span></dt><dd>20220531T090000Z</dd><dt><span>stop_time :</span></dt><dd>20220531T090000Z</dd><dt><span>time_coverage_start :</span></dt><dd>20220530T210000Z</dd><dt><span>time_coverage_end :</span></dt><dd>20220531T210000Z</dd><dt><span>file_quality_level :</span></dt><dd>3</dd><dt><span>source :</span></dt><dd>MODIS_T-JPL, MODIS_A-JPL, AMSR2-REMSS, AVHRRMTB_G-NAVO, iQUAM-NOAA/NESDIS, Ice_Conc-OSISAF</dd><dt><span>platform :</span></dt><dd>Terra, Aqua, GCOM-W, MetOp-B, Buoys/Ships</dd><dt><span>sensor :</span></dt><dd>MODIS, AMSR2, AVHRR, in-situ</dd><dt><span>Metadata_Conventions :</span></dt><dd>Unidata Observation Dataset v1.0</dd><dt><span>metadata_link :</span></dt><dd>http://podaac.jpl.nasa.gov/ws/metadata/dataset/?format=iso&amp;shortName=MUR-JPL-L4-GLOB-v04.1</dd><dt><span>keywords :</span></dt><dd>Oceans &gt; Ocean Temperature &gt; Sea Surface Temperature</dd><dt><span>keywords_vocabulary :</span></dt><dd>NASA Global Change Master Directory (GCMD) Science Keywords</dd><dt><span>standard_name_vocabulary :</span></dt><dd>NetCDF Climate and Forecast (CF) Metadata Convention</dd><dt><span>southernmost_latitude :</span></dt><dd>-90.0</dd><dt><span>northernmost_latitude :</span></dt><dd>90.0</dd><dt><span>westernmost_longitude :</span></dt><dd>-180.0</dd><dt><span>easternmost_longitude :</span></dt><dd>180.0</dd><dt><span>spatial_resolution :</span></dt><dd>0.01 degrees</dd><dt><span>geospatial_lat_units :</span></dt><dd>degrees north</dd><dt><span>geospatial_lat_resolution :</span></dt><dd>0.00999999978</dd><dt><span>geospatial_lon_units :</span></dt><dd>degrees east</dd><dt><span>geospatial_lon_resolution :</span></dt><dd>0.00999999978</dd><dt><span>acknowledgment :</span></dt><dd>Please acknowledge the use of these data with the following statement:  These data were provided by JPL under support by NASA MEaSUREs program.</dd><dt><span>creator_name :</span></dt><dd>JPL MUR SST project</dd><dt><span>creator_email :</span></dt><dd>ghrsst@podaac.jpl.nasa.gov</dd><dt><span>creator_url :</span></dt><dd>http://mur.jpl.nasa.gov</dd><dt><span>project :</span></dt><dd>NASA Making Earth Science Data Records for Use in Research Environments (MEaSUREs) Program</dd><dt><span>publisher_name :</span></dt><dd>GHRSST Project Office</dd><dt><span>publisher_url :</span></dt><dd>http://www.ghrsst.org</dd><dt><span>publisher_email :</span></dt><dd>ghrsst-po@nceo.ac.uk</dd><dt><span>processing_level :</span></dt><dd>L4</dd><dt><span>cdm_data_type :</span></dt><dd>grid</dd></dl></div></li></ul></div></div>"
      ],
      "text/plain": [
       "<xarray.Dataset> Size: 29GB\n",
       "Dimensions:           (/time: 1, /lat: 17999, /lon: 36000)\n",
       "Coordinates:\n",
       "    lat               (/lat) float32 72kB ...\n",
       "    lon               (/lon) float32 144kB ...\n",
       "Dimensions without coordinates: /time, /lat, /lon\n",
       "Data variables:\n",
       "    time              (/time) datetime64[ns] 8B ...\n",
       "    analysed_sst      (/time, /lat, /lon) float64 5GB ...\n",
       "    analysis_error    (/time, /lat, /lon) float64 5GB ...\n",
       "    mask              (/time, /lat, /lon) float32 3GB ...\n",
       "    sea_ice_fraction  (/time, /lat, /lon) float64 5GB ...\n",
       "    dt_1km_data       (/time, /lat, /lon) timedelta64[ns] 5GB ...\n",
       "    sst_anomaly       (/time, /lat, /lon) float64 5GB ...\n",
       "Attributes: (12/47)\n",
       "    Conventions:                CF-1.7\n",
       "    title:                      Daily MUR SST, Final product\n",
       "    summary:                    A merged, multi-sensor L4 Foundation SST anal...\n",
       "    references:                 http://podaac.jpl.nasa.gov/Multi-scale_Ultra-...\n",
       "    institution:                Jet Propulsion Laboratory\n",
       "    history:                    created at nominal 4-day latency; replaced nr...\n",
       "    ...                         ...\n",
       "    project:                    NASA Making Earth Science Data Records for Us...\n",
       "    publisher_name:             GHRSST Project Office\n",
       "    publisher_url:              http://www.ghrsst.org\n",
       "    publisher_email:            ghrsst-po@nceo.ac.uk\n",
       "    processing_level:           L4\n",
       "    cdm_data_type:              grid"
      ]
     },
     "execution_count": 19,
     "metadata": {},
     "output_type": "execute_result"
    }
   ],
   "source": [
    "dataset = xr.open_dataset('dap4'+url[4:], engine='pydap')\n",
    "dataset"
   ]
  }
 ],
 "metadata": {
  "kernelspec": {
   "display_name": "Python 3 (ipykernel)",
   "language": "python",
   "name": "python3"
  },
  "language_info": {
   "codemirror_mode": {
    "name": "ipython",
    "version": 3
   },
   "file_extension": ".py",
   "mimetype": "text/x-python",
   "name": "python",
   "nbconvert_exporter": "python",
   "pygments_lexer": "ipython3",
   "version": "3.11.11"
  }
 },
 "nbformat": 4,
 "nbformat_minor": 5
}