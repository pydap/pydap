{
 "cells": [
  {
   "cell_type": "markdown",
   "id": "3cdc24e9-f0de-4820-871e-cea5bdbb9a73",
   "metadata": {},
   "source": [
    "# Tutorial de 5 minutos\n",
    "\n",
    "La manera mas accesible de usar `pydap` es como `cliente` de acceso a datos cientificos en servidores remotos de [OPeNDAP](https://www.opendap.org/). \n",
    "\n",
    "## OPeNDAP - la visión original\n",
    "La vision original de [OPeNDAP](https://www.opendap.org/) ([Cornillion, et al 1993](https://zenodo.org/records/10610992)) fue el hacer las equivalencias\n",
    "\n",
    "$ \\;\\;\\;\\;\\;\\;\\;\\;\\;\\;\\;\\;\\;\\;\\;\\;\\;\\;\\;\\;\\;\\;\\;\\;\\;\\;\\;\\;\\;\\;\\;\\;\\;\\;\\;\\;\\; \\boxed{\\text{URL} \\approx \\text{Dataset Remoto} }$\n",
    "\n",
    "$ \\;\\;\\;\\;\\;\\;\\;\\;\\;\\;\\;\\;\\;\\;\\;\\;\\;\\;\\; \\boxed{\\text{URL + Expresión de Restricción} \\approx \\text{Subregion de un Dataset Remoto}} $\n",
    "\n",
    "Esa vision original fue la que conllevo el desarrollo del protocolo `DAP2`. En la actualidad, tanto <span style='color:#ff6666'>**OPeNDAP**</span> como Unidata implementan el protocolo `DAP4`, el cual es mas moderno y abarca mas typos de information, y cubre todos los elementos esenciales cubiertos por el protocolo `DAP2` (para mas informacion vea [DAP4 specification](https://opendap.github.io/dap4-specification/DAP4.html#_how_dap4_differs_from_dap2)).\n",
    "\n",
    "## La aportación de PyDAP:\n",
    "\n",
    "The logica interna de `PyDAP` permite  la construccion de expressiones de restriccion (`CE`s for su siglas en ingles) para cada url, de una manera interactiva, facilitando el accesso a subconjunto de datos remotos atraves de <span style='color:#ff6666'>**OPeNDAP**</span>. Ademas, como `pydap` es un \"[backend engine](https://docs.xarray.dev/en/stable/user-guide/io.html#opendap)\" del paquete de Python `Xarray`, usuarios pueden escalar su flujo de trabajo con la combinacion `Xarray`+`PyDAP` y el uso de parallelismo que `Xarray` permite. En general, un dominio basico del uso de expressiones de restriction (`CE`s) es importante para maximizar los protocolos de OPeNDAP.\n",
    "\n",
    "\n",
    "### Objetivos:\n",
    "\n",
    "\n",
    "- Demonstrar como especificar el protocolo <span style='color:#0066cc'>**DAP4**</span> al servidor remoto de <span style='color:#ff6666'>**OPeNDAP**</span>.\n",
    "- El uso de `Xarray` y `PyDAP` para descargar un subcojunto de datos remotos en 2 escenario typicos: `a)` Un archivo remoto con extension `NcML` que representa un archivo virtua l de aggregacion , y `b)` dos archivos remotos de format Netcdf.\n",
    "- Demonstrat las distintas maneras en que pueden user las Condiciones de Restriccion (`CE`s), y como estas se pueden pasar al servidor para que cualquier operacion de extraer subconjuntos <span style='color:#0066cc'>**sea hecha por el servidor OPeNDAP**</span>, de una manera `proxima` a los archivos remotos, de una manera eficiente.\n",
    "\n",
    "\n",
    "### Requiremientos\n",
    "\n",
    "- Archivos expuestos por un servidor OPeNDAP que implemente el protocolo <span style='color:#0066cc'>**DAP4**</span>. Por ejemplo, el servidor: http://test.opendap.org/opendap/. \n",
    "- pydap>=3.5.8\n",
    "- xarray>=2025.0\n",
    "- numpy>=2.0\n",
    "\n",
    "```{note}\n",
    "The gran mayoria de los servidores OPeNDAP de la NASA implementan el protocolo <span style='color:#0066cc'>**DAP4**</span>.\n",
    "```\n",
    "\n"
   ]
  },
  {
   "cell_type": "code",
   "execution_count": null,
   "id": "d3db3dfb-0d2d-4bab-8b50-864bfc7602dc",
   "metadata": {},
   "outputs": [],
   "source": [
    "from pydap.client import open_url, consolidate_metadata, create_session\n",
    "import xarray as xr\n",
    "import numpy as np"
   ]
  },
  {
   "cell_type": "code",
   "execution_count": null,
   "id": "9eedc2d6-23de-42af-a6b4-5789244e8c06",
   "metadata": {},
   "outputs": [],
   "source": [
    "# create a session to inspect downloads. cache_name must have `debug`\n",
    "session = create_session(use_cache=True, cache_kwargs={\"cache_name\":'data/debug_case1'})\n",
    "session.cache.clear()"
   ]
  },
  {
   "cell_type": "markdown",
   "id": "be908ec8-d715-4a5c-89d5-71905e1ea57b",
   "metadata": {},
   "source": [
    "## 1) Accesso a subconjuntos de un archivo NcML file\n",
    "\n",
    "El archivo que utilizaremos tiene formate `NcML` representando una aggregacion virtual de muchos archivos dataset, el cual puede ser encontrado en el servidos prueba con nombre: [aggExisting.ncml](http://test.opendap.org/opendap/data/ncml/agg/aggExisting.ncml.dmr.html).\n",
    "\n",
    "Los servidores de <span style='color:#ff6666'>**OPeNDAP**</span> pueden ser configurados para producir estos archivos de aggregation con formato `NcML`. La ventaja es que el usuario trabaja con un solo URL para toda la informacion posible, mientras que en el escenario cuando los archivos no has sido aggregados, el usuario tiene entonces que trabajar con multiples (a veces miles) de URLs.\n"
   ]
  },
  {
   "cell_type": "code",
   "execution_count": null,
   "id": "fe51afda-0757-4a46-9b11-9c0999640842",
   "metadata": {},
   "outputs": [],
   "source": [
    "ncml_url = \"http://test.opendap.org/opendap/data/ncml/agg/aggExisting.ncml\"\n",
    "dap4_ncml_url = ncml_url.replace(\"http\",  \"dap4\")\n",
    "print(\"=============================================================\\n URL DAP4: \\n\", dap4_ncml_url, \"\\n=============================================================\")"
   ]
  },
  {
   "cell_type": "markdown",
   "id": "a5506f6d-8de8-40ba-b20e-1d9a8def20bc",
   "metadata": {},
   "source": [
    "Ahora utilizamos Xarray y Pydap para \"abrir\" el archivo, como si estuviera en tu computadora de trabajo. Para esto ejecte el siguiente bloque de codigo"
   ]
  },
  {
   "cell_type": "code",
   "execution_count": null,
   "id": "1f1a8f28-47fa-492f-858c-5004e7c451b8",
   "metadata": {},
   "outputs": [],
   "source": [
    "ds = xr.open_dataset(\n",
    "    dap4_ncml_url, \n",
    "    engine='pydap',\n",
    "    session = session,\n",
    "    chunks={},\n",
    ")\n",
    "ds"
   ]
  },
  {
   "cell_type": "markdown",
   "id": "cc5c209b-a1fa-4bae-b296-4963a86e984d",
   "metadata": {},
   "source": [
    "```{note}\n",
    "El archivo sigue estando remoto, pero el programa de Xarray junto con Pydap permiten accesar a la information dentro archivo, como si estuviera accesando un archivo dentro de su computadora.\n",
    "```"
   ]
  },
  {
   "cell_type": "markdown",
   "id": "c15813d2-80e5-41c4-b8c1-ca1c5b24aace",
   "metadata": {},
   "source": [
    "### Como dercargamos un elemento de una variable del archivo remoto?\n",
    "\n",
    "Para demostrar como descargar datos, primero inspeccionamos la descripcion de la variable `T`. Es importante, antes que nada, entender la estructura interna del archivo.\n"
   ]
  },
  {
   "cell_type": "code",
   "execution_count": null,
   "id": "215ef5ba-b1d4-4459-9f22-5b5dd027412b",
   "metadata": {},
   "outputs": [],
   "source": [
    "ds['T']"
   ]
  },
  {
   "cell_type": "markdown",
   "id": "7cd040f7-8fb1-4b51-9c07-ab5e201a9169",
   "metadata": {},
   "source": [
    "```{note}\n",
    "La informacion que describe la variable `T` implica que toda `T` esta contenida en un solo `chunk`. `Xarray` y `OPeNDAP` en general transmiten y realizan operaciones dividiento la informacion del archivo en `chunks`. Y `Xarray` interpreta a toda variable dentro de un archivo remoto en OPeNDAP, como un solo `chunk`, incluso cuando el archivo remoto divide la representacion de cada variable en diversos chunks. \n",
    "```\n"
   ]
  },
  {
   "cell_type": "code",
   "execution_count": null,
   "id": "a81fd0b9-9ecf-413f-9abe-e6f4d030990f",
   "metadata": {},
   "outputs": [],
   "source": [
    "# clear the cache to inspect what is being downloaded\n",
    "session.cache.clear() "
   ]
  },
  {
   "cell_type": "code",
   "execution_count": null,
   "id": "bab91aab-0ece-43c4-ade1-1796f44a0aec",
   "metadata": {},
   "outputs": [],
   "source": [
    "ds['T'].isel(time=1, lon=0, lat=0).load()"
   ]
  },
  {
   "cell_type": "code",
   "execution_count": null,
   "id": "ddbfa280-b88f-4c53-816e-3ef912cb78e3",
   "metadata": {},
   "outputs": [],
   "source": [
    "print(\"====================================== \\n Solicitud enviada al Servidor OPeNDAP \\n \", session.cache.urls()[0].split(\"?\")[-1].split(\"&dap4.checksum\")[0].replace(\"%5B\",\"[\").replace(\"%5D\",\"]\").replace(\"%3A\",\":\").replace(\"%2F\",\"/\"), \"\\n====================================== \")"
   ]
  },
  {
   "cell_type": "markdown",
   "id": "3f7b9437-2daa-4f26-b865-4ad57901553a",
   "metadata": {},
   "source": [
    "<span style='color:#0066cc'>**La expression de restriccion (CE) fue contruida por el metodo**<span style='color:black'>\n",
    "`.isel` de `Xarray`. Este <span style='color:#0066cc'>**metodo interno de Xarray fue entonces enviada al servidor OPeNDAP, el cual hizo todo el trabajo por nosotros!**<span style='color:black'>"
   ]
  },
  {
   "cell_type": "markdown",
   "id": "b7946ea1-0357-4666-a575-c29044610092",
   "metadata": {},
   "source": [
    "## 2) Accesando a subconjuntos en 2 archivos remotos que pertenecen al mismo proyecto\n",
    "\n",
    "En este escenario, los dos archivos remotos describen informacion contigua del mismo proyecto, bajo la suposicion que estos dos archivos pueden aggregarse a lo largo de una dimension. Por ejemplo, un archivo representa los valores de variables geofisicas en la fecha 10/Sept/2025, y el segundo archivo representa valores de las mismas variables geofisicas en la siguiente fecha disponible.\n",
    "\n",
    "Utilizaremotes para este ejemplo los siguientes archivos: [coads_climatology](http://test.opendap.org/opendap/data/nc/coads_climatology.nc.dmr.html) and [coads_climatology2](http://test.opendap.org/opendap/data/nc/coads_climatology.nc.dmr.html). Estos dos archivos abarcan la misma cobertura espacial, y pueden ser aggregados en tiempo.\n",
    "\n",
    "```{note}\n",
    "Es importante verificar siempre que los conjuntos de datos se puedan agregar. `PyDAP` y `Xarray` contienen lógica interna que verifica si dos o más conjuntos de datos se pueden concatenar. Sin embargo, estas comprobaciones de seguridad solo consideran dimensiones y coordenadas.\n",
    "```\n",
    "\n",
    "<span style='color:#0066cc'>**Un paso importante será el uso de Expresiones de Restricción (CE) para garantizar que solo se concatenen las variables de interés**<span style='color:black'>.\n",
    "\n",
    "```{warning}\n",
    "Uno de estos archivos tiene variables adicionales que no están presentes en el otro archivo y que descartaremos mediante el uso de CE.\n",
    "```\n"
   ]
  },
  {
   "cell_type": "code",
   "execution_count": null,
   "id": "2e3365f5-bafa-4e1e-b45f-e1f0713deb5b",
   "metadata": {},
   "outputs": [],
   "source": [
    "urls = [\"http://test.opendap.org/opendap/data/nc/coads_climatology.nc\", \"http://test.opendap.org/opendap/data/nc/coads_climatology2.nc\"]\n",
    "dap4_urls = [url.replace(\"http\",\"dap4\") for url in urls]\n",
    "\n",
    "# Expression de Restriccion (CE)\n",
    "dap4_CE = \"?dap4.ce=\" + \";\".join([\"/SST\", \"/COADSX\", \"/COADSY\", \"/TIME\"])\n",
    "\n",
    "# Final list of OPeNDAP URLs\n",
    "dap4ce_urls =[url+dap4_CE for url in dap4_urls]\n",
    "print(\"====================================================\\nURLs de OPeNDAP con protocolo DAP4 \\n\", dap4ce_urls)\n"
   ]
  },
  {
   "cell_type": "markdown",
   "id": "a3941e21-ccf6-4d86-b9ed-dcb791d3483e",
   "metadata": {},
   "source": [
    "\n",
    "```{note}\n",
    "**Q:¿Por qué usar `CE`s cuando `Xarray` tiene un método `.drop_variables`?** Porque `Xarray` necesita analizar primero todos los metadatos remotos para luego descartar las variables. En algunos archivos, es posible encontrar hasta 1000 variables. `Xarray` las analizaría todas y luego las descartaría. Con `CE`s, el servidor envía metadatos restringidos asociados únicamente a las variables deseadas. Asi, `Xarray` solo procesa las variables de importancia.\n",
    "```\n",
    "\n",
    "\n",
    "```{warning}\n",
    "`Xarray` espera la presencia de dimensiones en los metadatos. Al construir la `CE`, el usuario debe asegurarse de incluir todas las dimensiones asociadas con las variables de interés. En el ejemplo anterior, `COASX`, `COADSY` y `TIME` son las dimensiones de `SST`.\n",
    "```\n",
    "\n"
   ]
  },
  {
   "cell_type": "markdown",
   "id": "d632a57c-6fab-4347-a8cd-5bf029c31bf5",
   "metadata": {},
   "source": [
    "### <span style='color:#0066cc'>**Consolidate Metadata acelera el proceso de abrir una serie de archivos**<span style='color:black'>.\n"
   ]
  },
  {
   "cell_type": "code",
   "execution_count": null,
   "id": "54392239-06e9-4994-8c65-72f26a12ae13",
   "metadata": {},
   "outputs": [],
   "source": [
    "consolidate_metadata(dap4ce_urls, session=session, concat_dim=\"TIME\")"
   ]
  },
  {
   "cell_type": "markdown",
   "id": "27f5ed6b-3d52-4d4b-bccf-b3da63754f30",
   "metadata": {},
   "source": [
    "```{note}\n",
    "`consolidate_metadata(dap4_urls, concat_dim='...', session=session)` descarga las dimensiones del archivo remoto y las almacena en formato SQLite, para su reuso. Esto significa que el objecto `session` permite autentificar y actua como un database manager! ¡Esta práctica puede resultar en una mejora del rendimiento en flujos de trabajo entre 10 y 100 veces más rápidos!\n",
    "```"
   ]
  },
  {
   "cell_type": "markdown",
   "id": "807ba7fe-753d-4815-893a-5c2a344732fd",
   "metadata": {},
   "source": [
    "### Usamos Xarray como herramienta para abrir, descargar, y almacenar la informacion remota.\n",
    "\n",
    "Internamente, `Xarray` utiliza `pydap` para comunicar con el servidor de OPeNDAP.\n"
   ]
  },
  {
   "cell_type": "code",
   "execution_count": null,
   "id": "06289c68-364c-48a2-a201-75938a066671",
   "metadata": {},
   "outputs": [],
   "source": [
    "ds = xr.open_mfdataset(\n",
    "    dap4ce_urls, \n",
    "    engine='pydap',\n",
    "    concat_dim='TIME',\n",
    "    session=session,\n",
    "    combine=\"nested\",\n",
    "    parallel=True,\n",
    "    decode_times=False,\n",
    ")\n",
    "ds"
   ]
  },
  {
   "cell_type": "code",
   "execution_count": null,
   "id": "bef6b080-799d-49bf-a3ae-05f519e72fc7",
   "metadata": {},
   "outputs": [],
   "source": [
    "ds['SST']"
   ]
  },
  {
   "cell_type": "markdown",
   "id": "d068f31d-b93a-49b4-a9f5-ab989bf7b7d5",
   "metadata": {},
   "source": [
    "### <span style='color:#0066cc'>**Que pasa si queremos descargar un solo elemento**<span style='color:black'>\n"
   ]
  },
  {
   "cell_type": "code",
   "execution_count": null,
   "id": "5db066d8-0a41-4663-b200-ac9f235ab961",
   "metadata": {},
   "outputs": [],
   "source": [
    "session.cache.clear()"
   ]
  },
  {
   "cell_type": "code",
   "execution_count": null,
   "id": "aa032bfb-24ec-4453-b71a-89185d53d0e4",
   "metadata": {},
   "outputs": [],
   "source": [
    "%%time\n",
    "ds['SST'].isel(TIME=0, COADSX=0, COADSY=0).load() # this should download a single point one of the files"
   ]
  },
  {
   "cell_type": "code",
   "execution_count": null,
   "id": "0e160453-fc2f-471e-8138-41c7c4a89560",
   "metadata": {},
   "outputs": [],
   "source": [
    "print(\"====================================== \\n Solicitud enviada al Servidor OPeNDAP:\\n \", session.cache.urls()[0].split(\"?\")[-1].split(\"&dap4.checksum\")[0].replace(\"%5B\",\"[\").replace(\"%5D\",\"]\").replace(\"%3A\",\":\").replace(\"%2F\",\"/\"), \"\\n====================================== \")"
   ]
  },
  {
   "cell_type": "markdown",
   "id": "e269b592-8f77-478f-824f-003a1866ddc7",
   "metadata": {},
   "source": [
    "### <span style='color:#0066cc'>**Toda la variable fue descargada innecessariamente<span style='color:black'>** !!\n",
    "\n",
    "Lo que queremos, es ver que la solicitud enviada al servidor OPeNDAP contenga la siguiente CE:\n",
    "\n",
    "```python\n",
    "dap4.ce=/SST[0:1:0][0:1:0][0:1:0]\n",
    "```\n",
    "\n",
    "`xr.open_mfdataset` no pasa el argumento de seleccion al servidor, de la misma manera en que `xr.open_dataset` lo hace. En su lugar, `Xarray` solicita toda la variable, y ya descargada, `Xarray` hace la selection localmente, de acuerdo al argumento `.isel` proporcionado por el usuario.\n",
    "\n"
   ]
  },
  {
   "cell_type": "markdown",
   "id": "b2b8d51d-c6b7-43d8-9a39-b1a74989f1f9",
   "metadata": {},
   "source": [
    "### <span style='color:#0066cc'>**Como asegurar que la selection is enviada al servidor OPeNDAP?<span style='color:black'>**\n",
    "\n",
    "\n",
    "**La respuesta es proporcional le argumento extra, `chunk`, cuando abrimos/creamos el dataset con Xarray**. Este argumento `chunk` **debe ser igual al tamano de selection que esperamos como resultado final**. \n",
    "```{warning}\n",
    "Si el argumento `chunk` is mas pequeno que el tamano que esperanos de nuestra descarga, `Xarray` terminara enviando muchas solicitudes de descargas innecesarias al servidor, para luego juntar todos los subconjuntos descargados. Este flujo de trabajo tampoco es idea, pues `Xarray` termina haciendo trabajo extra. Lo ideal es hacer que el servidor haga todo el trabajo, y `Xarray` solo proporciona el parallelismo.\n",
    "```\n",
    "\n",
    "A continuacion demostramos lograr que Xarray pase la selection al servidor remoto OPeNDAP, el cual hace la mayoria del trabajo de selection cerca del archivo remoto, y solo envia la informacion requerida.\n",
    "\n"
   ]
  },
  {
   "cell_type": "code",
   "execution_count": null,
   "id": "ecdee08b-d384-4eb4-a772-bc2d0a3c549a",
   "metadata": {},
   "outputs": [],
   "source": [
    "# consolidate metadata again, since the cached metadata was cleared before\n",
    "consolidate_metadata(dap4ce_urls, session=session, concat_dim=\"TIME\")\n"
   ]
  },
  {
   "cell_type": "code",
   "execution_count": null,
   "id": "33df9a8b-db73-4789-90f8-61e5f9a4a64e",
   "metadata": {},
   "outputs": [],
   "source": [
    "# For a single element in all dimensions, the expected size of the download is:\n",
    "expected_sizes = {\"TIME\":1, \"COADSX\":1, \"COADSY\":1}"
   ]
  },
  {
   "cell_type": "code",
   "execution_count": null,
   "id": "858ac21e-8ce0-415d-b36d-6be4049bbc31",
   "metadata": {},
   "outputs": [],
   "source": [
    "%%time\n",
    "ds = xr.open_mfdataset(\n",
    "    dap4ce_urls, \n",
    "    engine='pydap',\n",
    "    concat_dim='TIME',\n",
    "    session=session,\n",
    "    combine=\"nested\",\n",
    "    parallel=True,\n",
    "    decode_times=False,\n",
    "    chunks=expected_sizes, # <---------\n",
    ")\n"
   ]
  },
  {
   "cell_type": "code",
   "execution_count": null,
   "id": "fbb68bbf-1b4b-4723-be04-99298209b11c",
   "metadata": {},
   "outputs": [],
   "source": [
    "session.cache.clear()"
   ]
  },
  {
   "cell_type": "code",
   "execution_count": null,
   "id": "9c8b9a97-f480-4484-ba45-5a85eb144f1b",
   "metadata": {},
   "outputs": [],
   "source": [
    "ds['SST'] # inspect chunks before download"
   ]
  },
  {
   "cell_type": "code",
   "execution_count": null,
   "id": "adc331e2-eaf5-4236-899d-eb2baba59800",
   "metadata": {},
   "outputs": [],
   "source": [
    "%%time\n",
    "ds['SST'].isel(TIME=0, COADSX=0, COADSY=0).load() # triggers download of an individual chunk"
   ]
  },
  {
   "cell_type": "code",
   "execution_count": null,
   "id": "c29167a0-2f05-4331-8dba-ad34e830525e",
   "metadata": {},
   "outputs": [],
   "source": [
    "print(\"====================================== \\n Solicitud enviada al Servidor OPeNDAP:\\n \", session.cache.urls()[0].split(\"?\")[-1].split(\"&dap4.checksum\")[0].replace(\"%5B\",\"[\").replace(\"%5D\",\"]\").replace(\"%3A\",\":\").replace(\"%2F\",\"/\"), \"\\n====================================== \")"
   ]
  },
  {
   "cell_type": "markdown",
   "id": "88692a8d-b219-49bc-806b-34fdd68b8562",
   "metadata": {},
   "source": [
    "### Warning: Be cautious about chunking\n",
    "\n",
    "¡Ahora solo descargamos exactamente lo que solicitamos! Sin embargo, en algunos casos, el tiempo de descarga puede ser hasta diez veces más lento que cuando solicitamos más datos. La razón de esta lentitud se puede atribuir a la cantidad de fragmentos (`chunks`) que generó el gráfico de Dask.\n",
    "\n",
    "Entonces, estos dos son los escenarios que experimentados al tratar de descargar un subconjunto de datos. \n",
    "\n",
    "\n",
    "* `No chunk definido. Xarray descarga toda la variable.`\n",
    "* Chunk definido. Xarray descarga solo el elemento deseado del archivo remoto. Pero durante este processo,  `388800` chunks fueron creados!\n",
    "\n",
    "Idealmente, el `Chunk manager` solo debería activar la descarga de un único fragmento. Sin embargo, se crearon 388800 para garantizar la transferencia del elemento al servidor. Esto, en ocasiones, puede provocar que el cliente (Xarray) tarde mas de lo normal.\n",
    "\n",
    "En el escenario anterior, llegamos a extremos. Es mejor encontrar un punto medio para los chunks. Lo demostramos a continuación, pero ahora con subconjuntos a lo largo del tiempo.\n"
   ]
  },
  {
   "cell_type": "code",
   "execution_count": null,
   "id": "59164698-5ec6-42f7-b1a4-e1106f68c776",
   "metadata": {},
   "outputs": [],
   "source": [
    "consolidate_metadata(dap4ce_urls, session=session, concat_dim=\"TIME\")"
   ]
  },
  {
   "cell_type": "code",
   "execution_count": null,
   "id": "e3f59190-b8c0-4d0c-bda6-8cee9d73dff0",
   "metadata": {},
   "outputs": [],
   "source": [
    "download_sizes = {\"COADSY\":1} # note that we will subset across all time"
   ]
  },
  {
   "cell_type": "code",
   "execution_count": null,
   "id": "e1b213b3-768f-4751-b6e1-36fb61d25200",
   "metadata": {},
   "outputs": [],
   "source": [
    "%%time\n",
    "ds = xr.open_mfdataset(\n",
    "    dap4ce_urls, \n",
    "    engine='pydap',\n",
    "    concat_dim='TIME',\n",
    "    session=session,\n",
    "    combine=\"nested\",\n",
    "    parallel=True,\n",
    "    decode_times=False,\n",
    "    chunks=download_sizes,\n",
    ")\n",
    "session.cache.clear()"
   ]
  },
  {
   "cell_type": "code",
   "execution_count": null,
   "id": "e8609922-0260-46dc-9d5a-18edcc883e4a",
   "metadata": {},
   "outputs": [],
   "source": [
    "ds['SST']"
   ]
  },
  {
   "cell_type": "code",
   "execution_count": null,
   "id": "ebd487e5-87ca-4ae7-9569-0d41152ddd37",
   "metadata": {},
   "outputs": [],
   "source": [
    "%%time\n",
    "ds['SST'].isel(COADSX=0, COADSY=0).load()"
   ]
  },
  {
   "cell_type": "code",
   "execution_count": null,
   "id": "61568c72-e0a8-44b6-876e-fe88e828bddf",
   "metadata": {},
   "outputs": [],
   "source": [
    "print(\"====================================== \\n Solicitudes enviadas al Servidor OPeNDAP:\\n \",  [url.split(\"?\")[-1].split(\"&dap4.checksum\")[0].replace(\"%5B\",\"[\").replace(\"%5D\",\"]\").replace(\"%3A\",\":\").replace(\"%2F\",\"/\") for url in session.cache.urls()], \"\\n====================================== \")"
   ]
  },
  {
   "cell_type": "markdown",
   "id": "9cf99afd-7b64-4b45-a048-71ef9f9fd3f7",
   "metadata": {},
   "source": [
    "### Exito! Similar tiempo descarga, pero descarga es mucho menor que antes!\n"
   ]
  },
  {
   "cell_type": "code",
   "execution_count": null,
   "id": "d84f4aa2-de23-485f-8acb-b34dfe7988c1",
   "metadata": {},
   "outputs": [],
   "source": []
  }
 ],
 "metadata": {
  "kernelspec": {
   "display_name": "Python 3 (ipykernel)",
   "language": "python",
   "name": "python3"
  },
  "language_info": {
   "codemirror_mode": {
    "name": "ipython",
    "version": 3
   },
   "file_extension": ".py",
   "mimetype": "text/x-python",
   "name": "python",
   "nbconvert_exporter": "python",
   "pygments_lexer": "ipython3",
   "version": "3.11.13"
  }
 },
 "nbformat": 4,
 "nbformat_minor": 5
}
