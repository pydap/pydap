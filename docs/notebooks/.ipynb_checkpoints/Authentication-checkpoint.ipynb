{
 "cells": [
  {
   "cell_type": "markdown",
   "id": "e612fee8-dd6b-4ebf-901b-05fca2caa453",
   "metadata": {},
   "source": [
    "# Basic Authentication\n",
    "\n",
    "Many servers require authentication. [PyDAP](https://github.com/pydap/pydap) includes an extension mechanism so that it can interact with different kinds of authentication systems. \n",
    "\n",
    "In this short tutorial notebook, we will cover basic `EarthDatalogin` (`EDL`) authentication with \n",
    "\n",
    "1. `username/password`.\n",
    "2. `tokens`\n",
    "\n",
    "making use of Python's [Requests](https://requests.readthedocs.io/en/latest/) HTTP library to create a session. Of the two approaches above, `token authentication` will be used and generally recommended thoughout the documentation. \n",
    "\n",
    "These two types of authentications will be used to access the same dataset, both on OPeNDAP's Hyrax server. A similar approach can be used to access data on a different server.\n",
    "\n",
    "\n",
    "```{note}\n",
    "For a broader introduction to authentication, check the `OPeNDAP` documentation on [Authentication for DAP Clients](https://opendap.github.io/documentation/tutorials/ClientAuthentication.html), and [Client Authentication With EDLTokens](https://opendap.github.io/documentation/tutorials/ClientAuthenticationWithEDLTokens.html).\n",
    "```\n"
   ]
  },
  {
   "cell_type": "code",
   "execution_count": null,
   "id": "8e679652-bb05-418d-96e8-423a7df0d849",
   "metadata": {},
   "outputs": [],
   "source": [
    "import requests\n",
    "from pydap.client import open_url"
   ]
  },
  {
   "cell_type": "code",
   "execution_count": null,
   "id": "f83f7dd7-e316-411e-8ab8-2d73ec7b443c",
   "metadata": {},
   "outputs": [],
   "source": [
    "dataset_url = \"https://opendap.earthdata.nasa.gov/providers/POCLOUD/collections/ECCO%20Ocean%20Temperature%20and%20Salinity%20-%20Monthly%20Mean%200.5%20Degree%20(Version%204%20Release%204)/granules/OCEAN_TEMPERATURE_SALINITY_mon_mean_2017-12_ECCO_V4r4_latlon_0p50deg\""
   ]
  },
  {
   "cell_type": "markdown",
   "id": "a3ab19a7-461c-4432-9122-ac237b298ba4",
   "metadata": {},
   "source": [
    "### username / password approach"
   ]
  },
  {
   "cell_type": "code",
   "execution_count": null,
   "id": "cf72fd2f-8435-4974-80c4-903b5178bd85",
   "metadata": {},
   "outputs": [],
   "source": [
    "from pydap.cas.urs import setup_session\n",
    "\n",
    "username = \"<YourUserName>\" # Earthdata URS Login (only needed for NGAP Hyrax) Get account here https://urs.earthdata.nasa.gov/\n",
    "password = \"<YourPassword>\"\n",
    "\n",
    "hyrax_url = 'https://opendap.earthdata.nasa.gov/collections/C2532426483-ORNL_CLOUD/granules/'\n",
    "session = setup_session(username, password, check_url=hyrax_url)"
   ]
  },
  {
   "cell_type": "markdown",
   "id": "1e344f3d-5ae7-4c73-84ff-1df528fbf56a",
   "metadata": {},
   "source": [
    "### Now, we open the remote dataset\n",
    "\n"
   ]
  },
  {
   "cell_type": "code",
   "execution_count": null,
   "id": "efdaa82c-3127-421a-bdfb-3a1a6c4f3804",
   "metadata": {},
   "outputs": [],
   "source": [
    "ds = open_url(dataset_url, session=session, protocol='dap4')\n",
    "ds.tree()"
   ]
  },
  {
   "cell_type": "markdown",
   "id": "c7184a26-9cad-492d-bdec-ef8b2ee18083",
   "metadata": {},
   "source": [
    "```{note}\n",
    "No data has been downloaded yet! \n",
    "```"
   ]
  },
  {
   "cell_type": "markdown",
   "id": "a1127207-b65f-4052-bdf4-959f810e84b5",
   "metadata": {},
   "source": [
    "### Token Approach\n",
    "\n",
    "This is the approach that will largely will be used throughout the documentation.\n"
   ]
  },
  {
   "cell_type": "code",
   "execution_count": null,
   "id": "f260427e-cdca-4fea-be60-e5984b13e0f6",
   "metadata": {},
   "outputs": [],
   "source": [
    "edl_token = \"<YourEDLTokenHere>\"\n",
    "\n",
    "auth_hdr=\"Bearer \" + edl_token\n",
    "\n",
    "# pass Token Authorization to a new Session.\n",
    "\n",
    "my_session = requests.Session()\n",
    "my_session.headers={\"Authorization\": auth_hdr}"
   ]
  },
  {
   "cell_type": "code",
   "execution_count": null,
   "id": "e0b7bc9c-db3d-4b4f-818a-ef64ed86b3b9",
   "metadata": {},
   "outputs": [],
   "source": [
    "ds = open_url(dataset_url, session=my_session, protocol='dap4')\n",
    "ds.tree()"
   ]
  },
  {
   "cell_type": "markdown",
   "id": "75d8b297-5d8b-4ce1-889e-1d22750e83ae",
   "metadata": {},
   "source": [
    "```{note}\n",
    "Similarly, no data has been downloaded yet! \n",
    "```"
   ]
  }
 ],
 "metadata": {
  "kernelspec": {
   "display_name": "Python 3 (ipykernel)",
   "language": "python",
   "name": "python3"
  },
  "language_info": {
   "codemirror_mode": {
    "name": "ipython",
    "version": 3
   },
   "file_extension": ".py",
   "mimetype": "text/x-python",
   "name": "python",
   "nbconvert_exporter": "python",
   "pygments_lexer": "ipython3",
   "version": "3.12.4"
  }
 },
 "nbformat": 4,
 "nbformat_minor": 5
}
