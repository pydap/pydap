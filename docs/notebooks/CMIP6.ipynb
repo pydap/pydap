{
 "cells": [
  {
   "cell_type": "markdown",
   "id": "51e83944-0a85-499d-aa5e-241697cb1c2e",
   "metadata": {},
   "source": [
    "# CMIP6\n",
    "\n",
    "This notebook demonstrates access to **Coupled Model Intercomparison Project Phase** 6 (`CMIP6`) data. Broad information about the dataset can be found on the PACE website (see [here](https://oceandata.sci.gsfc.nasa.gov))\n",
    "\n",
    "**Requirements to run this notebook**\n",
    "1. None\n",
    "\n",
    "**Objectives**\n",
    " \n",
    "Use [pydap](https://pydap.github.io/pydap/)'s client API to demonstrate\n",
    "\n",
    "- To demonstrate remote access to CMIP data available through the **Earth System Grid Federation [ESGF](https://aims2.llnl.gov/search/cmip6/) Portal.\n",
    "- To access and subset remote data using the DAP2 Protocol.\n",
    "\n",
    "\n",
    "\n",
    "The **Earth System Grid Federation** [ESGF](https://aims2.llnl.gov/search/cmip6/) Contains a broad range of model output (e.g, CMIP3, CMIP5, [CMIP6](https://pcmdi.llnl.gov/CMIP6/), E3SM) from which you can obtain OPeNDAP URLs for data variables. To access the ESGF Node and browse data [click here](https://aims2.llnl.gov/search/cmip6/).\n",
    "\n",
    "\n",
    "\n",
    "`Author`: Miguel Jimenez-Urias, '24"
   ]
  },
  {
   "cell_type": "code",
   "execution_count": null,
   "id": "dccc02e0-6ace-4c8d-a3bd-c0c48131219a",
   "metadata": {},
   "outputs": [],
   "source": [
    "import matplotlib.pyplot as plt\n",
    "import numpy as np\n",
    "from pydap.client import open_url\n",
    "import cartopy.crs as ccrs"
   ]
  },
  {
   "cell_type": "markdown",
   "id": "63e91536-e6d4-498e-8afd-3d29d97dcce8",
   "metadata": {},
   "source": [
    "**CMIP6 Access via OPeNDAP server**\n",
    "\n",
    "You can also directly inspect a THREDDS catalog for [CMIP6](https://crd-esgf-drc.ec.gc.ca/thredds/catalog/esgB_dataroot/AR6/CMIP6/catalog.html). For example, you can navigate to `CDRMIP/CCCma/CanESM5/esm-pi-cdr-pulse/r2i1p2f1/Eday/ts/gn/v20190429` and access [ts data](https://crd-esgf-drc.ec.gc.ca/thredds/dodsC/esgB_dataroot/AR6/CMIP6/CDRMIP/CCCma/CanESM5/esm-pi-cdr-pulse/r2i1p2f1/Eday/ts/gn/v20190429/ts_Eday_CanESM5_esm-pi-cdr-pulse_r2i1p2f1_gn_54510101-56501231.nc.html) via OPeNDAP DAP2 protocol.\n",
    "\n"
   ]
  },
  {
   "cell_type": "code",
   "execution_count": null,
   "id": "b6a2ae7b-16cb-4133-bdb0-e34e95b0bd66",
   "metadata": {},
   "outputs": [],
   "source": [
    "url = \"https://crd-esgf-drc.ec.gc.ca/thredds/dodsC/esgB_dataroot/AR6/CMIP6/CDRMIP/CCCma/CanESM5/esm-pi-cdr-pulse/r2i1p2f1/Eday/ts/gn/v20190429/ts_Eday_CanESM5_esm-pi-cdr-pulse_r2i1p2f1_gn_54510101-56501231.nc\""
   ]
  },
  {
   "cell_type": "markdown",
   "id": "d1df9ddd-96a8-4b2c-be60-79dbc2ad4d71",
   "metadata": {},
   "source": [
    "**Create dataset access via pydap**\n",
    "\n",
    "By default `protocol='dap2'`, however the default behavior may change in the future.\n"
   ]
  },
  {
   "cell_type": "code",
   "execution_count": null,
   "id": "064952fb-9d43-4bd2-8a6d-8b38ef529511",
   "metadata": {},
   "outputs": [],
   "source": [
    "%%time\n",
    "ds = open_url(url, protocol='dap2')"
   ]
  },
  {
   "cell_type": "code",
   "execution_count": null,
   "id": "dc74b87b-e94f-4543-81ec-f305f661fc16",
   "metadata": {},
   "outputs": [],
   "source": [
    "ds.tree()"
   ]
  },
  {
   "cell_type": "code",
   "execution_count": null,
   "id": "ff509136-1522-44e9-9752-e469d18872b7",
   "metadata": {},
   "outputs": [],
   "source": [
    "print('Dataset memory user [GBs, uncompressed]: ', ds.nbytes/1e9)"
   ]
  },
  {
   "cell_type": "markdown",
   "id": "50e281f6-48eb-42e3-9c93-a35dc61c8a18",
   "metadata": {},
   "source": [
    "**Inspect single variable**\n",
    "\n"
   ]
  },
  {
   "cell_type": "code",
   "execution_count": null,
   "id": "7455c1d8-dd95-42d6-9f26-6421fb86f7fa",
   "metadata": {},
   "outputs": [],
   "source": [
    "ts = ds['ts']\n",
    "ts"
   ]
  },
  {
   "cell_type": "markdown",
   "id": "47171575-5fd2-4605-8db4-f666d3ed1485",
   "metadata": {},
   "source": [
    "**Grid Arrays**\n",
    "\n",
    "- No longer implemented in `DAP4`. These carry copies of dimensions/coverage, and can be considered self-contained.\n",
    "- Attempting to download into memory `ts` also downloads `time`, `lat`, `lon`.\n",
    "- Attributes sit the `GridType` level. For example:\n",
    "\n",
    "```python\n",
    "ds['ts'].attributes\n",
    "```\n",
    "and\n",
    "```python\n",
    "ds['ts']['ts'].attributes\n",
    "```\n",
    "yield different results.\n"
   ]
  },
  {
   "cell_type": "code",
   "execution_count": null,
   "id": "e82d129d-17fa-4927-a257-7390b10fcce6",
   "metadata": {},
   "outputs": [],
   "source": [
    "def decode(variable) -> np.ndarray:\n",
    "    \"\"\"Decodes the variable BaseType according with atributes:\n",
    "        _FillValue\n",
    "        scale_factor\n",
    "\n",
    "    Parameters:\n",
    "        variable: BaseType (pydap model)\n",
    "    \"\"\"\n",
    "    import pydap\n",
    "    scale_factor = 1\n",
    "    _Fillvalue = None\n",
    "\n",
    "    if 'scale_factor' in variable.attributes:\n",
    "        scale_factor = variable.scale_factor\n",
    "    if '_FillValue' in variable.attributes:\n",
    "        if isinstance(variable, pydap.model.GridType):\n",
    "            data = np.where(variable.array.data == variable._FillValue, np.nan, variable.array.data) \n",
    "        elif isinstance(variable, pydap.model.BaseType):\n",
    "            data = np.where(variable.data == variable._FillValue, np.nan, variable.data)    \n",
    "    else:\n",
    "        data = variable.data\n",
    "    return scale_factor * data"
   ]
  },
  {
   "cell_type": "code",
   "execution_count": null,
   "id": "11806c16-6353-4a43-83f6-288a4eb40e90",
   "metadata": {},
   "outputs": [],
   "source": [
    "ts.tree()"
   ]
  },
  {
   "cell_type": "markdown",
   "id": "db899209-ae82-48e9-8a5f-c5706d6ea3ad",
   "metadata": {},
   "source": [
    "**Let's make some plots!**\n",
    "\n",
    "We will pick the Grid type `ts` at `time=0`. Will use `pydap`.\n",
    "\n",
    "\n",
    "**NOTE**: When making a plot, check for missing values, scale factors, units.\n"
   ]
  },
  {
   "cell_type": "code",
   "execution_count": null,
   "id": "437d0a45-1209-4bb2-99b3-37b49f41bc30",
   "metadata": {},
   "outputs": [],
   "source": [
    "ds['ts'].shape"
   ]
  },
  {
   "cell_type": "code",
   "execution_count": null,
   "id": "46d73e0e-7503-4c6e-9e2b-b9aae96333ae",
   "metadata": {},
   "outputs": [],
   "source": [
    "# download the entire GridType, single snapshot\n",
    "GTS = ds['ts'][0, :, :]\n",
    "GTS"
   ]
  },
  {
   "cell_type": "code",
   "execution_count": null,
   "id": "f35309dc-bf11-40de-b9be-cee969c97b11",
   "metadata": {},
   "outputs": [],
   "source": [
    "GTS.attributes"
   ]
  },
  {
   "cell_type": "code",
   "execution_count": null,
   "id": "8069f326-aa19-432a-ba97-54f8edd0edf5",
   "metadata": {},
   "outputs": [],
   "source": [
    "GTS.shape"
   ]
  },
  {
   "cell_type": "code",
   "execution_count": null,
   "id": "9a0d7e8f-7d6c-4aed-94ab-dbb3ef7c775f",
   "metadata": {},
   "outputs": [],
   "source": [
    "len(GTS.data), type(GTS.data)"
   ]
  },
  {
   "cell_type": "markdown",
   "id": "3537914c-6259-44a4-bc73-f8ef3a6ffb3e",
   "metadata": {},
   "source": [
    "`NOTE`:\n",
    "```python\n",
    "# why are the two different?\n",
    "len(GTS.data) != GTS.shape \n",
    "```\n",
    "this is because downloading the Grid array downloads too its coordinate dimensions, resulting in a list!\n"
   ]
  },
  {
   "cell_type": "code",
   "execution_count": null,
   "id": "e7fe0c9d-dcb9-4f65-ae09-387137d69200",
   "metadata": {},
   "outputs": [],
   "source": [
    "# download the only Array, single snapshot\n",
    "TS = ds['ts']['ts'][0, :, :]\n",
    "TS"
   ]
  },
  {
   "cell_type": "code",
   "execution_count": null,
   "id": "9ea189f7-df2c-4208-bb30-7422811d8044",
   "metadata": {},
   "outputs": [],
   "source": [
    "TS.attributes"
   ]
  },
  {
   "cell_type": "markdown",
   "id": "786dc6f6-018a-4ea1-b348-4c4909fde92c",
   "metadata": {},
   "source": [
    "```{note}\n",
    "Since the data is periodic in longitude, we need to append a copy to the array. We need to do this since cartopy interpolates data. If we don't, then there will be missing longitude band of missing data in for plot as shown below:\n",
    "```"
   ]
  },
  {
   "cell_type": "code",
   "execution_count": null,
   "id": "042b04ca-0c4f-40cc-9fd4-82b6d14ba89b",
   "metadata": {},
   "outputs": [],
   "source": [
    "Lon, Lat = np.meshgrid(GTS['lon'].data, GTS['lat'].data)"
   ]
  },
  {
   "cell_type": "code",
   "execution_count": null,
   "id": "836f8d0c-6578-4827-9b05-d414196db29d",
   "metadata": {},
   "outputs": [],
   "source": [
    "plt.figure(figsize=(15, 5))\n",
    "ax = plt.axes(projection=ccrs.Mollweide())\n",
    "ax.set_global()\n",
    "ax.coastlines()\n",
    "ax.contourf(Lon, Lat, np.squeeze(decode(GTS)), 200, transform=ccrs.PlateCarree(), cmap='jet')\n",
    "plt.show()"
   ]
  },
  {
   "cell_type": "markdown",
   "id": "75a08465-169e-40e1-a9bc-18ebe919e4ee",
   "metadata": {},
   "source": [
    "**Fig 1**. Global Near surface temperature on a (longitude)-periodic domain."
   ]
  }
 ],
 "metadata": {
  "kernelspec": {
   "display_name": "Python 3 (ipykernel)",
   "language": "python",
   "name": "python3"
  },
  "language_info": {
   "codemirror_mode": {
    "name": "ipython",
    "version": 3
   },
   "file_extension": ".py",
   "mimetype": "text/x-python",
   "name": "python",
   "nbconvert_exporter": "python",
   "pygments_lexer": "ipython3",
   "version": "3.12.4"
  }
 },
 "nbformat": 4,
 "nbformat_minor": 5
}
