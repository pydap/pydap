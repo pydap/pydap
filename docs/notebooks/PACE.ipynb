{
 "cells": [
  {
   "cell_type": "markdown",
   "id": "2ab1781b-9318-4fda-a523-71a60f87aa44",
   "metadata": {},
   "source": [
    "# PACE\n",
    "\n",
    "This notebook demonstrates access to PACE Ocean Color Data. Broad information about the dataset can be found on the PACE website (see [here](https://oceandata.sci.gsfc.nasa.gov))\n",
    "\n",
    "**Requirements to run this notebook**\n",
    "1. Have an Earth Data Login account\n",
    "2. Have a Bearer Token.\n",
    "\n",
    "\n",
    "**Objectives**\n",
    " \n",
    "Use [pydap](https://pydap.github.io/pydap/)'s client API to demonstrate\n",
    "\n",
    "- Access to NASA's [EarthData in the cloud](https://www.earthdata.nasa.gov/) via the use of `tokens`.\n",
    "- Access/download `PACE` data with an `OPeNDAP` URL and `pydap`'s client.\n",
    "- Construct a `Constraint Expression`.\n",
    "- Speed up the workflow by exploiting `OPeNDAP`'s **data-proximate subsetting** to access and download only subset of the original data.\n",
    "\n",
    "\n",
    "`Author`: Miguel Jimenez-Urias, '24"
   ]
  },
  {
   "cell_type": "code",
   "execution_count": null,
   "id": "0fa31dfb-2d83-4e74-b672-57a7c1da0f21",
   "metadata": {},
   "outputs": [],
   "source": [
    "import matplotlib.pyplot as plt\n",
    "import numpy as np\n",
    "import requests\n",
    "from pydap.client import open_url\n",
    "import cartopy.crs as ccrs\n",
    "import xarray as xr"
   ]
  },
  {
   "cell_type": "markdown",
   "id": "c600be3d-cb1b-45e2-a3ee-19cffda4511e",
   "metadata": {},
   "source": [
    "### Access EARTHDATA\n",
    "\n",
    "The PACE OPeNDAP data catalog can be found [here](https://oceandata.sci.gsfc.nasa.gov/opendap/PACE_OCI/L3SMI/2024/contents.html). Data only starts in 2024.\n"
   ]
  },
  {
   "cell_type": "code",
   "execution_count": null,
   "id": "ca9ed69f-d06a-4f77-a274-cfe8dcf260d3",
   "metadata": {},
   "outputs": [],
   "source": [
    "# slow download URL / higher resolution\n",
    "url_DAP4 = \"http://oceandata.sci.gsfc.nasa.gov/opendap/PACE_OCI/L3SMI/2024/0310/PACE_OCI.20240310.L3m.DAY.CHL.V2_0.chlor_a.4km.NRT.nc\"\n"
   ]
  },
  {
   "cell_type": "markdown",
   "id": "ce21fee0-5d50-459e-930a-573af6488758",
   "metadata": {},
   "source": [
    "### Add to session's headers Token Authorization\n"
   ]
  },
  {
   "cell_type": "code",
   "execution_count": null,
   "id": "3dc75b1f-ec11-4ae3-bd1d-9f4c5dc2939e",
   "metadata": {},
   "outputs": [],
   "source": [
    "edl_token = \"<YourEDLTokenHere>\"\n",
    "\n",
    "auth_hdr=\"Bearer \" + edl_token\n",
    "\n",
    "# pass Token Authorization to a new Session.\n",
    "\n",
    "my_session = requests.Session()\n",
    "my_session.headers={\"Authorization\": auth_hdr}"
   ]
  },
  {
   "cell_type": "code",
   "execution_count": null,
   "id": "9add5aa3-35b8-4c4b-9e12-7f5f84f5ce5a",
   "metadata": {},
   "outputs": [],
   "source": [
    "%%time\n",
    "ds_full = open_url(url_DAP4, session=my_session, protocol='dap4')"
   ]
  },
  {
   "cell_type": "code",
   "execution_count": null,
   "id": "ca03f8e2-9332-40ad-a8f7-6fee884f7763",
   "metadata": {},
   "outputs": [],
   "source": [
    "ds_full.tree()"
   ]
  },
  {
   "cell_type": "markdown",
   "id": "9edb0fdd-502a-4bc2-9589-f4a58a0ee1f9",
   "metadata": {},
   "source": [
    "```{note}\n",
    "PyDAP accesses the remote dataset's metadata, and no data has been downloaded yet!\n",
    "```"
   ]
  },
  {
   "cell_type": "code",
   "execution_count": null,
   "id": "95b0f38f-5e59-469f-9476-e972d1448f1a",
   "metadata": {},
   "outputs": [],
   "source": [
    "ds_full['chlor_a'].attributes"
   ]
  },
  {
   "cell_type": "code",
   "execution_count": null,
   "id": "b98aaa22-b04f-4c81-844c-f143c714473a",
   "metadata": {},
   "outputs": [],
   "source": [
    "print('uncompressed dataset size [GBs]: ', ds_full.nbytes / 1e9)"
   ]
  },
  {
   "cell_type": "code",
   "execution_count": null,
   "id": "bdfc0282-0c00-4fa4-aa8d-b812c22f94e6",
   "metadata": {},
   "outputs": [],
   "source": [
    "ds_full['chlor_a'].shape"
   ]
  },
  {
   "cell_type": "code",
   "execution_count": null,
   "id": "8f6c49d0-a405-46a3-a6ed-b57eb4bd1750",
   "metadata": {},
   "outputs": [],
   "source": [
    "print('uncompressed dataset size [GBs]: ', ds_full['chlor_a'].nbytes / 1e9)"
   ]
  },
  {
   "cell_type": "markdown",
   "id": "711f5565-795f-43e7-9faa-3217379e00ac",
   "metadata": {},
   "source": [
    "### Lets download some data"
   ]
  },
  {
   "cell_type": "code",
   "execution_count": null,
   "id": "448dd9a9-a931-4fd6-90ba-41274c5b1748",
   "metadata": {},
   "outputs": [],
   "source": [
    "%%time\n",
    "chlor_a = ds_full['chlor_a'][:]"
   ]
  },
  {
   "cell_type": "code",
   "execution_count": null,
   "id": "b04a1081-cabc-4e32-89a3-2a8a5b62d1c4",
   "metadata": {},
   "outputs": [],
   "source": [
    "chlor_a.attributes"
   ]
  },
  {
   "cell_type": "code",
   "execution_count": null,
   "id": "93bc863e-2f6a-43fb-960f-0bacbeeb3c40",
   "metadata": {},
   "outputs": [],
   "source": [
    "chlor_a.nbytes/1e9"
   ]
  },
  {
   "cell_type": "markdown",
   "id": "65117756-6e0a-47c2-aaf2-4b23acf72f38",
   "metadata": {},
   "source": [
    "**Decoding data values:**\n",
    "\n",
    "`xarray` decodes time and spatial values internally by default, everytime one accesses the data values, whereas currently there is no such method within `pydap` to do so. But it is often useful to understand how this works internally, and what type of parameters are used for decoding. Because OPeNDAP is based on the NetCDF data model, it if a CF-compliant software. Below are some of the most used metadata attributes associated for decoding data:\n",
    "\n",
    "**CF - Conventions**\n",
    "\n",
    "In OPeNDAP's metadata rich datasets, each contains standard attributes used to describe missing data, units in which the data is presented, and any stretching/scaling of the values. \n",
    "\n",
    "- `standard name`\n",
    "- `units`\n",
    "- `_FillValue`\n",
    "- `scale_factor`\n",
    "- `off_set`\n"
   ]
  },
  {
   "cell_type": "markdown",
   "id": "f061ddf6-2887-4dca-880b-f7a868b8116a",
   "metadata": {},
   "source": [
    "Below is a simple function that decodes the spatial values within the array:"
   ]
  },
  {
   "cell_type": "code",
   "execution_count": null,
   "id": "be0dbca6-9996-474b-a5ae-57c8958f3b79",
   "metadata": {},
   "outputs": [],
   "source": [
    "def decode(variable) -> np.ndarray:\n",
    "    \"\"\"Decodes the variable BaseType according with atributes:\n",
    "        _FillValue\n",
    "        scale_factor\n",
    "\n",
    "    Parameters:\n",
    "        variable: BaseType (pydap model)\n",
    "    \"\"\"\n",
    "    scale_factor = 1\n",
    "    _Fillvalue = None\n",
    "\n",
    "    if 'scale_factor' in variable.attributes:\n",
    "        scale_factor = variable.scale_factor\n",
    "    if '_FillValue' in variable.attributes:\n",
    "        data = np.where(variable.data == variable._FillValue, np.nan, variable.data)    \n",
    "    else:\n",
    "        data = variable.data\n",
    "    return scale_factor * data"
   ]
  },
  {
   "cell_type": "code",
   "execution_count": null,
   "id": "d5a7806c-f21f-4a8a-9bd1-33f23005df5c",
   "metadata": {},
   "outputs": [],
   "source": [
    "CHLOR_A = decode(chlor_a)"
   ]
  },
  {
   "cell_type": "code",
   "execution_count": null,
   "id": "2e60a111-a522-44eb-98c7-ad46da7f4f3e",
   "metadata": {},
   "outputs": [],
   "source": [
    "CHLOR_A.shape"
   ]
  },
  {
   "cell_type": "code",
   "execution_count": null,
   "id": "8da698a3-8ad2-4bd6-9cd6-7a31bcfec832",
   "metadata": {},
   "outputs": [],
   "source": [
    "ds_full['lon'].shape"
   ]
  },
  {
   "cell_type": "code",
   "execution_count": null,
   "id": "9ed9ae7a-f46e-48f0-af01-9c9129fec70d",
   "metadata": {},
   "outputs": [],
   "source": [
    "Lon, Lat = np.meshgrid(decode(ds_full['lon'][:]), decode(ds_full['lat'][:]))"
   ]
  },
  {
   "cell_type": "code",
   "execution_count": null,
   "id": "b82827b8-9317-429f-9511-0e3b99a78158",
   "metadata": {},
   "outputs": [],
   "source": [
    "plt.figure(figsize=(25, 8))\n",
    "ax = plt.axes(projection=ccrs.PlateCarree())\n",
    "ax.set_global()\n",
    "ax.coastlines()\n",
    "plt.contourf(Lon[::4], Lat[::4], np.log(CHLOR_A[::4]), 400, cmap='nipy_spectral')\n",
    "plt.colorbar().set_label(chlor_a.name + ' ['+chlor_a.units+']');"
   ]
  },
  {
   "cell_type": "markdown",
   "id": "b0d9d435-e619-47a2-81c0-30ff0d354d24",
   "metadata": {},
   "source": [
    "**Fig 1.** Chlorophyll A concentration for the entire dataset."
   ]
  },
  {
   "cell_type": "markdown",
   "id": "cd954f75-8aa8-4ea1-a4ad-2b3884ec12d3",
   "metadata": {},
   "source": [
    "### Subsetting data\n",
    "\n",
    "We can use the figure above to find a region of interest, in index space. Then we can combine `xarray` and `OPeNDAP's Hyrax` to access only the data we want.\n",
    "\n",
    "- **NorthAtlantic**"
   ]
  },
  {
   "cell_type": "code",
   "execution_count": null,
   "id": "10f8c509-c3b6-4898-b839-6377101f9922",
   "metadata": {},
   "outputs": [],
   "source": [
    "plt.figure(figsize=(25, 8))\n",
    "ax = plt.axes(projection=ccrs.PlateCarree())\n",
    "ax.set_global()\n",
    "ax.coastlines()\n",
    "plt.contourf(Lon[500:2000,2000:4500], Lat[500:2000,2000:4500], np.log(CHLOR_A[500:2000,2000:4500]), 400, cmap='nipy_spectral')\n",
    "plt.colorbar().set_label(chlor_a.name + ' ['+chlor_a.units+']');"
   ]
  },
  {
   "cell_type": "markdown",
   "id": "813f696b-51a7-4255-bf48-96333ab2ce3d",
   "metadata": {},
   "source": [
    "**Fig 2.** An approach to visually subset the global Chlorophyll A concentration. This approach allows to extract index values to construct the Constraint Expression and add it to the URL."
   ]
  },
  {
   "cell_type": "markdown",
   "id": "cba37695-0d33-4509-9121-e5e2b61b80f4",
   "metadata": {},
   "source": [
    "### Adding a Constraint Expression to URL\n",
    "```{note}\n",
    "In `OPeNDAP`'s `Constraint Expressions`, `hyper_slices` define index range as follows: `start:step:stop`, and these include the last index (`stop`).\n",
    "```\n",
    "You can pass the index range to the URL, in the form of a `Constraint Expression (CE)`. The syntax for `CE`s in `DAP4` is:\n",
    "\n",
    "```python\n",
    "url + \"?dap4.ce=/lat[500:1:2000];/lon[2000:1:4500];/chlor_a[500:1:2000][2000:1:4500]\"\n",
    "```\n",
    "\n",
    "\n"
   ]
  },
  {
   "cell_type": "code",
   "execution_count": null,
   "id": "14bb5370-8ff3-4151-a4f4-8aea692b484d",
   "metadata": {},
   "outputs": [],
   "source": [
    "url = \"dap4://oceandata.sci.gsfc.nasa.gov/opendap/PACE_OCI/L3SMI/2024/0310/PACE_OCI.20240310.L3m.DAY.CHL.V2_0.chlor_a.4km.NRT.nc?dap4.ce=/lat[500:1:2000];/lon[2000:1:4500];/chlor_a[500:1:2000][2000:1:4500]\""
   ]
  },
  {
   "cell_type": "code",
   "execution_count": null,
   "id": "104f7175-2826-44af-b5d2-ab0305a47787",
   "metadata": {},
   "outputs": [],
   "source": [
    "ds = open_url(url, session=my_session)\n",
    "ds.tree()"
   ]
  },
  {
   "cell_type": "code",
   "execution_count": null,
   "id": "834469d7-0fd1-4b5c-b361-197c17d6dee9",
   "metadata": {},
   "outputs": [],
   "source": [
    "Lon, Lat = np.meshgrid(decode(ds['lon'][:]), decode(ds['lat'][:]))"
   ]
  },
  {
   "cell_type": "code",
   "execution_count": null,
   "id": "b14b56ec-ca2e-46e1-8444-978b85d61576",
   "metadata": {},
   "outputs": [],
   "source": [
    "%%time\n",
    "chlor_a = ds['chlor_a'][:]"
   ]
  },
  {
   "cell_type": "markdown",
   "id": "0511c990-37f4-4ff9-8546-a32559bb791e",
   "metadata": {},
   "source": [
    "**Downloading into memory is now 60 times faster !**"
   ]
  },
  {
   "cell_type": "code",
   "execution_count": null,
   "id": "52199b56-8c04-44ea-9a70-4113d031bf49",
   "metadata": {},
   "outputs": [],
   "source": [
    "CHLOR_A = decode(chlor_a)\n",
    "CHLOR_A.shape"
   ]
  },
  {
   "cell_type": "code",
   "execution_count": null,
   "id": "d57fdbb1-825f-4f6c-a7a2-464b67baed76",
   "metadata": {},
   "outputs": [],
   "source": [
    "plt.figure(figsize=(25, 8))\n",
    "ax = plt.axes(projection=ccrs.PlateCarree())\n",
    "ax.coastlines()\n",
    "plt.contourf(Lon, Lat, np.log(CHLOR_A), 400, cmap='nipy_spectral')\n",
    "plt.colorbar().set_label(chlor_a.name + ' ['+chlor_a.units+']')\n",
    "plt.show()"
   ]
  },
  {
   "cell_type": "markdown",
   "id": "7b298add-6f96-4700-a4cc-df9e6798398a",
   "metadata": {},
   "source": [
    "**Fig 3.** Subset the global Chlorophyll A concentration. Only this data was requested and downloaded. The OPeNDAP server, in this case Hyrax, perform all subseting in a data-proximate way."
   ]
  }
 ],
 "metadata": {
  "kernelspec": {
   "display_name": "Python 3 (ipykernel)",
   "language": "python",
   "name": "python3"
  },
  "language_info": {
   "codemirror_mode": {
    "name": "ipython",
    "version": 3
   },
   "file_extension": ".py",
   "mimetype": "text/x-python",
   "name": "python",
   "nbconvert_exporter": "python",
   "pygments_lexer": "ipython3",
   "version": "3.12.4"
  }
 },
 "nbformat": 4,
 "nbformat_minor": 5
}
