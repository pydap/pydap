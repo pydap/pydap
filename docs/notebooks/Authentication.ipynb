{
 "cells": [
  {
   "cell_type": "markdown",
   "id": "e612fee8-dd6b-4ebf-901b-05fca2caa453",
   "metadata": {},
   "source": [
    "# Basic Authentication\n",
    "\n",
    "Many servers require authentication. [PyDAP](https://github.com/pydap/pydap) includes an extension mechanism so that it can interact with different kinds of authentication systems. \n",
    "\n",
    "In this short tutorial notebook, we will cover basic `EarthDatalogin` (`EDL`) authentication with \n",
    "\n",
    "1. `username/password`.\n",
    "2. `tokens`\n",
    "\n",
    "making use of Python's [Requests](https://requests.readthedocs.io/en/latest/) HTTP library to create a session. Of the two approaches above, `token authentication` will be used and generally recommended thoughout the documentation. \n",
    "\n",
    "These two types of authentications will be used to access the same dataset, both on OPeNDAP's Hyrax server. A similar approach can be used to access data on a different server.\n",
    "\n",
    "\n",
    "```{note}\n",
    "For a broader introduction to authentication, check the `OPeNDAP` documentation on [Authentication for DAP Clients](https://opendap.github.io/documentation/tutorials/ClientAuthentication.html), and [Client Authentication With EDLTokens](https://opendap.github.io/documentation/tutorials/ClientAuthenticationWithEDLTokens.html).\n",
    "```\n"
   ]
  },
  {
   "cell_type": "code",
   "execution_count": 1,
   "id": "8e679652-bb05-418d-96e8-423a7df0d849",
   "metadata": {},
   "outputs": [],
   "source": [
    "import requests\n",
    "from pydap.client import open_url"
   ]
  },
  {
   "cell_type": "code",
   "execution_count": 2,
   "id": "f83f7dd7-e316-411e-8ab8-2d73ec7b443c",
   "metadata": {},
   "outputs": [],
   "source": [
    "dataset_url = \"https://opendap.earthdata.nasa.gov/providers/POCLOUD/collections/ECCO%20Ocean%20Temperature%20and%20Salinity%20-%20Monthly%20Mean%200.5%20Degree%20(Version%204%20Release%204)/granules/OCEAN_TEMPERATURE_SALINITY_mon_mean_2017-12_ECCO_V4r4_latlon_0p50deg\"\n"
   ]
  },
  {
   "cell_type": "markdown",
   "id": "a3ab19a7-461c-4432-9122-ac237b298ba4",
   "metadata": {},
   "source": [
    "### username / password approach"
   ]
  },
  {
   "cell_type": "code",
   "execution_count": 3,
   "id": "cf72fd2f-8435-4974-80c4-903b5178bd85",
   "metadata": {},
   "outputs": [
    {
     "ename": "NameError",
     "evalue": "name 'setup_session' is not defined",
     "output_type": "error",
     "traceback": [
      "\u001b[0;31m---------------------------------------------------------------------------\u001b[0m",
      "\u001b[0;31mNameError\u001b[0m                                 Traceback (most recent call last)",
      "Cell \u001b[0;32mIn[3], line 5\u001b[0m\n\u001b[1;32m      2\u001b[0m password \u001b[38;5;241m=\u001b[39m \u001b[38;5;124m\"\u001b[39m\u001b[38;5;124mqtf*hwb4xry5EXJ2kqh\u001b[39m\u001b[38;5;124m\"\u001b[39m\n\u001b[1;32m      4\u001b[0m hyrax_url \u001b[38;5;241m=\u001b[39m \u001b[38;5;124m'\u001b[39m\u001b[38;5;124mhttps://opendap.earthdata.nasa.gov/collections/C2532426483-ORNL_CLOUD/granules/\u001b[39m\u001b[38;5;124m'\u001b[39m\n\u001b[0;32m----> 5\u001b[0m session \u001b[38;5;241m=\u001b[39m \u001b[43msetup_session\u001b[49m(username, password, check_url\u001b[38;5;241m=\u001b[39mhyrax_url)\n",
      "\u001b[0;31mNameError\u001b[0m: name 'setup_session' is not defined"
     ]
    }
   ],
   "source": [
    "\n",
    "\n",
    "username = \"Mikejmnez\" # Earthdata URS Login (only needed for NGAP Hyrax) Get account here https://urs.earthdata.nasa.gov/\n",
    "password = \"qtf*hwb4xry5EXJ2kqh\"\n",
    "\n",
    "hyrax_url = 'https://opendap.earthdata.nasa.gov/collections/C2532426483-ORNL_CLOUD/granules/'\n",
    "session = setup_session(username, password, check_url=hyrax_url)\n"
   ]
  },
  {
   "cell_type": "code",
   "execution_count": null,
   "id": "0ab20a6c-e730-44d3-86d0-2ba883e78740",
   "metadata": {},
   "outputs": [],
   "source": []
  }
 ],
 "metadata": {
  "kernelspec": {
   "display_name": "Python 3 (ipykernel)",
   "language": "python",
   "name": "python3"
  },
  "language_info": {
   "codemirror_mode": {
    "name": "ipython",
    "version": 3
   },
   "file_extension": ".py",
   "mimetype": "text/x-python",
   "name": "python",
   "nbconvert_exporter": "python",
   "pygments_lexer": "ipython3",
   "version": "3.12.4"
  }
 },
 "nbformat": 4,
 "nbformat_minor": 5
}
