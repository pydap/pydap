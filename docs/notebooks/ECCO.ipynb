{
 "cells": [
  {
   "cell_type": "markdown",
   "id": "cba3c59f-0eb1-41a1-a531-4cd99d05d8ce",
   "metadata": {},
   "source": [
    "# ECCOv4 access via NASA's EarthData in the Cloud\n",
    "\n",
    "This notebook demonstrates access to [ECCOv4](https://ecco-group.org/) model output. Broad information about the ECCO dataset can be found in the PODAAC website (see [here](https://podaac.jpl.nasa.gov/cloud-datasets?view=list&ids=Projects&values=ECCO)).\n",
    "\n",
    "**Requirements to run this notebook**\n",
    "1. Have an Earth Data Login account\n",
    "2. Have a Bearer Token.\n",
    "\n",
    "**Objectives**\n",
    " \n",
    "Use [pydap](https://pydap.github.io/pydap/)'s client API to demonstrate\n",
    "\n",
    "- Access to NASA's [EarthData](https://www.earthdata.nasa.gov/) via the use of `tokens`. `Tokens` are greatly favored over `username/password`, since `tokens` avoid repeated authentication over the many redirects.\n",
    "- A workflow involving multiple OPeNDAP URLs and xarray parallelism, lazy evaluation, and plotting of **Level 4** with complex Topology [ECCOv4](https://podaac.jpl.nasa.gov/cloud-datasets?view=list&ids=Projects&values=ECCO) Data via OPeNDAP.\n",
    "\n",
    "\n",
    "Some variables of focus are\n",
    "\n",
    "- [Native grid](https://podaac.jpl.nasa.gov/dataset/ECCO_L4_GEOMETRY_LLC0090GRID_V4R4)\n",
    "- [Temperature and Salinity](https://podaac.jpl.nasa.gov/dataset/ECCO_L4_TEMP_SALINITY_LLC0090GRID_MONTHLY_V4R4)\n",
    "\n",
    "\n",
    "\n",
    "`Author`: Miguel Jimenez-Urias, '24"
   ]
  },
  {
   "cell_type": "code",
   "execution_count": null,
   "id": "dd69f13e-1576-46cc-88bf-8484bf53788f",
   "metadata": {},
   "outputs": [],
   "source": [
    "import matplotlib.pyplot as plt\n",
    "import numpy as np\n",
    "import requests\n",
    "from pydap.client import open_url\n",
    "import cartopy.crs as ccrs\n",
    "import json\n",
    "import xarray as xr"
   ]
  },
  {
   "cell_type": "markdown",
   "id": "4d19f749-cd0f-499b-abe7-ffe8139b5ca0",
   "metadata": {},
   "source": [
    "### Access EARTHDATA\n",
    "\n",
    "Many of the data variables can be browsed [here](https://podaac.jpl.nasa.gov/cloud-datasets?view=list&ids=Projects&values=ECCO). Here we will work with the original data defined on the Lat-Lon-Cap (LLC90) grid."
   ]
  },
  {
   "cell_type": "code",
   "execution_count": null,
   "id": "592016ce-36cf-4298-b017-17fee64b5c19",
   "metadata": {},
   "outputs": [],
   "source": [
    "Grid_url = 'dap4://opendap.earthdata.nasa.gov/providers/POCLOUD/collections/ECCO%20Geometry%20Parameters%20for%20the%20Lat-Lon-Cap%2090%20(llc90)%20Native%20Model%20Grid%20(Version%204%20Release%204)/granules/GRID_GEOMETRY_ECCO_V4r4_native_llc0090'"
   ]
  },
  {
   "cell_type": "markdown",
   "id": "df65130f-8837-41d9-8d70-5342f55d94c8",
   "metadata": {},
   "source": [
    "### Add to session's headers Token Authorization\n"
   ]
  },
  {
   "cell_type": "code",
   "execution_count": null,
   "id": "8d9da3a9-19f9-428d-a592-be71d85c700a",
   "metadata": {},
   "outputs": [],
   "source": [
    "edl_token = \"<YourEDLTokenHere>\"\n",
    "\n",
    "auth_hdr=\"Bearer \" + edl_token\n",
    "\n",
    "# pass Token Authorization to a new Session.\n",
    "\n",
    "my_session = requests.Session()\n",
    "my_session.headers={\"Authorization\": auth_hdr}"
   ]
  },
  {
   "cell_type": "markdown",
   "id": "fa0042cb-053d-424b-971c-ed8b0d325725",
   "metadata": {},
   "source": [
    "### Lazy access to remote data via pydap's client API\n",
    "\n",
    "`pydap` exploits the OPeNDAP's separation between metadata and data, to create `lazy dataset objects that point to the data`. These lazy objects contain all the attributes detailed in OPeNDAP's metadata files (DMR)."
   ]
  },
  {
   "cell_type": "code",
   "execution_count": null,
   "id": "5ced1396-be08-4a0b-b487-c430781bd247",
   "metadata": {},
   "outputs": [],
   "source": [
    "ds_grid = open_url(Grid_url, session=my_session, protocol=\"dap4\")"
   ]
  },
  {
   "cell_type": "code",
   "execution_count": null,
   "id": "1bb158d1-7184-4d07-b152-bfb9f6300ffc",
   "metadata": {},
   "outputs": [],
   "source": [
    "ds_grid.tree()"
   ]
  },
  {
   "cell_type": "markdown",
   "id": "0c71e926-602f-4e56-a92f-2a89dbaf8bd4",
   "metadata": {},
   "source": [
    "```{note}\n",
    "PyDAP accesses the remote dataset's metadata, and no data has been downloaded yet!\n",
    "```"
   ]
  },
  {
   "cell_type": "markdown",
   "id": "bdeafa57-cc97-4c6d-99f1-138ba7d5b432",
   "metadata": {},
   "source": [
    "**Download data into memory**\n",
    "\n",
    "The syntax is as follows:\n",
    "\n",
    "```python\n",
    "# this fetches remote data into a pydap object container\n",
    "pydap_Array = dataset[<VarName>][:]\n",
    "```\n",
    "where `<VarName>` is the name of one of the variables in the `pydap.model.BaseType` object. The `pydap.model.BaseType` is a thing wrapper of `numpy arrays`. The array has been downloaded into \"local\" memory (RAM) as (uncompressed) numpy arrays. \n",
    "\n",
    "To extract the data as a numpy array, run\n",
    "\n",
    "```python\n",
    "# The `.data` command allows direct access to the Numpy array (e.g. for manipulation)\n",
    "pydap_Array.data\n",
    "```\n",
    "\n"
   ]
  },
  {
   "cell_type": "code",
   "execution_count": null,
   "id": "6a987764-bd3c-4385-b52c-8bcbd41038f0",
   "metadata": {},
   "outputs": [],
   "source": [
    "# lets download some data\n",
    "Depth = ds_grid['Depth'][:]\n",
    "print(type(Depth))"
   ]
  },
  {
   "cell_type": "code",
   "execution_count": null,
   "id": "5789765b-3f19-4101-b337-6c405fc19009",
   "metadata": {},
   "outputs": [],
   "source": [
    "Depth.attributes"
   ]
  },
  {
   "cell_type": "code",
   "execution_count": null,
   "id": "f7689e38-b6c8-47eb-8bc8-f2b8c0251b50",
   "metadata": {},
   "outputs": [],
   "source": [
    "Depth.shape, Depth.dimensions"
   ]
  },
  {
   "cell_type": "markdown",
   "id": "aa7c1737-dad3-40ce-9418-c62bbd2d42bc",
   "metadata": {},
   "source": [
    "**Plot Depth along native grid**\n",
    "\n",
    "`ECCO` data is defined on a Cube Sphere -- meaning the horizontal grid contains an `extra` dimension: `tile` or `face`. You can inspect the data in its native grid by plotting all horizontal data onto a grid as follows:"
   ]
  },
  {
   "cell_type": "code",
   "execution_count": null,
   "id": "eafb837f-baa9-40a2-ba05-226bdff9ec98",
   "metadata": {},
   "outputs": [],
   "source": [
    "Variable = [Depth[i].data for i in range(13)]\n",
    "clevels =  np.linspace(0, 6000, 100)\n",
    "cMap = 'Greys_r'"
   ]
  },
  {
   "cell_type": "code",
   "execution_count": null,
   "id": "fd406c4b-39aa-4a5d-9fe4-9d769fd455c5",
   "metadata": {},
   "outputs": [],
   "source": [
    "fig, axes = plt.subplots(nrows=5, ncols=5, figsize=(8, 8), gridspec_kw={'hspace':0.01, 'wspace':0.01})\n",
    "AXES = [\n",
    "    axes[4, 0], axes[3, 0], axes[2, 0], axes[4, 1], axes[3, 1], axes[2, 1],\n",
    "    axes[1, 1], \n",
    "    axes[1, 2], axes[1, 3], axes[1, 4], axes[0, 2], axes[0, 3], axes[0, 4],\n",
    "]\n",
    "for i in range(len(AXES)):\n",
    "    AXES[i].contourf(Variable[i], clevels, cmap=cMap)\n",
    "\n",
    "for ax in np.ravel(axes):\n",
    "    ax.axis('off')\n",
    "    plt.setp(ax.get_xticklabels(), visible=False)\n",
    "    plt.setp(ax.get_yticklabels(), visible=False)\n",
    "\n",
    "plt.show()"
   ]
  },
  {
   "cell_type": "markdown",
   "id": "7149ebc8-726b-45e6-bb7a-875902ef24de",
   "metadata": {},
   "source": [
    "**Fig. 1.** `Depth` plotted on a horizontal layout. Data on tiles `0-5` follow `C-ordering`, whereas data on tiles `7-13` follow `F-ordering`. Data on the `arctic cap`, is defined on a polar coordinate grid."
   ]
  },
  {
   "cell_type": "markdown",
   "id": "c0b48da6-c88a-40af-a8fb-e23b9d2bb3b0",
   "metadata": {},
   "source": [
    "**Plot with corrected Topology**"
   ]
  },
  {
   "cell_type": "code",
   "execution_count": null,
   "id": "b0a9b1cf-76f9-457e-b1dc-0bcdabe19aae",
   "metadata": {},
   "outputs": [],
   "source": [
    "fig, axes = plt.subplots(nrows=4, ncols=4, figsize=(8, 8), gridspec_kw={'hspace':0.01, 'wspace':0.01})\n",
    "AXES_NR = [\n",
    "    axes[3, 0], axes[2, 0], axes[1, 0], axes[3, 1], axes[2, 1], axes[1, 1],\n",
    "]\n",
    "AXES_CAP = [axes[0, 0]]\n",
    "AXES_R = [\n",
    "    axes[1, 2], axes[2, 2], axes[3, 2], axes[1, 3], axes[2, 3], axes[3, 3],\n",
    "]\n",
    "for i in range(len(AXES_NR)):\n",
    "    AXES_NR[i].contourf(Variable[i], clevels, cmap=cMap)\n",
    "\n",
    "for i in range(len(AXES_CAP)):\n",
    "    AXES_CAP[i].contourf(Variable[6].transpose()[:, ::-1], clevels, cmap=cMap)\n",
    "\n",
    "for i in range(len(AXES_R)):\n",
    "    AXES_R[i].contourf(Variable[7+i].transpose()[::-1, :], clevels, cmap=cMap)\n",
    "\n",
    "for ax in np.ravel(axes):\n",
    "    ax.axis('off')\n",
    "    plt.setp(ax.get_xticklabels(), visible=False)\n",
    "    plt.setp(ax.get_yticklabels(), visible=False)\n",
    "\n",
    "plt.show()"
   ]
  },
  {
   "cell_type": "markdown",
   "id": "e360c07e-7345-4781-8733-bb71c177a4dc",
   "metadata": {},
   "source": [
    "**Fig. 2.** `Depth` plotted on a horizontal layout that approximates `lat-lon` display. Data on the `arctic cap`, however, remains on a polar coordinate grid."
   ]
  },
  {
   "cell_type": "markdown",
   "id": "19c89fce-81f2-4739-afc9-5f42c9b1b02b",
   "metadata": {},
   "source": [
    "**pydap + xarray to aggregate multiple URLs**\n",
    "\n",
    "\n",
    "`OPeNDAP` allows remote access via `dataURL`s. Each `dataURL` represents a variable, i.e. a piece of the whole puzzle. We can exploit `xarray` concatenation and parallelism to combine multiple `dataURL`s, and thus multiple pydap objects, into a single `xarray.Dataset`. Can do this because `xarray has long-implemented pydap as an engine to access/open remote datasets`.\n",
    "\n",
    "\n"
   ]
  },
  {
   "cell_type": "markdown",
   "id": "2e836c7e-82b5-4025-82cc-6c99af271f41",
   "metadata": {},
   "source": [
    "**A single URL**\n",
    "\n",
    "Many `OPeNDAP` servers can serve data in either `DAP2` and `DAP4` (much newer) model implementations. In `pydap`, you can specify which of the two implementations by replacing the beginning of the URL with either one of `dap2` or `dap4`. Since `xarray` imports pydap internally as is, then xarray can recognize this behavior as well.\n",
    "\n",
    "\n",
    "Below we access remote Temperature and Salinity ECCO data with `xarray` via (internally) `pydap`.\n"
   ]
  },
  {
   "cell_type": "code",
   "execution_count": null,
   "id": "19bb0013-a927-436e-b1fb-52734eaae820",
   "metadata": {},
   "outputs": [],
   "source": [
    "baseURL = 'dap4://opendap.earthdata.nasa.gov/providers/POCLOUD/collections/'\n",
    "Temp_Salt = \"ECCO%20Ocean%20Temperature%20and%20Salinity%20-%20Monthly%20Mean%20llc90%20Grid%20(Version%204%20Release%204)/granules/OCEAN_TEMPERATURE_SALINITY_mon_mean_\"\n",
    "year = '2017-'\n",
    "month = '01'\n",
    "end_ = '_ECCO_V4r4_native_llc0090'\n",
    "Temp_2017 = baseURL + Temp_Salt +year  + month + end_\n"
   ]
  },
  {
   "cell_type": "code",
   "execution_count": null,
   "id": "b3029dba-0924-41bb-8d68-dff523851c0d",
   "metadata": {},
   "outputs": [],
   "source": [
    "dataset = xr.open_dataset(Temp_2017, engine='pydap', session=my_session)\n",
    "dataset"
   ]
  },
  {
   "cell_type": "markdown",
   "id": "93c37b89-84eb-4b3b-ba98-face818b67ea",
   "metadata": {},
   "source": [
    "### Add a Constraint expression to the URL to ONLY retrieve THETA\n",
    "\n",
    "You can do that by appending to the <base_URL> the CE syntax:\n",
    "\n",
    "```python\n",
    "<base_URL>?dap4.ce=/<VarName>\n",
    "```\n",
    "\n",
    "where `<VarName>` is the name of the Array you want to keep"
   ]
  },
  {
   "cell_type": "markdown",
   "id": "f5c8df9c-79c4-4a38-a59e-1f454d25eeea",
   "metadata": {},
   "source": [
    "```{note}\n",
    "When using `xarray`, we need to include all dimensions associated with `THETA` in the `Constraint Expression`.\n",
    "```"
   ]
  },
  {
   "cell_type": "code",
   "execution_count": null,
   "id": "6dc231c5-e630-4e6c-8c32-86fab77176d7",
   "metadata": {},
   "outputs": [],
   "source": [
    "CE = '?dap4.ce=/THETA;/SALT;/tile;/j;/k;/i;/time'\n",
    "dataset = xr.open_dataset(Temp_2017+CE, engine='pydap', session=my_session)"
   ]
  },
  {
   "cell_type": "markdown",
   "id": "a9945827-c20f-4a84-b82b-a4912569345e",
   "metadata": {},
   "source": [
    "### Multiple files in parallel\n",
    "\n",
    "We can exploit `xarray`'s intuitive `concat` + `merge` capabilities to read multiple data URL in parallel. To accomplish that, we need to create a list of all relevant URLs that each point to an OPeNDAP dataset.\n"
   ]
  },
  {
   "cell_type": "markdown",
   "id": "8c0907bb-62cd-47e3-901a-22e7cd7c4fc1",
   "metadata": {},
   "source": [
    "```python\n",
    "Temp_2017 = [baseURL + Temp_Salt + year + f'{i:02}' + end_ + CE for i in range(1, 13)]\n",
    "\n",
    "theta_salt_ds = xr.open_mfdataset(\n",
    "    Temp_2017, \n",
    "    engine='pydap',\n",
    "    session=my_session, \n",
    "    parallel=True, \n",
    "    combine='nested', \n",
    "    concat_dim='time',\n",
    ")\n",
    "```"
   ]
  },
  {
   "cell_type": "markdown",
   "id": "72e6cb17-09ae-4b40-9df6-52111fa93f0d",
   "metadata": {},
   "source": [
    "### Finally, we plot `THETA`"
   ]
  },
  {
   "cell_type": "code",
   "execution_count": null,
   "id": "d6fc98b7-929b-4817-8a5b-de87e9411b9a",
   "metadata": {},
   "outputs": [],
   "source": [
    "Variable = [dataset['THETA'].isel(time=0, k=0, tile=i) for i in range(13)]\n",
    "clevels = np.linspace(-5, 30, 100)\n",
    "cMap='RdBu_r'"
   ]
  },
  {
   "cell_type": "code",
   "execution_count": null,
   "id": "decbc593-4a34-4a35-b411-1f320564b217",
   "metadata": {},
   "outputs": [],
   "source": [
    "fig, axes = plt.subplots(nrows=4, ncols=4, figsize=(8, 8), gridspec_kw={'hspace':0.01, 'wspace':0.01})\n",
    "AXES_NR = [\n",
    "    axes[3, 0], axes[2, 0], axes[1, 0], axes[3, 1], axes[2, 1], axes[1, 1],\n",
    "]\n",
    "AXES_CAP = [axes[0, 0]]\n",
    "AXES_R = [\n",
    "    axes[1, 2], axes[2, 2], axes[3, 2], axes[1, 3], axes[2, 3], axes[3, 3],\n",
    "]\n",
    "for i in range(len(AXES_NR)):\n",
    "    AXES_NR[i].contourf(Variable[i], clevels, cmap=cMap)\n",
    "\n",
    "for i in range(len(AXES_CAP)):\n",
    "    AXES_CAP[i].contourf(Variable[6].transpose()[:, ::-1], clevels, cmap=cMap)\n",
    "\n",
    "for i in range(len(AXES_R)):\n",
    "    AXES_R[i].contourf(Variable[7+i].transpose()[::-1, :], clevels, cmap=cMap)\n",
    "\n",
    "for ax in np.ravel(axes):\n",
    "    ax.axis('off')\n",
    "    plt.setp(ax.get_xticklabels(), visible=False)\n",
    "    plt.setp(ax.get_yticklabels(), visible=False)\n",
    "\n",
    "plt.show()"
   ]
  },
  {
   "cell_type": "markdown",
   "id": "96a83c6b-8e48-43b4-9b9e-f3d3896d9809",
   "metadata": {},
   "source": [
    "**Fig. 3.** `Surface temperature`, plotted on a horizontal layout that approximates `lat-lon` display. Data on the `arctic cap`, however, remains on a polar coordinate grid."
   ]
  },
  {
   "cell_type": "code",
   "execution_count": null,
   "id": "82ec5f83-600f-48fc-968c-f44447f1a839",
   "metadata": {},
   "outputs": [],
   "source": []
  }
 ],
 "metadata": {
  "kernelspec": {
   "display_name": "Python 3 (ipykernel)",
   "language": "python",
   "name": "python3"
  },
  "language_info": {
   "codemirror_mode": {
    "name": "ipython",
    "version": 3
   },
   "file_extension": ".py",
   "mimetype": "text/x-python",
   "name": "python",
   "nbconvert_exporter": "python",
   "pygments_lexer": "ipython3",
   "version": "3.12.4"
  }
 },
 "nbformat": 4,
 "nbformat_minor": 5
}
