{
 "cells": [
  {
   "cell_type": "markdown",
   "id": "3617a6bb-760e-46ac-8032-d6c76e9b5007",
   "metadata": {},
   "source": [
    "# SWOT\n",
    "\n",
    "This notebook demonstrates access to SWOT level 2 data. Broad information about the dataset can be found in the PODAAC website (see [here](https://podaac.jpl.nasa.gov/dataset/SWOT_L2_NALT_GDR_2.0))\n",
    "\n",
    "\n",
    "**Requirements to run this notebook**\n",
    "1. Have an Earth Data Login account\n",
    "2. Have a Bearer Token.\n",
    "\n",
    "\n",
    "**Objectives**\n",
    "\n",
    "To demonstrate a workflow for remote access and plotting of Complex (**Level 2** with Groups)  SWOT Data via OPeNDAP\n",
    "\n",
    "\n",
    "`Author`: Miguel Jimenez-Urias, '24"
   ]
  },
  {
   "cell_type": "code",
   "execution_count": null,
   "id": "01a3f9ed-8a07-4ada-8418-7df15cd45bae",
   "metadata": {},
   "outputs": [],
   "source": [
    "import matplotlib.pyplot as plt\n",
    "import numpy as np\n",
    "import requests\n",
    "from pydap.client import open_url\n",
    "import json\n",
    "import cartopy.crs as ccrs"
   ]
  },
  {
   "cell_type": "markdown",
   "id": "bc8051f7-d40d-4f77-bc26-1adac42554c7",
   "metadata": {},
   "source": [
    "### Access EARTHDATA\n",
    "\n",
    "The access link can be found at [PODACC](https://podaac.jpl.nasa.gov/dataset/SWOT_L2_NALT_GDR_2.0). This may require to be logged on to EarthDataLogin. There is data for 2023 and 2024.  \n",
    "\n"
   ]
  },
  {
   "cell_type": "code",
   "execution_count": null,
   "id": "27fece5c-7eb0-4383-aeb7-1ae35e7d42de",
   "metadata": {},
   "outputs": [],
   "source": [
    "data_url1 = 'https://opendap.earthdata.nasa.gov/collections/C2799438313-POCLOUD/granules/SWOT_GPR_2PfP507_010_20230501_003247_20230501_012352'"
   ]
  },
  {
   "cell_type": "markdown",
   "id": "a8b3e8bc-975c-4177-ae66-106744eb766c",
   "metadata": {},
   "source": [
    "### Add to session's headers Token Authorization\n"
   ]
  },
  {
   "cell_type": "code",
   "execution_count": null,
   "id": "c6e5d717-2bbc-4240-ba8a-969bf739054b",
   "metadata": {},
   "outputs": [],
   "source": [
    "edl_token = \"YourTokenHere\"\n",
    "\n",
    "auth_hdr=\"Bearer \" + edl_token"
   ]
  },
  {
   "cell_type": "code",
   "execution_count": null,
   "id": "4bc18c97-a748-45f5-bc29-81c855b22a14",
   "metadata": {},
   "outputs": [],
   "source": [
    "# pass Token Authorization to a new Session.\n",
    "\n",
    "my_session = requests.Session()\n",
    "my_session.headers={\"Authorization\": auth_hdr}"
   ]
  },
  {
   "cell_type": "markdown",
   "id": "a8843f87-b74a-4f07-9404-5683b30ca40a",
   "metadata": {},
   "source": [
    "**Create a dataset access via pydap**\n",
    "\n",
    "\n"
   ]
  },
  {
   "cell_type": "code",
   "execution_count": null,
   "id": "3addad2e-120c-4c4a-b43e-8ad11e4c0dd1",
   "metadata": {},
   "outputs": [],
   "source": [
    "dataset1 = open_url(data_url1, session=my_session, protocol=\"dap4\")"
   ]
  },
  {
   "cell_type": "code",
   "execution_count": null,
   "id": "96dfbb4c-3a6a-48fb-b05a-85f37ddab0cb",
   "metadata": {},
   "outputs": [],
   "source": [
    "dataset1.tree()"
   ]
  },
  {
   "cell_type": "markdown",
   "id": "1e501b67-24be-452b-9bc6-48cd009f1f8a",
   "metadata": {},
   "source": [
    "```{note}\n",
    "PyDAP accesses the remote dataset's metadata, and no data has been downloaded yet!\n",
    "```"
   ]
  },
  {
   "cell_type": "markdown",
   "id": "87df15dd-0609-4fad-97a8-5347f0b877e6",
   "metadata": {},
   "source": [
    "**This is a dataset pointing to a remote data location**\n",
    "\n",
    "\n",
    "Data remains remote, no data has been downloaded."
   ]
  },
  {
   "cell_type": "code",
   "execution_count": null,
   "id": "2b7d35f7-4e14-4716-accd-c52672be7662",
   "metadata": {},
   "outputs": [],
   "source": [
    "dataset1['data_01/mean_dynamic_topography'].shape"
   ]
  },
  {
   "cell_type": "code",
   "execution_count": null,
   "id": "d3a12d20-a0bb-48e1-b581-eec4d32c58d9",
   "metadata": {},
   "outputs": [],
   "source": [
    "dataset1['data_01/time'].shape"
   ]
  },
  {
   "cell_type": "code",
   "execution_count": null,
   "id": "b41357b2-96d8-48d7-9cdf-f1bdc629306d",
   "metadata": {},
   "outputs": [],
   "source": [
    "print('total array memory: ', dataset1.nbytes/1e9)"
   ]
  },
  {
   "cell_type": "markdown",
   "id": "160973fd-44d1-4dba-8f52-158cbec4df7a",
   "metadata": {},
   "source": [
    "**Inspect the values**\n",
    "\n",
    "\n",
    "- `longitude`\n",
    "- `latitude`\n",
    "- `time`\n",
    "\n"
   ]
  },
  {
   "cell_type": "code",
   "execution_count": null,
   "id": "59f6ee46-7e08-4462-a308-5a5208ab0d60",
   "metadata": {},
   "outputs": [],
   "source": [
    "dataset1['data_01/time'].attributes"
   ]
  },
  {
   "cell_type": "code",
   "execution_count": null,
   "id": "9d6757d1-f4b4-4409-b48c-31671299ef8f",
   "metadata": {},
   "outputs": [],
   "source": [
    "%%time\n",
    "dyn_topo = dataset1['data_01/mean_dynamic_topography'][:] # downloads as BaseType - a thin wrapper for numpy arrays"
   ]
  },
  {
   "cell_type": "markdown",
   "id": "f777c9d9-5a19-479e-b318-c45b9369cbae",
   "metadata": {},
   "source": [
    "**Maps**\n",
    "\n",
    "Refers to the coverage of the Satellite track. This is, how the trajectory \"**maps**\" with `time` (i.e. the `dimension`)"
   ]
  },
  {
   "cell_type": "code",
   "execution_count": null,
   "id": "12208668-b188-464d-916f-cbd2d04f222d",
   "metadata": {},
   "outputs": [],
   "source": [
    "dyn_topo.Maps"
   ]
  },
  {
   "cell_type": "code",
   "execution_count": null,
   "id": "4e7b1073-8f58-4a08-8b9f-03abc4b9b516",
   "metadata": {},
   "outputs": [],
   "source": [
    "longitude1 = dataset1[dyn_topo.Maps[0]][:]\n",
    "latitude1 = dataset1[dyn_topo.Maps[1]][:]"
   ]
  },
  {
   "cell_type": "code",
   "execution_count": null,
   "id": "a731f247-462f-489b-a7be-931bb0ede9f2",
   "metadata": {},
   "outputs": [],
   "source": [
    "longitude1.attributes"
   ]
  },
  {
   "cell_type": "code",
   "execution_count": null,
   "id": "52309ed1-66b3-465f-8989-47ecf1427c36",
   "metadata": {},
   "outputs": [],
   "source": [
    "latitude1.attributes"
   ]
  },
  {
   "cell_type": "markdown",
   "id": "ebf392a4-e3bf-4064-8226-845c993854f1",
   "metadata": {},
   "source": [
    "**Decoding data values**\n",
    "\n",
    "`xarray` decodes time and spatial values internally by default, everytime one accesses the data values, whereas currently there is no such method within `pydap` to do so. But it is often useful to understand how this works internally, and what type of parameters are used for decoding. Because OPeNDAP is based on the NetCDF data model, it if a CF-compliant software. Below are some of the most used metadata attributes associated for decoding data:\n",
    "\n",
    "**CF - Conventions**\n",
    "\n",
    "In OPeNDAP's metadata rich datasets, each contains standard attributes used to describe missing data, units in which the data is presented, and any stretching/scaling of the values. \n",
    "\n",
    "- `standard name`\n",
    "- `units`\n",
    "- `_FillValue`\n",
    "- `scale_factor`\n",
    "- `off_set`\n"
   ]
  },
  {
   "cell_type": "code",
   "execution_count": null,
   "id": "e5e5794f-1b77-4148-9809-d3fc5a3def60",
   "metadata": {},
   "outputs": [],
   "source": [
    "def decode(variable) -> np.ndarray:\n",
    "    \"\"\"Decodes the variable BaseType according with atributes:\n",
    "        _FillValue\n",
    "        scale_factor\n",
    "    \"\"\"\n",
    "    scale_factor = 1\n",
    "    _Fill_value = None\n",
    "\n",
    "    if 'scale_factor' in variable.attributes:\n",
    "        scale_factor = variable.scale_factor\n",
    "    if '_FillValue' in variable.attributes:\n",
    "        data = np.where(variable.data == variable._FillValue, np.nan, variable.data)    \n",
    "    else:\n",
    "        data = variable.data\n",
    "    return scale_factor * data"
   ]
  },
  {
   "cell_type": "markdown",
   "id": "fb0ded37-2cd4-44ea-a1a1-52f4b556a2a3",
   "metadata": {},
   "source": [
    "**Lets make some plots!**\n",
    "\n",
    "`OPeNDAP` does NOT include a plotting service, but `OPeNDAP`-served data integrates easily with plotting packages like\n",
    "- `Matplotlib`\n",
    "- `Cartopy`\n"
   ]
  },
  {
   "cell_type": "code",
   "execution_count": null,
   "id": "0077d6a2-004e-4df9-a9b6-359a752cf5f7",
   "metadata": {},
   "outputs": [],
   "source": [
    "plt.figure(figsize=(15, 5))\n",
    "ax = plt.axes(projection=ccrs.PlateCarree())\n",
    "ax.set_global()\n",
    "ax.coastlines()\n",
    "ax.stock_img() # comment this line if you do not want any background color\n",
    "plt.scatter(x=decode(longitude1), y=decode(latitude1), c=decode(dyn_topo), marker='.',  cmap='jet')\n",
    "plt.colorbar().set_label(dyn_topo.name + ' ['+dyn_topo.units+']')"
   ]
  },
  {
   "cell_type": "markdown",
   "id": "2b8c3598-17a0-4841-ac8a-141e7a51ab39",
   "metadata": {},
   "source": [
    "**Fig. 1** Global map showing the track (trajectory) of the sampled (satellite) data. Values refer to mean dynamic topography. "
   ]
  },
  {
   "cell_type": "code",
   "execution_count": null,
   "id": "6d7a11e0-6dce-47c1-b892-5aac9d9b0f43",
   "metadata": {},
   "outputs": [],
   "source": [
    "plt.figure(figsize=(10, 5))\n",
    "plt.plot(decode(dyn_topo), 'k', lw=3)\n",
    "plt.ylabel(dyn_topo.name + ' ['+dyn_topo.units+']', fontsize=15)\n",
    "plt.xlabel('Along Track Samples', fontsize=15)\n",
    "plt.show()"
   ]
  },
  {
   "cell_type": "markdown",
   "id": "a02d923d-257d-4c48-a67e-f24d441635ef",
   "metadata": {},
   "source": [
    "**Fig 2.** Along track values. The first values along the track represent the North Atlantic, whereas the steep dropoff in dynamic topography represent the Southern Ocean."
   ]
  },
  {
   "cell_type": "code",
   "execution_count": null,
   "id": "5205530a-9fc1-4252-bf86-bca7258aa9d0",
   "metadata": {},
   "outputs": [],
   "source": []
  }
 ],
 "metadata": {
  "kernelspec": {
   "display_name": "Python 3 (ipykernel)",
   "language": "python",
   "name": "python3"
  },
  "language_info": {
   "codemirror_mode": {
    "name": "ipython",
    "version": 3
   },
   "file_extension": ".py",
   "mimetype": "text/x-python",
   "name": "python",
   "nbconvert_exporter": "python",
   "pygments_lexer": "ipython3",
   "version": "3.12.4"
  }
 },
 "nbformat": 4,
 "nbformat_minor": 5
}
