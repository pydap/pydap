{
 "cells": [
  {
   "cell_type": "markdown",
   "id": "5aee2183-5051-4160-bb1c-eee8d17e792b",
   "metadata": {},
   "source": [
    "# PyDAP as a client\n",
    "\n",
    "\n",
    "`PyDAP` can be used to \\\"lazily\\\"  inspect and retrieve remote data from any of the thousands of scientific datasets available on the internet on [OPeNDAP](http://www.opendap.org/) data servers, allowing the user to manipulate a `Dataset` as if it were stored locally, only downloading on-the-fly when necessary. In order to transmit data from the Server to the Client, `both server and client must agree on a way to represent data`: **is it an array of integers?**, **a multi-dimensional grid?** In order to do this, a DAP protocol defines a **data model** that, in theory, should be able to represent any existing (scientific) dataset.\n",
    "\n",
    "\n",
    "Pydap uses the `requests` library to fetch remote data from an OPeNDAP data server. Data from such a server is one of the following types:\n",
    "\n",
    "| File Extension | File Type | Protocol | Example URL |\n",
    "| :- | :- | :- | -: | \n",
    "| DMR | Metadata | DAP4 | http://test.opendap.org/opendap/data/nc/coads_climatology.nc.dmr |\n",
    "| DAP | Metadata and binary |  DAP4 | http://test.opendap.org/opendap/data/nc/coads_climatology.nc.dap |\n",
    "| DDS | Metadata | DAP2  | http://test.opendap.org/opendap/data/nc/coads_climatology.nc.dds |\n",
    "| DAS | Metadata | DAP2 | http://test.opendap.org/opendap/data/nc/coads_climatology.nc.das |\n",
    "| DODS | Metadata and Binary | DAP2 | http://test.opendap.org/opendap/data/nc/coads_climatology.nc.dods | \n",
    "\n",
    "```{note}\n",
    "Clickling on any of the `dap` or `dods` example URLs will trigger a download of a OPeNDAP binary data. Pydap parses this binary data and turns is into a pydap Dataset.\n",
    "```\n",
    "\n",
    "\n",
    "\n"
   ]
  },
  {
   "cell_type": "markdown",
   "id": "3adbb57c-000c-4d08-9b43-915a16e3a18f",
   "metadata": {},
   "source": [
    "\n",
    "## Requests library\n",
    "\n",
    "As of version `3.5.4`, `pydap` now uses Python's requests library to get/fetch the remote datasets described on the Table above and can also use Python's `requests_cache` library to cache responses. For the user, pydap has a special function to initialize any such session:\n",
    "\n",
    "\n",
    "| Session with No Cache | Cached Session |\n",
    "| :- | :- |\n",
    "| use_cache=False (default) | use_cache=True |\n"
   ]
  },
  {
   "cell_type": "code",
   "execution_count": null,
   "id": "b59dd946-320e-4a2f-9c5f-40b4655447ed",
   "metadata": {},
   "outputs": [],
   "source": [
    "from pydap.client import open_url\n",
    "from pydap.net import create_session"
   ]
  },
  {
   "cell_type": "code",
   "execution_count": null,
   "id": "87582c4b-b01c-4e4e-aefa-699afb026be7",
   "metadata": {},
   "outputs": [],
   "source": [
    "data_url = \"http://test.opendap.org/opendap/data/nc/coads_climatology.nc\""
   ]
  },
  {
   "cell_type": "markdown",
   "id": "339abdd5-a502-40f4-8929-23ca307fa215",
   "metadata": {},
   "source": [
    "## Use default non-cached Session\n"
   ]
  },
  {
   "cell_type": "code",
   "execution_count": null,
   "id": "97f6cc5d-bd5a-4525-86ec-ea23d84d65ab",
   "metadata": {},
   "outputs": [],
   "source": [
    "# default\n",
    "my_session = create_session()"
   ]
  },
  {
   "cell_type": "code",
   "execution_count": null,
   "id": "231b56c7-69ba-4a4d-bae5-775508925d28",
   "metadata": {},
   "outputs": [],
   "source": [
    "%%time\n",
    "pyds = open_url(data_url, protocol=\"dap4\", session=my_session)"
   ]
  },
  {
   "cell_type": "markdown",
   "id": "3309c537-9b7a-4b3d-8d1c-8f6b90227942",
   "metadata": {},
   "source": [
    "## Lets try again"
   ]
  },
  {
   "cell_type": "code",
   "execution_count": null,
   "id": "2a70ab54-4ac3-486b-9ccd-d8e15e5c5a71",
   "metadata": {},
   "outputs": [],
   "source": [
    "%%time\n",
    "pyds = open_url(data_url, protocol=\"dap4\", session=my_session)"
   ]
  },
  {
   "cell_type": "code",
   "execution_count": null,
   "id": "4d8ee33d-b5fc-413c-8531-b5c838bdc817",
   "metadata": {},
   "outputs": [],
   "source": []
  },
  {
   "cell_type": "markdown",
   "id": "07f9e219-398d-4ae3-87be-7a446bced75c",
   "metadata": {},
   "source": [
    "## What is hapenning?"
   ]
  },
  {
   "cell_type": "markdown",
   "id": "4a06fb68-ec3f-450b-8337-debcc489f80d",
   "metadata": {},
   "source": [
    "In both cases, only the `dmr` associated with the remote dataset was fetched, and used to create the pydap dataset."
   ]
  },
  {
   "cell_type": "markdown",
   "id": "b66e58d4-053b-4a1e-9571-4397d626aee3",
   "metadata": {},
   "source": [
    "The apparent difference in timing can sometimes be attributes to what is called \"cold reading\" vs \"warm reading\". But in both scenarios, \n",
    "each time the `pyds` is created, the remote `dmr` dataset is fetched and processed by pydap to create the `lazy` dataset that point\n",
    "to the original opendap source.\n",
    "\n",
    "To avoid repeatedly downloading the same resource over and over, potentially overwhelming remote data servers, pydap can now cache responses. \n"
   ]
  },
  {
   "cell_type": "markdown",
   "id": "9ed376ea-8114-43a9-807f-effd22ca98a2",
   "metadata": {},
   "source": [
    "## Use Cached-Session"
   ]
  },
  {
   "cell_type": "code",
   "execution_count": null,
   "id": "1cf80763-a630-4eae-a50f-88b41c11af9d",
   "metadata": {},
   "outputs": [],
   "source": [
    "# Non-default\n",
    "cached_session = create_session(use_cache=True)"
   ]
  },
  {
   "cell_type": "markdown",
   "id": "9555a63a-1268-47c7-8d45-2e1b37f8bbaf",
   "metadata": {},
   "source": [
    "### clear any prevous cached session"
   ]
  },
  {
   "cell_type": "code",
   "execution_count": null,
   "id": "cf48bdac-5e50-4080-8324-eaef70ab05ff",
   "metadata": {},
   "outputs": [],
   "source": [
    "cached_session.cache.clear()"
   ]
  },
  {
   "cell_type": "code",
   "execution_count": null,
   "id": "2fd63240-2bbb-4eb1-b298-3afc3eb050fe",
   "metadata": {},
   "outputs": [],
   "source": [
    "%%time\n",
    "new_pyds = open_url(data_url, protocol=\"dap4\", session=cached_session)"
   ]
  },
  {
   "cell_type": "markdown",
   "id": "fb8276df-02d5-46f9-9abc-c7581aae4dea",
   "metadata": {},
   "source": [
    "\n",
    "The timing required to download a remote `dmr` from the same server remains close to that of the `warm` case.\n",
    "\n",
    "## Now let's try again!"
   ]
  },
  {
   "cell_type": "code",
   "execution_count": null,
   "id": "d925e96d-b87d-4307-89ff-eb61702b291e",
   "metadata": {},
   "outputs": [],
   "source": [
    "%%time\n",
    "new_pyds = open_url(data_url, protocol=\"dap4\", session=cached_session)"
   ]
  },
  {
   "cell_type": "markdown",
   "id": "02dc5dbf-41d6-4467-ae2d-8b5d1f9c3112",
   "metadata": {},
   "source": [
    "\n",
    "The resulting timing has dropped significantly. This is because the `dmr` was never downloaded from the remote source. Insted it was fetched form the cache."
   ]
  },
  {
   "cell_type": "code",
   "execution_count": null,
   "id": "6fdea016-90d0-4539-84fe-6d62d51324f2",
   "metadata": {},
   "outputs": [],
   "source": [
    "print(\"Default location of cached response: \", cached_session.cache.db_path)"
   ]
  },
  {
   "cell_type": "code",
   "execution_count": null,
   "id": "4e203701-f1f5-4398-aacc-56ed92f8b6fa",
   "metadata": {},
   "outputs": [],
   "source": [
    "print(\"URLs of cached responses: \", cached_session.cache.urls())"
   ]
  },
  {
   "cell_type": "markdown",
   "id": "63ffeb60-84d6-4163-b24d-a9ed1bf36656",
   "metadata": {},
   "source": [
    "## Finally, let's clear the cache"
   ]
  },
  {
   "cell_type": "code",
   "execution_count": null,
   "id": "1300e700-c531-4aa2-8918-87e2286c5a1b",
   "metadata": {},
   "outputs": [],
   "source": [
    "cached_session.cache.clear()"
   ]
  },
  {
   "cell_type": "code",
   "execution_count": null,
   "id": "2782f839-c2b9-498d-afbd-1554a0a46bb6",
   "metadata": {},
   "outputs": [],
   "source": [
    "print(\"URLs of cached responses: \", cached_session.cache.urls())"
   ]
  },
  {
   "cell_type": "markdown",
   "id": "1785bd88-9e0e-4839-9230-daaf5579ce62",
   "metadata": {},
   "source": [
    "\n",
    "### Timeout\n",
    "\n",
    "To specify a timeout for the client, just set the desired number of seconds using the `timeout` option to `open_url(...)`. For example, the following would timeout after 30 seconds without receiving a response from the server:\n",
    "\n",
    "```{code}\n",
    "dataset = open_url('http://test.opendap.org/dap/data/nc/coads_climatology.nc', timeout=30)\n",
    "```"
   ]
  },
  {
   "cell_type": "code",
   "execution_count": null,
   "id": "9ebcd74c-5554-40fc-939a-47179feb0166",
   "metadata": {},
   "outputs": [],
   "source": []
  }
 ],
 "metadata": {
  "kernelspec": {
   "display_name": "Python 3 (ipykernel)",
   "language": "python",
   "name": "python3"
  },
  "language_info": {
   "codemirror_mode": {
    "name": "ipython",
    "version": 3
   },
   "file_extension": ".py",
   "mimetype": "text/x-python",
   "name": "python",
   "nbconvert_exporter": "python",
   "pygments_lexer": "ipython3",
   "version": "3.11.11"
  }
 },
 "nbformat": 4,
 "nbformat_minor": 5
}
