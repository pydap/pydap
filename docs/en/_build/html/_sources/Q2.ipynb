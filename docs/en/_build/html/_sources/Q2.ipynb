{
 "cells": [
  {
   "cell_type": "markdown",
   "id": "af25af28-97aa-4b0e-b3d0-1d08a071a363",
   "metadata": {},
   "source": [
    "## How can I diagnose when I am having trouble downloading data?"
   ]
  },
  {
   "cell_type": "markdown",
   "id": "a2e644dd-d097-443e-988b-47da0152c1c2",
   "metadata": {},
   "source": [
    "There are various ways that you can diagnose any issue you experience when trying to download data from an `OPeNDAP` server via `pydap`. Downloading data through `OPeNDAP`/`pydap` means downloading metadata only (i.e. `dmr` or `dds/das`), or binary data (`dap` / `dods`) from an `OPeNDAP` server. You can download different types of Responses depending on the suffix you append to a url.\n",
    "\n",
    "| Appendable suffix | Type of Response |\n",
    "| :- | -: | \n",
    "| .dmr | DAP4 metadata |\n",
    "| .dmr.html | DAP4 Request Form |\n",
    "| .dmr.xml | DAP4 Metadata |\n",
    "| .dds | DAP2 Metadata |\n",
    "| .das | DAP2 Metadata |\n",
    "| .html | DAP2 Request Form |\n",
    "| .dap | DAP4 Binary | \n",
    "| .dods | DAP2 Binary |\n",
    "\n",
    "```{note}\n",
    "If you are primarily using `xarray`, and the dataset generation or download times is slow, try using only `pydap`. `xarray` tends to be slower than pydap because of all the extra functionality that `xarray` adds to the dataset (and many internal checks required to do so). \n",
    "```\n",
    "### <font size=\"5\"><span style='color:#0066cc'> **Pythonic Approach**<font size=\"3\">\n",
    "`pydap.client.open_url` uses the Python's [requests](https://requests.readthedocs.io/en/latest/) library to authenticate and download data. You can try to download any of following responses via `requests.session`:\n",
    "\n",
    "```python\n",
    "import requests\n",
    "session = requests.session()\n",
    "\n",
    "# assuming url points to a DAP4 dataset, otherwise replace `dmr` with `dds` and `dap` with `dods`\n",
    "rdmr = session.get(data_url+\".dmr\")\n",
    "rdap = session.get(data_url+\".dap\")\n",
    "```\n",
    "`a)` If `rdmr` returns a `200` status code, then `pydap` should be successful in creating a pydap dataset. If `rdmr` returns a [401] or [403] HTTP error, it is possible that you are experiencing authentication issues. Make sure you have the right credentials stored in a local `netrc` file, and that these remain valid. `requests` and therefore `pydap` should recover these credentials automatically, as long as the `netrc` is located in the default location. \n",
    "```{warning}\n",
    "Some older `GrADS` servers expose a data DAP2 URL beginning with `http://`, even though this `url-scheme` **is no longer** supported by NASA. Try replacing `http` with `https` in the URL. See this [2025 github issue](https://github.com/pydap/pydap/issues/460). \n",
    "```\n",
    "`b)` If both `rdmr` and `rdap` are much faster than `pydap` in creating a dataset or downloading data,it is possible that the dataset contains a large amount of variables, or the remote data has many small chunks. Try first creating a `pydap` dataset with only a few variables from the remote dataset, and subset these by their indexes. This [documentation](ConstraintExpressions) should help your learn how to.\n",
    "```{warning}\n",
    "If `dataset` creation is fast, but downloading the array is extremely slow, then it is very likely that the variables in the remote dataset has lots of very small chunks. A sign of this behavior is when the download of the binary data is extremely slow, compared to the metadata. This scenario is unfortunate. One thing you should do is to download many spatial subsets of the remote dataset, and aggregate them in your machine.\n",
    "```\n",
    "\n",
    "### <font size=\"5\"><span style='color:#0066cc'> **curl**<font size=\"3\">\n",
    "\n",
    "`Curl` is a great tool for diagnosing HTTP errors such as redirect issues, authentication errors, etc. If you cannot download an OPeNDAP response with curl, then likely you wont be able to download it with pydap.\n",
    "\n",
    "The following command is useful when downloading:\n",
    "```\n",
    "curl -L -n -v -o output.dmr \"http:// ... .dmr\"\n",
    "```\n",
    "\n",
    "where `-L` implies follow redirects, `-n` instructs curl to recover authentication credentials from the `.netrc` file (in the default location), `-v` instructs `curl` to \"be verbose\", `-o` implies to download the remote resource onto a file name `output.dmr`.\n",
    "\n",
    "\n",
    "If timing remains an issue, of HTTP errors are persistent, please consider opening an issue on the [pydap/issue_tracker](https://github.com/pydap/pydap/issues).\n"
   ]
  },
  {
   "cell_type": "code",
   "execution_count": null,
   "id": "f225a498-23ea-412d-a9c2-a3f7e725bf73",
   "metadata": {},
   "outputs": [],
   "source": []
  }
 ],
 "metadata": {
  "kernelspec": {
   "display_name": "Python 3 (ipykernel)",
   "language": "python",
   "name": "python3"
  },
  "language_info": {
   "codemirror_mode": {
    "name": "ipython",
    "version": 3
   },
   "file_extension": ".py",
   "mimetype": "text/x-python",
   "name": "python",
   "nbconvert_exporter": "python",
   "pygments_lexer": "ipython3",
   "version": "3.11.11"
  }
 },
 "nbformat": 4,
 "nbformat_minor": 5
}
