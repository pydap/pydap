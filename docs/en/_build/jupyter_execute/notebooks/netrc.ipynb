{
 "cells": [
  {
   "cell_type": "markdown",
   "id": "2100e2fe-1972-4d05-8f2c-64c5875112f8",
   "metadata": {},
   "source": [
    "## Creating a .netrc file\n",
    "\n",
    "The default location for this file is on the home directory so that you are the only one who can use it. This is:\n",
    "- LinuxOS / MacOS : `~/.netrc`\n",
    "- Windows OS: `C:\\Users\\<User-Name>/_netrc`.\n",
    "```{note}\n",
    "On the rest of this notebook, we will assume you have a LinuxOS / MacOS.\n",
    "```\n",
    "### Steps to set up your .netrc file\n",
    "1. Create it in the default location\n",
    "```\n",
    "touch ~/.netrc\n",
    "```\n",
    "2. Add authentication credentials (e.g. Earth Data Login), with either one of the following formats:\n",
    "\n",
    "```\n",
    "machine urs.earthdata.nasa.gov\n",
    "login <YourEDLUserName>\n",
    "password <YourEDLPassword>\n",
    "```\n",
    "\n",
    "or \n",
    "\n",
    "```\n",
    "machine urs.earthdata.nasa.gov login <YourEDLUserName> password <YourEDLUserName>\n",
    "```\n",
    "\n",
    "```{note}\n",
    "Your `.netrc` can hold authentication credentials outside the scope of NASA. For example, if you have an AVISO Altimetry account and you want to access TDS data, you can add another entry to your `.netrc` file such as: `machine tds.aviso.altimetry.fr login <YourAvisoUsername> password <YourAvisoPassword>`\n",
    "```\n",
    "\n",
    "3. Grant the permissions to your .netrc file:\n",
    "```\n",
    "chmod 600 ~/.netrc\n",
    "```\n",
    "4. [Optional] Test that it is usable with a command line tool. For example, with curl\n",
    "\n",
    "```\n",
    "curl -L -n <OPeNDAP EarthData URL> \n",
    "```\n",
    "where the `-L` implies follow redirects, and `-n` tels curl to look for the netrc file in the default location. "
   ]
  }
 ],
 "metadata": {
  "kernelspec": {
   "display_name": "Python 3 (ipykernel)",
   "language": "python",
   "name": "python3"
  },
  "language_info": {
   "codemirror_mode": {
    "name": "ipython",
    "version": 3
   },
   "file_extension": ".py",
   "mimetype": "text/x-python",
   "name": "python",
   "nbconvert_exporter": "python",
   "pygments_lexer": "ipython3",
   "version": "3.11.11"
  }
 },
 "nbformat": 4,
 "nbformat_minor": 5
}
