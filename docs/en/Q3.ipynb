{
 "cells": [
  {
   "cell_type": "markdown",
   "id": "794b309e-f8be-4045-a2e2-bb1fb979bd97",
   "metadata": {},
   "source": [
    "## Is this a DAP2 or DAP4 URL?\n",
    "\n"
   ]
  },
  {
   "cell_type": "markdown",
   "id": "58e44640-5f97-4ef2-b2c1-4fbe42da0d44",
   "metadata": {},
   "source": [
    "Only two `OPeNDAP` servers broadly support `DAP4`: [Hyrax Data Server](https://www.opendap.org/software/hyrax-data-server/) (developed by [OPeNDAP Inc](https://www.opendap.org/), the original architects of `OPeNDAP`), and [Thredds Data Server](https://www.unidata.ucar.edu/software/tds/) (developed by [NSF Unidata](https://www.unidata.ucar.edu/)). `DAP4` was originally developed jointly by `OPeNDAP` and `Unidata` back in 2016 (see [the DAP4 specification](https://opendap.github.io/dap4-specification/DAP4.html)). Any `Hyrax` and `Thredds` servers that implements `DAP4` also implements the `DAP2`, and checking whether a URL is DAP4 or DAP2 is different with each of this servee=rs.\n",
    "\n",
    "### <font size=\"5\"><span style='color:#0066cc'> **Hyrax Data Server**<font size=\"3\">\n",
    "With `Hyrax`, the easiest way to check if the url supports DAP4 or not, is to take the URL, append a `.dmr` (or `.dmr.html`), and past it onto a browser. For example, this test [coads_climatology URL](http://test.opendap.org/opendap/data/nc/coads_climatology.nc.dmr) on the test (Hyrax) dataserver produces DAP4 Data Response. \n",
    "```{note}\n",
    "If you replace the `dmr` with only `.html` on the same `Hyrax` url, it produces the DAP2 request form.\n",
    "```\n",
    "\n",
    "### <font size=\"5\"><span style='color:#0066cc'> **Thredds Data Server**<font size=\"3\">\n",
    "\n",
    "With the `TDS`, a `DAP2` URL will have a `dodsC` on its URL. If you replace the `dodsC` with `dap4`, and past it onto a browser it should produce a produce a webpage that allows to download a DAP4 response. For example, this [DAP2 coads_climatology URL](https://thredds-test.unidata.ucar.edu/thredds/dodsC/testdods/coads_climatology.nc.html), as opposed to this [DAP4 coads_climatology URL](https://thredds-test.unidata.ucar.edu/thredds/dap4/testdods/coads_climatology.nc.html)\n"
   ]
  },
  {
   "cell_type": "code",
   "execution_count": null,
   "id": "9fd90e0b-0470-4989-b2aa-5ad791b83d9f",
   "metadata": {},
   "outputs": [],
   "source": []
  }
 ],
 "metadata": {
  "kernelspec": {
   "display_name": "Python 3 (ipykernel)",
   "language": "python",
   "name": "python3"
  },
  "language_info": {
   "codemirror_mode": {
    "name": "ipython",
    "version": 3
   },
   "file_extension": ".py",
   "mimetype": "text/x-python",
   "name": "python",
   "nbconvert_exporter": "python",
   "pygments_lexer": "ipython3",
   "version": "3.11.11"
  }
 },
 "nbformat": 4,
 "nbformat_minor": 5
}
