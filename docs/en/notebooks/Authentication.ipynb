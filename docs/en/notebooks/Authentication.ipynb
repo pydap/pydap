{
 "cells": [
  {
   "cell_type": "markdown",
   "id": "e612fee8-dd6b-4ebf-901b-05fca2caa453",
   "metadata": {},
   "source": [
    "# Basic Authentication\n",
    "\n",
    "Many OPeNDAP servers require authentication. [PyDAP](https://github.com/pydap/pydap) uses Python's [requests](https://requests.readthedocs.io/en/latest/) library to fetch data across the web, and it also handle two general forms of authentication:\n",
    "\n",
    "\n",
    "1. `username/password`.\n",
    "2. `tokens`\n",
    "\n",
    "### [Required] `netrc`\n",
    "\n",
    "- A `.netrc` file on your local system, to hold your authentication credentials(on Window machines, it is called `_netrc`).\n",
    "\n",
    "```{note}\n",
    "Below we will demonstrate how to create a `.netrc` file in your local system.\n",
    "```\n",
    "\n",
    "We strongly recommend having a static, local `~/.netrc` file that holds all authentication credentials, since [requests](https://requests.readthedocs.io/en/latest/) can handle authentication from a `.netrc` file for you, without you the user having to do any extra step. This is, `pydap` can \"discover\" your OPeNDAP authentication (username/password) credentials efficiently, if these are properly defined on a `.netrc` file (`_netrc` on Windows machines).\n",
    "\n",
    "While not all OPeNDAP servers are set up to authenticate via `token`, the vast majority of NASA's Hyrax servers are, and the token is created via your Earth Data Login (EDL) account. Betewen the two approaches above, `token authentication` is generally recommended thoughout the documentation as it can avoid many (but not all) redirects.\n",
    "\n",
    "\n",
    "```{note}\n",
    "For a broader introduction to authentication, check the `OPeNDAP` documentation on [Authentication for DAP Clients](https://opendap.github.io/documentation/tutorials/ClientAuthentication.html), and [Client Authentication With EDLTokens](https://opendap.github.io/documentation/tutorials/ClientAuthenticationWithEDLTokens.html).\n",
    "```\n"
   ]
  },
  {
   "cell_type": "code",
   "execution_count": null,
   "id": "d5c33910-fb84-4204-b117-5830332b86ae",
   "metadata": {},
   "outputs": [],
   "source": []
  },
  {
   "cell_type": "markdown",
   "id": "30c907bb-0c67-4a08-9340-96389a7c47b5",
   "metadata": {},
   "source": [
    "## Let's access some remote data!"
   ]
  },
  {
   "cell_type": "code",
   "execution_count": null,
   "id": "8e679652-bb05-418d-96e8-423a7df0d849",
   "metadata": {},
   "outputs": [],
   "source": [
    "from pydap.client import open_url\n",
    "from pydap.net import create_session"
   ]
  },
  {
   "cell_type": "code",
   "execution_count": null,
   "id": "f83f7dd7-e316-411e-8ab8-2d73ec7b443c",
   "metadata": {},
   "outputs": [],
   "source": [
    "dataset_url = \"https://opendap.earthdata.nasa.gov/providers/POCLOUD/collections/ECCO%20Ocean%20Temperature%20and%20Salinity%20-%20Monthly%20Mean%200.5%20Degree%20(Version%204%20Release%204)/granules/OCEAN_TEMPERATURE_SALINITY_mon_mean_2017-12_ECCO_V4r4_latlon_0p50deg\""
   ]
  },
  {
   "cell_type": "markdown",
   "id": "a3ab19a7-461c-4432-9122-ac237b298ba4",
   "metadata": {},
   "source": [
    "### username / password approach\n",
    "\n",
    "Nothing is needed, other than initiate a `requests.Session` object. `pydap.net` has a function that can initiate such a session along with some additional parameters. This is:\n"
   ]
  },
  {
   "cell_type": "code",
   "execution_count": null,
   "id": "cf72fd2f-8435-4974-80c4-903b5178bd85",
   "metadata": {},
   "outputs": [],
   "source": [
    "my_session = create_session() # default requests.session() object. \n",
    "print(my_session)"
   ]
  },
  {
   "cell_type": "markdown",
   "id": "1e344f3d-5ae7-4c73-84ff-1df528fbf56a",
   "metadata": {},
   "source": [
    "### Now, we open the remote dataset\n",
    "\n",
    "Now, all that is needed is:\n",
    "\n",
    "```python\n",
    "ds = open_url(dataset_url, session=my_session, protocol=\"dap4\")\n",
    "```\n",
    "\n",
    "The (default) requests session will recover the .netrc credentials, and no additional information is needed.\n"
   ]
  },
  {
   "cell_type": "markdown",
   "id": "a1127207-b65f-4052-bdf4-959f810e84b5",
   "metadata": {},
   "source": [
    "### Token Approach\n",
    "\n",
    "This is another approach  that is supported by various institutions, and will be used throughout the documentation. To enable token authentication, you must first make sure you have a valid (unexpired) token, and if not create a new one. For example, see this [EDL resource](https://opendap.github.io/documentation/tutorials/ClientAuthenticationWithEDLTokens.html) that is specific to NASA. \n",
    "\n",
    "To improve the user experience, `pydap.net.create_session` can take extra session arguments, such as the `token` to:\n",
    "\n",
    "- Create a `requests.session` with token information on its headers.\n",
    "- Disable automatic discovery of the `.netrc` file.\n",
    "\n",
    "\n"
   ]
  },
  {
   "cell_type": "code",
   "execution_count": null,
   "id": "f260427e-cdca-4fea-be60-e5984b13e0f6",
   "metadata": {},
   "outputs": [],
   "source": [
    "session_extra = {\"token\": \"YourToken\"}\n",
    "\n",
    "# initialize a requests.session object with the token headers. All handled by pydap.\n",
    "my_session = create_session(session_kwargs=session_extra)"
   ]
  },
  {
   "cell_type": "code",
   "execution_count": null,
   "id": "e0b7bc9c-db3d-4b4f-818a-ef64ed86b3b9",
   "metadata": {},
   "outputs": [],
   "source": [
    "ds = open_url(dataset_url, session=my_session, protocol='dap4')\n",
    "ds.tree()"
   ]
  },
  {
   "cell_type": "markdown",
   "id": "5b6bc081-75d2-4a33-ac0a-049b8ddbced4",
   "metadata": {},
   "source": [
    "```{note}\n",
    "At this point only the metadata has been downloaded to generate the pydap dataset, and references to each remove variable have been added\n",
    "```"
   ]
  },
  {
   "cell_type": "code",
   "execution_count": null,
   "id": "beaa7099-a8a3-496b-acff-ed20e7e89090",
   "metadata": {},
   "outputs": [],
   "source": []
  }
 ],
 "metadata": {
  "kernelspec": {
   "display_name": "Python 3 (ipykernel)",
   "language": "python",
   "name": "python3"
  },
  "language_info": {
   "codemirror_mode": {
    "name": "ipython",
    "version": 3
   },
   "file_extension": ".py",
   "mimetype": "text/x-python",
   "name": "python",
   "nbconvert_exporter": "python",
   "pygments_lexer": "ipython3",
   "version": "3.11.11"
  }
 },
 "nbformat": 4,
 "nbformat_minor": 5
}
