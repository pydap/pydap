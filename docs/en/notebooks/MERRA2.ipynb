{
 "cells": [
  {
   "cell_type": "markdown",
   "id": "91ff2edf-9dd2-47e2-943c-3fd616014ce5",
   "metadata": {},
   "source": [
    "# Accessing MERRA-2 Data via OPeNDAP \n",
    "\n",
    "**Requirements to run this notebook**\n",
    "\n",
    "1. Have an Earth Data Login account\n",
    "2. Preferred method of authentication.\n",
    "\n",
    "**Objectives**\n",
    " \n",
    "Use best practices from OPeNDAP, [pydap](https://pydap.github.io/pydap/), and xarray, to\n",
    "\n",
    "- Discover all OPeNDAP URLs associated with a MERRA-2 collection.\n",
    "- Authenticate via EDL (token based)\n",
    "- Explore MERRA-2 collection and filter variables\n",
    "- Consolidate Metadata at the collection level\n",
    "- Download/stream a subset of interes\n",
    "\n",
    "\n",
    "\n",
    "`Author`: Miguel Jimenez-Urias, '25"
   ]
  },
  {
   "cell_type": "code",
   "execution_count": null,
   "id": "2f7498eb-4a64-43a5-b915-3ae56ae4d758",
   "metadata": {},
   "outputs": [],
   "source": [
    "from pydap.net import create_session\n",
    "from pydap.client import get_cmr_urls, consolidate_metadata, open_url\n",
    "import xarray as xr\n",
    "import datetime as dt\n",
    "import earthaccess\n",
    "import json\n",
    "import matplotlib.pyplot as plt"
   ]
  },
  {
   "cell_type": "markdown",
   "id": "0d2ed83d-a9a6-4360-849f-8b68eff72ef6",
   "metadata": {},
   "source": [
    "## Explore metadata of the MERRA-2 Collection"
   ]
  },
  {
   "cell_type": "code",
   "execution_count": null,
   "id": "57d4d706-5781-4f48-99b0-af1c16137192",
   "metadata": {},
   "outputs": [],
   "source": [
    "merra2_doi = \"10.5067/VJAFPLI1CSIV\" # available e.g. GES DISC MERRA-2 documentation \n",
    "                                    # https://disc.gsfc.nasa.gov/datasets/M2T1NXSLV_5.12.4/summary?keywords=MERRA-2\n",
    "# One month of data\n",
    "time_range=[dt.datetime(2023, 1, 1), dt.datetime(2023, 2, 28)]"
   ]
  },
  {
   "cell_type": "code",
   "execution_count": null,
   "id": "e4f8a9ea-d646-4ebe-a13c-f5402bb06648",
   "metadata": {},
   "outputs": [],
   "source": [
    "urls = get_cmr_urls(doi=merra2_doi,time_range=time_range, limit=100) # you can incread the limit of results\n",
    "len(urls)"
   ]
  },
  {
   "cell_type": "markdown",
   "id": "2cf4a79d-56d1-428d-8313-9532f130c9f7",
   "metadata": {},
   "source": [
    "## Authenticate\n",
    "\n",
    "To hide the abstraction, we will use earthaccess to authenticate, and create cache session to consolidate all metadata"
   ]
  },
  {
   "cell_type": "code",
   "execution_count": null,
   "id": "2358a842-e4f7-459f-83d7-e2fe3826781f",
   "metadata": {},
   "outputs": [],
   "source": [
    "auth = earthaccess.login(strategy=\"interactive\", persist=True) # you will be promted to add your EDL credentials\n",
    "\n",
    "# pass Token Authorization to a new Session.\n",
    "cache_kwargs={'cache_name':'database/MERRA2'}\n",
    "my_session = create_session(use_cache=True, session=auth.get_session(), cache_kwargs=cache_kwargs)\n",
    "my_session.cache.clear()"
   ]
  },
  {
   "cell_type": "code",
   "execution_count": null,
   "id": "e619cee0-f590-43a7-aaa2-4a955c67a348",
   "metadata": {},
   "outputs": [],
   "source": [
    "my_session.cache.cache_name"
   ]
  },
  {
   "cell_type": "code",
   "execution_count": null,
   "id": "d10c5a58-0d9c-475b-b0ad-501122b80253",
   "metadata": {},
   "outputs": [],
   "source": [
    "my_session"
   ]
  },
  {
   "cell_type": "markdown",
   "id": "b7905e3a-3d14-4a2a-8e77-a6fafcf50b9d",
   "metadata": {},
   "source": [
    "## Explore Variables in collection and filter down to keep only desirable ones\n",
    "\n",
    "We do this by specifying the NASA OPeNDAP server to process requests via the DAP4 protocol.\n"
   ]
  },
  {
   "cell_type": "code",
   "execution_count": null,
   "id": "f118b9c1-9df6-4ae1-ae20-483cc009a231",
   "metadata": {},
   "outputs": [],
   "source": [
    "variables = ['lon', 'lat', 'time', 'T2M', \"U2M\", \"V2M\"]\n",
    "CE = \"?dap4.ce=\"+ \"/\"+\";/\".join(variables)\n",
    "new_urls = [url.replace(\"https\", \"dap4\") + CE for url in urls] # "
   ]
  },
  {
   "cell_type": "markdown",
   "id": "6030d1b5-4f30-47d4-ad4a-98f779011e1b",
   "metadata": {},
   "source": [
    "## Consolidate Metadata\n",
    "\n",
    "Aggregating multiple remote files at the collection level requires persistent internet connection. The pydap backend allows to download and store the metadata required by xarray locally as a sqlite3 database, and this database can be used as session manager (for futher downloads). Creating this databaset can be done once, and reused, version controlled, etc. Reusing this database can cut the time to generate the aggregated dataset view from minutes to seconds. \n"
   ]
  },
  {
   "cell_type": "code",
   "execution_count": null,
   "id": "a3ee8f1e-4da3-4363-9089-c71a808f2fd9",
   "metadata": {},
   "outputs": [],
   "source": [
    "consolidate_metadata(new_urls, session=my_session, concat_dim='time')"
   ]
  },
  {
   "cell_type": "code",
   "execution_count": null,
   "id": "dbfbb4d6-b9e2-4766-90e6-a999d4662ba4",
   "metadata": {},
   "outputs": [],
   "source": [
    "%%time\n",
    "ds = xr.open_mfdataset(new_urls, engine='pydap', session=my_session, combine='nested', concat_dim=\"time\")\n",
    "ds"
   ]
  },
  {
   "cell_type": "code",
   "execution_count": null,
   "id": "1f464ec0-a113-4136-affc-9c8420fc2af9",
   "metadata": {},
   "outputs": [],
   "source": [
    "ds"
   ]
  },
  {
   "cell_type": "code",
   "execution_count": null,
   "id": "78169622-c39a-4a73-a8e7-9a73b6488363",
   "metadata": {},
   "outputs": [],
   "source": []
  }
 ],
 "metadata": {
  "kernelspec": {
   "display_name": "Python 3 (ipykernel)",
   "language": "python",
   "name": "python3"
  },
  "language_info": {
   "codemirror_mode": {
    "name": "ipython",
    "version": 3
   },
   "file_extension": ".py",
   "mimetype": "text/x-python",
   "name": "python",
   "nbconvert_exporter": "python",
   "pygments_lexer": "ipython3",
   "version": "3.11.13"
  }
 },
 "nbformat": 4,
 "nbformat_minor": 5
}
