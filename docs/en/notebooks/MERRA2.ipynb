{
 "cells": [
  {
   "cell_type": "markdown",
   "id": "91ff2edf-9dd2-47e2-943c-3fd616014ce5",
   "metadata": {},
   "source": [
    "# Accessing MERRA-2 Data via OPeNDAP \n",
    "\n",
    "**Requirements to run this notebook**\n",
    "\n",
    "1. Have an Earth Data Login account\n",
    "2. Preferred method of authentication.\n",
    "\n",
    "**Objectives**\n",
    " \n",
    "Use best practices from OPeNDAP, [pydap](https://pydap.github.io/pydap/), and xarray, to\n",
    "\n",
    "- Discover all OPeNDAP URLs associated with a MERRA-2 collection.\n",
    "- \n",
    "\n",
    "\n",
    "\n",
    "`Author`: Miguel Jimenez-Urias, '25"
   ]
  },
  {
   "cell_type": "code",
   "execution_count": null,
   "id": "2f7498eb-4a64-43a5-b915-3ae56ae4d758",
   "metadata": {},
   "outputs": [],
   "source": []
  }
 ],
 "metadata": {
  "kernelspec": {
   "display_name": "Python 3 (ipykernel)",
   "language": "python",
   "name": "python3"
  },
  "language_info": {
   "codemirror_mode": {
    "name": "ipython",
    "version": 3
   },
   "file_extension": ".py",
   "mimetype": "text/x-python",
   "name": "python",
   "nbconvert_exporter": "python",
   "pygments_lexer": "ipython3",
   "version": "3.11.13"
  }
 },
 "nbformat": 4,
 "nbformat_minor": 5
}
