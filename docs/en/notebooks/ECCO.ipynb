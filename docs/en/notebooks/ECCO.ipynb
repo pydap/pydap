{
 "cells": [
  {
   "cell_type": "markdown",
   "id": "cba3c59f-0eb1-41a1-a531-4cd99d05d8ce",
   "metadata": {},
   "source": [
    "# ECCOv4 access via NASA's EarthData in the Cloud\n",
    "\n",
    "This notebook demonstrates access to [ECCOv4](https://ecco-group.org/) model output. Broad information about the ECCO dataset can be found in the PODAAC website (see [here](https://podaac.jpl.nasa.gov/cloud-datasets?view=list&ids=Projects&values=ECCO)).\n",
    "\n",
    "**Requirements to run this notebook**\n",
    "1. Have an Earth Data Login account\n",
    "2. Have a Bearer Token.\n",
    "\n",
    "**Objectives**\n",
    " \n",
    "Use [pydap](https://pydap.github.io/pydap/)'s client API to demonstrate\n",
    "\n",
    "- Access to NASA's [EarthData](https://www.earthdata.nasa.gov/) via the use of `tokens`. `Tokens` are greatly favored over `username/password`, since `tokens` avoid repeated authentication over the many redirects.\n",
    "- A workflow involving multiple OPeNDAP URLs and xarray parallelism, lazy evaluation, and plotting of **Level 4** with complex Topology [ECCOv4](https://podaac.jpl.nasa.gov/cloud-datasets?view=list&ids=Projects&values=ECCO) Data via OPeNDAP.\n",
    "\n",
    "\n",
    "Some variables of focus are\n",
    "\n",
    "- [Native grid](https://podaac.jpl.nasa.gov/dataset/ECCO_L4_GEOMETRY_LLC0090GRID_V4R4)\n",
    "- [Temperature and Salinity](https://podaac.jpl.nasa.gov/dataset/ECCO_L4_TEMP_SALINITY_LLC0090GRID_MONTHLY_V4R4)\n",
    "\n",
    "\n",
    "\n",
    "`Author`: Miguel Jimenez-Urias, '24"
   ]
  },
  {
   "cell_type": "code",
   "execution_count": null,
   "id": "dd69f13e-1576-46cc-88bf-8484bf53788f",
   "metadata": {},
   "outputs": [],
   "source": [
    "import matplotlib.pyplot as plt\n",
    "import numpy as np\n",
    "from pydap.net import create_session\n",
    "from pydap.client import open_url\n",
    "import xarray as xr\n",
    "import pydap"
   ]
  },
  {
   "cell_type": "code",
   "execution_count": null,
   "id": "cb67fb4b-158e-4f25-84fe-cf35711bed89",
   "metadata": {},
   "outputs": [],
   "source": [
    "print(\"xarray version: \", xr.__version__)\n",
    "print(\"pydap version: \", pydap.__version__)"
   ]
  },
  {
   "cell_type": "markdown",
   "id": "4d19f749-cd0f-499b-abe7-ffe8139b5ca0",
   "metadata": {},
   "source": [
    "### Access EARTHDATA\n",
    "\n",
    "Many of the data variables can be browsed [here](https://podaac.jpl.nasa.gov/cloud-datasets?view=list&ids=Projects&values=ECCO). Here we will work with the original data defined on the Lat-Lon-Cap (LLC90) grid."
   ]
  },
  {
   "cell_type": "code",
   "execution_count": null,
   "id": "592016ce-36cf-4298-b017-17fee64b5c19",
   "metadata": {},
   "outputs": [],
   "source": [
    "Grid_url = 'dap4://opendap.earthdata.nasa.gov/providers/POCLOUD/collections/ECCO%20Geometry%20Parameters%20for%20the%20Lat-Lon-Cap%2090%20(llc90)%20Native%20Model%20Grid%20(Version%204%20Release%204)/granules/GRID_GEOMETRY_ECCO_V4r4_native_llc0090'"
   ]
  },
  {
   "cell_type": "markdown",
   "id": "df65130f-8837-41d9-8d70-5342f55d94c8",
   "metadata": {},
   "source": [
    "### Use `.netrc` credentials\n",
    "\n"
   ]
  },
  {
   "cell_type": "code",
   "execution_count": null,
   "id": "8d9da3a9-19f9-428d-a592-be71d85c700a",
   "metadata": {},
   "outputs": [],
   "source": [
    "my_session = create_session()"
   ]
  },
  {
   "cell_type": "markdown",
   "id": "b926f44e-6a6a-4737-a0d8-8d36b0f6f25a",
   "metadata": {},
   "source": [
    "### Alternative token approach\n",
    "```python\n",
    "session_extra = {\"token\": \"YourToken\"}\n",
    "\n",
    "# initialize a requests.session object with the token headers. All handled by pydap.\n",
    "my_session = create_session(session_kwargs=session_extra)\n",
    "```"
   ]
  },
  {
   "cell_type": "markdown",
   "id": "fa0042cb-053d-424b-971c-ed8b0d325725",
   "metadata": {},
   "source": [
    "### Lazy access to remote data via pydap's client API\n",
    "\n",
    "`pydap` exploits the OPeNDAP's separation between metadata and data, to create `lazy dataset objects that point to the data`. These lazy objects contain all the attributes detailed in OPeNDAP's metadata files (DMR)."
   ]
  },
  {
   "cell_type": "code",
   "execution_count": null,
   "id": "5ced1396-be08-4a0b-b487-c430781bd247",
   "metadata": {},
   "outputs": [],
   "source": [
    "ds_grid = open_url(Grid_url, session=my_session)"
   ]
  },
  {
   "cell_type": "code",
   "execution_count": null,
   "id": "1bb158d1-7184-4d07-b152-bfb9f6300ffc",
   "metadata": {},
   "outputs": [],
   "source": [
    "ds_grid.tree()"
   ]
  },
  {
   "cell_type": "markdown",
   "id": "0c71e926-602f-4e56-a92f-2a89dbaf8bd4",
   "metadata": {},
   "source": [
    "```{note}\n",
    "PyDAP accesses the remote dataset's metadata, and no data has been downloaded yet!\n",
    "```"
   ]
  },
  {
   "cell_type": "markdown",
   "id": "bdeafa57-cc97-4c6d-99f1-138ba7d5b432",
   "metadata": {},
   "source": [
    "**Download data into memory**\n",
    "\n",
    "The syntax is as follows:\n",
    "\n",
    "```python\n",
    "# this fetches remote data into a pydap object container\n",
    "pydap_Array = dataset[<VarName>][:]\n",
    "```\n",
    "where `<VarName>` is the name of one of the variables in the `pydap.model.BaseType` object. The `pydap.model.BaseType` is a thing wrapper of `numpy arrays`. The array has been downloaded into \"local\" memory (RAM) as (uncompressed) numpy arrays. \n",
    "\n",
    "To extract the data as a numpy array, run\n",
    "\n",
    "```python\n",
    "# The `.data` command allows direct access to the Numpy array (e.g. for manipulation)\n",
    "pydap_Array.data\n",
    "```\n",
    "\n"
   ]
  },
  {
   "cell_type": "code",
   "execution_count": null,
   "id": "6a987764-bd3c-4385-b52c-8bcbd41038f0",
   "metadata": {},
   "outputs": [],
   "source": [
    "# lets download some data\n",
    "Depth = ds_grid['Depth'][:]\n",
    "print(type(Depth))"
   ]
  },
  {
   "cell_type": "code",
   "execution_count": null,
   "id": "5789765b-3f19-4101-b337-6c405fc19009",
   "metadata": {},
   "outputs": [],
   "source": [
    "Depth.attributes"
   ]
  },
  {
   "cell_type": "code",
   "execution_count": null,
   "id": "f7689e38-b6c8-47eb-8bc8-f2b8c0251b50",
   "metadata": {},
   "outputs": [],
   "source": [
    "Depth.shape, Depth.dims"
   ]
  },
  {
   "cell_type": "markdown",
   "id": "aa7c1737-dad3-40ce-9418-c62bbd2d42bc",
   "metadata": {},
   "source": [
    "**Plot Depth along native grid**\n",
    "\n",
    "`ECCO` data is defined on a Cube Sphere -- meaning the horizontal grid contains an `extra` dimension: `tile` or `face`. You can inspect the data in its native grid by plotting all horizontal data onto a grid as follows:"
   ]
  },
  {
   "cell_type": "code",
   "execution_count": null,
   "id": "eafb837f-baa9-40a2-ba05-226bdff9ec98",
   "metadata": {},
   "outputs": [],
   "source": [
    "Variable = [Depth[i].data for i in range(13)]\n",
    "clevels =  np.linspace(0, 6000, 100)\n",
    "cMap = 'Greys_r'"
   ]
  },
  {
   "cell_type": "code",
   "execution_count": null,
   "id": "fd406c4b-39aa-4a5d-9fe4-9d769fd455c5",
   "metadata": {},
   "outputs": [],
   "source": [
    "fig, axes = plt.subplots(nrows=5, ncols=5, figsize=(8, 8), gridspec_kw={'hspace':0.01, 'wspace':0.01})\n",
    "AXES = [\n",
    "    axes[4, 0], axes[3, 0], axes[2, 0], axes[4, 1], axes[3, 1], axes[2, 1],\n",
    "    axes[1, 1], \n",
    "    axes[1, 2], axes[1, 3], axes[1, 4], axes[0, 2], axes[0, 3], axes[0, 4],\n",
    "]\n",
    "for i in range(len(AXES)):\n",
    "    AXES[i].contourf(Variable[i], clevels, cmap=cMap)\n",
    "\n",
    "for ax in np.ravel(axes):\n",
    "    ax.axis('off')\n",
    "    plt.setp(ax.get_xticklabels(), visible=False)\n",
    "    plt.setp(ax.get_yticklabels(), visible=False)\n",
    "\n",
    "plt.show()"
   ]
  },
  {
   "cell_type": "markdown",
   "id": "7149ebc8-726b-45e6-bb7a-875902ef24de",
   "metadata": {},
   "source": [
    "**Fig. 1.** `Depth` plotted on a horizontal layout. Data on tiles `0-5` follow `C-ordering`, whereas data on tiles `7-13` follow `F-ordering`. Data on the `arctic cap`, is defined on a polar coordinate grid."
   ]
  },
  {
   "cell_type": "markdown",
   "id": "c0b48da6-c88a-40af-a8fb-e23b9d2bb3b0",
   "metadata": {},
   "source": [
    "**Plot with corrected Topology**"
   ]
  },
  {
   "cell_type": "code",
   "execution_count": null,
   "id": "b0a9b1cf-76f9-457e-b1dc-0bcdabe19aae",
   "metadata": {},
   "outputs": [],
   "source": [
    "fig, axes = plt.subplots(nrows=4, ncols=4, figsize=(8, 8), gridspec_kw={'hspace':0.01, 'wspace':0.01})\n",
    "AXES_NR = [\n",
    "    axes[3, 0], axes[2, 0], axes[1, 0], axes[3, 1], axes[2, 1], axes[1, 1],\n",
    "]\n",
    "AXES_CAP = [axes[0, 0]]\n",
    "AXES_R = [\n",
    "    axes[1, 2], axes[2, 2], axes[3, 2], axes[1, 3], axes[2, 3], axes[3, 3],\n",
    "]\n",
    "for i in range(len(AXES_NR)):\n",
    "    AXES_NR[i].contourf(Variable[i], clevels, cmap=cMap)\n",
    "\n",
    "for i in range(len(AXES_CAP)):\n",
    "    AXES_CAP[i].contourf(Variable[6].transpose()[:, ::-1], clevels, cmap=cMap)\n",
    "\n",
    "for i in range(len(AXES_R)):\n",
    "    AXES_R[i].contourf(Variable[7+i].transpose()[::-1, :], clevels, cmap=cMap)\n",
    "\n",
    "for ax in np.ravel(axes):\n",
    "    ax.axis('off')\n",
    "    plt.setp(ax.get_xticklabels(), visible=False)\n",
    "    plt.setp(ax.get_yticklabels(), visible=False)\n",
    "\n",
    "plt.show()"
   ]
  },
  {
   "cell_type": "markdown",
   "id": "e360c07e-7345-4781-8733-bb71c177a4dc",
   "metadata": {},
   "source": [
    "**Fig. 2.** `Depth` plotted on a horizontal layout that approximates `lat-lon` display. Data on the `arctic cap`, however, remains on a polar coordinate grid."
   ]
  },
  {
   "cell_type": "markdown",
   "id": "19c89fce-81f2-4739-afc9-5f42c9b1b02b",
   "metadata": {},
   "source": [
    "### pydap + xarray to aggregate multiple URLs\n",
    "\n",
    "\n",
    "`OPeNDAP` allows remote access via `dataURL`s. Each `dataURL` represents a variable, i.e. a piece of the whole puzzle. We can exploit `xarray` concatenation and parallelism to combine multiple `dataURL`s, and thus multiple pydap objects, into a single `xarray.Dataset`. Can do this because `xarray has long-implemented pydap as an engine to access/open remote datasets`.\n",
    "\n",
    "\n"
   ]
  },
  {
   "cell_type": "markdown",
   "id": "2e836c7e-82b5-4025-82cc-6c99af271f41",
   "metadata": {},
   "source": [
    "**A single URL**\n",
    "\n",
    "Many `OPeNDAP` servers can serve data in either `DAP2` and `DAP4` (much newer) model implementations. In `pydap`, you can specify which of the two implementations by replacing the beginning of the URL with either one of `dap2` or `dap4`. Since `xarray` imports pydap internally as is, then xarray can recognize this behavior as well.\n",
    "\n",
    "\n",
    "Below we access remote Temperature and Salinity ECCO data with `xarray` via (internally) `pydap`.\n"
   ]
  },
  {
   "cell_type": "code",
   "execution_count": null,
   "id": "19bb0013-a927-436e-b1fb-52734eaae820",
   "metadata": {},
   "outputs": [],
   "source": [
    "baseURL = 'dap4://opendap.earthdata.nasa.gov/providers/POCLOUD/collections/'\n",
    "Temp_Salt = \"ECCO%20Ocean%20Temperature%20and%20Salinity%20-%20Monthly%20Mean%20llc90%20Grid%20(Version%204%20Release%204)/granules/OCEAN_TEMPERATURE_SALINITY_mon_mean_\"\n",
    "year = '2017-'\n",
    "month = '01'\n",
    "end_ = '_ECCO_V4r4_native_llc0090'\n",
    "Temp_2017 = baseURL + Temp_Salt +year  + month + end_\n"
   ]
  },
  {
   "cell_type": "code",
   "execution_count": null,
   "id": "5459b5f1-7614-45c5-aca5-68d46b355bd1",
   "metadata": {},
   "outputs": [],
   "source": [
    "Temp_2017"
   ]
  },
  {
   "cell_type": "markdown",
   "id": "318a00f0-eccc-41f4-9644-fb7d162f8ce6",
   "metadata": {},
   "source": [
    "## Using CEs to pre-select only variables of interest\n",
    "\n",
    "Allows the user to drop variables but ONLY after creating the dataset of the entire remote URL. With OPeNDAP servers, the you encode the names of the variables\n",
    "you want to access in the URL. THis can significantly speed up analysis and exploration.\n",
    "\n",
    "Below we manually specify the DAP4 Constraint Expression for keeping only the variables `THETA`, along with its dimensions `time`, `k`, `time`, `j`, `i` and `tile`. \n",
    "\n",
    "\n",
    "You can also construct the full URL with constraint expressions interactively, by selecting manually the variables on the datasets's [Data Request Form](https://opendap.earthdata.nasa.gov/providers/POCLOUD/collections/ECCO%20Ocean%20Temperature%20and%20Salinity%20-%20Monthly%20Mean%20llc90%20Grid%20(Version%204%20Release%204)/granules/OCEAN_TEMPERATURE_SALINITY_mon_mean_2017-01_ECCO_V4r4_native_llc0090.dmr) and selecting **Copy (Raw) Data URL**.\n"
   ]
  },
  {
   "cell_type": "code",
   "execution_count": null,
   "id": "9412c8df-63e7-4ea8-a6f7-8855c14feb6e",
   "metadata": {},
   "outputs": [],
   "source": [
    "pyds = open_url(Temp_2017, session=my_session)\n",
    "pyds.tree()"
   ]
  },
  {
   "cell_type": "markdown",
   "id": "4b70d795-08f6-4dba-9ff9-06f2e2f722a8",
   "metadata": {},
   "source": [
    "Pydap's object can now helps up construct the Constraint Expression that will allow us to create a much simpler datacube"
   ]
  },
  {
   "cell_type": "code",
   "execution_count": null,
   "id": "2f4ff760-739a-4159-bd2f-d87869df4d53",
   "metadata": {},
   "outputs": [],
   "source": [
    "dims = pyds['THETA'].dims\n",
    "Vars = ['/THETA'] + dims\n",
    "\n",
    "# Below construct Contraint Expression\n",
    "CE = \"?dap4.ce=\"+(\";\").join(Vars)\n",
    "print(\"Constraint Expression: \", CE)"
   ]
  },
  {
   "cell_type": "markdown",
   "id": "0a084b29-f929-42de-9a15-62bc821a7353",
   "metadata": {},
   "source": [
    "Now we add the CE to the data url as follows below:"
   ]
  },
  {
   "cell_type": "code",
   "execution_count": null,
   "id": "3ef6ea6d-6bd2-4d3e-8cae-c4d9c897f124",
   "metadata": {},
   "outputs": [],
   "source": [
    "Temp_2017 = baseURL + Temp_Salt +year  + month + end_ + CE\n",
    "Temp_2017"
   ]
  },
  {
   "cell_type": "code",
   "execution_count": null,
   "id": "f79d729c-2565-4aa3-bc31-60dac36dea91",
   "metadata": {},
   "outputs": [],
   "source": [
    "%%time\n",
    "dataset = xr.open_dataset(Temp_2017, engine='pydap', session=my_session)\n",
    "dataset"
   ]
  },
  {
   "cell_type": "markdown",
   "id": "a9945827-c20f-4a84-b82b-a4912569345e",
   "metadata": {},
   "source": [
    "### Multiple files in parallel\n",
    "\n",
    "We can exploit `xarray`'s intuitive `concat` + `merge` capabilities to read multiple data URL in parallel. To accomplish that, we need to create a list of all relevant URLs that each point to an OPeNDAP dataset.\n",
    "\n",
    "```{tip}\n",
    "In this case we will use a session that caches the response. It can handle the authentication too!\n",
    "```"
   ]
  },
  {
   "cell_type": "code",
   "execution_count": null,
   "id": "701ef676-0417-4a44-aa8c-8c4d8c086c17",
   "metadata": {},
   "outputs": [],
   "source": [
    "Temp_2017 = [baseURL + Temp_Salt + year + f'{i:02}' + end_ + CE for i in range(1, 13)]"
   ]
  },
  {
   "cell_type": "code",
   "execution_count": null,
   "id": "a62a240e-7dbf-4b0c-80f4-c13ae8b82fe3",
   "metadata": {},
   "outputs": [],
   "source": [
    "Temp_2017[:4]"
   ]
  },
  {
   "cell_type": "code",
   "execution_count": null,
   "id": "1f2a3c1a-e427-49be-95f6-61eaa4fd1888",
   "metadata": {},
   "outputs": [],
   "source": [
    "cache_session = create_session(use_cache=True) # caching the session\n",
    "cache_session.cache.clear() # clear all cache to demonstrate the behavior. You do not have to do this!"
   ]
  },
  {
   "cell_type": "markdown",
   "id": "b67a4bbd-91d1-4aac-b23d-ea8a2d7cd9ae",
   "metadata": {},
   "source": [
    "```{warning}\n",
    "For `Pydap >= 3.5.5` the new method `consolidated_metadata` can be used to download and cache all dmrs in parallel. This can significantly speed up the (xarray) dataset exploration. This method continues under active development and so its features will continue to evolve.\n",
    "```\n",
    "\n"
   ]
  },
  {
   "cell_type": "code",
   "execution_count": null,
   "id": "5a430bea-a66a-4c39-8cac-01c92683162e",
   "metadata": {},
   "outputs": [],
   "source": [
    "from pydap.client import consolidate_metadata"
   ]
  },
  {
   "cell_type": "code",
   "execution_count": null,
   "id": "c501b9ec-98ef-46a7-b5c3-ad32e04c768d",
   "metadata": {},
   "outputs": [],
   "source": [
    "%%time\n",
    "consolidate_metadata(Temp_2017, cache_session)"
   ]
  },
  {
   "cell_type": "code",
   "execution_count": null,
   "id": "dbfba13b-1278-45a1-92f7-719787b24c14",
   "metadata": {},
   "outputs": [],
   "source": [
    "%%time\n",
    "theta_salt_ds = xr.open_mfdataset(\n",
    "    Temp_2017, \n",
    "    engine='pydap',\n",
    "    session=cache_session, \n",
    "    parallel=True,\n",
    "    combine='nested',\n",
    "    concat_dim='time',\n",
    "    decode_times=False\n",
    ")"
   ]
  },
  {
   "cell_type": "code",
   "execution_count": null,
   "id": "cf4ecf38-f713-4e4e-9a3c-84fd948b69c6",
   "metadata": {},
   "outputs": [],
   "source": [
    "theta_salt_ds"
   ]
  },
  {
   "cell_type": "markdown",
   "id": "72e6cb17-09ae-4b40-9df6-52111fa93f0d",
   "metadata": {},
   "source": [
    "### Finally, we plot `THETA`"
   ]
  },
  {
   "cell_type": "code",
   "execution_count": null,
   "id": "d6fc98b7-929b-4817-8a5b-de87e9411b9a",
   "metadata": {},
   "outputs": [],
   "source": [
    "Variable = [theta_salt_ds['THETA'][0, 0, i, :, :] for i in range(13)]\n",
    "clevels = np.linspace(-5, 30, 100)\n",
    "cMap='RdBu_r'"
   ]
  },
  {
   "cell_type": "code",
   "execution_count": null,
   "id": "decbc593-4a34-4a35-b411-1f320564b217",
   "metadata": {},
   "outputs": [],
   "source": [
    "fig, axes = plt.subplots(nrows=4, ncols=4, figsize=(8, 8), gridspec_kw={'hspace':0.01, 'wspace':0.01})\n",
    "AXES_NR = [\n",
    "    axes[3, 0], axes[2, 0], axes[1, 0], axes[3, 1], axes[2, 1], axes[1, 1],\n",
    "]\n",
    "AXES_CAP = [axes[0, 0]]\n",
    "AXES_R = [\n",
    "    axes[1, 2], axes[2, 2], axes[3, 2], axes[1, 3], axes[2, 3], axes[3, 3],\n",
    "]\n",
    "for i in range(len(AXES_NR)):\n",
    "    AXES_NR[i].contourf(Variable[i], clevels, cmap=cMap)\n",
    "\n",
    "for i in range(len(AXES_CAP)):\n",
    "    AXES_CAP[i].contourf(Variable[6].transpose()[:, ::-1], clevels, cmap=cMap)\n",
    "\n",
    "for i in range(len(AXES_R)):\n",
    "    AXES_R[i].contourf(Variable[7+i].transpose()[::-1, :], clevels, cmap=cMap)\n",
    "\n",
    "for ax in np.ravel(axes):\n",
    "    ax.axis('off')\n",
    "    plt.setp(ax.get_xticklabels(), visible=False)\n",
    "    plt.setp(ax.get_yticklabels(), visible=False)\n",
    "\n",
    "plt.show()"
   ]
  },
  {
   "cell_type": "markdown",
   "id": "96a83c6b-8e48-43b4-9b9e-f3d3896d9809",
   "metadata": {},
   "source": [
    "**Fig. 3.** `Surface temperature`, plotted on a horizontal layout that approximates `lat-lon` display. Data on the `arctic cap`, however, remains on a polar coordinate grid."
   ]
  },
  {
   "cell_type": "code",
   "execution_count": null,
   "id": "82ec5f83-600f-48fc-968c-f44447f1a839",
   "metadata": {},
   "outputs": [],
   "source": []
  }
 ],
 "metadata": {
  "kernelspec": {
   "display_name": "Python 3 (ipykernel)",
   "language": "python",
   "name": "python3"
  },
  "language_info": {
   "codemirror_mode": {
    "name": "ipython",
    "version": 3
   },
   "file_extension": ".py",
   "mimetype": "text/x-python",
   "name": "python",
   "nbconvert_exporter": "python",
   "pygments_lexer": "ipython3",
   "version": "3.11.12"
  }
 },
 "nbformat": 4,
 "nbformat_minor": 5
}
