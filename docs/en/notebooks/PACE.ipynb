{
 "cells": [
  {
   "cell_type": "markdown",
   "id": "2ab1781b-9318-4fda-a523-71a60f87aa44",
   "metadata": {},
   "source": [
    "# PACE\n",
    "\n",
    "This notebook demonstrates access to PACE Ocean Color Data. Broad information about the dataset can be found on the PACE website (see [here](https://oceandata.sci.gsfc.nasa.gov))\n",
    "\n",
    "**Requirements to run this notebook**\n",
    "1. Have an Earth Data Login account\n",
    "2. Have a Bearer Token.\n",
    "\n",
    "You can also use `username/password` method described in [Authentication](Authentication), instead of the `token` approach.\n",
    "\n",
    "**Objectives**\n",
    " \n",
    "Use [pydap](https://pydap.github.io/pydap/)'s client API to demonstrate\n",
    "\n",
    "- Access to NASA's [EarthData in the cloud](https://www.earthdata.nasa.gov/) via the use of `tokens`.\n",
    "- Access/download `PACE` data with an `OPeNDAP` URL and `pydap`'s client.\n",
    "- Construct a `Constraint Expression`.\n",
    "- Speed up the workflow by exploiting `OPeNDAP`'s **data-proximate subsetting** to access and download only subset of the original data.\n",
    "\n",
    "\n",
    "`Author`: Miguel Jimenez-Urias, '24"
   ]
  },
  {
   "cell_type": "code",
   "execution_count": null,
   "id": "0fa31dfb-2d83-4e74-b672-57a7c1da0f21",
   "metadata": {},
   "outputs": [],
   "source": [
    "import matplotlib.pyplot as plt\n",
    "import numpy as np\n",
    "from pydap.net import create_session\n",
    "from pydap.client import open_url\n",
    "import cartopy.crs as ccrs\n",
    "import xarray as xr"
   ]
  },
  {
   "cell_type": "markdown",
   "id": "c600be3d-cb1b-45e2-a3ee-19cffda4511e",
   "metadata": {},
   "source": [
    "### Access EARTHDATA\n",
    "\n",
    "The PACE OPeNDAP data catalog can be found [here](https://oceandata.sci.gsfc.nasa.gov/opendap/PACE_OCI/L3SMI/2024/contents.html). Data only starts in 2024.\n"
   ]
  },
  {
   "cell_type": "code",
   "execution_count": null,
   "id": "ca9ed69f-d06a-4f77-a274-cfe8dcf260d3",
   "metadata": {},
   "outputs": [],
   "source": [
    "# slow download URL / higher resolution\n",
    "url_DAP4 = \"http://oceandata.sci.gsfc.nasa.gov/opendap/PACE_OCI/L3SMI/2024/0310/PACE_OCI.20240310.L3m.DAY.CHL.V2_0.chlor_a.4km.NRT.nc\"\n"
   ]
  },
  {
   "cell_type": "markdown",
   "id": "ce21fee0-5d50-459e-930a-573af6488758",
   "metadata": {},
   "source": [
    "### Add to session's headers Token Authorization\n"
   ]
  },
  {
   "cell_type": "code",
   "execution_count": null,
   "id": "3dc75b1f-ec11-4ae3-bd1d-9f4c5dc2939e",
   "metadata": {},
   "outputs": [],
   "source": [
    "session_extra = {\"token\": \"YourToken\"}\n",
    "\n",
    "# initialize a requests.session object with the token headers. All handled by pydap.\n",
    "my_session = create_session(session_kwargs=session_extra)"
   ]
  },
  {
   "cell_type": "code",
   "execution_count": null,
   "id": "9add5aa3-35b8-4c4b-9e12-7f5f84f5ce5a",
   "metadata": {},
   "outputs": [],
   "source": [
    "%%time\n",
    "ds_full = open_url(url_DAP4, session=my_session, protocol='dap4')"
   ]
  },
  {
   "cell_type": "code",
   "execution_count": null,
   "id": "ca03f8e2-9332-40ad-a8f7-6fee884f7763",
   "metadata": {},
   "outputs": [],
   "source": [
    "ds_full.tree()"
   ]
  },
  {
   "cell_type": "markdown",
   "id": "9edb0fdd-502a-4bc2-9589-f4a58a0ee1f9",
   "metadata": {},
   "source": [
    "```{note}\n",
    "PyDAP accesses the remote dataset's metadata, and no data has been downloaded yet!\n",
    "```"
   ]
  },
  {
   "cell_type": "code",
   "execution_count": null,
   "id": "95b0f38f-5e59-469f-9476-e972d1448f1a",
   "metadata": {},
   "outputs": [],
   "source": [
    "ds_full['chlor_a'].attributes"
   ]
  },
  {
   "cell_type": "code",
   "execution_count": null,
   "id": "b98aaa22-b04f-4c81-844c-f143c714473a",
   "metadata": {},
   "outputs": [],
   "source": [
    "print('uncompressed dataset size [GBs]: ', ds_full.nbytes / 1e9)"
   ]
  },
  {
   "cell_type": "code",
   "execution_count": null,
   "id": "bdfc0282-0c00-4fa4-aa8d-b812c22f94e6",
   "metadata": {},
   "outputs": [],
   "source": [
    "ds_full['chlor_a'].shape"
   ]
  },
  {
   "cell_type": "code",
   "execution_count": null,
   "id": "8f6c49d0-a405-46a3-a6ed-b57eb4bd1750",
   "metadata": {},
   "outputs": [],
   "source": [
    "print('uncompressed dataset size [GBs]: ', ds_full['chlor_a'].nbytes / 1e9)"
   ]
  },
  {
   "cell_type": "code",
   "execution_count": null,
   "id": "ff8d1d93-0f01-494c-b86b-24dc53c54ad2",
   "metadata": {},
   "outputs": [],
   "source": []
  },
  {
   "cell_type": "markdown",
   "id": "65117756-6e0a-47c2-aaf2-4b23acf72f38",
   "metadata": {},
   "source": [
    "### Download data by indexing the array\n",
    "\n",
    "When downloading, it is important to verify and check any necessary `decoding` in order to make sense of the data, in particular when trying to `define a subset region of interest by latitude and longitude ranges`. And so, we download `latitude` and `longitude`. each a one-dimensional array, thus keeping at a minimum the download amount.\n",
    "\n",
    "\n",
    "**Decoding data values:**\n",
    "\n",
    "`xarray` decodes time and spatial values internally by default, everytime one accesses the data values, whereas currently there is no such method within `pydap` to do so. But it is often useful to understand how this works internally, and what type of parameters are used for decoding. Because OPeNDAP is based on the NetCDF data model, it if a CF-compliant software. Below are some of the most used metadata attributes associated for decoding data:\n",
    "\n",
    "**CF - Conventions**\n",
    "\n",
    "In OPeNDAP's metadata rich datasets, each contains standard attributes used to describe missing data, units in which the data is presented, and any stretching/scaling of the values. \n",
    "\n",
    "- `standard name`\n",
    "- `units`\n",
    "- `_FillValue`\n",
    "- `scale_factor`\n",
    "- `off_set`\n"
   ]
  },
  {
   "cell_type": "markdown",
   "id": "f061ddf6-2887-4dca-880b-f7a868b8116a",
   "metadata": {},
   "source": [
    "Below is a simple function that decodes the spatial values within the array:"
   ]
  },
  {
   "cell_type": "code",
   "execution_count": null,
   "id": "be0dbca6-9996-474b-a5ae-57c8958f3b79",
   "metadata": {},
   "outputs": [],
   "source": [
    "def decode(variable) -> np.ndarray:\n",
    "    \"\"\"Decodes the variable BaseType according with atributes:\n",
    "        _FillValue\n",
    "        scale_factor\n",
    "\n",
    "    Parameters:\n",
    "        variable: BaseType (pydap model)\n",
    "    \"\"\"\n",
    "    scale_factor = 1\n",
    "    _Fillvalue = None\n",
    "\n",
    "    if 'scale_factor' in variable.attributes:\n",
    "        scale_factor = variable.scale_factor\n",
    "    if '_FillValue' in variable.attributes:\n",
    "        data = np.where(variable.data == variable._FillValue, np.nan, variable.data)    \n",
    "    else:\n",
    "        data = variable.data\n",
    "    return scale_factor * data"
   ]
  },
  {
   "cell_type": "markdown",
   "id": "0a96c84f-954f-4154-a426-d38580cefb19",
   "metadata": {},
   "source": [
    "### Download one-dimensional lat and lon values\n",
    "\n",
    "To make sense of these, we make sure to decode their values\n"
   ]
  },
  {
   "cell_type": "code",
   "execution_count": null,
   "id": "d5a7806c-f21f-4a8a-9bd1-33f23005df5c",
   "metadata": {},
   "outputs": [],
   "source": [
    "lon = decode(ds_full['lon'][:])\n",
    "lat = decode(ds_full['lat'][:])"
   ]
  },
  {
   "cell_type": "code",
   "execution_count": null,
   "id": "5d69dc4d-82aa-453d-9a3d-f411c826461d",
   "metadata": {},
   "outputs": [],
   "source": [
    "print(\"Size of the latitude array \", lat.shape)"
   ]
  },
  {
   "cell_type": "code",
   "execution_count": null,
   "id": "af6efa50-16e3-414e-be78-589c8ab2c63b",
   "metadata": {},
   "outputs": [],
   "source": [
    "print(\"Spatial range of values \", (lat.min(), lat.max()))"
   ]
  },
  {
   "cell_type": "code",
   "execution_count": null,
   "id": "6a3145ce-ec03-49ec-ab84-d5d0ddb27b69",
   "metadata": {},
   "outputs": [],
   "source": [
    "print(\"Size of the longitude array \", lat.shape)"
   ]
  },
  {
   "cell_type": "code",
   "execution_count": null,
   "id": "fe882033-e9d3-4d0a-8835-68381149522c",
   "metadata": {},
   "outputs": [],
   "source": [
    "print(\"Spatial range of values \", (lon.min(), lon.max()))"
   ]
  },
  {
   "cell_type": "markdown",
   "id": "d3f5c070-ec9f-44cf-82ab-e439dc93e1c5",
   "metadata": {},
   "source": [
    "```{warning}\n",
    "Not all array values of `lat/lon` coordinates are monotonic. Always make sure that is the case, even when data is Level 3 or Level 4\n",
    "\n",
    "```"
   ]
  },
  {
   "cell_type": "markdown",
   "id": "b07845c2-d910-491c-9fb1-be9a059744dc",
   "metadata": {},
   "source": [
    "### Define area / subset of interest\n",
    "\n",
    "It is good practice to perform some exploratory data analysis to reduce the size of the download. Below we identify the spatial index that define our coverage, and will use that to index the array, and only download that subset. \n",
    "\n"
   ]
  },
  {
   "cell_type": "code",
   "execution_count": null,
   "id": "d4ab2655-e101-4299-88d4-b9d158ea28ca",
   "metadata": {},
   "outputs": [],
   "source": [
    "# Min/max of lon values\n",
    "minLon, maxLon = -96, 10\n",
    "\n",
    "# Min/Max of lat values\n",
    "minLat, maxLat = 6, 70"
   ]
  },
  {
   "cell_type": "code",
   "execution_count": null,
   "id": "7567c21d-6310-4e03-ac3b-92f71fd5da88",
   "metadata": {},
   "outputs": [],
   "source": [
    "iLon = np.where((lon>minLon)&(lon < maxLon))[0]\n",
    "iLat= np.where((lat>minLat)&(lat < maxLat))[0]"
   ]
  },
  {
   "cell_type": "markdown",
   "id": "151e6d36-8813-4042-81e6-0f8a0cee04cf",
   "metadata": {},
   "source": [
    "## Visual Inspection of coordinate arrays\n"
   ]
  },
  {
   "cell_type": "code",
   "execution_count": null,
   "id": "b82827b8-9317-429f-9511-0e3b99a78158",
   "metadata": {},
   "outputs": [],
   "source": [
    "plt.figure(figsize=(12,4))\n",
    "plt.subplot(121)\n",
    "plt.plot(lon, 'k--', alpha=0.75)\n",
    "plt.plot(iLon,lon[iLon], 'r', lw=6)\n",
    "plt.xlabel('x-indexes of original remote file')\n",
    "plt.ylabel(\"Longitudes\")\n",
    "plt.subplot(122)\n",
    "plt.plot(lat,'k--', alpha=0.75)\n",
    "plt.plot(iLat,lat[iLat], 'r', lw=6)\n",
    "plt.xlabel('y-indexes of original remote file')\n",
    "plt.ylabel(\"Latitude\")\n",
    "plt.show()"
   ]
  },
  {
   "cell_type": "markdown",
   "id": "eabd7b00-59f0-411a-bd89-9c9ba8a246dd",
   "metadata": {},
   "source": [
    "**Fig 1.** Lon and Lat values are continuous, and only cover data/region of interest."
   ]
  },
  {
   "cell_type": "markdown",
   "id": "a0e486dc-0d20-4730-a7d2-c5ee5ed3c3ca",
   "metadata": {},
   "source": [
    "## Download only the subset\n",
    "\n",
    "and decode the values of the variable of interest. "
   ]
  },
  {
   "cell_type": "code",
   "execution_count": null,
   "id": "53302aba-d359-48a4-b7a5-97e22d656c87",
   "metadata": {},
   "outputs": [],
   "source": [
    "%%time\n",
    "CHLOR_A = decode(ds_full['chlor_a'][iLat[0]:iLat[-1],iLon[0]:iLon[-1]])"
   ]
  },
  {
   "cell_type": "code",
   "execution_count": null,
   "id": "0b978de2-e969-4a39-b9f8-adfc4c3489a8",
   "metadata": {},
   "outputs": [],
   "source": [
    "print(\"Original size of array: \", ds_full['chlor_a'].shape)"
   ]
  },
  {
   "cell_type": "code",
   "execution_count": null,
   "id": "7180c469-7472-422b-9eae-d612495ab6c9",
   "metadata": {},
   "outputs": [],
   "source": [
    "print(\"Size of downloaded subset: \",CHLOR_A.shape)"
   ]
  },
  {
   "cell_type": "code",
   "execution_count": null,
   "id": "de9c0f25-27f8-43d4-b53b-456d2c5524cb",
   "metadata": {},
   "outputs": [],
   "source": [
    "Lon, Lat = np.meshgrid(lon[iLon[0]:iLon[-1]], lat[iLat[0]:iLat[-1]])"
   ]
  },
  {
   "cell_type": "code",
   "execution_count": null,
   "id": "10f8c509-c3b6-4898-b839-6377101f9922",
   "metadata": {},
   "outputs": [],
   "source": [
    "plt.figure(figsize=(25, 8))\n",
    "ax = plt.axes(projection=ccrs.PlateCarree())\n",
    "ax.set_global()\n",
    "ax.coastlines()\n",
    "plt.contourf(Lon, Lat, np.log(CHLOR_A), 400, cmap='nipy_spectral')\n",
    "plt.colorbar().set_label(ds_full['chlor_a'].name + ' ['+ds_full['chlor_a'].units+']');"
   ]
  },
  {
   "cell_type": "markdown",
   "id": "813f696b-51a7-4255-bf48-96333ab2ce3d",
   "metadata": {},
   "source": [
    "**Fig 2.** An approach to visually subset the global Chlorophyll A concentration. This approach allows to extract index values to construct the Constraint Expression and add it to the URL."
   ]
  },
  {
   "cell_type": "code",
   "execution_count": null,
   "id": "0d426565-053e-42f9-8020-9689484660ae",
   "metadata": {},
   "outputs": [],
   "source": []
  },
  {
   "cell_type": "code",
   "execution_count": null,
   "id": "5ac95185-8b8d-4a90-90c7-567b6d2e4192",
   "metadata": {},
   "outputs": [],
   "source": [
    "plt.figure(figsize=(25, 8))\n",
    "ax = plt.axes(projection=ccrs.PlateCarree())\n",
    "ax.coastlines()\n",
    "plt.contourf(Lon, Lat, np.log(CHLOR_A), 400, cmap='nipy_spectral')\n",
    "plt.colorbar().set_label(ds_full['chlor_a'].name + ' ['+ds_full['chlor_a'].units+']')\n",
    "plt.show()"
   ]
  },
  {
   "cell_type": "markdown",
   "id": "499d1bce-ac7a-4b20-ab33-d83d5f24ff33",
   "metadata": {},
   "source": [
    "**Fig 3.** Same as in Figure 2, but now the plot shows only where data was downloaded."
   ]
  },
  {
   "cell_type": "code",
   "execution_count": null,
   "id": "26295b5a-c1e2-4a9d-8506-2e071a69ede4",
   "metadata": {},
   "outputs": [],
   "source": []
  }
 ],
 "metadata": {
  "kernelspec": {
   "display_name": "Python 3 (ipykernel)",
   "language": "python",
   "name": "python3"
  },
  "language_info": {
   "codemirror_mode": {
    "name": "ipython",
    "version": 3
   },
   "file_extension": ".py",
   "mimetype": "text/x-python",
   "name": "python",
   "nbconvert_exporter": "python",
   "pygments_lexer": "ipython3",
   "version": "3.11.11"
  }
 },
 "nbformat": 4,
 "nbformat_minor": 5
}
