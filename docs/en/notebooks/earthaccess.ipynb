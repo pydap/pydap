{
 "cells": [
  {
   "cell_type": "markdown",
   "id": "6e2d371f-2606-4ec6-87cc-8365d7af31df",
   "metadata": {},
   "source": [
    "## EDL Authentication via earthaccess\n",
    "\n",
    "In this tutorial, we demostrate how to inherit EDL authentication credentials from [earthaccess](https://earthaccess.readthedocs.io/en/stable/) and use them with PyDAP. \n",
    "\n",
    "There are two ways in which to use `earthaccess` to authenticate:\n",
    "\n",
    "1. Retrieve credentials and store these locally in a `.netrc` file.\n",
    "2. Inherit a request session object from `earthaccess` with EDL token header, and use it to create an optimized PyDAP session object (which may be CachedSession).\n",
    "\n",
    "\n",
    "While not strictly necessary, [earthaccess](https://earthaccess.readthedocs.io/en/stable/) hides the abstraction needed to authenticate via username/password or token-base, for Earthdata Login.\n",
    "\n"
   ]
  },
  {
   "cell_type": "code",
   "execution_count": 2,
   "id": "dad93638-3998-40d0-a666-b39eac387cae",
   "metadata": {},
   "outputs": [],
   "source": [
    "import earthaccess\n",
    "from pydap.client import create_session"
   ]
  },
  {
   "cell_type": "markdown",
   "id": "a4fef5f9-7282-48de-9e13-c88d05f16225",
   "metadata": {},
   "source": [
    "### 1. Store EDL authentication credentials for later reuse\n",
    "\n",
    "This is accomplished in a single line\n"
   ]
  },
  {
   "cell_type": "code",
   "execution_count": 3,
   "id": "c76445b0-3ac6-41cf-9993-d608ca066be8",
   "metadata": {},
   "outputs": [],
   "source": [
    "auth = earthaccess.login(strategy=\"interactive\", persist=True) "
   ]
  },
  {
   "cell_type": "markdown",
   "id": "b981834b-1032-4921-bb02-572273faa029",
   "metadata": {},
   "source": []
  },
  {
   "cell_type": "markdown",
   "id": "eb1aeece-c105-46e1-bd39-a8763bc78ac6",
   "metadata": {},
   "source": [
    "The credentials have been stored in a `.netrc` file. You can create a request session object and it will recover them automatically. "
   ]
  },
  {
   "cell_type": "code",
   "execution_count": 4,
   "id": "7ab34007-cfa1-42d2-821a-05e5ec6a982e",
   "metadata": {},
   "outputs": [],
   "source": [
    "session = create_session()"
   ]
  },
  {
   "cell_type": "markdown",
   "id": "c1473d83-2da1-4f30-8d1a-a1f41253b971",
   "metadata": {},
   "source": [
    "### 2. Inherit an EDL token\n",
    "\n",
    "This is accomplished by recovering a request.session object initialized by earthaccess. It will contain the EDL token header, and this can be used to create a `CachedSession` object that enables persistent consolidated metadata via pydap workflows."
   ]
  },
  {
   "cell_type": "code",
   "execution_count": 8,
   "id": "f60c2908-924f-4c60-bcd0-74d5c9fc05fa",
   "metadata": {},
   "outputs": [
    {
     "data": {
      "text/plain": [
       "<earthaccess.auth.SessionWithHeaderRedirection at 0x11643c6d0>"
      ]
     },
     "execution_count": 8,
     "metadata": {},
     "output_type": "execute_result"
    }
   ],
   "source": [
    "ea_session=auth.get_session()\n",
    "ea_session"
   ]
  },
  {
   "cell_type": "markdown",
   "id": "7565f045-a9e5-4ecb-867b-07ab12e20807",
   "metadata": {},
   "source": []
  },
  {
   "cell_type": "code",
   "execution_count": 12,
   "id": "6c0c34b1-e397-4213-a891-da16dec4b17b",
   "metadata": {},
   "outputs": [
    {
     "data": {
      "text/plain": [
       "<CachedSession(cache=<SQLiteCache(name=http_cache)>, settings=CacheSettings(expire_after=86400))>"
      ]
     },
     "execution_count": 12,
     "metadata": {},
     "output_type": "execute_result"
    }
   ],
   "source": [
    "cache_session = create_session(use_cache=True, session=ea_session)\n",
    "cache_session"
   ]
  },
  {
   "cell_type": "markdown",
   "id": "1185ea9a-6226-41bf-b229-db3f1841cec5",
   "metadata": {},
   "source": [
    "### Summary\n",
    "\n",
    "You can use either the `session` or `cache_session` object to stream data. Each will enable you to authenticate via username/password or via token, respectively.\n",
    "\n"
   ]
  },
  {
   "cell_type": "code",
   "execution_count": null,
   "id": "c7686f23-6152-43ac-9dfb-1a92ca2727f2",
   "metadata": {},
   "outputs": [],
   "source": []
  }
 ],
 "metadata": {
  "kernelspec": {
   "display_name": "Python 3 (ipykernel)",
   "language": "python",
   "name": "python3"
  },
  "language_info": {
   "codemirror_mode": {
    "name": "ipython",
    "version": 3
   },
   "file_extension": ".py",
   "mimetype": "text/x-python",
   "name": "python",
   "nbconvert_exporter": "python",
   "pygments_lexer": "ipython3",
   "version": "3.11.13"
  }
 },
 "nbformat": 4,
 "nbformat_minor": 5
}
