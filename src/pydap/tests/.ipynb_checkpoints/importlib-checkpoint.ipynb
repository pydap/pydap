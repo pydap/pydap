{
 "cells": [
  {
   "cell_type": "markdown",
   "id": "462c83cd-e849-4e7a-92e2-f9733418b819",
   "metadata": {},
   "source": [
    "# importlib "
   ]
  },
  {
   "cell_type": "code",
   "execution_count": 1,
   "id": "cf48f2f1-940b-4dd7-a2e0-247c4c5607f2",
   "metadata": {},
   "outputs": [],
   "source": [
    "%load_ext autoreload\n",
    "%autoreload 2"
   ]
  },
  {
   "cell_type": "code",
   "execution_count": 2,
   "id": "d5379921-2a2e-43ca-b866-aa8f3e08cdf4",
   "metadata": {},
   "outputs": [],
   "source": [
    "import tempfile\n",
    "import os\n",
    "from pydap.wsgi.app import DapServer, PyDapApplication, StaticMiddleware, init\n",
    "from webtest import TestApp as App\n"
   ]
  },
  {
   "cell_type": "code",
   "execution_count": null,
   "id": "97e1ea7d-7185-4f47-8209-172a2197a4ef",
   "metadata": {},
   "outputs": [],
   "source": []
  },
  {
   "cell_type": "code",
   "execution_count": 3,
   "id": "484a086c-c4d3-4629-ba86-6aac866fb4bf",
   "metadata": {},
   "outputs": [],
   "source": [
    "install = tempfile.mkdtemp(suffix=\"pydap\")\n",
    "data = os.path.join(install, \"data\")\n",
    "os.mkdir(data)\n",
    "with open(os.path.join(data, \"README.txt\"), \"w\") as fp:\n",
    "    fp.write(\"Hello, world!\")\n",
    "\n",
    "with open(os.path.join(data, \"data.foo\"), \"w\") as fp:\n",
    "    pass"
   ]
  },
  {
   "cell_type": "code",
   "execution_count": 66,
   "id": "f17041d0-c2d3-4616-bf2a-dd96b0e6c646",
   "metadata": {},
   "outputs": [],
   "source": [
    "app = DapServer(data)\n",
    "app = StaticMiddleware(app, (\"pydap.wsgi\", \"templates/static\"))\n",
    "app = App(app)"
   ]
  },
  {
   "cell_type": "code",
   "execution_count": 54,
   "id": "8752ee74-609f-4198-92cb-937657e3bebb",
   "metadata": {},
   "outputs": [],
   "source": [
    "import importlib.resources as resources"
   ]
  },
  {
   "cell_type": "code",
   "execution_count": 29,
   "id": "6d7e25c9-d21d-4c54-ab96-0d57b3525ef9",
   "metadata": {},
   "outputs": [],
   "source": []
  },
  {
   "cell_type": "code",
   "execution_count": 67,
   "id": "080b0471-8e11-4f1b-9682-60a585f5b992",
   "metadata": {},
   "outputs": [],
   "source": [
    "package, resource_path = (\"pydap.wsgi\", \"templates/static\")"
   ]
  },
  {
   "cell_type": "code",
   "execution_count": null,
   "id": "d0b12a78-9764-4f41-bfe7-8eed05033744",
   "metadata": {},
   "outputs": [],
   "source": [
    "# resource = os.path.join(resource_path, *req.path_info.split(\"/\"))"
   ]
  },
  {
   "cell_type": "code",
   "execution_count": 68,
   "id": "9a2bb7e6-a997-4e21-9813-13c5c18e8fbb",
   "metadata": {},
   "outputs": [
    {
     "data": {
      "text/plain": [
       "['templates', 'static']"
      ]
     },
     "execution_count": 68,
     "metadata": {},
     "output_type": "execute_result"
    }
   ],
   "source": [
    "parts = resource_path.split('/')\n",
    "parts"
   ]
  },
  {
   "cell_type": "code",
   "execution_count": 69,
   "id": "414faa7d-a8ea-419b-8ed4-9def1b6ac939",
   "metadata": {},
   "outputs": [],
   "source": [
    "f = resources.files(package) \n",
    "for i in range(len(parts)):\n",
    "    f /= parts[i] "
   ]
  },
  {
   "cell_type": "code",
   "execution_count": 70,
   "id": "14c1a3dc-f8b9-4f08-b399-e1fc1ae4b07e",
   "metadata": {},
   "outputs": [
    {
     "data": {
      "text/plain": [
       "PosixPath('/Users/miguelangeljimenezurias/pydap/src/pydap/wsgi/templates/static')"
      ]
     },
     "execution_count": 70,
     "metadata": {},
     "output_type": "execute_result"
    }
   ],
   "source": [
    "f"
   ]
  },
  {
   "cell_type": "code",
   "execution_count": 63,
   "id": "e8b147e5-e185-4594-94a8-e4e0c26d361c",
   "metadata": {},
   "outputs": [
    {
     "data": {
      "text/plain": [
       "PosixPath('/Users/miguelangeljimenezurias/pydap/src/pydap/wsgi/templates/static/static.css')"
      ]
     },
     "execution_count": 63,
     "metadata": {},
     "output_type": "execute_result"
    }
   ],
   "source": [
    "f / 'static.css'"
   ]
  },
  {
   "cell_type": "code",
   "execution_count": 58,
   "id": "8ccde7de-ab99-42ac-80d7-f14c40f714ee",
   "metadata": {},
   "outputs": [],
   "source": [
    "is_resource = full_path.is_file()"
   ]
  },
  {
   "cell_type": "code",
   "execution_count": 57,
   "id": "90a2aebb-7cc1-4000-861c-e5085053582e",
   "metadata": {},
   "outputs": [
    {
     "data": {
      "text/plain": [
       "PosixPath('/Users/miguelangeljimenezurias/pydap/src/pydap/wsgi/templates/static/static.css')"
      ]
     },
     "execution_count": 57,
     "metadata": {},
     "output_type": "execute_result"
    }
   ],
   "source": [
    "full_path = resources.files(package) / parts[0] / parts[1] / 'static.css'\n",
    "full_path"
   ]
  },
  {
   "cell_type": "code",
   "execution_count": null,
   "id": "3e671aa3-87a3-4105-bbba-b6e67653be6d",
   "metadata": {},
   "outputs": [],
   "source": []
  },
  {
   "cell_type": "code",
   "execution_count": 47,
   "id": "f7e1884f-cf43-440c-a3cc-e00e4ca1dddb",
   "metadata": {},
   "outputs": [],
   "source": [
    "resource = \"templates/static/style.css\""
   ]
  },
  {
   "cell_type": "code",
   "execution_count": 49,
   "id": "ab1413ed-f62e-48e0-8750-e88b58484f91",
   "metadata": {},
   "outputs": [
    {
     "data": {
      "text/plain": [
       "'style.css'"
      ]
     },
     "execution_count": 49,
     "metadata": {},
     "output_type": "execute_result"
    }
   ],
   "source": [
    "resource.split('/')[-1]"
   ]
  },
  {
   "cell_type": "code",
   "execution_count": 73,
   "id": "d77fda18-a79a-47cb-b2c8-385c9190ab68",
   "metadata": {},
   "outputs": [
    {
     "name": "stdout",
     "output_type": "stream",
     "text": [
      "req:  GET /static/style.css HTTP/1.0\n",
      "Host: localhost:80 type:  <class 'webob.request.Request'>\n",
      "/Users/miguelangeljimenezurias/pydap/src/pydap/wsgi/templates/static\n"
     ]
    },
    {
     "name": "stderr",
     "output_type": "stream",
     "text": [
      "[autoreload of pydap.wsgi.app failed: Traceback (most recent call last):\n",
      "  File \"/Users/miguelangeljimenezurias/mambaforge/envs/pydap_tests/lib/python3.10/site-packages/IPython/extensions/autoreload.py\", line 276, in check\n",
      "    superreload(m, reload, self.old_objects)\n",
      "  File \"/Users/miguelangeljimenezurias/mambaforge/envs/pydap_tests/lib/python3.10/site-packages/IPython/extensions/autoreload.py\", line 475, in superreload\n",
      "    module = reload(module)\n",
      "  File \"/Users/miguelangeljimenezurias/mambaforge/envs/pydap_tests/lib/python3.10/importlib/__init__.py\", line 169, in reload\n",
      "    _bootstrap._exec(spec, module)\n",
      "  File \"<frozen importlib._bootstrap>\", line 619, in _exec\n",
      "  File \"<frozen importlib._bootstrap_external>\", line 879, in exec_module\n",
      "  File \"<frozen importlib._bootstrap_external>\", line 1017, in get_code\n",
      "  File \"<frozen importlib._bootstrap_external>\", line 947, in source_to_code\n",
      "  File \"<frozen importlib._bootstrap>\", line 241, in _call_with_frames_removed\n",
      "  File \"/Users/miguelangeljimenezurias/pydap/src/pydap/wsgi/app.py\", line 234\n",
      "    print(full_path / *req.path_info.split(\"/\"))\n",
      "                      ^\n",
      "SyntaxError: invalid syntax\n",
      "]\n"
     ]
    },
    {
     "ename": "AppError",
     "evalue": "Bad response: 404 Not Found (not 200 OK or 3xx redirect for http://localhost/static/style.css)\n404 Not Found\n\nThe resource could not be found.\n\n /style.css  ",
     "output_type": "error",
     "traceback": [
      "\u001b[0;31m---------------------------------------------------------------------------\u001b[0m",
      "\u001b[0;31mAppError\u001b[0m                                  Traceback (most recent call last)",
      "Cell \u001b[0;32mIn[73], line 1\u001b[0m\n\u001b[0;32m----> 1\u001b[0m \u001b[43mapp\u001b[49m\u001b[38;5;241;43m.\u001b[39;49m\u001b[43mget\u001b[49m\u001b[43m(\u001b[49m\u001b[38;5;124;43m\"\u001b[39;49m\u001b[38;5;124;43m/static/style.css\u001b[39;49m\u001b[38;5;124;43m\"\u001b[39;49m\u001b[43m)\u001b[49m\n",
      "File \u001b[0;32m~/mambaforge/envs/pydap_tests/lib/python3.10/site-packages/webtest/app.py:324\u001b[0m, in \u001b[0;36mTestApp.get\u001b[0;34m(self, url, params, headers, extra_environ, status, expect_errors, xhr)\u001b[0m\n\u001b[1;32m    322\u001b[0m \u001b[38;5;28;01mif\u001b[39;00m headers:\n\u001b[1;32m    323\u001b[0m     req\u001b[38;5;241m.\u001b[39mheaders\u001b[38;5;241m.\u001b[39mupdate(headers)\n\u001b[0;32m--> 324\u001b[0m \u001b[38;5;28;01mreturn\u001b[39;00m \u001b[38;5;28;43mself\u001b[39;49m\u001b[38;5;241;43m.\u001b[39;49m\u001b[43mdo_request\u001b[49m\u001b[43m(\u001b[49m\u001b[43mreq\u001b[49m\u001b[43m,\u001b[49m\u001b[43m \u001b[49m\u001b[43mstatus\u001b[49m\u001b[38;5;241;43m=\u001b[39;49m\u001b[43mstatus\u001b[49m\u001b[43m,\u001b[49m\n\u001b[1;32m    325\u001b[0m \u001b[43m                       \u001b[49m\u001b[43mexpect_errors\u001b[49m\u001b[38;5;241;43m=\u001b[39;49m\u001b[43mexpect_errors\u001b[49m\u001b[43m)\u001b[49m\n",
      "File \u001b[0;32m~/mambaforge/envs/pydap_tests/lib/python3.10/site-packages/webtest/app.py:646\u001b[0m, in \u001b[0;36mTestApp.do_request\u001b[0;34m(self, req, status, expect_errors)\u001b[0m\n\u001b[1;32m    644\u001b[0m     \u001b[38;5;28msetattr\u001b[39m(res, name, value)\n\u001b[1;32m    645\u001b[0m \u001b[38;5;28;01mif\u001b[39;00m \u001b[38;5;129;01mnot\u001b[39;00m expect_errors:\n\u001b[0;32m--> 646\u001b[0m     \u001b[38;5;28;43mself\u001b[39;49m\u001b[38;5;241;43m.\u001b[39;49m\u001b[43m_check_status\u001b[49m\u001b[43m(\u001b[49m\u001b[43mstatus\u001b[49m\u001b[43m,\u001b[49m\u001b[43m \u001b[49m\u001b[43mres\u001b[49m\u001b[43m)\u001b[49m\n\u001b[1;32m    647\u001b[0m     \u001b[38;5;28mself\u001b[39m\u001b[38;5;241m.\u001b[39m_check_errors(res)\n\u001b[1;32m    649\u001b[0m \u001b[38;5;66;03m# merge cookies back in\u001b[39;00m\n",
      "File \u001b[0;32m~/mambaforge/envs/pydap_tests/lib/python3.10/site-packages/webtest/app.py:675\u001b[0m, in \u001b[0;36mTestApp._check_status\u001b[0;34m(self, status, res)\u001b[0m\n\u001b[1;32m    673\u001b[0m     \u001b[38;5;28;01mif\u001b[39;00m res\u001b[38;5;241m.\u001b[39mstatus_int \u001b[38;5;241m>\u001b[39m\u001b[38;5;241m=\u001b[39m \u001b[38;5;241m200\u001b[39m \u001b[38;5;129;01mand\u001b[39;00m res\u001b[38;5;241m.\u001b[39mstatus_int \u001b[38;5;241m<\u001b[39m \u001b[38;5;241m400\u001b[39m:\n\u001b[1;32m    674\u001b[0m         \u001b[38;5;28;01mreturn\u001b[39;00m\n\u001b[0;32m--> 675\u001b[0m     \u001b[38;5;28;01mraise\u001b[39;00m AppError(\n\u001b[1;32m    676\u001b[0m         \u001b[38;5;124m\"\u001b[39m\u001b[38;5;124mBad response: \u001b[39m\u001b[38;5;132;01m%s\u001b[39;00m\u001b[38;5;124m (not 200 OK or 3xx redirect for \u001b[39m\u001b[38;5;132;01m%s\u001b[39;00m\u001b[38;5;124m)\u001b[39m\u001b[38;5;130;01m\\n\u001b[39;00m\u001b[38;5;132;01m%s\u001b[39;00m\u001b[38;5;124m\"\u001b[39m,\n\u001b[1;32m    677\u001b[0m         res_status, res\u001b[38;5;241m.\u001b[39mrequest\u001b[38;5;241m.\u001b[39murl,\n\u001b[1;32m    678\u001b[0m         res)\n\u001b[1;32m    679\u001b[0m \u001b[38;5;28;01mif\u001b[39;00m status \u001b[38;5;241m!=\u001b[39m res\u001b[38;5;241m.\u001b[39mstatus_int:\n\u001b[1;32m    680\u001b[0m     \u001b[38;5;28;01mraise\u001b[39;00m AppError(\n\u001b[1;32m    681\u001b[0m         \u001b[38;5;124m\"\u001b[39m\u001b[38;5;124mBad response: \u001b[39m\u001b[38;5;132;01m%s\u001b[39;00m\u001b[38;5;124m (not \u001b[39m\u001b[38;5;132;01m%s\u001b[39;00m\u001b[38;5;124m)\u001b[39m\u001b[38;5;130;01m\\n\u001b[39;00m\u001b[38;5;132;01m%s\u001b[39;00m\u001b[38;5;124m\"\u001b[39m, res_status, status, res)\n",
      "\u001b[0;31mAppError\u001b[0m: Bad response: 404 Not Found (not 200 OK or 3xx redirect for http://localhost/static/style.css)\n404 Not Found\n\nThe resource could not be found.\n\n /style.css  "
     ]
    }
   ],
   "source": [
    "app.get(\"/static/style.css\")"
   ]
  },
  {
   "cell_type": "code",
   "execution_count": null,
   "id": "d96adaff-ce17-4ff2-9dba-93b519fa32dd",
   "metadata": {},
   "outputs": [],
   "source": [
    "import importlib"
   ]
  },
  {
   "cell_type": "code",
   "execution_count": null,
   "id": "e36c93b2-7c5a-4f69-93ce-aaa48cc96de6",
   "metadata": {},
   "outputs": [],
   "source": [
    "importlib.resources.is_resource(\"pydap.wsgi\", \"templates/static/style.css\")"
   ]
  },
  {
   "cell_type": "code",
   "execution_count": null,
   "id": "726f51e5-17fc-4908-bb39-9073db10c970",
   "metadata": {},
   "outputs": [],
   "source": []
  },
  {
   "cell_type": "code",
   "execution_count": null,
   "id": "b0e9b997-d4e3-4e20-867c-e3d536ed33d1",
   "metadata": {},
   "outputs": [],
   "source": []
  }
 ],
 "metadata": {
  "kernelspec": {
   "display_name": "Python 3 (ipykernel)",
   "language": "python",
   "name": "python3"
  },
  "language_info": {
   "codemirror_mode": {
    "name": "ipython",
    "version": 3
   },
   "file_extension": ".py",
   "mimetype": "text/x-python",
   "name": "python",
   "nbconvert_exporter": "python",
   "pygments_lexer": "ipython3",
   "version": "3.10.14"
  }
 },
 "nbformat": 4,
 "nbformat_minor": 5
}
