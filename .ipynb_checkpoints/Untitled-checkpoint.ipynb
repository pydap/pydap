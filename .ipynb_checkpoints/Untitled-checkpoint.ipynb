{
 "cells": [
  {
   "cell_type": "code",
   "execution_count": 1,
   "id": "2160f72a-74cb-4516-a1e8-324fdc288769",
   "metadata": {},
   "outputs": [],
   "source": [
    "from pydap.responses.lib import load_responses"
   ]
  },
  {
   "cell_type": "code",
   "execution_count": 2,
   "id": "25f62caf-24cd-4ef5-acfe-41f6b4b3d1fe",
   "metadata": {},
   "outputs": [
    {
     "data": {
      "text/plain": [
       "{'asc': pydap.responses.ascii.ASCIIResponse,\n",
       " 'ascii': pydap.responses.ascii.ASCIIResponse,\n",
       " 'das': pydap.responses.das.DASResponse,\n",
       " 'dds': pydap.responses.dds.DDSResponse,\n",
       " 'dmr': pydap.responses.dmr.DMRResponse,\n",
       " 'dods': pydap.responses.dods.DODSResponse,\n",
       " 'html': pydap.responses.html.HTMLResponse,\n",
       " 'ver': pydap.responses.version.VersionResponse}"
      ]
     },
     "execution_count": 2,
     "metadata": {},
     "output_type": "execute_result"
    }
   ],
   "source": [
    "load_responses()"
   ]
  },
  {
   "cell_type": "code",
   "execution_count": 7,
   "id": "f364fc37-71e6-4be0-9d44-568c30bd7b25",
   "metadata": {},
   "outputs": [],
   "source": [
    "from pydap.handlers.lib import load_handlers"
   ]
  },
  {
   "cell_type": "code",
   "execution_count": 8,
   "id": "558cec85-0679-43c2-9e07-bd93216ad034",
   "metadata": {},
   "outputs": [
    {
     "data": {
      "text/plain": [
       "{'asc': pydap.responses.ascii.ASCIIResponse,\n",
       " 'ascii': pydap.responses.ascii.ASCIIResponse,\n",
       " 'das': pydap.responses.das.DASResponse,\n",
       " 'dds': pydap.responses.dds.DDSResponse,\n",
       " 'dmr': pydap.responses.dmr.DMRResponse,\n",
       " 'dods': pydap.responses.dods.DODSResponse,\n",
       " 'html': pydap.responses.html.HTMLResponse,\n",
       " 'ver': pydap.responses.version.VersionResponse}"
      ]
     },
     "execution_count": 8,
     "metadata": {},
     "output_type": "execute_result"
    }
   ],
   "source": [
    "load_responses()"
   ]
  },
  {
   "cell_type": "code",
   "execution_count": 10,
   "id": "1bba29b1-a95b-48e6-86e2-ac86ff6b40af",
   "metadata": {},
   "outputs": [
    {
     "data": {
      "text/plain": [
       "dict_values([<class 'pydap.handlers.csv.CSVHandler'>, <class 'pydap.handlers.netcdf.NetCDFHandler'>])"
      ]
     },
     "execution_count": 10,
     "metadata": {},
     "output_type": "execute_result"
    }
   ],
   "source": [
    "load_handlers()"
   ]
  },
  {
   "cell_type": "code",
   "execution_count": null,
   "id": "8ebcd506-f341-45aa-bf5c-a459d4170f17",
   "metadata": {},
   "outputs": [],
   "source": []
  },
  {
   "cell_type": "code",
   "execution_count": 15,
   "id": "28fee4de-acdf-4371-844c-ac38cd8c9fc5",
   "metadata": {},
   "outputs": [],
   "source": [
    "from importlib.metadata import entry_points"
   ]
  },
  {
   "cell_type": "code",
   "execution_count": 19,
   "id": "6124888f-82a9-42a5-92bb-1cf30a5d12e6",
   "metadata": {},
   "outputs": [
    {
     "data": {
      "text/plain": [
       "{'csv': pydap.handlers.csv.CSVHandler,\n",
       " 'nc': pydap.handlers.netcdf.NetCDFHandler}"
      ]
     },
     "execution_count": 19,
     "metadata": {},
     "output_type": "execute_result"
    }
   ],
   "source": [
    "dict((r.name,r.load()) for r in entry_points(group='pydap.handler'))"
   ]
  },
  {
   "cell_type": "code",
   "execution_count": 21,
   "id": "30508a24-b36d-40e1-ba9e-53656007df4e",
   "metadata": {},
   "outputs": [
    {
     "data": {
      "text/plain": [
       "{'asc': pydap.responses.ascii.ASCIIResponse,\n",
       " 'ascii': pydap.responses.ascii.ASCIIResponse,\n",
       " 'das': pydap.responses.das.DASResponse,\n",
       " 'dds': pydap.responses.dds.DDSResponse,\n",
       " 'dmr': pydap.responses.dmr.DMRResponse,\n",
       " 'dods': pydap.responses.dods.DODSResponse,\n",
       " 'html': pydap.responses.html.HTMLResponse,\n",
       " 'ver': pydap.responses.version.VersionResponse}"
      ]
     },
     "execution_count": 21,
     "metadata": {},
     "output_type": "execute_result"
    }
   ],
   "source": [
    "dict((r.name,r.load()) for r in entry_points(group='pydap.response'))"
   ]
  },
  {
   "cell_type": "code",
   "execution_count": null,
   "id": "2e4da44e-2a91-46e3-a6ef-7889ade23750",
   "metadata": {},
   "outputs": [],
   "source": []
  }
 ],
 "metadata": {
  "kernelspec": {
   "display_name": "Python 3 (ipykernel)",
   "language": "python",
   "name": "python3"
  },
  "language_info": {
   "codemirror_mode": {
    "name": "ipython",
    "version": 3
   },
   "file_extension": ".py",
   "mimetype": "text/x-python",
   "name": "python",
   "nbconvert_exporter": "python",
   "pygments_lexer": "ipython3",
   "version": "3.10.12"
  }
 },
 "nbformat": 4,
 "nbformat_minor": 5
}
