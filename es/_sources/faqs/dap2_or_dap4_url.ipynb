{
 "cells": [
  {
   "cell_type": "markdown",
   "id": "794b309e-f8be-4045-a2e2-bb1fb979bd97",
   "metadata": {},
   "source": [
    "## Como saber si el URL es DAP2 o DAP4?\n",
    "\n"
   ]
  },
  {
   "cell_type": "markdown",
   "id": "58e44640-5f97-4ef2-b2c1-4fbe42da0d44",
   "metadata": {},
   "source": [
    "Existen solo 2 servidores `OPeNDAP` que implementan el protocolo `DAP4`: [Hyrax Data Server](https://www.opendap.org/software/hyrax-data-server/) (developed by [OPeNDAP Inc](https://www.opendap.org/)), y [Thredds Data Server](https://www.unidata.ucar.edu/software/tds/) (developed by [NSF Unidata](https://www.unidata.ucar.edu/)). El protocolo `DAP4` fue disenado en conjunto por `OPeNDAP` y `Unidata` en 2016 (vea [the DAP4 specification](https://opendap.github.io/dap4-specification/DAP4.html)). Cualquier servidor `Hyrax` y `Thredds` que implementen `DAP4` tambien implementara `DAP2`, pero verificar que dado algun URL sea `DAP4` o `DAP2` difiere entre los dos.\n",
    "\n",
    "### <font size=\"5\"><span style='color:#0066cc'> **Hyrax Data Server**<font size=\"3\">\n",
    "Con `Hyrax`, la manera mas facil es anadir la extension `.dmr` (o `.dmr.html`), a un URL, utilizar la pagina del ordenador y navegar hacia la pagina. For example, consider the following Hyrax opendap URLPor exemplo considere el siguiente URL de opendap:\n",
    "\n",
    "```python\n",
    "URL = http://test.opendap.org/opendap/data/nc/coads_climatology.nc\n",
    "```\n",
    "\n",
    "| **DAP2 Hyrax URL** | **DAP4 Hyrax URL** |\n",
    "| :- |  -: |  \n",
    "| http://test.opendap.org/opendap/data/nc/coads_climatology.nc.dds | http://test.opendap.org/opendap/data/nc/coads_climatology.nc.dmr\n",
    "| http://test.opendap.org/opendap/data/nc/coads_climatology.nc.html | http://test.opendap.org/opendap/data/nc/coads_climatology.nc.dmr.html\n",
    "| http://test.opendap.org/opendap/data/nc/coads_climatology.nc.das | http://test.opendap.org/opendap/data/nc/coads_climatology.nc.dmr.xml\n",
    "\n",
    "\n",
    "```{note}\n",
    "Cualquier servidor de OPeNDAP de Hyrax que implemente `DAP4` tambien implementa `DAP2`. De hecho, con Hyrax, `DAP4` siempre es el protocol pre-determinada.\n",
    "```\n",
    "\n",
    "\n",
    "### <font size=\"5\"><span style='color:#0066cc'> **Thredds Data Server**<font size=\"3\">\n",
    "\n",
    "En el caso del Thredds Data Server (`TDS`), un URL que posea  `dodsC` siempre esta identificado con el protocolo `DAP2`. Si en su lugar, reemplaza `dodsC` en el URL por `dap4`, este nuevo URL sera `DAP4`. Por ejemplo considere el siguiente URL:\n",
    "\n",
    "```python\n",
    "URL = https://thredds-test.unidata.ucar.edu/thredds/dodsC/testdods/coads_climatology.nc\n",
    "```\n",
    "\n",
    "\n",
    "| **DAP2 Thredds URL** | **DAP4 Thredds URL** |\n",
    "| :- |  -: | \n",
    "| https://thredds-test.unidata.ucar.edu/thredds/dodsC/testdods/coads_climatology.nc.html | https://thredds-test.unidata.ucar.edu/thredds/dap4/testdods/coads_climatology.nc.html\n",
    "| https://thredds-test.unidata.ucar.edu/thredds/dodsC/testdods/coads_climatology.nc.dds | https://thredds-test.unidata.ucar.edu/thredds/dap4/testdods/coads_climatology.nc.dmr.xml |\n",
    "\n",
    "```{warning}\n",
    "Un servidor OPeNDAP  `Thredds` que implemente `DAP2` puede que no implemente `DAP4`. Es recomendable asegurarse que el servidor este configurado para implementar el protocolo `DAP4`.\n",
    "```\n",
    "\n",
    "\n",
    "\n"
   ]
  },
  {
   "cell_type": "code",
   "execution_count": null,
   "id": "9fd90e0b-0470-4989-b2aa-5ad791b83d9f",
   "metadata": {},
   "outputs": [],
   "source": []
  }
 ],
 "metadata": {
  "kernelspec": {
   "display_name": "Python 3 (ipykernel)",
   "language": "python",
   "name": "python3"
  },
  "language_info": {
   "codemirror_mode": {
    "name": "ipython",
    "version": 3
   },
   "file_extension": ".py",
   "mimetype": "text/x-python",
   "name": "python",
   "nbconvert_exporter": "python",
   "pygments_lexer": "ipython3",
   "version": "3.11.13"
  }
 },
 "nbformat": 4,
 "nbformat_minor": 5
}
